{
 "cells": [
  {
   "cell_type": "markdown",
   "metadata": {},
   "source": [
    "# Meets in Preorders\n",
    "\n",
    "\n",
    "Our first example of a concept defined by a universal mapping property is a meet respectively meet."
   ]
  },
  {
   "cell_type": "markdown",
   "metadata": {},
   "source": [
    "The first step is our Catlab imports"
   ]
  },
  {
   "cell_type": "code",
   "execution_count": null,
   "metadata": {},
   "outputs": [],
   "source": [
    "using Core: GeneratedFunctionStub\n",
    "using Test\n",
    "\n",
    "using Catlab.Theories, Catlab.CategoricalAlgebra, Catlab.Graphics\n",
    "import Catlab.Theories: compose\n",
    "\n",
    "using DataStructures"
   ]
  },
  {
   "cell_type": "markdown",
   "metadata": {},
   "source": [
    "# Defining some basic preorders"
   ]
  },
  {
   "cell_type": "code",
   "execution_count": null,
   "metadata": {},
   "outputs": [],
   "source": [
    "@present P(FreeSchema) begin\n",
    "  (a₁,a₂,a₃,a₄)::Ob\n",
    "  f::Hom(a₁, a₂)\n",
    "  g::Hom(a₁, a₃)\n",
    "  h::Hom(a₂, a₄)\n",
    "  k::Hom(a₃, a₄)\n",
    "end"
   ]
  },
  {
   "cell_type": "markdown",
   "metadata": {},
   "source": [
    "We can draw a picture of our preorder as a Hasse Diagram."
   ]
  },
  {
   "cell_type": "code",
   "execution_count": null,
   "metadata": {},
   "outputs": [],
   "source": [
    "to_graphviz(P)"
   ]
  },
  {
   "cell_type": "markdown",
   "metadata": {},
   "source": [
    "It will be convenient to program with our preorders based on the Hasse Diagram\n",
    "represent as a labeled graph so we convert the Presentation{Schema, Symbol} into a FreeDigram.\n",
    "FreeDiagrams are implemented as an ACSet which you can think of as an in-memory database.\n",
    "ACSets are a key feature of Catlab that allow you to represent many data structures in a\n",
    "common framework."
   ]
  },
  {
   "cell_type": "code",
   "execution_count": null,
   "metadata": {},
   "outputs": [],
   "source": [
    "g = FreeDiagram(P)"
   ]
  },
  {
   "cell_type": "markdown",
   "metadata": {},
   "source": [
    "To give ourselves a graph-like API for Hasse Diagrams, we define parents and children."
   ]
  },
  {
   "cell_type": "code",
   "execution_count": null,
   "metadata": {},
   "outputs": [],
   "source": [
    "parents(g, y::Int) = subpart(g, incident(g, y, :tgt), :src)\n",
    "children(g, x::Int) = subpart(g, incident(g, x, :src), :tgt)"
   ]
  },
  {
   "cell_type": "markdown",
   "metadata": {},
   "source": [
    "We can compute upsets/downsets with breadth first search."
   ]
  },
  {
   "cell_type": "code",
   "execution_count": null,
   "metadata": {},
   "outputs": [],
   "source": [
    "function bfs(g, x::Int, f=children)\n",
    "  explored = falses(nparts(g, :V))\n",
    "  explored[x] = 1\n",
    "  q = Queue{Int}()\n",
    "  enqueue!(q, x)\n",
    "  while !isempty(q)\n",
    "    v = dequeue!(q)\n",
    "    S = f(g,v)\n",
    "    map(filter(s -> !explored[s], S)) do s\n",
    "      enqueue!(q, s)\n",
    "    end\n",
    "    explored[S] .= true\n",
    "  end\n",
    "  return findall(explored)\n",
    "end"
   ]
  },
  {
   "cell_type": "markdown",
   "metadata": {},
   "source": [
    "The upset of a preorder element is all the elements that come after it in the preorder."
   ]
  },
  {
   "cell_type": "code",
   "execution_count": null,
   "metadata": {},
   "outputs": [],
   "source": [
    "upset(g,x) = bfs(g,x,children)"
   ]
  },
  {
   "cell_type": "markdown",
   "metadata": {},
   "source": [
    "The downset is the dual notion, which we compute by reversing the role of children and parents."
   ]
  },
  {
   "cell_type": "code",
   "execution_count": null,
   "metadata": {},
   "outputs": [],
   "source": [
    "downset(g,x) = bfs(g,x,parents)\n",
    "\n",
    "upset(g, 1)"
   ]
  },
  {
   "cell_type": "markdown",
   "metadata": {},
   "source": [
    "We can use upsets to define the less than or equal two relation implied by any Hasse Diagram"
   ]
  },
  {
   "cell_type": "code",
   "execution_count": null,
   "metadata": {},
   "outputs": [],
   "source": [
    "function leq(g::FreeDiagram, x::Int, y::Int)\n",
    "  return y in upset(g, x)\n",
    "end"
   ]
  },
  {
   "cell_type": "markdown",
   "metadata": {},
   "source": [
    "### Exercise 1\n",
    "Define a more efficient algorithm for checking whether two elements satisfy the leq relation."
   ]
  },
  {
   "cell_type": "markdown",
   "metadata": {},
   "source": [
    "Multiple dispatch allows us to overload the leq function with another method for symbols."
   ]
  },
  {
   "cell_type": "code",
   "execution_count": null,
   "metadata": {},
   "outputs": [],
   "source": [
    "function leq(g::FreeDiagram, x::Symbol, y::Symbol)\n",
    "  leq(g, incident(g, x, :ob), incident(g, y, :ob))\n",
    "end"
   ]
  },
  {
   "cell_type": "markdown",
   "metadata": {},
   "source": [
    "the meet of two elements is the largest element in the intersection of their downsets."
   ]
  },
  {
   "cell_type": "code",
   "execution_count": null,
   "metadata": {},
   "outputs": [],
   "source": [
    "function meet(g::FreeDiagram, x::Int, y::Int)\n",
    "  U = downset(g, x) ∩ downset(g,y)\n",
    "  maxima(g, U)\n",
    "  return maximum(g, U)\n",
    "end\n",
    "\n",
    "function meet(g::FreeDiagram, x, y)\n",
    "  meet(g, incident(g, x, :ob)[1], incident(g, y, :ob)[1])\n",
    "end"
   ]
  },
  {
   "cell_type": "markdown",
   "metadata": {},
   "source": [
    "assuming that D is a downset, the maxima are those elements whose children are disjoint from D."
   ]
  },
  {
   "cell_type": "code",
   "execution_count": null,
   "metadata": {},
   "outputs": [],
   "source": [
    "function maxima(g::FreeDiagram, D::Vector{Int})\n",
    "  X = Set(D)\n",
    "  M = filter(D) do x\n",
    "    Pₓ = children(g, x) ∩ X\n",
    "    length(Pₓ) == 0\n",
    "  end\n",
    "  return M\n",
    "end\n",
    "\n",
    "function hastop(g::FreeDiagram, xs::Vector{Int})\n",
    "  length(maxima(g, xs)) == 1\n",
    "end\n",
    "\n",
    "function maximum(g::FreeDiagram, xs::Vector{Int})\n",
    "  m = maxima(g, xs::Vector{Int})\n",
    "  if length(m) == 1\n",
    "    return m[1]\n",
    "  end\n",
    "  if length(m) > 1\n",
    "    all_iso = all(m) do a\n",
    "      Uₐ = downset(g, a)\n",
    "      a_le_allb = all(m) do b\n",
    "        b in Uₐ\n",
    "      end\n",
    "      return a_le_allb\n",
    "    end\n",
    "    if all_iso\n",
    "      return  m[1]\n",
    "    end\n",
    "  end\n",
    "  return nothing\n",
    "end"
   ]
  },
  {
   "cell_type": "markdown",
   "metadata": {},
   "source": [
    "From the definition of minimum, you can see that when you want to do many leq queries\n",
    "in sequence, you can reuse the upsets that you compute with bfs. This is a place where\n",
    "mathematical abstractions don't work well with the operational needs of computer programming.\n",
    "In a mathematical definition you can define x ≤ y as y ∈ upset(x), but in programming, that is\n",
    "inefficient when you want to check a property like for all y in Y, x ≤ y. Programming requires\n",
    "you to reason about not only the correctness of the code, but also the performance. Much of the\n",
    "complexity of software engineering comes from the fact that computational performance requires\n",
    "the programmers to break down their clean abstractions to optimize the code."
   ]
  },
  {
   "cell_type": "markdown",
   "metadata": {},
   "source": [
    "### Exercise 2\n",
    "If you wanted to perform many x ≤ y queries in a loop, you might want to\n",
    "precompute the matrix L where L[i,j] = 1 if and only if i ≤ j in the preorder P.\n",
    "Implement an algorithm that performs this computation in O(V⋅E) time where V is the number of\n",
    "elements in P and E is the number of edges in the corresponding FreeDiagram."
   ]
  },
  {
   "cell_type": "markdown",
   "metadata": {},
   "source": [
    "## Testing it out"
   ]
  },
  {
   "cell_type": "markdown",
   "metadata": {},
   "source": [
    "Let's make sure we get the answers that we expect."
   ]
  },
  {
   "cell_type": "code",
   "execution_count": null,
   "metadata": {},
   "outputs": [],
   "source": [
    "using Test\n",
    "@testset \"Upsets\" begin\n",
    "  @test upset(g, 3) == [3,4]\n",
    "  @test upset(g, 2) == [2,4]\n",
    "  @test upset(g, 1) == [1,2,3,4]\n",
    "  @test upset(g, 4) == [4]\n",
    "end\n",
    "@testset \"Downsets\" begin\n",
    "  @test downset(g, 3) == [1,3]\n",
    "  @test downset(g, 2) == [1,2]\n",
    "  @test downset(g, 4) == [1,2,3,4]\n",
    "  @test downset(g, 1) == [1]\n",
    "end\n",
    "\n",
    "@testset \"Meets\" begin\n",
    "  @test meet(g, 2,3) == 1\n",
    "  @test meet(g, 1,2) == 1\n",
    "  @test meet(g, 3,4) == 3\n",
    "  @test meet(g, 1, 4) == 1\n",
    "  @test meet(g, 1, 1) == 1\n",
    "  @test meet(g, 2, 2) == 2\n",
    "end"
   ]
  },
  {
   "cell_type": "markdown",
   "metadata": {},
   "source": [
    "## Another Example:"
   ]
  },
  {
   "cell_type": "code",
   "execution_count": null,
   "metadata": {},
   "outputs": [],
   "source": [
    "@present P(FreeSchema) begin\n",
    "  (a₁,a₂,a₃,a₄, a₅)::Ob\n",
    "  f::Hom(a₁, a₂)\n",
    "  g::Hom(a₁, a₃)\n",
    "  h::Hom(a₂, a₄)\n",
    "  k::Hom(a₃, a₄)\n",
    "  l::Hom(a₅, a₂)\n",
    "end"
   ]
  },
  {
   "cell_type": "markdown",
   "metadata": {},
   "source": [
    "Which can be viewed as a picture:"
   ]
  },
  {
   "cell_type": "code",
   "execution_count": null,
   "metadata": {},
   "outputs": [],
   "source": [
    "to_graphviz(P)"
   ]
  },
  {
   "cell_type": "markdown",
   "metadata": {},
   "source": [
    "Or, as tables:"
   ]
  },
  {
   "cell_type": "code",
   "execution_count": null,
   "metadata": {},
   "outputs": [],
   "source": [
    "g = FreeDiagram(P)"
   ]
  },
  {
   "cell_type": "markdown",
   "metadata": {},
   "source": [
    "### Test suite"
   ]
  },
  {
   "cell_type": "code",
   "execution_count": null,
   "metadata": {},
   "outputs": [],
   "source": [
    "@testset \"meets2\" begin\n",
    "  @test meet(g, 2,3) == 1\n",
    "  @test meet(g, 1,2) == 1\n",
    "  @test meet(g, 3,4) == 3\n",
    "  @test meet(g, 1, 4) == 1\n",
    "  @test meet(g, 1, 1) == 1\n",
    "  @test meet(g, 2, 2) == 2\n",
    "  @test meet(g, 3, 5) == nothing\n",
    "  @test meet(g, 2, 5) == 5\n",
    "end"
   ]
  },
  {
   "cell_type": "markdown",
   "metadata": {},
   "source": [
    "### Exercise 3\n",
    "Make bigger preorders to test corner cases in the above code.\n",
    "If you find an example that breaks these implementations, please report it."
   ]
  },
  {
   "cell_type": "markdown",
   "metadata": {},
   "source": [
    "### Exercise 4\n",
    "Implement the dual constructions for joins."
   ]
  }
 ],
 "metadata": {
  "kernelspec": {
   "display_name": "Julia 1.10.4",
   "language": "julia",
   "name": "julia-1.10"
  },
  "language_info": {
   "file_extension": ".jl",
   "mimetype": "application/julia",
   "name": "julia",
   "version": "1.10.4"
  }
 },
 "nbformat": 4,
 "nbformat_minor": 4
}
