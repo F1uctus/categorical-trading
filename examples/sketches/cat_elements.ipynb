{
 "cells": [
  {
   "cell_type": "markdown",
   "source": [
    "# The Category of Elements\n",
    "A very useful construction in applied category theory is the Category of Elements, which is also called the Grothendieck construction. This is a very general technique in category theory, but we will look at how you can use it to explain why graphs are so useful in computer science. We have already seen that C-Sets are a model of relational databases that can be used to store data as a collection of interlocking tables. Relational databases are the bread and butter of the computing industry. Every company on earth uses software that is backed by a relational database. Most data that is not stored in a relational DB is often stored in some kind of graph data structure. This sketch will show how these approaches are interchangeable via the category of elements, which associates to every database instance a graph and a graph homomorphism into the schema of the graph."
   ],
   "metadata": {}
  },
  {
   "outputs": [],
   "cell_type": "code",
   "source": [
    "using GATlab, Catlab.CategoricalAlgebra, Catlab.Graphs, Catlab.Graphics\n",
    "using Colors"
   ],
   "metadata": {},
   "execution_count": null
  },
  {
   "cell_type": "markdown",
   "source": [
    "Let's tell Catlab how to draw categories of elements."
   ],
   "metadata": {}
  },
  {
   "outputs": [],
   "cell_type": "code",
   "source": [
    "function graph(el::Elements)\n",
    "  F = FinFunctor(Dict(:V => :El, :E => :Arr), Dict(:src => :src, :tgt => :tgt),\n",
    "                 SchGraph, SchElements)\n",
    "  ΔF = DataMigrationFunctor(F, Elements{Symbol}, Graph)\n",
    "  return ΔF(el)\n",
    "end\n",
    "\n",
    "safecolors(start, stop, len) = if len > 1\n",
    "  return hex.(range(start, stop=stop, length=len))\n",
    "else\n",
    "  return [hex.(start)]\n",
    "end\n",
    "\n",
    "function draw(f::Elements; kw...)\n",
    "  pg = to_graphviz_property_graph(graph(f);\n",
    "    node_labels=true, edge_labels=true, prog=\"neato\", kw...)\n",
    "  vcolors = safecolors(colorant\"#0021A5\", colorant\"#FA4616\", nparts(f, :Ob))\n",
    "  ecolors = safecolors(colorant\"#6C9AC3\", colorant\"#E28F41\", nparts(f, :Hom))\n",
    "  for v in parts(f, :El)\n",
    "    fv = f[v, :πₑ]\n",
    "    set_vprops!(pg, v, Dict(:color => \"#$(vcolors[fv])\", :label=>\"$v:$(f[v,[:πₑ, :nameo]])\"))\n",
    "  end\n",
    "  for e in parts(f, :Arr)\n",
    "    fe = f[e, :πₐ]\n",
    "    set_eprops!(pg, e, Dict(:color => \"#$(ecolors[fe])\"))\n",
    "  end\n",
    "  to_graphviz(pg)\n",
    "end\n",
    "\n",
    "draw(g) = to_graphviz(g, node_labels=true, edge_labels=true, prog=\"neato\")"
   ],
   "metadata": {},
   "execution_count": null
  },
  {
   "cell_type": "markdown",
   "source": [
    "## The simplest schema\n",
    "First we will look at discrete dynamical systems. The set S is our state space and the funct nxt associates to every state, the next state in the system. This is a deterministic dynamical system with finitely many states and discrete time."
   ],
   "metadata": {}
  },
  {
   "outputs": [],
   "cell_type": "code",
   "source": [
    "@present SchDDS(FreeSchema) begin\n",
    "  S::Ob\n",
    "  nxt::Hom(S, S)\n",
    "end\n",
    "\n",
    "@acset_type DDS(SchDDS, index=[:nxt])\n",
    "\n",
    "fₓ = @acset DDS begin\n",
    "  S = 3\n",
    "  nxt = [2,3,1]\n",
    "end"
   ],
   "metadata": {},
   "execution_count": null
  },
  {
   "cell_type": "markdown",
   "source": [
    "Now if you want to draw a DDS, you might think to draw each state as a vertex and the next relationship as an arrow from one state to the next state. If your intuition selected that representation, you have already discovered a special case of the category of elements"
   ],
   "metadata": {}
  },
  {
   "outputs": [],
   "cell_type": "code",
   "source": [
    "elᶠ = elements(fₓ)\n",
    "draw(graph(elᶠ))"
   ],
   "metadata": {},
   "execution_count": null
  },
  {
   "cell_type": "markdown",
   "source": [
    "As you are quite far in your category theoretic training, you are surely suspicious of the idea that you would construct the category of elements of a DDS and get a graph. We have a categorical construction, so your intuition should be saying \"there should be some kind of morphism that goes with this object\". And there is, the Elements of a C-Set X is a graph whose vertices are rows in the tables of X and whose edges are the foreign key relationships in X, along with a graph homomorphism into the schema C. We can draw this using the same color coding convention we used to draw graph homomorphisms."
   ],
   "metadata": {}
  },
  {
   "outputs": [],
   "cell_type": "code",
   "source": [
    "draw(elᶠ)"
   ],
   "metadata": {},
   "execution_count": null
  },
  {
   "cell_type": "markdown",
   "source": [
    "We can scale up our DDS drawing too."
   ],
   "metadata": {}
  },
  {
   "outputs": [],
   "cell_type": "code",
   "source": [
    "Fₓ = @acset DDS begin\n",
    "  S = 7\n",
    "  nxt = [2,3,1, 1,7,7,4]\n",
    "end\n",
    "draw(elements(Fₓ))"
   ],
   "metadata": {},
   "execution_count": null
  },
  {
   "cell_type": "markdown",
   "source": [
    "A category of elements derived from a C-Set is stored as a C-Set of on a different schema. You can see that it is the data of a graph homomorphism where the codomain graph has vertex and edge labels. The two projections πₑ and πₐ are the components of a natural transformation between graphs viewed as functors into Set. The names are attributes usually of type Symbol."
   ],
   "metadata": {}
  },
  {
   "outputs": [],
   "cell_type": "code",
   "source": [
    "to_graphviz(SchElements)"
   ],
   "metadata": {},
   "execution_count": null
  },
  {
   "cell_type": "markdown",
   "source": [
    "In the case of a DDS, we have only one object and one morphism in the schema. Since the graph with one edge and one vertices is terminal in *Graph*, there is only one vertex and edge color being used."
   ],
   "metadata": {}
  },
  {
   "cell_type": "markdown",
   "source": [
    "## The Elements of a Graph are its Vertices and Edges\n",
    "In what might appear as primordial ooze, we can examine the category of elements of a graph. We will look at the commuting triangle graph. Notice how there are 3 vertices and three edges with each edge incident to 2 vertices."
   ],
   "metadata": {}
  },
  {
   "outputs": [],
   "cell_type": "code",
   "source": [
    "g = @acset Graph begin\n",
    "  V = 3\n",
    "  E = 3\n",
    "  src = [1,2,1]\n",
    "  tgt = [2,3,3]\n",
    "end\n",
    "draw(g)"
   ],
   "metadata": {},
   "execution_count": null
  },
  {
   "cell_type": "markdown",
   "source": [
    "The category of elements has 6 vertices and 6 edges. The 6 vertices come from 3 vertices of type V and 3 vertices of type E. The 6 edges in this graph are 3 src relationships and 3 target relationships."
   ],
   "metadata": {}
  },
  {
   "outputs": [],
   "cell_type": "code",
   "source": [
    "elᵍ = elements(g)\n",
    "draw(elᵍ)\n",
    "\n",
    "g = @acset Graph begin\n",
    "  V = 6\n",
    "  E = 7\n",
    "  src = [1,2,1,3,5,6,4]\n",
    "  tgt = [2,3,3,5,6,3,4]\n",
    "end\n",
    "draw(g)\n",
    "draw(elements(g))"
   ],
   "metadata": {},
   "execution_count": null
  },
  {
   "cell_type": "markdown",
   "source": [
    "Notice that the 3 vertices of type E are interspersed between the 3 vertices of type V and vice versa. You can see that the normal visual syntax for a graph is more compact for the special case of graphs. However the category of elements works for any schema C."
   ],
   "metadata": {}
  },
  {
   "cell_type": "markdown",
   "source": [
    "## Generality of the construction\n",
    "Discrete Dynamical Systems and Graphs are clearly data structures from mathematics and so it would make sense that they have a clean representation in the categorical language. But how about a database schema that comes not from mathematics, but from software engineering. We turn to everyone's favorite database example, the HR database at a fictitious company."
   ],
   "metadata": {}
  },
  {
   "outputs": [],
   "cell_type": "code",
   "source": [
    "@present SchCompany(FreeSchema) begin\n",
    "  (P, D, S)::Ob # Person, Department, Salary\n",
    "  worksin::Hom(P, D)    # Every Person works in a Department\n",
    "  makes::Hom(P, S)      # Every Person makes a Salary\n",
    "  reportsto::Hom(P, P)  # Every Person reports to a Person\n",
    "  managedby::Hom(D, P)  # Every Department is managed by a Person\n",
    "  leq::Hom(S,S)         # Salaries are a finite total order\n",
    "end\n",
    "\n",
    "@acset_type Company(SchCompany, index=[])"
   ],
   "metadata": {},
   "execution_count": null
  },
  {
   "cell_type": "markdown",
   "source": [
    "We can draw a company that has 4 people, 2 departments, and 3 distinct salaries."
   ],
   "metadata": {}
  },
  {
   "outputs": [],
   "cell_type": "code",
   "source": [
    "cmpy = @acset Company begin\n",
    "  P = 4\n",
    "  D = 2\n",
    "  S = 3\n",
    "  worksin = [1,1,2,2]\n",
    "  makes = [3,1,2,1]\n",
    "  reportsto = [1, 1,1,3]\n",
    "  managedby = [1,3]\n",
    "  leq = [2,3,3]\n",
    "end"
   ],
   "metadata": {},
   "execution_count": null
  },
  {
   "cell_type": "markdown",
   "source": [
    "A visualization of the elements of this functor is commonly described as a knowledge graph."
   ],
   "metadata": {}
  },
  {
   "outputs": [],
   "cell_type": "code",
   "source": [
    "elᶜ = elements(cmpy)\n",
    "draw(elᶜ)"
   ],
   "metadata": {},
   "execution_count": null
  },
  {
   "cell_type": "markdown",
   "source": [
    "The visualization of the category of elements isn't the most compact representation of data, but it is always an option. Once you know how to draw a graph homomorphism as a color-coded graph, you know how to draw any C-Set. The vertices and edges of the domain graph are the rows and fields of the C-Set, and the colors are from the vertices and edges of the schema C, viewed as a graph presenting the category. One thing you lose is the ability to represent path equations in C."
   ],
   "metadata": {}
  },
  {
   "cell_type": "markdown",
   "source": [
    "## Reconstructing the C-Set from its category of elemnts\n",
    "When looking at the graphical representation of the category of elements, you can see that the vertices are numbered sequentially within their vertex type. This order can be computed with the incident function in Catlab. There are inclusions of all the tables in the database instance into the global vertex set of the knowledge graph representation."
   ],
   "metadata": {}
  },
  {
   "outputs": [],
   "cell_type": "code",
   "source": [
    "incident(elᶜ, :, :πₑ)"
   ],
   "metadata": {},
   "execution_count": null
  },
  {
   "cell_type": "markdown",
   "source": [
    "The same goes for the edges (arrows) in the category of elements."
   ],
   "metadata": {}
  },
  {
   "outputs": [],
   "cell_type": "code",
   "source": [
    "incident(elᶜ, :, :πₐ)"
   ],
   "metadata": {},
   "execution_count": null
  },
  {
   "cell_type": "markdown",
   "source": [
    "From this information, you can reassemble the knowledge graph into a database. You use the codomain graph as the schema and then these two projections πₑ and πₐ to recover the instance data."
   ],
   "metadata": {}
  },
  {
   "outputs": [],
   "cell_type": "code",
   "source": [
    "cset(T::Type, el::Elements) = begin\n",
    "  X = T()\n",
    "  ℓ = Dict{Int, Int}() # this map reverses the inclusions converting global element numbers into per-table numbers\n",
    "  for ob in parts(el, :Ob)\n",
    "    obname = el[ob, :nameo]\n",
    "    eltsob = incident(el, ob, :πₑ)\n",
    "    pts = add_parts!(X, obname, length(eltsob))\n",
    "    map(zip(pts, eltsob)) do (i,x)\n",
    "      ℓ[x] = i\n",
    "    end\n",
    "  end\n",
    "  for h in parts(el, :Hom)\n",
    "    nameh = el[h, :nameh]\n",
    "    arrₕ = incident(el, h, :πₐ)\n",
    "    doms = map(arrₕ) do e\n",
    "      ℓ[el[e, :src]]\n",
    "    end\n",
    "    codoms = map(arrₕ) do e\n",
    "      ℓ[el[e, :tgt]]\n",
    "    end\n",
    "    set_subpart!(X, doms, nameh, codoms)\n",
    "  end\n",
    "  return X\n",
    "end"
   ],
   "metadata": {},
   "execution_count": null
  },
  {
   "cell_type": "markdown",
   "source": [
    "We can apply this algorithm to our company knowledge graph to recover our original DB."
   ],
   "metadata": {}
  },
  {
   "outputs": [],
   "cell_type": "code",
   "source": [
    "cset(Company, elᶜ)\n",
    "cmpy == cset(Company, elᶜ)"
   ],
   "metadata": {},
   "execution_count": null
  },
  {
   "cell_type": "markdown",
   "source": [
    "Hopefully you see one reason why graphs are ubiquitous in computer science. Every relational database is isomorphic to a typed graph. You can generate this graph from the database and recover the database from the typed graph. So while knowledge graphs are great for ingesting data when you aren't sure about the structure and useful for some types of computation that involve long paths. You can always build your software on relational databases knowing that you can easily get access to all the graph algorithms by applying the Grothendieck construction."
   ],
   "metadata": {}
  },
  {
   "cell_type": "markdown",
   "source": [
    "## The Slice-Elements Transform\n",
    "An amazing fact about presheaf toposes is that they are closed under taking slices. In the graphs section of this documentation, you can find a description of bipartite and k-partite graphs as a morphisms into a clique. That definition is very mathematically pleasing because it gives you a category of partitioned graphs that are derived from commuting triangles in Graph. However, for application oriented practitioners, the definition of a bipartite graph as \"a graph with two sets of vertices, where all the edges go between the groups with no edges within either group\" is probably more explicit. For example a classic way to get a bipartite graph would be to look at the graph of authors and papers that those authors wrote. People write papers, people do not write people and papers do not write papers so the authorship graph is bipartite. These two equivalent definitions of a bipartite graph are related via an isomorphism you can find on the [nlab](https://ncatlab.org/nlab/show/category+of+presheaves#RelWithOvercategories). It shows that a slice category of [C,Set]/X is isomorphic to [El(X), Set] which is a cateogory of presheaves on a different schema. Catlab knows how to use this idea to turn a category of elements into a schema for a new category of presheaves. The two directions of the isomorphism are not yet implemented."
   ],
   "metadata": {}
  },
  {
   "outputs": [],
   "cell_type": "code",
   "source": [
    "e = @acset Graph begin\n",
    "  V = 2\n",
    "  E = 1\n",
    "  src = 1\n",
    "  tgt = 2\n",
    "end\n",
    "\n",
    "draw(elements(e))\n",
    "\n",
    "SchBipartite = CatElements.presentation(elements(e))[1]\n",
    "to_graphviz(SchBipartite)\n",
    "\n",
    "@acset_type BipartiteGraph(SchBipartite)\n",
    "b = @acset BipartiteGraph begin\n",
    "  V_1 = 3\n",
    "  V_2 = 2\n",
    "  E_1 = 5\n",
    "  src_E_1 = [1,2,3,3,2]\n",
    "  tgt_E_1 = [1,2,2,1,1]\n",
    "end\n",
    "draw(elements(b))"
   ],
   "metadata": {},
   "execution_count": null
  },
  {
   "cell_type": "markdown",
   "source": [
    "As a very advanced exercise, you could try to implement one or both directions of the isomorphism above."
   ],
   "metadata": {}
  }
 ],
 "nbformat_minor": 3,
 "metadata": {
  "language_info": {
   "file_extension": ".jl",
   "mimetype": "application/julia",
   "name": "julia",
   "version": "1.10.3"
  },
  "kernelspec": {
   "name": "julia-1.10",
   "display_name": "Julia 1.10.3",
   "language": "julia"
  }
 },
 "nbformat": 4
}
