{
 "cells": [
  {
   "cell_type": "markdown",
   "source": [
    "# Wiring diagrams and syntactic expressions\n",
    "\n",
    "\n",
    "Morphisms in a monoidal category can be represented as syntactic expressions,\n",
    "such as $f \\cdot g$ and $f \\otimes g$, and also as wiring\n",
    "diagrams, aka *string diagrams*. Catlab provides\n",
    "facilities for transforming between these two representations."
   ],
   "metadata": {}
  },
  {
   "outputs": [],
   "cell_type": "code",
   "source": [
    "using Catlab.Theories, Catlab.WiringDiagrams\n",
    "using Catlab.Graphics\n",
    "\n",
    "function show_diagram(d::WiringDiagram)\n",
    "  to_graphviz(d, orientation=LeftToRight, labels=false)\n",
    "end"
   ],
   "metadata": {},
   "execution_count": null
  },
  {
   "cell_type": "markdown",
   "source": [
    "## Expressions to diagrams\n",
    "\n",
    "Converting a morphism expression to a wiring diagram is conceptually and\n",
    "algorithmically simple, because every expression determines a unique diagram.\n",
    "\n",
    "As a simple example, here is the monoidal product of two generators, $f$ and\n",
    "$g$, first as an expression (displayed using LaTeX) and then as a wiring\n",
    "diagram (displayed using Graphviz)."
   ],
   "metadata": {}
  },
  {
   "outputs": [],
   "cell_type": "code",
   "source": [
    "A, B, C, D, E = Ob(FreeCartesianCategory, :A, :B, :C, :D, :E)\n",
    "f = Hom(:f, A, B)\n",
    "g = Hom(:g, B, C)\n",
    "\n",
    "expr = f ⊗ g"
   ],
   "metadata": {},
   "execution_count": null
  },
  {
   "outputs": [],
   "cell_type": "code",
   "source": [
    "show_diagram(to_wiring_diagram(expr))"
   ],
   "metadata": {},
   "execution_count": null
  },
  {
   "cell_type": "markdown",
   "source": [
    "Here is a monoidal product of compositions:"
   ],
   "metadata": {}
  },
  {
   "outputs": [],
   "cell_type": "code",
   "source": [
    "h = Hom(:h, C, D)\n",
    "k = Hom(:k, D, E)\n",
    "\n",
    "expr = (f ⋅ g) ⊗ (h ⋅ k)"
   ],
   "metadata": {},
   "execution_count": null
  },
  {
   "outputs": [],
   "cell_type": "code",
   "source": [
    "show_diagram(to_wiring_diagram(expr))"
   ],
   "metadata": {},
   "execution_count": null
  },
  {
   "cell_type": "markdown",
   "source": [
    "## Diagrams to expressions\n",
    "\n",
    "Converting a wiring diagram to a syntactic expression is algorithmically more\n",
    "challenging, due to the fact that a single wiring diagram generally admits\n",
    "many different representations as an expression. Thus, a particular expression\n",
    "must be singled out.\n",
    "\n",
    "To bring this out, we define a function that round-trips a morphism expression\n",
    "to a wiring diagram and then back to an expression."
   ],
   "metadata": {}
  },
  {
   "outputs": [],
   "cell_type": "code",
   "source": [
    "function roundtrip_expr(expr::FreeCartesianCategory.Hom)\n",
    "  d = to_wiring_diagram(expr)\n",
    "  to_hom_expr(FreeCartesianCategory, d)\n",
    "end"
   ],
   "metadata": {},
   "execution_count": null
  },
  {
   "cell_type": "markdown",
   "source": [
    "We can recover the expression just considered above:"
   ],
   "metadata": {}
  },
  {
   "outputs": [],
   "cell_type": "code",
   "source": [
    "roundtrip_expr((f ⋅ g) ⊗ (h ⋅ k))"
   ],
   "metadata": {},
   "execution_count": null
  },
  {
   "cell_type": "markdown",
   "source": [
    "But here is a different expression that round-trips to the same thing:"
   ],
   "metadata": {}
  },
  {
   "outputs": [],
   "cell_type": "code",
   "source": [
    "roundtrip_expr((f ⊗ h) ⋅ (g ⊗ k))"
   ],
   "metadata": {},
   "execution_count": null
  },
  {
   "cell_type": "markdown",
   "source": [
    "The equality of these two expressions,\n",
    "\n",
    "$$\n",
    "(f \\cdot g) \\otimes (h \\cdot k) = (f \\otimes h) \\cdot (g \\otimes k),\n",
    "$$\n",
    "\n",
    "is the *interchange law* in a monoidal category. It says that composition and\n",
    "monoidal products can be interchanged. As this example shows, the conversion\n",
    "algorithm in Catlab favors products over composition, placing products towards\n",
    "the root of the expression tree wherever possible.\n",
    "Other laws can be discovered by this procedure. Since we are working in a\n",
    "[cartesian monoidal\n",
    "category](https://ncatlab.org/nlab/show/cartesian+monoidal+category),\n",
    "operations of copying, $\\Delta_A: A \\to A \\otimes A$, and deleting,\n",
    "$\\lozenge_A: A \\to I$, are available.\n",
    "\n",
    "Consider the operation of copying the product $A \\otimes B$."
   ],
   "metadata": {}
  },
  {
   "outputs": [],
   "cell_type": "code",
   "source": [
    "expr = mcopy(A ⊗ B)"
   ],
   "metadata": {},
   "execution_count": null
  },
  {
   "outputs": [],
   "cell_type": "code",
   "source": [
    "show_diagram(add_junctions!(to_wiring_diagram(expr)))"
   ],
   "metadata": {},
   "execution_count": null
  },
  {
   "outputs": [],
   "cell_type": "code",
   "source": [
    "roundtrip_expr(expr)"
   ],
   "metadata": {},
   "execution_count": null
  },
  {
   "cell_type": "markdown",
   "source": [
    "The equation just witnessed,\n",
    "\n",
    "$$\n",
    "\\Delta_{A \\otimes B} = (\\Delta_A \\otimes \\Delta_B) \\cdot (1_A \\otimes \\sigma_{A,B} \\otimes 1_B),\n",
    "$$\n",
    "\n",
    "is one of the *coherence laws* for cartesian products\n",
    "([arXiv:0908.3347](https://arxiv.org/abs/0908.3347), Table 7). Another\n",
    "coherence law for products is\n",
    "\n",
    "$$\n",
    "\\lozenge_{A \\otimes B} = \\lozenge_A \\otimes \\lozenge_B.\n",
    "$$"
   ],
   "metadata": {}
  },
  {
   "outputs": [],
   "cell_type": "code",
   "source": [
    "expr = delete(A ⊗ B)"
   ],
   "metadata": {},
   "execution_count": null
  },
  {
   "outputs": [],
   "cell_type": "code",
   "source": [
    "roundtrip_expr(expr)"
   ],
   "metadata": {},
   "execution_count": null
  }
 ],
 "nbformat_minor": 3,
 "metadata": {
  "language_info": {
   "file_extension": ".jl",
   "mimetype": "application/julia",
   "name": "julia",
   "version": "1.10.3"
  },
  "kernelspec": {
   "name": "julia-1.10",
   "display_name": "Julia 1.10.3",
   "language": "julia"
  }
 },
 "nbformat": 4
}
