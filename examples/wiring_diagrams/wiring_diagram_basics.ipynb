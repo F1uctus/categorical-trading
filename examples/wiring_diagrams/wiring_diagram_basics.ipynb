{
 "cells": [
  {
   "cell_type": "markdown",
   "source": [
    "# Basics of wiring diagrams\n",
    "\n",
    "\n",
    "using GATlab, you can create, manipulate, serialize, and visualize *wiring\n",
    "diagrams*, also known as [string\n",
    "diagrams](https://ncatlab.org/nlab/show/string+diagram). The flexible data\n",
    "structure for wiring diagrams allows arbitrary data to be attached to boxes,\n",
    "ports, and wires, and supports recursively nested diagrams.\n",
    "\n",
    "You can interact with wiring diagrams using two different progamming\n",
    "interfaces:\n",
    "\n",
    "1. **Categorical**: A high-level, functional interface expressed in terms of\n",
    "   categorical concepts, such as composition (`compose`), monoidal products\n",
    "   (`otimes`), duplication (`mcopy`), and deletion (`delete`).\n",
    "\n",
    "2. **Imperative**: A lower-level, mutating interface to directly manipulate\n",
    "   boxes, ports, and wires, via operations like adding boxes (`add_box`) and\n",
    "   wires (`add_wire`).\n",
    "\n",
    "In this notebook, we introduce both interfaces. We do not explicitly cover the\n",
    "visualization API, although for illustrative purposes we will draw wiring\n",
    "diagrams using Graphviz. Thus, you should install\n",
    "[Graphviz](https://www.graphviz.org/) if you wish to run this notebook."
   ],
   "metadata": {}
  },
  {
   "outputs": [],
   "cell_type": "code",
   "source": [
    "using Catlab.WiringDiagrams\n",
    "\n",
    "using Catlab.Graphics\n",
    "import Catlab.Graphics: Graphviz\n",
    "\n",
    "show_diagram(d::WiringDiagram) = to_graphviz(d,\n",
    "  orientation=LeftToRight,\n",
    "  labels=true, label_attr=:xlabel,\n",
    "  node_attrs=Graphviz.Attributes(\n",
    "    :fontname => \"Courier\",\n",
    "  ),\n",
    "  edge_attrs=Graphviz.Attributes(\n",
    "    :fontname => \"Courier\",\n",
    "  )\n",
    ")"
   ],
   "metadata": {},
   "execution_count": null
  },
  {
   "cell_type": "markdown",
   "source": [
    "## Data structures\n",
    "\n",
    "The basic building blocks of a wiring diagram are boxes, ports, and wires. The\n",
    "top-level data structure is `WiringDiagram`, defined in the module\n",
    "`Catlab.WiringDiagrams`. A wiring diagram consists of boxes (usually of type\n",
    "`Box`) connected by wires (of type `Wire`). Each box has a sequence of input\n",
    "ports and a sequence of output ports, as does the wiring diagram itself. The\n",
    "wires have sources and targets, both of which consist of a box and a port on\n",
    "that box.\n",
    "\n",
    "The boxes in a wiring diagram are indexed by integer IDs. Boxes can be\n",
    "retrieved by ID, and wires refer to boxes using their IDs. Two special IDs,\n",
    "obtained by `input_id` and `output_id` methods, refer to the inputs and\n",
    "outputs of the diagram itself. In this way, wires can connect the (inner)\n",
    "boxes of a diagram to the diagram's \"outer box\".\n",
    "\n",
    "The `WiringDiagram` data structure is an elaborate wrapper around a directed\n",
    "graph from [Graphs.jl](https://github.com/JuliaGraphs/Graphs.jl).\n",
    "The underlying `DiGraph` object can be accessed using the `graph` method. The\n",
    "vertices of this graph are exactly the box IDs. The graph should never be\n",
    "mutated directly, on pain of creating inconsistent state, but it does allow\n",
    "convenient access to the large array of graph algorithms supported by Graphs.\n",
    "\n",
    "All this is somewhat abstract but should become clearer as we see concrete\n",
    "examples."
   ],
   "metadata": {}
  },
  {
   "cell_type": "markdown",
   "source": [
    "## Categorical interface\n",
    "\n",
    "In this example, the wiring diagrams will carry symbolic expressions (of type\n",
    "`Catlab.ObExpr` and `Catlab.HomExpr`)."
   ],
   "metadata": {}
  },
  {
   "outputs": [],
   "cell_type": "code",
   "source": [
    "using Catlab.Theories\n",
    "\n",
    "A, B, C, D = Ob(FreeBiproductCategory, :A, :B, :C, :D)\n",
    "f = Hom(:f, A, B)\n",
    "g = Hom(:g, B, C)\n",
    "h = Hom(:h, C, D)\n",
    "\n",
    "f"
   ],
   "metadata": {},
   "execution_count": null
  },
  {
   "cell_type": "markdown",
   "source": [
    "### Generators\n",
    "\n",
    "Convert each of the morphism generators into a diagram with a single box."
   ],
   "metadata": {}
  },
  {
   "outputs": [],
   "cell_type": "code",
   "source": [
    "f, g, h = to_wiring_diagram(f), to_wiring_diagram(g), to_wiring_diagram(h)\n",
    "f"
   ],
   "metadata": {},
   "execution_count": null
  },
  {
   "outputs": [],
   "cell_type": "code",
   "source": [
    "show_diagram(f)"
   ],
   "metadata": {},
   "execution_count": null
  },
  {
   "cell_type": "markdown",
   "source": [
    "### Composition"
   ],
   "metadata": {}
  },
  {
   "outputs": [],
   "cell_type": "code",
   "source": [
    "compose(f,g)"
   ],
   "metadata": {},
   "execution_count": null
  },
  {
   "outputs": [],
   "cell_type": "code",
   "source": [
    "show_diagram(compose(f,g))"
   ],
   "metadata": {},
   "execution_count": null
  },
  {
   "cell_type": "markdown",
   "source": [
    "### Monoidal products"
   ],
   "metadata": {}
  },
  {
   "outputs": [],
   "cell_type": "code",
   "source": [
    "otimes(f,h)"
   ],
   "metadata": {},
   "execution_count": null
  },
  {
   "outputs": [],
   "cell_type": "code",
   "source": [
    "show_diagram(otimes(f,h))"
   ],
   "metadata": {},
   "execution_count": null
  },
  {
   "cell_type": "markdown",
   "source": [
    "### Copy and merge, delete and create"
   ],
   "metadata": {}
  },
  {
   "outputs": [],
   "cell_type": "code",
   "source": [
    "mcopy(codom(f),2)"
   ],
   "metadata": {},
   "execution_count": null
  },
  {
   "outputs": [],
   "cell_type": "code",
   "source": [
    "show_diagram(mcopy(codom(f),2))"
   ],
   "metadata": {},
   "execution_count": null
  },
  {
   "outputs": [],
   "cell_type": "code",
   "source": [
    "show_diagram(compose(f, mcopy(codom(f),2)))"
   ],
   "metadata": {},
   "execution_count": null
  },
  {
   "outputs": [],
   "cell_type": "code",
   "source": [
    "show_diagram(compose(mcopy(dom(f),2), otimes(f,f)))"
   ],
   "metadata": {},
   "execution_count": null
  },
  {
   "cell_type": "markdown",
   "source": [
    "## Imperative interface\n",
    "\n",
    "We now show how to manipulate wiring diagrams using the low-level, imperative\n",
    "interface. The diagrams will carry Julia symbols."
   ],
   "metadata": {}
  },
  {
   "outputs": [],
   "cell_type": "code",
   "source": [
    "f = Box(:f, [:A], [:B])\n",
    "g = Box(:g, [:B], [:C])\n",
    "h = Box(:h, [:C], [:D])\n",
    "\n",
    "f"
   ],
   "metadata": {},
   "execution_count": null
  },
  {
   "cell_type": "markdown",
   "source": [
    "### Composition\n",
    "\n",
    "For example, here is how to manually construct a composition of two boxes.\n",
    "\n",
    "The `add_box!` method adds a box to a wiring diagrams and returns the ID\n",
    "assigned to the box. How the boxes are indexed is an implementation detail\n",
    "that you should not rely on; use the IDs that the system gives you."
   ],
   "metadata": {}
  },
  {
   "outputs": [],
   "cell_type": "code",
   "source": [
    "d = WiringDiagram([:A], [:C])\n",
    "\n",
    "fv = add_box!(d, f)\n",
    "gv = add_box!(d, g)\n",
    "\n",
    "add_wires!(d, [\n",
    "  (input_id(d),1) => (fv,1),\n",
    "  (fv,1) => (gv,1),\n",
    "  (gv,1) => (output_id(d),1),\n",
    "])\n",
    "\n",
    "nboxes(d)"
   ],
   "metadata": {},
   "execution_count": null
  },
  {
   "outputs": [],
   "cell_type": "code",
   "source": [
    "nwires(d)"
   ],
   "metadata": {},
   "execution_count": null
  },
  {
   "outputs": [],
   "cell_type": "code",
   "source": [
    "d"
   ],
   "metadata": {},
   "execution_count": null
  },
  {
   "outputs": [],
   "cell_type": "code",
   "source": [
    "show_diagram(d)"
   ],
   "metadata": {},
   "execution_count": null
  },
  {
   "cell_type": "markdown",
   "source": [
    "### Products\n",
    "\n",
    "Here is how to manually construct a product of two boxes."
   ],
   "metadata": {}
  },
  {
   "outputs": [],
   "cell_type": "code",
   "source": [
    "d = WiringDiagram([:A,:C], [:B,:D])\n",
    "\n",
    "fv = add_box!(d, f)\n",
    "hv = add_box!(d, h)\n",
    "\n",
    "add_wires!(d, [\n",
    "  (input_id(d),1) => (fv,1),\n",
    "  (input_id(d),2) => (hv,1),\n",
    "  (fv,1) => (output_id(d),1),\n",
    "  (hv,1) => (output_id(d),2),\n",
    "])\n",
    "\n",
    "d"
   ],
   "metadata": {},
   "execution_count": null
  },
  {
   "outputs": [],
   "cell_type": "code",
   "source": [
    "show_diagram(d)"
   ],
   "metadata": {},
   "execution_count": null
  }
 ],
 "nbformat_minor": 3,
 "metadata": {
  "language_info": {
   "file_extension": ".jl",
   "mimetype": "application/julia",
   "name": "julia",
   "version": "1.10.3"
  },
  "kernelspec": {
   "name": "julia-1.10",
   "display_name": "Julia 1.10.3",
   "language": "julia"
  }
 },
 "nbformat": 4
}
