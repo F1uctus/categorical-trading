{
 "cells": [
  {
   "cell_type": "markdown",
   "source": [
    "# Wiring Diagrams as Attributed C-Sets\n",
    "Catlab supports many different flavors of diagrammatic syntax. These support the different combinatorial data structures that we use for representing categorical constructions. We will discuss DirectedWiringDiagrams, UndirectedWiringDiagrams, and CPortGraphs in this document."
   ],
   "metadata": {}
  },
  {
   "outputs": [],
   "cell_type": "code",
   "source": [
    "using Catlab.Theories, Catlab.CategoricalAlgebra\n",
    "using Catlab.WiringDiagrams, Catlab.Programs, Catlab.Graphics\n",
    "using Catlab.Graphics: Graphviz\n",
    "\n",
    "draw(d::WiringDiagram) = to_graphviz(d,\n",
    "  orientation=LeftToRight,\n",
    "  labels=true, label_attr=:xlabel,\n",
    "  node_attrs=Graphviz.Attributes(\n",
    "    :fontname => \"Courier\",\n",
    "  ),\n",
    "  edge_attrs=Graphviz.Attributes(\n",
    "    :fontname => \"Courier\",\n",
    "  )\n",
    ")\n",
    "\n",
    "draw(uwd::AbstractUWD) = to_graphviz(uwd, junction_labels=:variable, box_labels=:name)"
   ],
   "metadata": {},
   "execution_count": null
  },
  {
   "cell_type": "markdown",
   "source": [
    "## Directed Wiring Diagrams"
   ],
   "metadata": {}
  },
  {
   "cell_type": "markdown",
   "source": [
    "DWDs are used to represent the morphisms in a symmetric monoidal category. You can get started by presenting a `FreeSymmetricMonoidalCategory` with the `@present` macro."
   ],
   "metadata": {}
  },
  {
   "outputs": [],
   "cell_type": "code",
   "source": [
    "@present P(FreeSymmetricMonoidalCategory) begin\n",
    "  (A,B,C,D)::Ob\n",
    "  f::Hom(A,B)\n",
    "  g::Hom(B,A)\n",
    "  h::Hom(A⊗B, C)\n",
    "  k::Hom(C,D⊗A)\n",
    "end\n",
    "generators(P)"
   ],
   "metadata": {},
   "execution_count": null
  },
  {
   "cell_type": "markdown",
   "source": [
    "These presentations are very syntactic objects and expose an API for manipulating expressions."
   ],
   "metadata": {}
  },
  {
   "outputs": [],
   "cell_type": "code",
   "source": [
    "for g in generators(P)\n",
    "  \"$g is a $(gat_typeof(g)) with arguments $(gat_type_args(g))\"\n",
    "end"
   ],
   "metadata": {},
   "execution_count": null
  },
  {
   "cell_type": "markdown",
   "source": [
    "The `gat_typeof` function computes the algebraic type of a term by analogy to `Base.typeof` which computes the Julia type of a value."
   ],
   "metadata": {}
  },
  {
   "outputs": [],
   "cell_type": "code",
   "source": [
    "homs_P = filter(generators(P)) do g\n",
    "  gat_typeof(g) == :Hom\n",
    "end"
   ],
   "metadata": {},
   "execution_count": null
  },
  {
   "cell_type": "markdown",
   "source": [
    "When the term is a Hom, you can get the domain and codomain of the morphism with the `dom` and `codom` functions."
   ],
   "metadata": {}
  },
  {
   "outputs": [],
   "cell_type": "code",
   "source": [
    "map(homs_P) do f\n",
    "  \"$f: $(dom(f)) → $(codom(f))\"\n",
    "end"
   ],
   "metadata": {},
   "execution_count": null
  },
  {
   "cell_type": "markdown",
   "source": [
    "With the presentation you can build up morphism expressions using a formula syntax."
   ],
   "metadata": {}
  },
  {
   "outputs": [],
   "cell_type": "code",
   "source": [
    "P[:h]⋅P[:k]"
   ],
   "metadata": {},
   "execution_count": null
  },
  {
   "cell_type": "markdown",
   "source": [
    "This syntactic API is useful for manipulating terms in an arbitrary GAT and is the formal language of Catlab for representing and manipulating algebraic structures.\n",
    "However, when we want to work with big expressions in an SMC, the tree structure inherent to formulas is too verbose, and we want to move to a port-graph structure called `DirectedWiringDiagrams`. This gives us the benefits of combinatorial data structures like graphs with the right expressional power for representing the morphisms in an SMC."
   ],
   "metadata": {}
  },
  {
   "outputs": [],
   "cell_type": "code",
   "source": [
    "wd = @program P (a::A, b::B) begin\n",
    "  c = h(a,b)\n",
    "  return k(c)\n",
    "end\n",
    "\n",
    "draw(wd)"
   ],
   "metadata": {},
   "execution_count": null
  },
  {
   "cell_type": "markdown",
   "source": [
    "Catlab gives you the tools for drawing wiring diagrams. Visualization of wiring diagrams is the oldest part of Catlab and the original motivation for its development. The `@program` macro allows you to define wiring diagrams using a syntax that feels like Julia code."
   ],
   "metadata": {}
  },
  {
   "outputs": [],
   "cell_type": "code",
   "source": [
    "wd = @program P (a::A, b::B) begin\n",
    "  c = h(a,b)\n",
    "  d,a₁ = k(c)\n",
    "  return d, f(a₁)\n",
    "end\n",
    "draw(wd)"
   ],
   "metadata": {},
   "execution_count": null
  },
  {
   "cell_type": "markdown",
   "source": [
    "The input wires are declared as *arguments* to the program, and the output wires are declared as *returns* from the function. Variables that are not consumed or by another function or returned by the program are automatically dropped."
   ],
   "metadata": {}
  },
  {
   "outputs": [],
   "cell_type": "code",
   "source": [
    "wd = @program P (a::A, b::B) begin\n",
    "  c = h(a,b)\n",
    "  d,a₁ = k(c)\n",
    "  return f(a₁)\n",
    "end\n",
    "draw(wd)"
   ],
   "metadata": {},
   "execution_count": null
  },
  {
   "cell_type": "markdown",
   "source": [
    "You can copy a value by using it more than once. This is visualized as a wire being split into two wires."
   ],
   "metadata": {}
  },
  {
   "outputs": [],
   "cell_type": "code",
   "source": [
    "wd = @program P (b::B) begin\n",
    "  h(g(b),b)\n",
    "end\n",
    "draw(wd)"
   ],
   "metadata": {},
   "execution_count": null
  },
  {
   "cell_type": "markdown",
   "source": [
    "You can visualize the copy and delete morphisms explicitly with the `add_junctions` function. The dots with one wire input and multiple outputs are copying values and dots with no wires out are deletions (discarding values). Not all instances of a `SymmetricMonoidalCategory` support copy and delete, for example, in manufacturing you can't duplicate a resource, and in chemistry you can't discard species. Catlab would enforce that when you tried to interpret the wiring diagram in a specific SMC."
   ],
   "metadata": {}
  },
  {
   "outputs": [],
   "cell_type": "code",
   "source": [
    "wd = @program P (b::B) begin\n",
    "  c = h(g(b),b)\n",
    "  d, a₁ = k(c)\n",
    "  return f(a₁)\n",
    "end\n",
    "draw(add_junctions(wd))"
   ],
   "metadata": {},
   "execution_count": null
  },
  {
   "cell_type": "markdown",
   "source": [
    "For more details about working with wiring diagrams in Catlab, you should look at the other vignettes in this section which explain how wiring diagrams interact with SMC expressions and the basics of constructing and manipulation wiring diagrams."
   ],
   "metadata": {}
  },
  {
   "cell_type": "markdown",
   "source": [
    "## Diagrams as C-Sets"
   ],
   "metadata": {}
  },
  {
   "cell_type": "markdown",
   "source": [
    "The underlying data of a wiring diagram is combinatorial. That means we can represent it as a C-Set"
   ],
   "metadata": {}
  },
  {
   "outputs": [],
   "cell_type": "code",
   "source": [
    "wd.diagram"
   ],
   "metadata": {},
   "execution_count": null
  },
  {
   "cell_type": "markdown",
   "source": [
    "Ok, there is a lot in there. The columns with integer entries are the combinatorial data encoding the connectivity of the wiring diagram. The columns with Symbols in them are encoding the labels for the diagram, the `value` of a box is the content of the box. Ports have types and wires have values. When we define the wiring diagram with the `@program` macro, we get a diagram that has labels and types, but no values. These values are initialized to nothing, but could be filled with values to be carried down the wires in an application."
   ],
   "metadata": {}
  },
  {
   "cell_type": "markdown",
   "source": [
    "The schema of for wiring diagrams is called `SchAttributedWiringDiagrams` and is a little overwhelming, so we can explore how to build it up with C-Set schema inheritance."
   ],
   "metadata": {}
  },
  {
   "outputs": [],
   "cell_type": "code",
   "source": [
    "to_graphviz(SchAttributedWiringDiagram)"
   ],
   "metadata": {},
   "execution_count": null
  },
  {
   "cell_type": "markdown",
   "source": [
    "From the file Catlab/src/WiringDiagrams/Directed.jl\n",
    "```julia\n",
    "@present SchWiringDiagram(FreeSchema) begin\n",
    "  Box::Ob\n",
    "  (InPort, OutPort, OuterInPort, OuterOutPort)::Ob\n",
    "  (Wire, InWire, OutWire, PassWire)::Ob"
   ],
   "metadata": {}
  },
  {
   "cell_type": "markdown",
   "source": [
    "  src::Hom(Wire, OutPort)\n",
    "  tgt::Hom(Wire, InPort)\n",
    "  in_src::Hom(InWire, OuterInPort)\n",
    "  in_tgt::Hom(InWire, InPort)\n",
    "  out_src::Hom(OutWire, OutPort)\n",
    "  out_tgt::Hom(OutWire, OuterOutPort)\n",
    "  pass_src::Hom(PassWire, OuterInPort)\n",
    "  pass_tgt::Hom(PassWire, OuterOutPort)"
   ],
   "metadata": {}
  },
  {
   "cell_type": "markdown",
   "source": [
    "  in_port_box::Hom(InPort, Box)\n",
    "  out_port_box::Hom(OutPort, Box)\n",
    "end"
   ],
   "metadata": {}
  },
  {
   "cell_type": "markdown",
   "source": [
    "@abstract_acset_type AbstractWiringDiagram <: AbstractGraph"
   ],
   "metadata": {}
  },
  {
   "cell_type": "markdown",
   "source": [
    "@present SchTypedWiringDiagram <: SchWiringDiagram begin\n",
    "  PortValue::AttrType\n",
    "  in_port_type::Attr(InPort, PortValue)\n",
    "  out_port_type::Attr(OutPort, PortValue)\n",
    "  outer_in_port_type::Attr(OuterInPort, PortValue)\n",
    "  outer_out_port_type::Attr(OuterOutPort, PortValue)\n",
    "end"
   ],
   "metadata": {}
  },
  {
   "cell_type": "markdown",
   "source": [
    "@present SchAttributedWiringDiagram <: SchTypedWiringDiagram begin\n",
    "  WireValue::AttrType\n",
    "  BoxValue::AttrType\n",
    "  BoxType::AttrType"
   ],
   "metadata": {}
  },
  {
   "cell_type": "markdown",
   "source": [
    "  value::Attr(Box, BoxValue)\n",
    "  box_type::Attr(Box, BoxType)\n",
    "  wire_value::Attr(Wire, WireValue)\n",
    "  in_wire_value::Attr(InWire, WireValue)\n",
    "  out_wire_value::Attr(OutWire, WireValue)\n",
    "  pass_wire_value::Attr(PassWire, WireValue)\n",
    "end\n",
    "```"
   ],
   "metadata": {}
  },
  {
   "cell_type": "markdown",
   "source": [
    "The bare minimum diagram language is:"
   ],
   "metadata": {}
  },
  {
   "outputs": [],
   "cell_type": "code",
   "source": [
    "to_graphviz(SchWiringDiagram)"
   ],
   "metadata": {},
   "execution_count": null
  },
  {
   "cell_type": "markdown",
   "source": [
    "And then you can add back in the types."
   ],
   "metadata": {}
  },
  {
   "outputs": [],
   "cell_type": "code",
   "source": [
    "to_graphviz(SchTypedWiringDiagram)"
   ],
   "metadata": {},
   "execution_count": null
  },
  {
   "cell_type": "markdown",
   "source": [
    "Layout is hard, so if you want to understand the `SchAttributedWiringDiagrams`, you should do the layout by hand as an exercise."
   ],
   "metadata": {}
  },
  {
   "cell_type": "markdown",
   "source": [
    "We can create our own version of the theory of DWDs to see how it works:"
   ],
   "metadata": {}
  },
  {
   "outputs": [],
   "cell_type": "code",
   "source": [
    "@present MySchWiringDiagram(FreeSchema) begin\n",
    "  Box::Ob\n",
    "  (InPort, OutPort, OuterInPort, OuterOutPort)::Ob\n",
    "  (Wire, InWire, OutWire, PassWire)::Ob\n",
    "\n",
    "  src::Hom(Wire, OutPort)\n",
    "  tgt::Hom(Wire, InPort)\n",
    "  in_src::Hom(InWire, OuterInPort)\n",
    "  in_tgt::Hom(InWire, InPort)\n",
    "  out_src::Hom(OutWire, OutPort)\n",
    "  out_tgt::Hom(OutWire, OuterOutPort)\n",
    "  pass_src::Hom(PassWire, OuterInPort)\n",
    "  pass_tgt::Hom(PassWire, OuterOutPort)\n",
    "\n",
    "  in_port_box::Hom(InPort, Box)\n",
    "  out_port_box::Hom(OutPort, Box)\n",
    "end"
   ],
   "metadata": {},
   "execution_count": null
  },
  {
   "cell_type": "markdown",
   "source": [
    "If your application of wiring diagrams needs to attach numeric or textual information to the boxes of a wiring diagram, you would extend the `SchWiringDiagram` with the attributes that you need. That will give you a custom data structure that has those fields. One of the goals of Catlab is to make it so much easier to generate custom data structures that interoperate, that you don't need to create generic structures that can be used for many purposes. Just snap your fingers and create a new structure perfectly tailored to your needs, when your needs change, snap again to get a new version of that structure."
   ],
   "metadata": {}
  },
  {
   "cell_type": "markdown",
   "source": [
    "The `@acset_type` macro does the hard work of generating the data structure and accessors and mutators for you. The form of this call is `@acset_type NewStructName(Schema, index=[morphisms in Schema]) <: Supertype`. You should index any morphism where you need to use `incident` frequently. For wiring diagrams you will often want to know what all the wires that are incident to a port."
   ],
   "metadata": {}
  },
  {
   "outputs": [],
   "cell_type": "code",
   "source": [
    "@acset_type MyWiringDiagramACSet(MySchWiringDiagram,\n",
    "  index=[:src, :tgt, :in_src, :in_tgt, :out_src, :out_tgt, :pass_src, :pass_tgt]) <: WiringDiagrams.DirectedWiringDiagrams.AbstractWiringDiagram"
   ],
   "metadata": {},
   "execution_count": null
  },
  {
   "cell_type": "markdown",
   "source": [
    "We get the `@acset` macro from Catlab and can create DWDs by hand. It is very tedious, which is why the `@program` macro exists!"
   ],
   "metadata": {}
  },
  {
   "outputs": [],
   "cell_type": "code",
   "source": [
    "md = @acset MyWiringDiagramACSet begin\n",
    "  Box = 3\n",
    "  InPort = 6\n",
    "  OutPort = 3\n",
    "  Wire = 3\n",
    "  src = [1,2,3]\n",
    "  tgt = [3,4,5]\n",
    "  in_port_box = [1,1,2,2,3,3]\n",
    "  out_port_box = [1,2,3]\n",
    "end"
   ],
   "metadata": {},
   "execution_count": null
  },
  {
   "cell_type": "markdown",
   "source": [
    "## Undirected Wiring Diagrams\n",
    "A much simpler structure than DWDs are known as undirected wiring diagrams. They are called undirected because ports boxes have one set of ports that aren't divided into inputs and outputs, and the wires are undirected. Wires connect junctions to ports (which live on boxes)."
   ],
   "metadata": {}
  },
  {
   "outputs": [],
   "cell_type": "code",
   "source": [
    "to_graphviz(SchUWD)"
   ],
   "metadata": {},
   "execution_count": null
  },
  {
   "cell_type": "markdown",
   "source": [
    "These UWDs are combinatorial syntax for relations. The junctions are variables and the boxes are the relations. A relation R ⊆ X × Y has two ports one for the value of X and one for the value of Y. The expression R(x:X, y:Y) says to connect the X port of R to the junction for the variable x, and the Y port of R to the y variable junction. If two ports are attached to the same junction, then you have a constraint that those values must be equal. The outer ports are the components of the final relation. For example the following UWD encodes the relation {(x,y,z) | R(x,y) and S(y,z) for all x∈X, y∈Y, z∈Z}."
   ],
   "metadata": {}
  },
  {
   "outputs": [],
   "cell_type": "code",
   "source": [
    "uwd = @relation (x, y, z) begin\n",
    "  R(x,y)\n",
    "  S(y,z)\n",
    "end"
   ],
   "metadata": {},
   "execution_count": null
  },
  {
   "cell_type": "markdown",
   "source": [
    "These UWDs are drawn with circular boxes and undirected wires. Note that since all wires go from junction to port, they are not *symmetric* wires."
   ],
   "metadata": {}
  },
  {
   "outputs": [],
   "cell_type": "code",
   "source": [
    "draw(uwd)"
   ],
   "metadata": {},
   "execution_count": null
  },
  {
   "cell_type": "markdown",
   "source": [
    "By adding more relations we can get bigger relations."
   ],
   "metadata": {}
  },
  {
   "outputs": [],
   "cell_type": "code",
   "source": [
    "uwd₂ = @relation (x, z) begin\n",
    "  R(x,y)\n",
    "  S(y,z)\n",
    "  T(x,z,y)\n",
    "end"
   ],
   "metadata": {},
   "execution_count": null
  },
  {
   "cell_type": "markdown",
   "source": [
    "Not all of the junctions have to be exposed to the outside world. Note that there is no distinction between arguments and return values in the relation macro. This is because relations are inherently undirected, unlike functions."
   ],
   "metadata": {}
  },
  {
   "outputs": [],
   "cell_type": "code",
   "source": [
    "draw(uwd₂)"
   ],
   "metadata": {},
   "execution_count": null
  },
  {
   "cell_type": "markdown",
   "source": [
    "## Circular Port Graphs\n",
    "CPGs are the natural data structure for representing process of interconnected systems that share information along wires, but send different information to their different neighbors."
   ],
   "metadata": {}
  },
  {
   "outputs": [],
   "cell_type": "code",
   "source": [
    "to_graphviz(SchCPortGraph)"
   ],
   "metadata": {},
   "execution_count": null
  },
  {
   "cell_type": "markdown",
   "source": [
    "They are also a kind of CSet, so we can use the `@acset` macro to construct them."
   ],
   "metadata": {}
  },
  {
   "outputs": [],
   "cell_type": "code",
   "source": [
    "cpg = @acset CPortGraph begin\n",
    "  Box = 3\n",
    "  Port = 6\n",
    "  Wire = 5\n",
    "\n",
    "  box = [1,1,2,2,3,3]\n",
    "  src = [1,2,5,2,6]\n",
    "  tgt = [3,4,2,4,1]\n",
    "end"
   ],
   "metadata": {},
   "execution_count": null
  },
  {
   "cell_type": "markdown",
   "source": [
    "the layout for CPGs is not great with graphviz."
   ],
   "metadata": {}
  },
  {
   "outputs": [],
   "cell_type": "code",
   "source": [
    "to_graphviz(cpg, port_labels=true, graph_attrs=Dict(\"nodesep\"=>\"2\", \"ranksep\"=>\"2\"))"
   ],
   "metadata": {},
   "execution_count": null
  },
  {
   "cell_type": "markdown",
   "source": [
    "Almost every application of graphs in computer science could be better served by using one of these extensions to the basic graph data structure."
   ],
   "metadata": {}
  }
 ],
 "nbformat_minor": 3,
 "metadata": {
  "language_info": {
   "file_extension": ".jl",
   "mimetype": "application/julia",
   "name": "julia",
   "version": "1.10.3"
  },
  "kernelspec": {
   "name": "julia-1.10",
   "display_name": "Julia 1.10.3",
   "language": "julia"
  }
 },
 "nbformat": 4
}
