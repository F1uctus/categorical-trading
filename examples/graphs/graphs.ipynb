{
 "cells": [
  {
   "outputs": [],
   "cell_type": "code",
   "source": [
    "using GATlab, Catlab.Theories\n",
    "using Catlab.CategoricalAlgebra\n",
    "using Catlab.Graphs\n",
    "using Catlab.Graphics\n",
    "\n",
    "draw(g; kw...) = to_graphviz(g; node_labels=true, edge_labels=true, kw...)\n",
    "draw(f::ACSetTransformation; kw...) =\n",
    "  to_graphviz(f; node_labels=true, edge_labels=true, draw_codom=false, kw...)\n",
    "\n",
    "to_graphviz(SchGraph)"
   ],
   "metadata": {},
   "execution_count": null
  },
  {
   "cell_type": "markdown",
   "source": [
    "# The Category of Graphs\n",
    "\n",
    "The Theory of Graphs is given by the following Schema:\n",
    "```julia\n",
    "@present SchGraph(FreeSchema) begin\n",
    "  V::Ob\n",
    "  E::Ob\n",
    "  src::Hom(E,V)\n",
    "  tgt::Hom(E,V)\n",
    "end"
   ],
   "metadata": {}
  },
  {
   "cell_type": "markdown",
   "source": [
    "\"\"\" Abstract type for graphs, aka directed multigraphs.\n",
    "\"\"\"\n",
    "@abstract_acset_type AbstractGraph <: HasGraph"
   ],
   "metadata": {}
  },
  {
   "cell_type": "markdown",
   "source": [
    "\"\"\" A graph, also known as a directed multigraph.\n",
    "\"\"\"\n",
    "@acset_type Graph(SchGraph, index=[:src,:tgt]) <: AbstractGraph\n",
    "```\n",
    "\n",
    "That is all we need to do to generate the functor category [SchGraph, FinSet].\n",
    "Catlab knows how to take a finitely presented category and generate all the data structures\n",
    "that you need to represent functors into FinSet and natural transformations between those functors.\n",
    "Note: the index=[:src, :tgt] keyword argument tells Catlab that you want to have an efficient index\n",
    "the preimages of those morphisms. in this example, we want to be able to find the incoming and\n",
    "outgoing edges of a vertex in O(1) time."
   ],
   "metadata": {}
  },
  {
   "cell_type": "markdown",
   "source": [
    "## Creating some Graphs"
   ],
   "metadata": {}
  },
  {
   "cell_type": "markdown",
   "source": [
    "Once you have fixed the schema (aka indexing category or theory), you can make some instances.\n",
    "Catlab has a DSL for specifying instances of any schema. It is called `@acset`.\n",
    "In order to specify a Functor F=(F₀, F₁) into FinSet, you need to provide some data.\n",
    "    1. For every A:Ob(C), you need F₀(A):FinSet\n",
    "    2. For every f:A→B, you need to specify a FinFunction F₁(f):F₀(A)→F₀(B)\n",
    "If the theory C has some equations, the data you provide would have to also satisfy those equations.\n",
    "The theory of graphs has no equations, so there are no constraints on the data you provide,\n",
    "except for those that come from functoriality."
   ],
   "metadata": {}
  },
  {
   "outputs": [],
   "cell_type": "code",
   "source": [
    "e = @acset Graph begin\n",
    "    V = 2\n",
    "    E = 1\n",
    "    src = [1]\n",
    "    tgt = [2]\n",
    "end\n",
    "\n",
    "draw(e)"
   ],
   "metadata": {},
   "execution_count": null
  },
  {
   "cell_type": "markdown",
   "source": [
    "a wedge is two edges that share a target"
   ],
   "metadata": {}
  },
  {
   "outputs": [],
   "cell_type": "code",
   "source": [
    "w = @acset Graph begin\n",
    "    V = 3\n",
    "    E = 2\n",
    "    src=[1,3]\n",
    "    tgt=[2,2]\n",
    "end\n",
    "\n",
    "draw(w)"
   ],
   "metadata": {},
   "execution_count": null
  },
  {
   "cell_type": "markdown",
   "source": [
    "The CSet API generalizes the traditional Graph API"
   ],
   "metadata": {}
  },
  {
   "outputs": [],
   "cell_type": "code",
   "source": [
    "parts(w, :V)  # vertex set\n",
    "\n",
    "parts(w,:E) # edge set\n",
    "\n",
    "w[:src] # source map\n",
    "\n",
    "w[:tgt] # target map\n",
    "\n",
    "\n",
    "incident(w, 1, :src) # edges out of vertex 1\n",
    "\n",
    "incident(w, 2, :tgt) # edges into vertex 2\n",
    "\n",
    "w[incident(w, 2, :tgt), :src] # vertices that are the source of edges whose target is vertex 2\n",
    "\n",
    "w[incident(w, 1, :src), :tgt] # vertices that are the target of edges whose src is vertex 1"
   ],
   "metadata": {},
   "execution_count": null
  },
  {
   "cell_type": "markdown",
   "source": [
    "### Exercise:\n",
    "1. Use the @acset macro to make a graph with at least 5 vertices\n",
    "2. Draw the graph\n",
    "3. Compute in neighbors and out neighbors and make sure they match your expectations.\n",
    "4. Write a function that computes the 2-hop out-neighbors of a vertex."
   ],
   "metadata": {}
  },
  {
   "cell_type": "markdown",
   "source": [
    "# Graph Homomorphisms\n",
    "We can construct some graph homomorphisms between our two graphs.\n",
    "What data do we need to specify?"
   ],
   "metadata": {}
  },
  {
   "outputs": [],
   "cell_type": "code",
   "source": [
    "ϕ = ACSetTransformation(e,w,E=[1], V=[1,2])\n",
    "\n",
    "is_natural(ϕ)"
   ],
   "metadata": {},
   "execution_count": null
  },
  {
   "cell_type": "markdown",
   "source": [
    "The ACSetTransformation constructor does not automatically validate that the naturality squares commute!"
   ],
   "metadata": {}
  },
  {
   "outputs": [],
   "cell_type": "code",
   "source": [
    "ϕᵦ = ACSetTransformation(e,w,E=[1], V=[3,2])\n",
    "is_natural(ϕᵦ)"
   ],
   "metadata": {},
   "execution_count": null
  },
  {
   "cell_type": "markdown",
   "source": [
    "Our ϕᵦ in't natural because the edge map e₁ ↦ e₁ is not consistent with our vertex map, which sends v₁ ↦ v₃ and v₂ ↦ v₂. We can fix this by sending e₁ to e₂"
   ],
   "metadata": {}
  },
  {
   "outputs": [],
   "cell_type": "code",
   "source": [
    "ϕᵦ′ = ACSetTransformation(e,w,E=[2], V=[3,2])\n",
    "is_natural(ϕᵦ′)"
   ],
   "metadata": {},
   "execution_count": null
  },
  {
   "cell_type": "markdown",
   "source": [
    "So how does Catlab store the data of the natural transformation?\n",
    "the domain"
   ],
   "metadata": {}
  },
  {
   "outputs": [],
   "cell_type": "code",
   "source": [
    "ϕ.dom"
   ],
   "metadata": {},
   "execution_count": null
  },
  {
   "cell_type": "markdown",
   "source": [
    "the codomain"
   ],
   "metadata": {}
  },
  {
   "outputs": [],
   "cell_type": "code",
   "source": [
    "ϕ.codom"
   ],
   "metadata": {},
   "execution_count": null
  },
  {
   "cell_type": "markdown",
   "source": [
    "the components"
   ],
   "metadata": {}
  },
  {
   "outputs": [],
   "cell_type": "code",
   "source": [
    "ϕ.components"
   ],
   "metadata": {},
   "execution_count": null
  },
  {
   "cell_type": "markdown",
   "source": [
    "you can see the components using standard indexing notation with the object names. Notice that while CSets are indexed by morphisms, natural transformations are indexed by objects."
   ],
   "metadata": {}
  },
  {
   "outputs": [],
   "cell_type": "code",
   "source": [
    "ϕ[:V]\n",
    "ϕ[:E]"
   ],
   "metadata": {},
   "execution_count": null
  },
  {
   "cell_type": "markdown",
   "source": [
    "We can check the  naturality squares ourselves\n",
    "The sources are preserved: `src ⋅ ϕᵥ == ϕₑ ⋅ src`"
   ],
   "metadata": {}
  },
  {
   "outputs": [],
   "cell_type": "code",
   "source": [
    "ϕ[:V](dom(ϕ)[:,:src]) == codom(ϕ)[collect(ϕ[:E]), :src]"
   ],
   "metadata": {},
   "execution_count": null
  },
  {
   "cell_type": "markdown",
   "source": [
    "The targets are preserved: `tgt ⋅ ϕᵥ == ϕₑ ⋅ tgt`"
   ],
   "metadata": {}
  },
  {
   "outputs": [],
   "cell_type": "code",
   "source": [
    "ϕ[:V](dom(ϕ)[:,:tgt]) == codom(ϕ)[collect(ϕ[:E]), :tgt]"
   ],
   "metadata": {},
   "execution_count": null
  },
  {
   "cell_type": "markdown",
   "source": [
    "This approach generalizes to the following:\n",
    "\n",
    "```julia\n",
    "function is_natural(α::ACSetTransformation{S}) where {S}\n",
    "   X, Y = dom(α), codom(α)\n",
    "   for (f, c, d) in zip(hom(S), dom(S), codom(S))\n",
    "     Xf, Yf, α_c, α_d = subpart(X,f), subpart(Y,f), α[c], α[d]\n",
    "     all(Yf[α_c(i)] == α_d(Xf[i]) for i in eachindex(Xf)) || return false\n",
    "   end\n",
    "   return true\n",
    "end\n",
    "```\n",
    "\n",
    "Notice how we iterate over the homs in the schema category S `(f, c, d) in zip(hom(S), dom(S), codom(S))` We get one universally quantified equation `all(Yf[α_c(i)] == α_d(Xf[i]) for i in eachindex(Xf))` for each morphism in the indexing category\n",
    "\n",
    "### Exercise:\n",
    "1. Take your graph from the previous exercise and construct a graph homomorphism from the wedge (w) into it.\n",
    "2. Check that the naturality equations are satisfied.\n",
    "3. Explain why we don't need to specify any data for the source and target morphisms in SchGraph when definining a graph homomorphism"
   ],
   "metadata": {}
  },
  {
   "cell_type": "markdown",
   "source": [
    "## Finding Homomorphisms Automatically\n",
    "As you saw in the previous exercise, constructing a natural transformation can be quite tedious. We want computers to automate tedious things for us. So we use an algorithm to enumerate all the homomorphisms between two CSets."
   ],
   "metadata": {}
  },
  {
   "cell_type": "markdown",
   "source": [
    "CSet homomorphisms f:A→B are ways of finding a part of B that is shaped like A. You can view this as pattern matching. The graph A is the pattern and the graph B is the data. A morphism f:A→B is a collection of vertices and edges in B that is shaped like A. Note that you can ask Catlab to enforce constraints on the homomorphisms it will find including computing monic (injective) morphisms by passing the keyword `monic=true`. A monic morphism into B is a subobject of B.  You can pass `iso=true` to get isomorphisms."
   ],
   "metadata": {}
  },
  {
   "outputs": [],
   "cell_type": "code",
   "source": [
    "t = @acset Graph begin\n",
    "    V = 3\n",
    "    E = 3\n",
    "    src = [1,2,1]\n",
    "    tgt = [2,3,3]\n",
    "end\n",
    "\n",
    "draw(t)\n",
    "\n",
    "T = @acset Graph begin\n",
    "    V = 6\n",
    "    E = 9\n",
    "    src = [1,2,1, 3, 1,5,2,2,4]\n",
    "    tgt = [2,3,3, 4, 4,6,5,6,6]\n",
    "end\n",
    "\n",
    "draw(T)"
   ],
   "metadata": {},
   "execution_count": null
  },
  {
   "cell_type": "markdown",
   "source": [
    "The simplest pattern in a graph is just a single edge and each homomorphism ϕ:e→G is a single edge in G."
   ],
   "metadata": {}
  },
  {
   "outputs": [],
   "cell_type": "code",
   "source": [
    "length(homomorphisms(e, T, monic=true)) == nparts(T,:E) # number of edges\n",
    "\n",
    "\n",
    "length(homomorphisms(t, T))"
   ],
   "metadata": {},
   "execution_count": null
  },
  {
   "cell_type": "markdown",
   "source": [
    "We can define this helper function to print out all the homomorphisms between graphs. Because all our graphs are simple, we only need to look at the vertex components."
   ],
   "metadata": {}
  },
  {
   "outputs": [],
   "cell_type": "code",
   "source": [
    "graphhoms(g,h) = begin\n",
    "    map(homomorphisms(g,h)) do ϕ\n",
    "        collect(ϕ[:V])\n",
    "    end\n",
    "end\n",
    "\n",
    "graphhoms(t, T)"
   ],
   "metadata": {},
   "execution_count": null
  },
  {
   "cell_type": "markdown",
   "source": [
    "Homs ϕ:t→T are little triangles in T, but homs ϕ:T→t are colorings of T with 3 colors. The fact that there are edges in t that are missing, means that it provides constraints on what graphs have morphisms into it. For example, there are no morphisms T→t."
   ],
   "metadata": {}
  },
  {
   "outputs": [],
   "cell_type": "code",
   "source": [
    "graphhoms(T, t)"
   ],
   "metadata": {},
   "execution_count": null
  },
  {
   "cell_type": "markdown",
   "source": [
    "The reason we don't have a morphism into t is vertices 2,3,4,5 aren't arranged into a triangle. We can relax those constraints by adding loops to the codomain. Loops in the codomain allow you to merge adjacent vertices when you construct the homomorphism."
   ],
   "metadata": {}
  },
  {
   "outputs": [],
   "cell_type": "code",
   "source": [
    "add_loops!(g) = add_parts!(g, :E, nparts(g,:V), src=parts(g,:V), tgt=parts(g,:V))\n",
    "add_loops(g) = begin\n",
    "    h = copy(g)\n",
    "    add_loops!(h)\n",
    "    return h\n",
    "end\n",
    "\n",
    "draw(add_loops(t))"
   ],
   "metadata": {},
   "execution_count": null
  },
  {
   "cell_type": "markdown",
   "source": [
    "Once we add loops, then we have morphisms."
   ],
   "metadata": {}
  },
  {
   "outputs": [],
   "cell_type": "code",
   "source": [
    "length(homomorphisms(T,add_loops(t)))"
   ],
   "metadata": {},
   "execution_count": null
  },
  {
   "cell_type": "markdown",
   "source": [
    "## Bipartite Graphs\n",
    "Many computer science problems involve graphs that have two types of vertices. For example, when matching students to classes, you might represent the students as one type of vertex and the classes as another type of vertex. Then the edges (s,c) represent \"student s is enrolled in class c\". In this scenario there can be no edges from a class vertex to another class vertex, or from a student vertex to a student vertex. Graphs for which there exists such a classification are called bipartite graphs. In Category Theory, we shift from thinking about graphs with properties to graph homomorphisms that witness that property and think of bipartitioned graphs."
   ],
   "metadata": {}
  },
  {
   "cell_type": "markdown",
   "source": [
    "First we construct a bipartite graph:"
   ],
   "metadata": {}
  },
  {
   "outputs": [],
   "cell_type": "code",
   "source": [
    "sq = apex(product(add_loops(e), add_loops(e)))\n",
    "rem_parts!(sq, :E, [1,5,6,8,9])\n",
    "draw(sq)"
   ],
   "metadata": {},
   "execution_count": null
  },
  {
   "cell_type": "markdown",
   "source": [
    "We will use the symmetric edge graph to identify the bipartitions of this graph."
   ],
   "metadata": {}
  },
  {
   "outputs": [],
   "cell_type": "code",
   "source": [
    "esym = @acset Graph begin\n",
    "    V = 2\n",
    "    E = 2\n",
    "    src = [1,2]\n",
    "    tgt = [2,1]\n",
    "end\n",
    "\n",
    "draw(id(esym))"
   ],
   "metadata": {},
   "execution_count": null
  },
  {
   "cell_type": "markdown",
   "source": [
    "There are two ways to bipartition sq."
   ],
   "metadata": {}
  },
  {
   "outputs": [],
   "cell_type": "code",
   "source": [
    "graphhoms(sq, esym)"
   ],
   "metadata": {},
   "execution_count": null
  },
  {
   "cell_type": "markdown",
   "source": [
    "This comes from the fact that esym has 2 automorphisms!"
   ],
   "metadata": {}
  },
  {
   "outputs": [],
   "cell_type": "code",
   "source": [
    "graphhoms(esym, esym)"
   ],
   "metadata": {},
   "execution_count": null
  },
  {
   "cell_type": "markdown",
   "source": [
    "the first coloring"
   ],
   "metadata": {}
  },
  {
   "outputs": [],
   "cell_type": "code",
   "source": [
    "draw(homomorphisms(sq, esym)[1])"
   ],
   "metadata": {},
   "execution_count": null
  },
  {
   "cell_type": "markdown",
   "source": [
    "but we can also swap the roles of the colors"
   ],
   "metadata": {}
  },
  {
   "outputs": [],
   "cell_type": "code",
   "source": [
    "draw(homomorphisms(sq, esym)[2])"
   ],
   "metadata": {},
   "execution_count": null
  },
  {
   "cell_type": "markdown",
   "source": [
    "### Exercise:\n",
    "1. Construct a graph representation of a checkerboard\n",
    "2. Draw the two bipartitions of the checkerboard"
   ],
   "metadata": {}
  },
  {
   "cell_type": "markdown",
   "source": [
    "We can generalize the notion of Bipartite graph to any number of parts. I like to call Kₖ the k-coloring classifier because homomorphims into α:G → Kₖ are k-colorings of G."
   ],
   "metadata": {}
  },
  {
   "outputs": [],
   "cell_type": "code",
   "source": [
    "clique(k::Int) = begin\n",
    "    Kₖ = Graph(k)\n",
    "    for i in 1:k\n",
    "        for j in 1:k\n",
    "            if j ≠ i\n",
    "                add_parts!(Kₖ, :E, 1, src=i, tgt=j)\n",
    "            end\n",
    "        end\n",
    "    end\n",
    "    return Kₖ\n",
    "end\n",
    "\n",
    "K₃ = clique(3)\n",
    "draw(id(K₃))"
   ],
   "metadata": {},
   "execution_count": null
  },
  {
   "cell_type": "markdown",
   "source": [
    "Our graph T is not 2-colorable,"
   ],
   "metadata": {}
  },
  {
   "outputs": [],
   "cell_type": "code",
   "source": [
    "length(homomorphisms(T, esym))"
   ],
   "metadata": {},
   "execution_count": null
  },
  {
   "cell_type": "markdown",
   "source": [
    "but we can use 3 colors to color T."
   ],
   "metadata": {}
  },
  {
   "outputs": [],
   "cell_type": "code",
   "source": [
    "draw(homomorphism(T, K₃))"
   ],
   "metadata": {},
   "execution_count": null
  },
  {
   "cell_type": "markdown",
   "source": [
    "### Exercise:\n",
    "1. Find a graph that is not 3-colorable\n",
    "2. Find a graph that is not 4-colorable"
   ],
   "metadata": {}
  },
  {
   "cell_type": "markdown",
   "source": [
    "## Homomorphisms in [C, Set] are like Types\n",
    "Any graph can play the role of the codomain. If you pick a graph that is incomplete, you get a more constrained notion of coloring where there are color combinations that are forbidden."
   ],
   "metadata": {}
  },
  {
   "outputs": [],
   "cell_type": "code",
   "source": [
    "triloop = @acset Graph begin\n",
    "    V = 3\n",
    "    E = 3\n",
    "    src = [1,2,3]\n",
    "    tgt = [2,3,1]\n",
    "end\n",
    "\n",
    "draw(id(triloop))"
   ],
   "metadata": {},
   "execution_count": null
  },
  {
   "cell_type": "markdown",
   "source": [
    "With this graph, we can pick out directed 3-cycles in a graph like T2,"
   ],
   "metadata": {}
  },
  {
   "outputs": [],
   "cell_type": "code",
   "source": [
    "T2 = @acset Graph begin\n",
    "    V = 6\n",
    "    E = 6\n",
    "    src = [1,2,3,4,5,6]\n",
    "    tgt = [2,3,1,5,6,4]\n",
    "end\n",
    "graphhoms(T2, triloop)"
   ],
   "metadata": {},
   "execution_count": null
  },
  {
   "cell_type": "markdown",
   "source": [
    "and we can draw those cyclic roles with colors"
   ],
   "metadata": {}
  },
  {
   "outputs": [],
   "cell_type": "code",
   "source": [
    "draw(homomorphisms(T2, triloop)[1])\n",
    "\n",
    "T3 = @acset Graph begin\n",
    "    V = 6\n",
    "    E = 7\n",
    "    src = [1,2,3,4,5,6, 2]\n",
    "    tgt = [2,3,1,5,6,4, 4]\n",
    "end\n",
    "graphhoms(T3, triloop)"
   ],
   "metadata": {},
   "execution_count": null
  },
  {
   "cell_type": "markdown",
   "source": [
    "Using the colors as shown:"
   ],
   "metadata": {}
  },
  {
   "outputs": [],
   "cell_type": "code",
   "source": [
    "draw(id(triloop))"
   ],
   "metadata": {},
   "execution_count": null
  },
  {
   "cell_type": "markdown",
   "source": [
    "We can see our coloring of T3:"
   ],
   "metadata": {}
  },
  {
   "outputs": [],
   "cell_type": "code",
   "source": [
    "draw(homomorphisms(T3, triloop)[1])"
   ],
   "metadata": {},
   "execution_count": null
  }
 ],
 "nbformat_minor": 3,
 "metadata": {
  "language_info": {
   "file_extension": ".jl",
   "mimetype": "application/julia",
   "name": "julia",
   "version": "1.10.3"
  },
  "kernelspec": {
   "name": "julia-1.10",
   "display_name": "Julia 1.10.3",
   "language": "julia"
  }
 },
 "nbformat": 4
}
