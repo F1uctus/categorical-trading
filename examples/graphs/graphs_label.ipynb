{
 "cells": [
  {
   "cell_type": "markdown",
   "source": [
    "# Labeled Graphs\n",
    "This example demonstrates how to define new C-Sets from existing C-Sets via the example of adding labels to a graph. We treat labels as members of an arbitrary FinSet of labels rather than a data attribute for pedagogical reasons. When you think of graphs where the labels are numbers, colors, or values of some kind, you would want to make them attributes. The motivation for this example is to be the simplest extension to the theory of graphs that you could possibly make."
   ],
   "metadata": {}
  },
  {
   "outputs": [],
   "cell_type": "code",
   "source": [
    "using Catlab.Theories, Catlab.CategoricalAlgebra\n",
    "using Catlab.Graphs, Catlab.Graphics\n",
    "\n",
    "using Colors\n",
    "draw(g) = to_graphviz(g, node_labels=true, edge_labels=true)"
   ],
   "metadata": {},
   "execution_count": null
  },
  {
   "cell_type": "markdown",
   "source": [
    "We start with the theory of graphs, which is copied from `Catlab.Graphs.BasicGraphs`. The two objects are the edges and vertices and we have two functions `src,tgt` that assign to every edge the source vertex and target vertex respectively. Functors from this category to Set (diagrams in Set of this shape) are category theoretic graphs (directed multigraphs)."
   ],
   "metadata": {}
  },
  {
   "outputs": [],
   "cell_type": "code",
   "source": [
    "@present SchGraph(FreeSchema) begin\n",
    "  V::Ob\n",
    "  E::Ob\n",
    "  src::Hom(E,V)\n",
    "  tgt::Hom(E,V)\n",
    "end\n",
    "\n",
    "to_graphviz(SchGraph)"
   ],
   "metadata": {},
   "execution_count": null
  },
  {
   "cell_type": "markdown",
   "source": [
    "To the theory of graphs we want to add a set of labels `L` and map that assigns to every vertex to its label in `L`."
   ],
   "metadata": {}
  },
  {
   "outputs": [],
   "cell_type": "code",
   "source": [
    "@present SchLGraph <: SchGraph begin\n",
    "  L::Ob\n",
    "  label::Hom(V,L)\n",
    "end\n",
    "\n",
    "to_graphviz(SchLGraph)"
   ],
   "metadata": {},
   "execution_count": null
  },
  {
   "cell_type": "markdown",
   "source": [
    "Catlab will automatically generate all the data structure and algorithms (storing, mutating, serializing, etc.) our `LGraphs` for us. This snippet declares that the Julia type `LGraph` should be composed of objects of the functor category `SchLGraph → Skel(FinSet)`, where `Skel(FinSet)` is the subcategory of Set containing finite sets of form `1:n`. We want our Julia type `LGraph` to inherit from the type `AbstractGraph` so that we can run graph algorithms on it. And we want the generated data structures to make an index of the maps `src`, `tgt`, and `label` so that looking up the in and outneighbors of vertex is fast and accessing all vertices by label is also fast.\n",
    "\n",
    "**Note**: This schema differs from that of `LabeledGraph` in `Catlab.Graphs` by making the label type an object (`Ob`) rather than attribute type (`AttrType`). In this case, the set of labels can vary from instance to instance and homomorphisms can rename labels; in the other case, the set of labels is fixed by a Julia type, such as `Int` or `Symbol`, and label values must be strictly preserved homomorphisms. The graph theory literature does not always distinguish very carefully between these two cases."
   ],
   "metadata": {}
  },
  {
   "outputs": [],
   "cell_type": "code",
   "source": [
    "@acset_type LGraph(SchLGraph, index=[:src,:tgt,:label]) <: AbstractGraph"
   ],
   "metadata": {},
   "execution_count": null
  },
  {
   "cell_type": "markdown",
   "source": [
    "We need to tell Catlab how to convert our `LGraph` type into the normal `Graph` type by taking just the edges and vertices. This could be computed with Functorial Data Migration, but that is left for another sketch."
   ],
   "metadata": {}
  },
  {
   "outputs": [],
   "cell_type": "code",
   "source": [
    "to_graph(g::LGraph) = begin\n",
    "  h = Graph(nparts(g,:V))\n",
    "  for e in edges(g)\n",
    "    add_edge!(h, g[e, :src], g[e,:tgt])\n",
    "  end\n",
    "  return h\n",
    "end"
   ],
   "metadata": {},
   "execution_count": null
  },
  {
   "cell_type": "markdown",
   "source": [
    "Graphviz doesn't automatically know how we want to draw the labels, so we have to explicitly provide code that converts them to colors on the vertices. Note that we aren't calling these colored graphs, because that would imply some connectivity constraints on which vertices are allowed to be colored with the same colors. These labels are arbitrary, but we use color to visually encode them."
   ],
   "metadata": {}
  },
  {
   "outputs": [],
   "cell_type": "code",
   "source": [
    "GraphvizGraphs.to_graphviz(g::LGraph; kw...) =\n",
    "  to_graphviz(to_graphviz_property_graph(g; kw...))\n",
    "\n",
    "function GraphvizGraphs.to_graphviz_property_graph(g::LGraph; kw...)\n",
    "  h = to_graph(g)\n",
    "  pg = to_graphviz_property_graph(h; kw...)\n",
    "  vcolors = hex.(range(colorant\"#0021A5\", stop=colorant\"#FA4616\", length=nparts(g, :L)))\n",
    "  for v in vertices(g)\n",
    "    l = g[v, :label]\n",
    "    set_vprops!(pg, v, Dict(:color => \"#$(vcolors[l])\"))\n",
    "  end\n",
    "  pg\n",
    "end\n",
    "\n",
    "draw(G::LGraph) = to_graphviz(G, node_labels=true, edge_labels=true)"
   ],
   "metadata": {},
   "execution_count": null
  },
  {
   "cell_type": "markdown",
   "source": [
    "Now we can start making some `LGraph` instances."
   ],
   "metadata": {}
  },
  {
   "outputs": [],
   "cell_type": "code",
   "source": [
    "G = @acset LGraph begin\n",
    "  V = 4\n",
    "  E = 4\n",
    "  L = 4\n",
    "  src = [1,1,2,3]\n",
    "  tgt = [2,3,4,4]\n",
    "  label = [1,2,3,4]\n",
    "end\n",
    "\n",
    "draw(G)"
   ],
   "metadata": {},
   "execution_count": null
  },
  {
   "cell_type": "markdown",
   "source": [
    "The graph `G` has a 1-1 map between vertices and labels. That isn't necessary."
   ],
   "metadata": {}
  },
  {
   "outputs": [],
   "cell_type": "code",
   "source": [
    "H = @acset LGraph begin\n",
    "  V = 4\n",
    "  E = 4\n",
    "  L = 3\n",
    "  src = [1,1,2,3]\n",
    "  tgt = [2,3,4,4]\n",
    "  label = [1,2,2,3]\n",
    "end\n",
    "\n",
    "draw(H)"
   ],
   "metadata": {},
   "execution_count": null
  },
  {
   "cell_type": "markdown",
   "source": [
    "We can look at some homomorphisms from G to H by their action on the labels or on the vertices."
   ],
   "metadata": {}
  },
  {
   "outputs": [],
   "cell_type": "code",
   "source": [
    "homsᵥ(G,H) = map(α -> α[:V], homomorphisms(G, H))\n",
    "homsₗ(G,H) = map(α -> α[:L], homomorphisms(G, H))"
   ],
   "metadata": {},
   "execution_count": null
  },
  {
   "cell_type": "markdown",
   "source": [
    "αₗ: G→ H"
   ],
   "metadata": {}
  },
  {
   "outputs": [],
   "cell_type": "code",
   "source": [
    "homsₗ(G,H)"
   ],
   "metadata": {},
   "execution_count": null
  },
  {
   "cell_type": "markdown",
   "source": [
    "αᵥ: G→ H"
   ],
   "metadata": {}
  },
  {
   "outputs": [],
   "cell_type": "code",
   "source": [
    "homsᵥ(G,H)"
   ],
   "metadata": {},
   "execution_count": null
  },
  {
   "cell_type": "markdown",
   "source": [
    "Note that if we reverse the direction of our homomorphism search, we get fewer matches even though the two `LGraph`s are isomorphic as graphs. The fact that in `H` vertex two and three are the same label means we have to send them to the same vertex in `G`."
   ],
   "metadata": {}
  },
  {
   "outputs": [],
   "cell_type": "code",
   "source": [
    "homsᵥ(H,G)"
   ],
   "metadata": {},
   "execution_count": null
  },
  {
   "cell_type": "markdown",
   "source": [
    "We can build some bigger examples like A."
   ],
   "metadata": {}
  },
  {
   "outputs": [],
   "cell_type": "code",
   "source": [
    "A = @acset LGraph begin\n",
    "  V = 6\n",
    "  E = 7\n",
    "  L = 3\n",
    "  src = [1,1,2,3,2,5,4]\n",
    "  tgt = [2,3,4,4,5,6,6]\n",
    "  label = [1,2,2,3,2,3]\n",
    "end\n",
    "draw(A)"
   ],
   "metadata": {},
   "execution_count": null
  },
  {
   "cell_type": "markdown",
   "source": [
    "and B."
   ],
   "metadata": {}
  },
  {
   "outputs": [],
   "cell_type": "code",
   "source": [
    "B = @acset LGraph begin\n",
    "  V = 6\n",
    "  E = 7\n",
    "  L = 4\n",
    "  src = [1,1,2,3,2,5,4]\n",
    "  tgt = [2,3,4,4,5,6,6]\n",
    "  label = [1,2,4,3,2,3]\n",
    "end\n",
    "draw(B)"
   ],
   "metadata": {},
   "execution_count": null
  },
  {
   "cell_type": "markdown",
   "source": [
    "The morphisms from A to B and B to A are also different, showing how the labels affect the structure in this category."
   ],
   "metadata": {}
  },
  {
   "outputs": [],
   "cell_type": "code",
   "source": [
    "homsᵥ(A,B)"
   ],
   "metadata": {},
   "execution_count": null
  },
  {
   "cell_type": "markdown",
   "source": [
    "There are more morphisms from B to A than A to B."
   ],
   "metadata": {}
  },
  {
   "outputs": [],
   "cell_type": "code",
   "source": [
    "homsᵥ(B,A)"
   ],
   "metadata": {},
   "execution_count": null
  },
  {
   "cell_type": "markdown",
   "source": [
    "There are two automorphisms on A"
   ],
   "metadata": {}
  },
  {
   "outputs": [],
   "cell_type": "code",
   "source": [
    "homsᵥ(A,A)"
   ],
   "metadata": {},
   "execution_count": null
  },
  {
   "cell_type": "markdown",
   "source": [
    "And two automorphisms on B"
   ],
   "metadata": {}
  },
  {
   "outputs": [],
   "cell_type": "code",
   "source": [
    "homsᵥ(B,B)"
   ],
   "metadata": {},
   "execution_count": null
  },
  {
   "cell_type": "markdown",
   "source": [
    "But if we forget about the labels and look at the automorphisms of the underlying graph, we get more automorphisms!"
   ],
   "metadata": {}
  },
  {
   "outputs": [],
   "cell_type": "code",
   "source": [
    "A₀ = to_graph(A)\n",
    "homsᵥ(A₀, A₀)"
   ],
   "metadata": {},
   "execution_count": null
  },
  {
   "cell_type": "markdown",
   "source": [
    "## Limits and Composition by Multiplication\n",
    "Catlab has an implementation of limits for any C-Sets over any schema. So, we can just ask about labeled graphs. Notice that we get more distinct colors in the product than in either initial graph. This is because the labels of the product are pairs of labels from the factors. If `G` has `n` colors and `H` has `m` colors `G×H` will have `n×m` colors."
   ],
   "metadata": {}
  },
  {
   "outputs": [],
   "cell_type": "code",
   "source": [
    "draw(apex(product(G,G)))"
   ],
   "metadata": {},
   "execution_count": null
  },
  {
   "cell_type": "markdown",
   "source": [
    "The graph above looks weirdly disconnected and probably wasn't what you expected to see as the product. When we compose with products, we often want to add the reflexive edges in order to get the expected notion of product."
   ],
   "metadata": {}
  },
  {
   "outputs": [],
   "cell_type": "code",
   "source": [
    "add_loops!(G::LGraph) = begin\n",
    "  for v in parts(G,:V)\n",
    "    add_edge!(G, v,v)\n",
    "  end\n",
    "  return G\n",
    "end\n",
    "add_loops(G::LGraph) = add_loops!(copy(G))\n",
    "\n",
    "Gᵣ = add_loops(G)\n",
    "P = apex(product(Gᵣ, G))\n",
    "draw(apex(product(Gᵣ, G)))"
   ],
   "metadata": {},
   "execution_count": null
  },
  {
   "cell_type": "markdown",
   "source": [
    "We can look at the shape of commuting triangle, which is our favorite 3-vertex graph."
   ],
   "metadata": {}
  },
  {
   "outputs": [],
   "cell_type": "code",
   "source": [
    "T = @acset LGraph begin\n",
    "  V = 3\n",
    "  E = 3\n",
    "  L = 3\n",
    "  src = [1,1,2]\n",
    "  tgt = [2,3,3]\n",
    "  label = [1,2,3]\n",
    "end\n",
    "Tᵣ = add_loops(T)\n",
    "draw(Tᵣ)\n",
    "\n",
    "E = @acset LGraph begin\n",
    "  V = 2\n",
    "  E = 1\n",
    "  L = 2\n",
    "  src = [1]\n",
    "  tgt = [2]\n",
    "  label = [1,2]\n",
    "end\n",
    "Eᵣ = add_loops(E)\n",
    "draw(Eᵣ)"
   ],
   "metadata": {},
   "execution_count": null
  },
  {
   "cell_type": "markdown",
   "source": [
    "We can draw the product of the edge graph and the triangle graph to get the shape of a triangular prism. You can view this product as extruding `Tᵣ` along `Eᵣ`. Catlab provides a `ReflexiveGraph` as a type that handles these self-loops more intelligently than we are here. Graphviz struggles with the layout here because the product graph will include edges that are a step in both directions. This [blog post](https://www.algebraicjulia.org/blog/post/2021/04/cset-graphs-3/) does a good job explaining products in differnt kinds of graph categories."
   ],
   "metadata": {}
  },
  {
   "outputs": [],
   "cell_type": "code",
   "source": [
    "draw(apex(product(Tᵣ,Eᵣ)))\n",
    "legs(product(Tᵣ, Eᵣ))[1][:V] |> collect"
   ],
   "metadata": {},
   "execution_count": null
  },
  {
   "cell_type": "markdown",
   "source": [
    "Another limit is the pullback. If you have a cospan, which is a diagram of the shape `X ⟶ A ⟵ Y`, you can pull back one arrow along the other by solving a system of equations."
   ],
   "metadata": {}
  },
  {
   "outputs": [],
   "cell_type": "code",
   "source": [
    "PB₂₂ = pullback(homomorphisms(Tᵣ,Eᵣ)[2],homomorphisms(Tᵣ,Eᵣ)[2]);\n",
    "draw(apex(PB₂₂))"
   ],
   "metadata": {},
   "execution_count": null
  },
  {
   "cell_type": "markdown",
   "source": [
    "Note that the pullback depends not only on X,A,Y but also on the two arrows. You can play around with the choice of morphisms to gain an intuition of how the pullback depends on the morphisms."
   ],
   "metadata": {}
  },
  {
   "outputs": [],
   "cell_type": "code",
   "source": [
    "PB₂₃ = pullback(homomorphisms(Tᵣ,Eᵣ)[2],homomorphisms(Tᵣ,Eᵣ)[3]);\n",
    "draw(apex(PB₂₃))"
   ],
   "metadata": {},
   "execution_count": null
  },
  {
   "cell_type": "markdown",
   "source": [
    "By constructions, the pullback is always a subobject (monic homomorphism) into the product. Catlab can enumerate all such monoic homs."
   ],
   "metadata": {}
  },
  {
   "outputs": [],
   "cell_type": "code",
   "source": [
    "homomorphisms(apex(PB₂₂), apex(product(Tᵣ,Tᵣ)), monic=true) |> length"
   ],
   "metadata": {},
   "execution_count": null
  },
  {
   "cell_type": "markdown",
   "source": [
    "## Colimits and Composition by Glueing\n",
    "The dual concept to limits is colimits and if limits have vibes of taking all pairs that satisfy certain constraints, colimits have the vibes of designers just gluing stuff together to make it work."
   ],
   "metadata": {}
  },
  {
   "cell_type": "markdown",
   "source": [
    "In order to illustrate this we will be gluing triangles together to make a mesh. We start by defining the point `X`, which is the shape of the boundary along which we will glue and the morphism `ℓ₁`, which is the place in `T` that we consider as the boundary."
   ],
   "metadata": {}
  },
  {
   "outputs": [],
   "cell_type": "code",
   "source": [
    "X = @acset LGraph begin\n",
    "  E = 0\n",
    "  V = 1\n",
    "  L = 3\n",
    "  label=[2]\n",
    "end\n",
    "ℓ₁ = ACSetTransformation(X,T, V=[2],L=1:3)\n",
    "draw(X)"
   ],
   "metadata": {},
   "execution_count": null
  },
  {
   "cell_type": "markdown",
   "source": [
    "We have to check that the morphism is valid before we go and compute out pushout."
   ],
   "metadata": {}
  },
  {
   "outputs": [],
   "cell_type": "code",
   "source": [
    "is_natural(ℓ₁)\n",
    "P = pushout(ℓ₁, ℓ₁)\n",
    "draw(apex(P))"
   ],
   "metadata": {},
   "execution_count": null
  },
  {
   "cell_type": "markdown",
   "source": [
    "Now we want to repeat the gluing process to get a bigger mesh. So we are going to need a bigger interface."
   ],
   "metadata": {}
  },
  {
   "outputs": [],
   "cell_type": "code",
   "source": [
    "I = @acset LGraph begin\n",
    "  V = 2\n",
    "  L = 3\n",
    "  label = [1,1]\n",
    "end\n",
    "draw(I)"
   ],
   "metadata": {},
   "execution_count": null
  },
  {
   "cell_type": "markdown",
   "source": [
    "We have to specify how this interface embeds into both of the things we want to glue. In this case we are gluing a copy of `P` onto itself."
   ],
   "metadata": {}
  },
  {
   "outputs": [],
   "cell_type": "code",
   "source": [
    "ll = ACSetTransformation(I, apex(P), V=[3,5], L =[3,1,2])\n",
    "is_natural(ll)\n",
    "lr = ACSetTransformation(I, apex(P), V=[1,4], L =[1,3,2])\n",
    "is_natural(lr)\n",
    "P₂ = pushout(ll, lr);\n",
    "draw(apex(P₂))"
   ],
   "metadata": {},
   "execution_count": null
  }
 ],
 "nbformat_minor": 3,
 "metadata": {
  "language_info": {
   "file_extension": ".jl",
   "mimetype": "application/julia",
   "name": "julia",
   "version": "1.10.3"
  },
  "kernelspec": {
   "name": "julia-1.10",
   "display_name": "Julia 1.10.3",
   "language": "julia"
  }
 },
 "nbformat": 4
}
