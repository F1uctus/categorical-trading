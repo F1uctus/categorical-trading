{
 "cells": [
  {
   "cell_type": "markdown",
   "id": "a7b658ab",
   "metadata": {
    "papermill": {
     "duration": 0.00701,
     "end_time": "2024-06-01T01:51:48.376321",
     "exception": false,
     "start_time": "2024-06-01T01:51:48.369311",
     "status": "completed"
    },
    "tags": []
   },
   "source": [
    "# Layouts versus drawings of wiring diagrams\n",
    "\n",
    "\n",
    "In Catlab, layout and drawing (rendering) of wiring diagrams are mostly\n",
    "decoupled. This notebook shows how to lay out diagrams using Graphviz's\n",
    "rank-based layout or Catlab's series-parallel layout and then render them\n",
    "using Compose.jl or TikZ."
   ]
  },
  {
   "cell_type": "markdown",
   "id": "00915824",
   "metadata": {
    "papermill": {
     "duration": 0.006854,
     "end_time": "2024-06-01T01:51:48.389730",
     "exception": false,
     "start_time": "2024-06-01T01:51:48.382876",
     "status": "completed"
    },
    "tags": []
   },
   "source": [
    "The morphism we will visualize is:"
   ]
  },
  {
   "cell_type": "code",
   "execution_count": 1,
   "id": "81cb3721",
   "metadata": {
    "execution": {
     "iopub.execute_input": "2024-06-01T01:51:49.135000Z",
     "iopub.status.busy": "2024-06-01T01:51:48.406000Z",
     "iopub.status.idle": "2024-06-01T01:51:53.757000Z",
     "shell.execute_reply": "2024-06-01T01:51:53.733000Z"
    },
    "papermill": {
     "duration": 5.35937,
     "end_time": "2024-06-01T01:51:53.758836",
     "exception": false,
     "start_time": "2024-06-01T01:51:48.399466",
     "status": "completed"
    },
    "tags": []
   },
   "outputs": [
    {
     "data": {
      "text/latex": [
       "$f \\otimes \\left(f \\cdot g\\right) \\otimes \\left(f \\cdot g \\cdot h\\right) : X \\otimes X \\otimes X \\to X \\otimes X \\otimes X$"
      ],
      "text/plain": [
       "f⊗(f⋅g)⊗(f⋅g⋅h): X⊗X⊗X → X⊗X⊗X"
      ]
     },
     "execution_count": 1,
     "metadata": {},
     "output_type": "execute_result"
    }
   ],
   "source": [
    "using Catlab.Theories\n",
    "\n",
    "X = Ob(FreeSymmetricMonoidalCategory, :X)\n",
    "f, g, h = (Hom(sym, X, X) for sym in (:f, :g, :h))\n",
    "\n",
    "expr = otimes(f, compose(f,g), compose(f,g,h))"
   ]
  },
  {
   "cell_type": "markdown",
   "id": "c60b6a0d",
   "metadata": {
    "papermill": {
     "duration": 0.009979,
     "end_time": "2024-06-01T01:51:53.776506",
     "exception": false,
     "start_time": "2024-06-01T01:51:53.766527",
     "status": "completed"
    },
    "tags": []
   },
   "source": [
    "Let's convert this expression into a wiring diagram. This yields a purely\n",
    "combinatorial object, as evidenced by its underlying graph."
   ]
  },
  {
   "cell_type": "code",
   "execution_count": 2,
   "id": "92e3a441",
   "metadata": {
    "execution": {
     "iopub.execute_input": "2024-06-01T01:51:54.031000Z",
     "iopub.status.busy": "2024-06-01T01:51:53.790000Z"
    },
    "papermill": {
     "duration": 15.299218,
     "end_time": "2024-06-01T01:52:09.082669",
     "exception": false,
     "start_time": "2024-06-01T01:51:53.783451",
     "status": "completed"
    },
    "tags": []
   },
   "outputs": [],
   "source": [
    "using Catlab.WiringDiagrams, Catlab.Graphics\n",
    "\n",
    "diagram = to_wiring_diagram(expr)\n",
    "WiringDiagrams.graph(diagram)"
   ]
  },
  {
   "cell_type": "markdown",
   "id": "8a3ff560",
   "metadata": {
    "papermill": {
     "duration": null,
     "end_time": null,
     "exception": null,
     "start_time": null,
     "status": "completed"
    },
    "tags": []
   },
   "source": [
    "## Graphviz layout"
   ]
  },
  {
   "cell_type": "markdown",
   "id": "6c5d0624",
   "metadata": {
    "papermill": {
     "duration": null,
     "end_time": null,
     "exception": null,
     "start_time": null,
     "status": "completed"
    },
    "tags": []
   },
   "source": [
    "Calling `to_graphviz` both lays out and draws the diagram, entirely within\n",
    "Graphviz."
   ]
  },
  {
   "cell_type": "code",
   "execution_count": null,
   "id": "eb4ae40b",
   "metadata": {
    "papermill": {
     "duration": null,
     "end_time": null,
     "exception": null,
     "start_time": null,
     "status": "completed"
    },
    "tags": []
   },
   "outputs": [],
   "source": [
    "to_graphviz(diagram, orientation=LeftToRight)"
   ]
  },
  {
   "cell_type": "markdown",
   "id": "cec76eea",
   "metadata": {
    "papermill": {
     "duration": null,
     "end_time": null,
     "exception": null,
     "start_time": null,
     "status": "completed"
    },
    "tags": []
   },
   "source": [
    "To get just the layout from Graphviz, we call `graphviz_layout` instead. We\n",
    "can then render this layout using Compose.jl. Note that the Graphviz layout\n",
    "has units in points."
   ]
  },
  {
   "cell_type": "code",
   "execution_count": null,
   "id": "6315c1e9",
   "metadata": {
    "papermill": {
     "duration": null,
     "end_time": null,
     "exception": null,
     "start_time": null,
     "status": "completed"
    },
    "tags": []
   },
   "outputs": [],
   "source": [
    "import Compose\n",
    "\n",
    "layout = graphviz_layout(diagram, orientation=LeftToRight)\n",
    "layout_to_composejl(layout, base_unit=Compose.pt)"
   ]
  },
  {
   "cell_type": "markdown",
   "id": "bde4b558",
   "metadata": {
    "papermill": {
     "duration": null,
     "end_time": null,
     "exception": null,
     "start_time": null,
     "status": "completed"
    },
    "tags": []
   },
   "source": [
    "The same layout can be rendered in TikZ:"
   ]
  },
  {
   "cell_type": "code",
   "execution_count": null,
   "id": "2b412335",
   "metadata": {
    "papermill": {
     "duration": null,
     "end_time": null,
     "exception": null,
     "start_time": null,
     "status": "completed"
    },
    "tags": []
   },
   "outputs": [],
   "source": [
    "import TikzPictures\n",
    "\n",
    "layout_to_tikz(layout, base_unit=\"1pt\")"
   ]
  },
  {
   "cell_type": "markdown",
   "id": "112bfcff",
   "metadata": {
    "papermill": {
     "duration": null,
     "end_time": null,
     "exception": null,
     "start_time": null,
     "status": "completed"
    },
    "tags": []
   },
   "source": [
    "## Series-parallel layout"
   ]
  },
  {
   "cell_type": "markdown",
   "id": "5a8f0117",
   "metadata": {
    "papermill": {
     "duration": null,
     "end_time": null,
     "exception": null,
     "start_time": null,
     "status": "completed"
    },
    "tags": []
   },
   "source": [
    "Catlab has its own layout system based on series-parallel decomposition. In\n",
    "this case, the layout exactly recovers the structure of the morphism\n",
    "expression created at the beginning."
   ]
  },
  {
   "cell_type": "code",
   "execution_count": null,
   "id": "7c2a8888",
   "metadata": {
    "papermill": {
     "duration": null,
     "end_time": null,
     "exception": null,
     "start_time": null,
     "status": "completed"
    },
    "tags": []
   },
   "outputs": [],
   "source": [
    "layout = layout_diagram(FreeSymmetricMonoidalCategory, diagram,\n",
    "                        orientation=LeftToRight)\n",
    "layout_to_composejl(layout)"
   ]
  },
  {
   "cell_type": "code",
   "execution_count": null,
   "id": "3fbee6fc",
   "metadata": {
    "papermill": {
     "duration": null,
     "end_time": null,
     "exception": null,
     "start_time": null,
     "status": "completed"
    },
    "tags": []
   },
   "outputs": [],
   "source": [
    "layout_to_tikz(layout)"
   ]
  }
 ],
 "metadata": {
  "kernelspec": {
   "display_name": "Julia 1.10.3",
   "language": "julia",
   "name": "julia-1.10"
  },
  "language_info": {
   "file_extension": ".jl",
   "mimetype": "application/julia",
   "name": "julia",
   "version": "1.10.3"
  },
  "papermill": {
   "default_parameters": {},
   "duration": 25.153248,
   "end_time": "2024-06-01T01:52:09.856139",
   "environment_variables": {},
   "exception": null,
   "input_path": "examples/graphics/layouts_vs_drawings.ipynb",
   "output_path": "examples/graphics/layouts_vs_drawings.ipynb",
   "parameters": {},
   "start_time": "2024-06-01T01:51:44.702891",
   "version": "2.6.0"
  }
 },
 "nbformat": 4,
 "nbformat_minor": 5
}