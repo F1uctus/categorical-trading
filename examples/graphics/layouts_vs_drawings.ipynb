{
 "cells": [
  {
   "cell_type": "markdown",
   "source": [
    "# Layouts versus drawings of wiring diagrams\n",
    "\n",
    "\n",
    "In Catlab, layout and drawing (rendering) of wiring diagrams are mostly\n",
    "decoupled. This notebook shows how to lay out diagrams using Graphviz's\n",
    "rank-based layout or Catlab's series-parallel layout and then render them\n",
    "using Compose.jl or TikZ."
   ],
   "metadata": {}
  },
  {
   "cell_type": "markdown",
   "source": [
    "The morphism we will visualize is:"
   ],
   "metadata": {}
  },
  {
   "outputs": [],
   "cell_type": "code",
   "source": [
    "using Catlab.Theories\n",
    "\n",
    "X = Ob(FreeSymmetricMonoidalCategory, :X)\n",
    "f, g, h = (Hom(sym, X, X) for sym in (:f, :g, :h))\n",
    "\n",
    "expr = otimes(f, compose(f,g), compose(f,g,h))"
   ],
   "metadata": {},
   "execution_count": null
  },
  {
   "cell_type": "markdown",
   "source": [
    "Let's convert this expression into a wiring diagram. This yields a purely\n",
    "combinatorial object, as evidenced by its underlying graph."
   ],
   "metadata": {}
  },
  {
   "outputs": [],
   "cell_type": "code",
   "source": [
    "using Catlab.WiringDiagrams, Catlab.Graphics\n",
    "\n",
    "diagram = to_wiring_diagram(expr)\n",
    "WiringDiagrams.graph(diagram)"
   ],
   "metadata": {},
   "execution_count": null
  },
  {
   "cell_type": "markdown",
   "source": [
    "## Graphviz layout"
   ],
   "metadata": {}
  },
  {
   "cell_type": "markdown",
   "source": [
    "Calling `to_graphviz` both lays out and draws the diagram, entirely within\n",
    "Graphviz."
   ],
   "metadata": {}
  },
  {
   "outputs": [],
   "cell_type": "code",
   "source": [
    "to_graphviz(diagram, orientation=LeftToRight)"
   ],
   "metadata": {},
   "execution_count": null
  },
  {
   "cell_type": "markdown",
   "source": [
    "To get just the layout from Graphviz, we call `graphviz_layout` instead. We\n",
    "can then render this layout using Compose.jl. Note that the Graphviz layout\n",
    "has units in points."
   ],
   "metadata": {}
  },
  {
   "outputs": [],
   "cell_type": "code",
   "source": [
    "import Compose\n",
    "\n",
    "layout = graphviz_layout(diagram, orientation=LeftToRight)\n",
    "layout_to_composejl(layout, base_unit=Compose.pt)"
   ],
   "metadata": {},
   "execution_count": null
  },
  {
   "cell_type": "markdown",
   "source": [
    "The same layout can be rendered in TikZ:"
   ],
   "metadata": {}
  },
  {
   "outputs": [],
   "cell_type": "code",
   "source": [
    "import TikzPictures\n",
    "\n",
    "layout_to_tikz(layout, base_unit=\"1pt\")"
   ],
   "metadata": {},
   "execution_count": null
  },
  {
   "cell_type": "markdown",
   "source": [
    "## Series-parallel layout"
   ],
   "metadata": {}
  },
  {
   "cell_type": "markdown",
   "source": [
    "Catlab has its own layout system based on series-parallel decomposition. In\n",
    "this case, the layout exactly recovers the structure of the morphism\n",
    "expression created at the beginning."
   ],
   "metadata": {}
  },
  {
   "outputs": [],
   "cell_type": "code",
   "source": [
    "layout = layout_diagram(FreeSymmetricMonoidalCategory, diagram,\n",
    "                        orientation=LeftToRight)\n",
    "layout_to_composejl(layout)"
   ],
   "metadata": {},
   "execution_count": null
  },
  {
   "outputs": [],
   "cell_type": "code",
   "source": [
    "layout_to_tikz(layout)"
   ],
   "metadata": {},
   "execution_count": null
  }
 ],
 "nbformat_minor": 3,
 "metadata": {
  "language_info": {
   "file_extension": ".jl",
   "mimetype": "application/julia",
   "name": "julia",
   "version": "1.10.3"
  },
  "kernelspec": {
   "name": "julia-1.10",
   "display_name": "Julia 1.10.3",
   "language": "julia"
  }
 },
 "nbformat": 4
}
