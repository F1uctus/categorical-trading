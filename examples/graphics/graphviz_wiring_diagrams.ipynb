{
 "cells": [
  {
   "cell_type": "markdown",
   "source": [
    "# Drawing wiring diagrams in Graphviz\n",
    "\n",
    "\n",
    "Catlab can draw wiring diagrams using [Graphviz](https://www.graphviz.org/).\n",
    "Directed wiring diagrams are drawn using the `dot` program and undirected\n",
    "wiring diagrams using `neato` and `fdp`. This feature requires that Graphviz\n",
    "be installed, but does not require any additional Julia packages."
   ],
   "metadata": {}
  },
  {
   "outputs": [],
   "cell_type": "code",
   "source": [
    "using Catlab.WiringDiagrams, Catlab.Graphics"
   ],
   "metadata": {},
   "execution_count": null
  },
  {
   "cell_type": "markdown",
   "source": [
    "## Directed wiring diagrams"
   ],
   "metadata": {}
  },
  {
   "cell_type": "markdown",
   "source": [
    "### Symmetric monoidal category"
   ],
   "metadata": {}
  },
  {
   "outputs": [],
   "cell_type": "code",
   "source": [
    "using Catlab.Theories\n",
    "\n",
    "A, B = Ob(FreeSymmetricMonoidalCategory, :A, :B)\n",
    "f = Hom(:f, A, B)\n",
    "g = Hom(:g, B, A)\n",
    "h = Hom(:h, otimes(A,B), otimes(A,B));"
   ],
   "metadata": {},
   "execution_count": null
  },
  {
   "cell_type": "markdown",
   "source": [
    "To start, here are a few very simple examples."
   ],
   "metadata": {}
  },
  {
   "outputs": [],
   "cell_type": "code",
   "source": [
    "to_graphviz(f)"
   ],
   "metadata": {},
   "execution_count": null
  },
  {
   "outputs": [],
   "cell_type": "code",
   "source": [
    "to_graphviz(compose(f,g))"
   ],
   "metadata": {},
   "execution_count": null
  },
  {
   "outputs": [],
   "cell_type": "code",
   "source": [
    "to_graphviz(otimes(f,g))"
   ],
   "metadata": {},
   "execution_count": null
  },
  {
   "cell_type": "markdown",
   "source": [
    "In the next example, notice how Graphviz automatically \"untwists\" the double\n",
    "braiding to minimize edge crossings."
   ],
   "metadata": {}
  },
  {
   "outputs": [],
   "cell_type": "code",
   "source": [
    "to_graphviz(compose(braid(A,A), otimes(f,f), braid(B,B)))"
   ],
   "metadata": {},
   "execution_count": null
  },
  {
   "cell_type": "markdown",
   "source": [
    "Here is a larger composite morphism."
   ],
   "metadata": {}
  },
  {
   "outputs": [],
   "cell_type": "code",
   "source": [
    "composite = compose(otimes(g,f), h, otimes(f,g))\n",
    "to_graphviz(composite)"
   ],
   "metadata": {},
   "execution_count": null
  },
  {
   "cell_type": "markdown",
   "source": [
    "By default, the wiring diagram is laid out from top to bottom. Other layout\n",
    "orientations can be requested, such as left-to-right or bottom-to-top:"
   ],
   "metadata": {}
  },
  {
   "outputs": [],
   "cell_type": "code",
   "source": [
    "to_graphviz(composite, orientation=LeftToRight)"
   ],
   "metadata": {},
   "execution_count": null
  },
  {
   "outputs": [],
   "cell_type": "code",
   "source": [
    "to_graphviz(composite, orientation=BottomToTop)"
   ],
   "metadata": {},
   "execution_count": null
  },
  {
   "cell_type": "markdown",
   "source": [
    "When working with very large diagrams (larger than the ones shown here), it is\n",
    "sometimes convenient to omit the ports of the outer box and any wires attached\n",
    "to them."
   ],
   "metadata": {}
  },
  {
   "outputs": [],
   "cell_type": "code",
   "source": [
    "to_graphviz(composite, outer_ports=false)"
   ],
   "metadata": {},
   "execution_count": null
  },
  {
   "cell_type": "markdown",
   "source": [
    "### Biproduct category"
   ],
   "metadata": {}
  },
  {
   "outputs": [],
   "cell_type": "code",
   "source": [
    "A, B = Ob(FreeBiproductCategory, :A, :B)\n",
    "f = Hom(:f, A, B)\n",
    "g = Hom(:g, B, A);"
   ],
   "metadata": {},
   "execution_count": null
  },
  {
   "cell_type": "markdown",
   "source": [
    "By default, copies and merges are drawn the way they are represented\n",
    "internally, as multiple wires."
   ],
   "metadata": {}
  },
  {
   "outputs": [],
   "cell_type": "code",
   "source": [
    "f1 = compose(mcopy(A), otimes(f,f))\n",
    "to_graphviz(f1)"
   ],
   "metadata": {},
   "execution_count": null
  },
  {
   "outputs": [],
   "cell_type": "code",
   "source": [
    "f2 = compose(mcopy(A), otimes(f,f), mmerge(B))\n",
    "to_graphviz(f2)"
   ],
   "metadata": {},
   "execution_count": null
  },
  {
   "cell_type": "markdown",
   "source": [
    "To draw nodes for copies and merges, we need to add junctions to the wiring\n",
    "diagram."
   ],
   "metadata": {}
  },
  {
   "outputs": [],
   "cell_type": "code",
   "source": [
    "to_graphviz(add_junctions!(to_wiring_diagram(f1)))"
   ],
   "metadata": {},
   "execution_count": null
  },
  {
   "outputs": [],
   "cell_type": "code",
   "source": [
    "to_graphviz(add_junctions!(to_wiring_diagram(f2)))"
   ],
   "metadata": {},
   "execution_count": null
  },
  {
   "cell_type": "markdown",
   "source": [
    "### Traced monoidal category"
   ],
   "metadata": {}
  },
  {
   "outputs": [],
   "cell_type": "code",
   "source": [
    "A, B, X, Y = Ob(FreeTracedMonoidalCategory, :A, :B, :X, :Y)\n",
    "f = Hom(:f, otimes(X,A), otimes(X,B))\n",
    "\n",
    "to_graphviz(trace(X, A, B, f))"
   ],
   "metadata": {},
   "execution_count": null
  },
  {
   "outputs": [],
   "cell_type": "code",
   "source": [
    "to_graphviz(trace(X, A, B, f), orientation=LeftToRight)"
   ],
   "metadata": {},
   "execution_count": null
  },
  {
   "outputs": [],
   "cell_type": "code",
   "source": [
    "g, h = Hom(:g, A, A), Hom(:h, B, B)\n",
    "\n",
    "trace_naturality = trace(X, A, B, compose(otimes(id(X),g), f, otimes(id(X),h)))\n",
    "to_graphviz(trace_naturality, orientation=LeftToRight)"
   ],
   "metadata": {},
   "execution_count": null
  },
  {
   "cell_type": "markdown",
   "source": [
    "## Undirected wiring diagrams"
   ],
   "metadata": {}
  },
  {
   "cell_type": "markdown",
   "source": [
    "The composite of two binary relations:"
   ],
   "metadata": {}
  },
  {
   "outputs": [],
   "cell_type": "code",
   "source": [
    "using Catlab.Programs: @relation\n",
    "\n",
    "diagram = @relation (x,z) where (x,y,z) begin\n",
    "    R(x,y)\n",
    "    S(y,z)\n",
    "end\n",
    "to_graphviz(diagram, box_labels=:name)"
   ],
   "metadata": {},
   "execution_count": null
  },
  {
   "cell_type": "markdown",
   "source": [
    "A \"wheel\"-shaped composition of relations:"
   ],
   "metadata": {}
  },
  {
   "outputs": [],
   "cell_type": "code",
   "source": [
    "diagram = @relation (x,y,z) where (w,x,y,z) begin\n",
    "    R(x,w)\n",
    "    S(y,w)\n",
    "    T(z,w)\n",
    "end\n",
    "to_graphviz(diagram, box_labels=:name)"
   ],
   "metadata": {},
   "execution_count": null
  },
  {
   "cell_type": "markdown",
   "source": [
    "As these examples show, the `box_labels` keyword argument specifies the data\n",
    "attribute of boxes to use for box labels, if any. The boolean argument\n",
    "`port_labels` controls the labeling of ports by numerical values and the\n",
    "argument `junction_labels` specifies the data attribute of junctions to use\n",
    "for junction labels. Note that the macro `@relation` creates wiring diagrams\n",
    "with `name` attribute for boxes and `variable` attribute for junctions."
   ],
   "metadata": {}
  },
  {
   "outputs": [],
   "cell_type": "code",
   "source": [
    "to_graphviz(diagram, box_labels=:name,\n",
    "            port_labels=false, junction_labels=:variable)"
   ],
   "metadata": {},
   "execution_count": null
  },
  {
   "cell_type": "markdown",
   "source": [
    "By default, all junctions are shown. The keyword argument `implicit_junctions`\n",
    "omits any junctions which have exactly two incident ports."
   ],
   "metadata": {}
  },
  {
   "outputs": [],
   "cell_type": "code",
   "source": [
    "to_graphviz(diagram, box_labels=:name,\n",
    "            port_labels=false, implicit_junctions=true)"
   ],
   "metadata": {},
   "execution_count": null
  },
  {
   "cell_type": "markdown",
   "source": [
    "## Custom styles"
   ],
   "metadata": {}
  },
  {
   "cell_type": "markdown",
   "source": [
    "The visual appearance of wiring diagrams can be customized by setting Graphviz\n",
    "[attributes](https://www.graphviz.org/doc/info/attrs.html) at the graph, node,\n",
    "edge, and cell levels. Graph, node, and edge attributes are described in the\n",
    "Graphviz documentation. Cell attributes are passed to the primary cell of the\n",
    "[HTML-like label](https://www.graphviz.org/doc/info/shapes.html#html) used for\n",
    "the boxes."
   ],
   "metadata": {}
  },
  {
   "outputs": [],
   "cell_type": "code",
   "source": [
    "A, B, C = Ob(FreeSymmetricMonoidalCategory, :A, :B, :C)\n",
    "f, g = Hom(:f, A, B), Hom(:g, B, C)\n",
    "\n",
    "to_graphviz(compose(f,g),\n",
    "  labels = true, label_attr=:headlabel,\n",
    "  node_attrs = Dict(\n",
    "    :fontname => \"Courier\",\n",
    "  ),\n",
    "  edge_attrs = Dict(\n",
    "    :fontname => \"Courier\",\n",
    "    :labelangle => \"25\",\n",
    "    :labeldistance => \"2\",\n",
    "  ),\n",
    "  cell_attrs = Dict(\n",
    "    :bgcolor => \"lavender\",\n",
    "  )\n",
    ")"
   ],
   "metadata": {},
   "execution_count": null
  },
  {
   "cell_type": "markdown",
   "source": [
    "## Output formats"
   ],
   "metadata": {}
  },
  {
   "cell_type": "markdown",
   "source": [
    "The function `to_graphviz` returns an object of a type `Graphviz.Graph`,\n",
    "representing a Graphviz graph as an abstract syntax tree. When displayed\n",
    "interactively, this object is automatically run through Graphviz and rendered\n",
    "as an SVG image. Sometimes it is convenient to perform this process manually,\n",
    "to change the output format or further customize the generated dot file."
   ],
   "metadata": {}
  },
  {
   "cell_type": "markdown",
   "source": [
    "To generate a dot file, use the builtin pretty-printer. This feature does not\n",
    "require Graphviz to be installed."
   ],
   "metadata": {}
  },
  {
   "outputs": [],
   "cell_type": "code",
   "source": [
    "using Catlab.Graphics: Graphviz\n",
    "\n",
    "graph = to_graphviz(compose(f,g))\n",
    "Graphviz.pprint(graph)"
   ],
   "metadata": {},
   "execution_count": null
  },
  {
   "cell_type": "markdown",
   "source": [
    "Catlab provides a simple wrapper around the Graphviz command-line programs.\n",
    "For example, here is the JSON output for the graph."
   ],
   "metadata": {}
  },
  {
   "outputs": [],
   "cell_type": "code",
   "source": [
    "import JSON3\n",
    "\n",
    "JSON3.read(Graphviz.run_graphviz(graph, format=\"json0\"))"
   ],
   "metadata": {},
   "execution_count": null
  }
 ],
 "nbformat_minor": 3,
 "metadata": {
  "language_info": {
   "file_extension": ".jl",
   "mimetype": "application/julia",
   "name": "julia",
   "version": "1.10.3"
  },
  "kernelspec": {
   "name": "julia-1.10",
   "display_name": "Julia 1.10.3",
   "language": "julia"
  }
 },
 "nbformat": 4
}
