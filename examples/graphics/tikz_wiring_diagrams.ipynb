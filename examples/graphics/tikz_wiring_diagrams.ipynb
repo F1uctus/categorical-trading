{
 "cells": [
  {
   "cell_type": "markdown",
   "metadata": {},
   "source": [
    "# Drawing wiring diagrams in TikZ\n",
    "\n",
    "\n",
    "Catlab can draw morphism expressions as TikZ pictures. To use this feature,\n",
    "LaTeX must be installed and the Julia package\n",
    "[TikzPictures.jl](https://github.com/sisl/TikzPictures.jl) must be loaded.\n",
    "\n",
    "For best results, it is recommended to load the packages\n",
    "[Convex.j](https://github.com/JuliaOpt/Convex.jl) and\n",
    "[SCS.jl](https://github.com/JuliaOpt/SCS.jl). When available they are used to\n",
    "optimize the layout of the outer ports."
   ]
  },
  {
   "cell_type": "code",
   "execution_count": 1,
   "metadata": {},
   "outputs": [],
   "source": [
    "using Catlab.WiringDiagrams, Catlab.Graphics\n",
    "\n",
    "import Convex, SCS\n",
    "import TikzPictures"
   ]
  },
  {
   "cell_type": "markdown",
   "metadata": {},
   "source": [
    "## Examples"
   ]
  },
  {
   "cell_type": "markdown",
   "metadata": {},
   "source": [
    "### Symmetric monoidal category"
   ]
  },
  {
   "cell_type": "code",
   "execution_count": 2,
   "metadata": {},
   "outputs": [],
   "source": [
    "using Catlab.Theories\n",
    "\n",
    "A, B, C, D = Ob(FreeSymmetricMonoidalCategory, :A, :B, :C, :D)\n",
    "f, g = Hom(:f, A, B), Hom(:g, B, A);"
   ]
  },
  {
   "cell_type": "markdown",
   "metadata": {},
   "source": [
    "To start, here are a few very simple examples."
   ]
  },
  {
   "cell_type": "code",
   "execution_count": 3,
   "metadata": {},
   "outputs": [
    {
     "data": {
      "image/svg+xml": [
       "<?xml version=\"1.0\" encoding=\"UTF-8\"?>\n",
       "<svg xmlns=\"http://www.w3.org/2000/svg\" xmlns:xlink=\"http://www.w3.org/1999/xlink\" width=\"69.227\" height=\"45.354\" viewBox=\"0 0 69.227 45.354\">\n",
       "<defs>\n",
       "<g>\n",
       "<g id=\"glyph-1717857318698386--0-0\">\n",
       "<path d=\"M 3.609375 -3.9375 L 4.453125 -3.9375 C 4.65625 -3.9375 4.75 -3.9375 4.75 -4.125 C 4.75 -4.234375 4.65625 -4.234375 4.484375 -4.234375 L 3.671875 -4.234375 L 3.875 -5.359375 C 3.90625 -5.5625 4.046875 -6.265625 4.109375 -6.375 C 4.203125 -6.5625 4.359375 -6.71875 4.5625 -6.71875 C 4.609375 -6.71875 4.859375 -6.71875 5.046875 -6.53125 C 4.625 -6.5 4.515625 -6.15625 4.515625 -6 C 4.515625 -5.78125 4.703125 -5.65625 4.890625 -5.65625 C 5.140625 -5.65625 5.421875 -5.875 5.421875 -6.25 C 5.421875 -6.703125 4.96875 -6.921875 4.5625 -6.921875 C 4.234375 -6.921875 3.609375 -6.75 3.328125 -5.78125 C 3.265625 -5.578125 3.234375 -5.46875 3 -4.234375 L 2.3125 -4.234375 C 2.125 -4.234375 2.03125 -4.234375 2.03125 -4.046875 C 2.03125 -3.9375 2.109375 -3.9375 2.296875 -3.9375 L 2.953125 -3.9375 L 2.21875 -0.046875 C 2.03125 0.90625 1.875 1.796875 1.359375 1.796875 C 1.3125 1.796875 1.078125 1.796875 0.890625 1.625 C 1.34375 1.59375 1.421875 1.234375 1.421875 1.09375 C 1.421875 0.859375 1.25 0.75 1.0625 0.75 C 0.8125 0.75 0.515625 0.96875 0.515625 1.34375 C 0.515625 1.78125 0.953125 2.015625 1.359375 2.015625 C 1.890625 2.015625 2.296875 1.4375 2.46875 1.0625 C 2.78125 0.4375 3 -0.75 3.015625 -0.8125 Z M 3.609375 -3.9375 \"/>\n",
       "</g>\n",
       "<g id=\"glyph-1717857318698386--0-1\">\n",
       "<path d=\"M 1.765625 -1.125 C 1.359375 -0.46875 0.984375 -0.328125 0.546875 -0.296875 C 0.4375 -0.296875 0.34375 -0.296875 0.34375 -0.109375 C 0.34375 -0.046875 0.390625 0 0.46875 0 C 0.734375 0 1.046875 -0.03125 1.3125 -0.03125 C 1.640625 -0.03125 1.984375 0 2.296875 0 C 2.359375 0 2.484375 0 2.484375 -0.1875 C 2.484375 -0.296875 2.390625 -0.296875 2.328125 -0.296875 C 2.109375 -0.328125 1.875 -0.40625 1.875 -0.65625 C 1.875 -0.765625 1.921875 -0.875 2 -1.015625 L 2.75 -2.265625 L 5.21875 -2.265625 C 5.234375 -2.0625 5.375 -0.734375 5.375 -0.625 C 5.375 -0.328125 4.859375 -0.296875 4.671875 -0.296875 C 4.53125 -0.296875 4.4375 -0.296875 4.4375 -0.109375 C 4.4375 0 4.546875 0 4.5625 0 C 4.96875 0 5.390625 -0.03125 5.796875 -0.03125 C 6.046875 -0.03125 6.65625 0 6.90625 0 C 6.96875 0 7.09375 0 7.09375 -0.203125 C 7.09375 -0.296875 6.984375 -0.296875 6.859375 -0.296875 C 6.25 -0.296875 6.25 -0.375 6.21875 -0.65625 L 5.625 -6.796875 C 5.609375 -7 5.609375 -7.03125 5.4375 -7.03125 C 5.28125 -7.03125 5.234375 -6.96875 5.171875 -6.875 Z M 2.9375 -2.578125 L 4.875 -5.8125 L 5.1875 -2.578125 Z M 2.9375 -2.578125 \"/>\n",
       "</g>\n",
       "<g id=\"glyph-1717857318698386--0-2\">\n",
       "<path d=\"M 1.578125 -0.765625 C 1.46875 -0.390625 1.453125 -0.296875 0.671875 -0.296875 C 0.515625 -0.296875 0.40625 -0.296875 0.40625 -0.109375 C 0.40625 0 0.5 0 0.671875 0 L 4.1875 0 C 5.734375 0 6.90625 -1.15625 6.90625 -2.125 C 6.90625 -2.828125 6.328125 -3.40625 5.375 -3.515625 C 6.390625 -3.703125 7.4375 -4.421875 7.4375 -5.359375 C 7.4375 -6.078125 6.78125 -6.71875 5.609375 -6.71875 L 2.296875 -6.71875 C 2.109375 -6.71875 2.015625 -6.71875 2.015625 -6.515625 C 2.015625 -6.40625 2.109375 -6.40625 2.296875 -6.40625 C 2.3125 -6.40625 2.5 -6.40625 2.65625 -6.390625 C 2.84375 -6.375 2.921875 -6.359375 2.921875 -6.234375 C 2.921875 -6.1875 2.921875 -6.15625 2.890625 -6.046875 Z M 3.0625 -3.59375 L 3.671875 -6.03125 C 3.75 -6.375 3.78125 -6.40625 4.203125 -6.40625 L 5.46875 -6.40625 C 6.328125 -6.40625 6.53125 -5.828125 6.53125 -5.390625 C 6.53125 -4.53125 5.6875 -3.59375 4.484375 -3.59375 Z M 2.609375 -0.296875 C 2.484375 -0.296875 2.453125 -0.296875 2.390625 -0.3125 C 2.296875 -0.328125 2.265625 -0.328125 2.265625 -0.40625 C 2.265625 -0.4375 2.265625 -0.46875 2.3125 -0.640625 L 3 -3.375 L 4.859375 -3.375 C 5.796875 -3.375 5.984375 -2.65625 5.984375 -2.234375 C 5.984375 -1.265625 5.109375 -0.296875 3.953125 -0.296875 Z M 2.609375 -0.296875 \"/>\n",
       "</g>\n",
       "</g>\n",
       "<clipPath id=\"clip-1717857318698386--0\">\n",
       "<path clip-rule=\"nonzero\" d=\"M 0.105469 14 L 32 14 L 32 31 L 0.105469 31 Z M 0.105469 14 \"/>\n",
       "</clipPath>\n",
       "<clipPath id=\"clip-1717857318698386--1\">\n",
       "<path clip-rule=\"nonzero\" d=\"M 37 14 L 68.359375 14 L 68.359375 31 L 37 31 Z M 37 14 \"/>\n",
       "</clipPath>\n",
       "</defs>\n",
       "<path fill=\"none\" stroke-width=\"0.59776\" stroke-linecap=\"butt\" stroke-linejoin=\"miter\" stroke=\"rgb(0%, 0%, 0%)\" stroke-opacity=\"1\" stroke-miterlimit=\"10\" d=\"M 7.351778 11.338075 L -7.354752 11.338075 C -9.553601 11.338075 -11.340412 9.555225 -11.340412 7.352415 L -11.340412 -7.354116 C -11.340412 -9.552965 -9.553601 -11.339776 -7.354752 -11.339776 L 7.351778 -11.339776 C 9.554589 -11.339776 11.337438 -9.552965 11.337438 -7.354116 L 11.337438 7.352415 C 11.337438 9.555225 9.554589 11.338075 7.351778 11.338075 Z M 7.351778 11.338075 \" transform=\"matrix(0.985957, 0, 0, -0.985957, 34.231935, 22.358536)\"/>\n",
       "<g fill=\"rgb(0%, 0%, 0%)\" fill-opacity=\"1\">\n",
       "<use xlink:href=\"#glyph-1717857318698386--0-0\" x=\"31.298714\" y=\"24.814554\"/>\n",
       "</g>\n",
       "<g clip-path=\"url(#clip-1717857318698386--0)\">\n",
       "<path fill=\"none\" stroke-width=\"0.59776\" stroke-linecap=\"butt\" stroke-linejoin=\"miter\" stroke=\"rgb(0%, 0%, 0%)\" stroke-opacity=\"1\" stroke-miterlimit=\"10\" d=\"M -34.315405 -0.000850906 C -25.472469 -0.000850906 -20.48049 -0.000850906 -11.637554 -0.000850906 \" transform=\"matrix(0.985957, 0, 0, -0.985957, 34.231935, 22.358536)\"/>\n",
       "</g>\n",
       "<g fill=\"rgb(0%, 0%, 0%)\" fill-opacity=\"1\">\n",
       "<use xlink:href=\"#glyph-1717857318698386--0-1\" x=\"7.895064\" y=\"18.789373\"/>\n",
       "</g>\n",
       "<g clip-path=\"url(#clip-1717857318698386--1)\">\n",
       "<path fill=\"none\" stroke-width=\"0.59776\" stroke-linecap=\"butt\" stroke-linejoin=\"miter\" stroke=\"rgb(0%, 0%, 0%)\" stroke-opacity=\"1\" stroke-miterlimit=\"10\" d=\"M 11.638542 -0.000850906 C 20.481478 -0.000850906 25.473457 -0.000850906 34.316393 -0.000850906 \" transform=\"matrix(0.985957, 0, 0, -0.985957, 34.231935, 22.358536)\"/>\n",
       "</g>\n",
       "<g fill=\"rgb(0%, 0%, 0%)\" fill-opacity=\"1\">\n",
       "<use xlink:href=\"#glyph-1717857318698386--0-2\" x=\"52.913839\" y=\"18.789373\"/>\n",
       "</g>\n",
       "</svg>\n",
       "\n"
      ],
      "text/plain": [
       "Catlab.Graphics.TikZ.Document(Catlab.Graphics.TikZ.Picture(Catlab.Graphics.TikZ.Statement[Catlab.Graphics.TikZ.Node(\"root\", Catlab.Graphics.TikZ.Property[Catlab.Graphics.TikZ.Property(\"outer box\", nothing), Catlab.Graphics.TikZ.Property(\"minimum width\", \"6\\\\tikzunit\"), Catlab.Graphics.TikZ.Property(\"minimum height\", \"4\\\\tikzunit\")], Catlab.Graphics.TikZ.Coordinate(\"0\", \"0\"), \"\"), Catlab.Graphics.TikZ.Node(\"n1\", Catlab.Graphics.TikZ.Property[Catlab.Graphics.TikZ.Property(\"box\", nothing), Catlab.Graphics.TikZ.Property(\"minimum size\", \"2\\\\tikzunit\")], Catlab.Graphics.TikZ.Coordinate(\"0\", \"0\"), \"\\$f\\$\"), Catlab.Graphics.TikZ.Edge(Catlab.Graphics.TikZ.PathExpression[Catlab.Graphics.TikZ.NodeCoordinate(\"root.west\"), Catlab.Graphics.TikZ.PathOperation(\"to\", Catlab.Graphics.TikZ.Property[Catlab.Graphics.TikZ.Property(\"out\", \"0\"), Catlab.Graphics.TikZ.Property(\"in\", \"-180\")]), Catlab.Graphics.TikZ.NodeCoordinate(\"n1.west\")], Catlab.Graphics.TikZ.Property[Catlab.Graphics.TikZ.Property(\"wire\", \"{\\\\node[anchor=south] {\\$A\\$};}\")]), Catlab.Graphics.TikZ.Edge(Catlab.Graphics.TikZ.PathExpression[Catlab.Graphics.TikZ.NodeCoordinate(\"n1.east\"), Catlab.Graphics.TikZ.PathOperation(\"to\", Catlab.Graphics.TikZ.Property[Catlab.Graphics.TikZ.Property(\"out\", \"0\"), Catlab.Graphics.TikZ.Property(\"in\", \"180\")]), Catlab.Graphics.TikZ.NodeCoordinate(\"root.east\")], Catlab.Graphics.TikZ.Property[Catlab.Graphics.TikZ.Property(\"wire\", \"{\\\\node[anchor=south] {\\$B\\$};}\")])], Catlab.Graphics.TikZ.Property[Catlab.Graphics.TikZ.Property(\"unit length/.code\", \"{{\\\\newdimen\\\\tikzunit}\\\\setlength{\\\\tikzunit}{#1}}\"), Catlab.Graphics.TikZ.Property(\"unit length\", \"4mm\"), Catlab.Graphics.TikZ.Property(\"x\", \"\\\\tikzunit\"), Catlab.Graphics.TikZ.Property(\"y\", \"\\\\tikzunit\"), Catlab.Graphics.TikZ.Property(\"semithick\", nothing), Catlab.Graphics.TikZ.Property(\"box/.style\", Catlab.Graphics.TikZ.Property[Catlab.Graphics.TikZ.Property(\"rectangle\", nothing), Catlab.Graphics.TikZ.Property(\"draw\", nothing), Catlab.Graphics.TikZ.Property(\"solid\", nothing), Catlab.Graphics.TikZ.Property(\"rounded corners\", nothing)]), Catlab.Graphics.TikZ.Property(\"outer box/.style\", Catlab.Graphics.TikZ.Property[Catlab.Graphics.TikZ.Property(\"draw\", \"none\")]), Catlab.Graphics.TikZ.Property(\"wire/.style\", Catlab.Graphics.TikZ.Property[Catlab.Graphics.TikZ.Property(\"draw\", nothing), Catlab.Graphics.TikZ.Property(\"postaction\", Catlab.Graphics.TikZ.Property[Catlab.Graphics.TikZ.Property(\"decorate\", nothing)]), Catlab.Graphics.TikZ.Property(\"decoration\", Catlab.Graphics.TikZ.Property[Catlab.Graphics.TikZ.Property(\"markings\", nothing), Catlab.Graphics.TikZ.Property(\"mark\", \"at position 0.5 with {#1}\")])])]), [\"calc\", \"shapes.geometric\", \"decorations.markings\"], [\"amssymb\"])"
      ]
     },
     "execution_count": 3,
     "metadata": {},
     "output_type": "execute_result"
    }
   ],
   "source": [
    "to_tikz(f, labels=true)"
   ]
  },
  {
   "cell_type": "code",
   "execution_count": 4,
   "metadata": {},
   "outputs": [
    {
     "data": {
      "image/svg+xml": [
       "<?xml version=\"1.0\" encoding=\"UTF-8\"?>\n",
       "<svg xmlns=\"http://www.w3.org/2000/svg\" xmlns:xlink=\"http://www.w3.org/1999/xlink\" width=\"114.581\" height=\"45.354\" viewBox=\"0 0 114.581 45.354\">\n",
       "<defs>\n",
       "<g>\n",
       "<g id=\"glyph-1717857318698387--0-0\">\n",
       "<path d=\"M 3.609375 -3.9375 L 4.453125 -3.9375 C 4.65625 -3.9375 4.75 -3.9375 4.75 -4.125 C 4.75 -4.234375 4.65625 -4.234375 4.484375 -4.234375 L 3.671875 -4.234375 L 3.875 -5.359375 C 3.90625 -5.5625 4.046875 -6.265625 4.109375 -6.375 C 4.203125 -6.5625 4.359375 -6.71875 4.5625 -6.71875 C 4.609375 -6.71875 4.859375 -6.71875 5.046875 -6.53125 C 4.625 -6.5 4.515625 -6.15625 4.515625 -6 C 4.515625 -5.78125 4.703125 -5.65625 4.890625 -5.65625 C 5.140625 -5.65625 5.421875 -5.875 5.421875 -6.25 C 5.421875 -6.703125 4.96875 -6.921875 4.5625 -6.921875 C 4.234375 -6.921875 3.609375 -6.75 3.328125 -5.78125 C 3.265625 -5.578125 3.234375 -5.46875 3 -4.234375 L 2.3125 -4.234375 C 2.125 -4.234375 2.03125 -4.234375 2.03125 -4.046875 C 2.03125 -3.9375 2.109375 -3.9375 2.296875 -3.9375 L 2.953125 -3.9375 L 2.21875 -0.046875 C 2.03125 0.90625 1.875 1.796875 1.359375 1.796875 C 1.3125 1.796875 1.078125 1.796875 0.890625 1.625 C 1.34375 1.59375 1.421875 1.234375 1.421875 1.09375 C 1.421875 0.859375 1.25 0.75 1.0625 0.75 C 0.8125 0.75 0.515625 0.96875 0.515625 1.34375 C 0.515625 1.78125 0.953125 2.015625 1.359375 2.015625 C 1.890625 2.015625 2.296875 1.4375 2.46875 1.0625 C 2.78125 0.4375 3 -0.75 3.015625 -0.8125 Z M 3.609375 -3.9375 \"/>\n",
       "</g>\n",
       "<g id=\"glyph-1717857318698387--0-1\">\n",
       "<path d=\"M 4.625 -3.703125 C 4.640625 -3.765625 4.65625 -3.8125 4.65625 -3.875 C 4.65625 -4.046875 4.546875 -4.140625 4.375 -4.140625 C 4.28125 -4.140625 4.015625 -4.078125 3.96875 -3.71875 C 3.796875 -4.09375 3.453125 -4.34375 3.0625 -4.34375 C 1.9375 -4.34375 0.71875 -2.96875 0.71875 -1.546875 C 0.71875 -0.578125 1.3125 0 2.03125 0 C 2.609375 0 3.0625 -0.46875 3.171875 -0.5625 C 2.96875 0.3125 2.84375 0.71875 2.84375 0.734375 C 2.8125 0.828125 2.484375 1.796875 1.4375 1.796875 C 1.25 1.796875 0.921875 1.78125 0.65625 1.703125 C 0.9375 1.609375 1.046875 1.359375 1.046875 1.1875 C 1.046875 1.03125 0.9375 0.84375 0.671875 0.84375 C 0.46875 0.84375 0.140625 1.015625 0.140625 1.421875 C 0.140625 1.8125 0.515625 2.015625 1.453125 2.015625 C 2.6875 2.015625 3.390625 1.25 3.53125 0.65625 Z M 3.34375 -1.265625 C 3.296875 -1 3.0625 -0.75 2.84375 -0.5625 C 2.640625 -0.390625 2.34375 -0.21875 2.046875 -0.21875 C 1.5625 -0.21875 1.421875 -0.734375 1.421875 -1.125 C 1.421875 -1.59375 1.703125 -2.75 1.96875 -3.25 C 2.234375 -3.734375 2.65625 -4.125 3.0625 -4.125 C 3.71875 -4.125 3.859375 -3.328125 3.859375 -3.28125 C 3.859375 -3.234375 3.828125 -3.171875 3.828125 -3.140625 Z M 3.34375 -1.265625 \"/>\n",
       "</g>\n",
       "<g id=\"glyph-1717857318698387--0-2\">\n",
       "<path d=\"M 1.765625 -1.125 C 1.359375 -0.46875 0.984375 -0.328125 0.546875 -0.296875 C 0.4375 -0.296875 0.34375 -0.296875 0.34375 -0.109375 C 0.34375 -0.046875 0.390625 0 0.46875 0 C 0.734375 0 1.046875 -0.03125 1.3125 -0.03125 C 1.640625 -0.03125 1.984375 0 2.296875 0 C 2.359375 0 2.484375 0 2.484375 -0.1875 C 2.484375 -0.296875 2.390625 -0.296875 2.328125 -0.296875 C 2.109375 -0.328125 1.875 -0.40625 1.875 -0.65625 C 1.875 -0.765625 1.921875 -0.875 2 -1.015625 L 2.75 -2.265625 L 5.21875 -2.265625 C 5.234375 -2.0625 5.375 -0.734375 5.375 -0.625 C 5.375 -0.328125 4.859375 -0.296875 4.671875 -0.296875 C 4.53125 -0.296875 4.4375 -0.296875 4.4375 -0.109375 C 4.4375 0 4.546875 0 4.5625 0 C 4.96875 0 5.390625 -0.03125 5.796875 -0.03125 C 6.046875 -0.03125 6.65625 0 6.90625 0 C 6.96875 0 7.09375 0 7.09375 -0.203125 C 7.09375 -0.296875 6.984375 -0.296875 6.859375 -0.296875 C 6.25 -0.296875 6.25 -0.375 6.21875 -0.65625 L 5.625 -6.796875 C 5.609375 -7 5.609375 -7.03125 5.4375 -7.03125 C 5.28125 -7.03125 5.234375 -6.96875 5.171875 -6.875 Z M 2.9375 -2.578125 L 4.875 -5.8125 L 5.1875 -2.578125 Z M 2.9375 -2.578125 \"/>\n",
       "</g>\n",
       "<g id=\"glyph-1717857318698387--0-3\">\n",
       "<path d=\"M 1.578125 -0.765625 C 1.46875 -0.390625 1.453125 -0.296875 0.671875 -0.296875 C 0.515625 -0.296875 0.40625 -0.296875 0.40625 -0.109375 C 0.40625 0 0.5 0 0.671875 0 L 4.1875 0 C 5.734375 0 6.90625 -1.15625 6.90625 -2.125 C 6.90625 -2.828125 6.328125 -3.40625 5.375 -3.515625 C 6.390625 -3.703125 7.4375 -4.421875 7.4375 -5.359375 C 7.4375 -6.078125 6.78125 -6.71875 5.609375 -6.71875 L 2.296875 -6.71875 C 2.109375 -6.71875 2.015625 -6.71875 2.015625 -6.515625 C 2.015625 -6.40625 2.109375 -6.40625 2.296875 -6.40625 C 2.3125 -6.40625 2.5 -6.40625 2.65625 -6.390625 C 2.84375 -6.375 2.921875 -6.359375 2.921875 -6.234375 C 2.921875 -6.1875 2.921875 -6.15625 2.890625 -6.046875 Z M 3.0625 -3.59375 L 3.671875 -6.03125 C 3.75 -6.375 3.78125 -6.40625 4.203125 -6.40625 L 5.46875 -6.40625 C 6.328125 -6.40625 6.53125 -5.828125 6.53125 -5.390625 C 6.53125 -4.53125 5.6875 -3.59375 4.484375 -3.59375 Z M 2.609375 -0.296875 C 2.484375 -0.296875 2.453125 -0.296875 2.390625 -0.3125 C 2.296875 -0.328125 2.265625 -0.328125 2.265625 -0.40625 C 2.265625 -0.4375 2.265625 -0.46875 2.3125 -0.640625 L 3 -3.375 L 4.859375 -3.375 C 5.796875 -3.375 5.984375 -2.65625 5.984375 -2.234375 C 5.984375 -1.265625 5.109375 -0.296875 3.953125 -0.296875 Z M 2.609375 -0.296875 \"/>\n",
       "</g>\n",
       "</g>\n",
       "<clipPath id=\"clip-1717857318698387--0\">\n",
       "<path clip-rule=\"nonzero\" d=\"M 0.597656 14 L 32 14 L 32 31 L 0.597656 31 Z M 0.597656 14 \"/>\n",
       "</clipPath>\n",
       "<clipPath id=\"clip-1717857318698387--1\">\n",
       "<path clip-rule=\"nonzero\" d=\"M 82 14 L 113.570312 14 L 113.570312 31 L 82 31 Z M 82 14 \"/>\n",
       "</clipPath>\n",
       "</defs>\n",
       "<path fill=\"none\" stroke-width=\"0.59776\" stroke-linecap=\"butt\" stroke-linejoin=\"miter\" stroke=\"rgb(0%, 0%, 0%)\" stroke-opacity=\"1\" stroke-miterlimit=\"10\" d=\"M -15.323062 11.338075 L -30.029593 11.338075 C -32.232403 11.338075 -34.015253 9.555225 -34.015253 7.352415 L -34.015253 -7.354116 C -34.015253 -9.552965 -32.232403 -11.339776 -30.029593 -11.339776 L -15.323062 -11.339776 C -13.124213 -11.339776 -11.337402 -9.552965 -11.337402 -7.354116 L -11.337402 7.352415 C -11.337402 9.555225 -13.124213 11.338075 -15.323062 11.338075 Z M -15.323062 11.338075 \" transform=\"matrix(0.985957, 0, 0, -0.985957, 57.084435, 22.358536)\"/>\n",
       "<g fill=\"rgb(0%, 0%, 0%)\" fill-opacity=\"1\">\n",
       "<use xlink:href=\"#glyph-1717857318698387--0-0\" x=\"31.791692\" y=\"24.814554\"/>\n",
       "</g>\n",
       "<path fill=\"none\" stroke-width=\"0.59776\" stroke-linecap=\"butt\" stroke-linejoin=\"miter\" stroke=\"rgb(0%, 0%, 0%)\" stroke-opacity=\"1\" stroke-miterlimit=\"10\" d=\"M 30.03264 11.338075 L 15.322147 11.338075 C 13.123299 11.338075 11.340449 9.555225 11.340449 7.352415 L 11.340449 -7.354116 C 11.340449 -9.552965 13.123299 -11.339776 15.322147 -11.339776 L 30.03264 -11.339776 C 32.231488 -11.339776 34.014338 -9.552965 34.014338 -7.354116 L 34.014338 7.352415 C 34.014338 9.555225 32.231488 11.338075 30.03264 11.338075 Z M 30.03264 11.338075 \" transform=\"matrix(0.985957, 0, 0, -0.985957, 57.084435, 22.358536)\"/>\n",
       "<g fill=\"rgb(0%, 0%, 0%)\" fill-opacity=\"1\">\n",
       "<use xlink:href=\"#glyph-1717857318698387--0-1\" x=\"76.923852\" y=\"23.518021\"/>\n",
       "</g>\n",
       "<g clip-path=\"url(#clip-1717857318698387--0)\">\n",
       "<path fill=\"none\" stroke-width=\"0.59776\" stroke-linecap=\"butt\" stroke-linejoin=\"miter\" stroke=\"rgb(0%, 0%, 0%)\" stroke-opacity=\"1\" stroke-miterlimit=\"10\" d=\"M -56.994207 -0.000850906 C -48.14731 -0.000850906 -43.159292 -0.000850906 -34.316356 -0.000850906 \" transform=\"matrix(0.985957, 0, 0, -0.985957, 57.084435, 22.358536)\"/>\n",
       "</g>\n",
       "<g fill=\"rgb(0%, 0%, 0%)\" fill-opacity=\"1\">\n",
       "<use xlink:href=\"#glyph-1717857318698387--0-2\" x=\"8.388042\" y=\"18.789373\"/>\n",
       "</g>\n",
       "<path fill=\"none\" stroke-width=\"0.59776\" stroke-linecap=\"butt\" stroke-linejoin=\"miter\" stroke=\"rgb(0%, 0%, 0%)\" stroke-opacity=\"1\" stroke-miterlimit=\"10\" d=\"M -11.04026 -0.000850906 C -2.431076 -0.000850906 2.430162 -0.000850906 11.039346 -0.000850906 \" transform=\"matrix(0.985957, 0, 0, -0.985957, 57.084435, 22.358536)\"/>\n",
       "<g fill=\"rgb(0%, 0%, 0%)\" fill-opacity=\"1\">\n",
       "<use xlink:href=\"#glyph-1717857318698387--0-3\" x=\"53.112016\" y=\"18.789373\"/>\n",
       "</g>\n",
       "<g clip-path=\"url(#clip-1717857318698387--1)\">\n",
       "<path fill=\"none\" stroke-width=\"0.59776\" stroke-linecap=\"butt\" stroke-linejoin=\"miter\" stroke=\"rgb(0%, 0%, 0%)\" stroke-opacity=\"1\" stroke-miterlimit=\"10\" d=\"M 34.315442 -0.000850906 C 43.158377 -0.000850906 48.150357 -0.000850906 56.993293 -0.000850906 \" transform=\"matrix(0.985957, 0, 0, -0.985957, 57.084435, 22.358536)\"/>\n",
       "</g>\n",
       "<g fill=\"rgb(0%, 0%, 0%)\" fill-opacity=\"1\">\n",
       "<use xlink:href=\"#glyph-1717857318698387--0-2\" x=\"98.411789\" y=\"18.789373\"/>\n",
       "</g>\n",
       "</svg>\n",
       "\n"
      ],
      "text/plain": [
       "Catlab.Graphics.TikZ.Document(Catlab.Graphics.TikZ.Picture(Catlab.Graphics.TikZ.Statement[Catlab.Graphics.TikZ.Node(\"root\", Catlab.Graphics.TikZ.Property[Catlab.Graphics.TikZ.Property(\"outer box\", nothing), Catlab.Graphics.TikZ.Property(\"minimum width\", \"10\\\\tikzunit\"), Catlab.Graphics.TikZ.Property(\"minimum height\", \"4\\\\tikzunit\")], Catlab.Graphics.TikZ.Coordinate(\"0\", \"0\"), \"\"), Catlab.Graphics.TikZ.Node(\"n1\", Catlab.Graphics.TikZ.Property[Catlab.Graphics.TikZ.Property(\"box\", nothing), Catlab.Graphics.TikZ.Property(\"minimum size\", \"2\\\\tikzunit\")], Catlab.Graphics.TikZ.Coordinate(\"-2\", \"0\"), \"\\$f\\$\"), Catlab.Graphics.TikZ.Node(\"n2\", Catlab.Graphics.TikZ.Property[Catlab.Graphics.TikZ.Property(\"box\", nothing), Catlab.Graphics.TikZ.Property(\"minimum size\", \"2\\\\tikzunit\")], Catlab.Graphics.TikZ.Coordinate(\"2\", \"0\"), \"\\$g\\$\"), Catlab.Graphics.TikZ.Edge(Catlab.Graphics.TikZ.PathExpression[Catlab.Graphics.TikZ.NodeCoordinate(\"root.west\"), Catlab.Graphics.TikZ.PathOperation(\"to\", Catlab.Graphics.TikZ.Property[Catlab.Graphics.TikZ.Property(\"out\", \"0\"), Catlab.Graphics.TikZ.Property(\"in\", \"-180\")]), Catlab.Graphics.TikZ.NodeCoordinate(\"n1.west\")], Catlab.Graphics.TikZ.Property[Catlab.Graphics.TikZ.Property(\"wire\", \"{\\\\node[anchor=south] {\\$A\\$};}\")]), Catlab.Graphics.TikZ.Edge(Catlab.Graphics.TikZ.PathExpression[Catlab.Graphics.TikZ.NodeCoordinate(\"n1.east\"), Catlab.Graphics.TikZ.PathOperation(\"to\", Catlab.Graphics.TikZ.Property[Catlab.Graphics.TikZ.Property(\"out\", \"0\"), Catlab.Graphics.TikZ.Property(\"in\", \"-180\")]), Catlab.Graphics.TikZ.NodeCoordinate(\"n2.west\")], Catlab.Graphics.TikZ.Property[Catlab.Graphics.TikZ.Property(\"wire\", \"{\\\\node[anchor=south] {\\$B\\$};}\")]), Catlab.Graphics.TikZ.Edge(Catlab.Graphics.TikZ.PathExpression[Catlab.Graphics.TikZ.NodeCoordinate(\"n2.east\"), Catlab.Graphics.TikZ.PathOperation(\"to\", Catlab.Graphics.TikZ.Property[Catlab.Graphics.TikZ.Property(\"out\", \"0\"), Catlab.Graphics.TikZ.Property(\"in\", \"180\")]), Catlab.Graphics.TikZ.NodeCoordinate(\"root.east\")], Catlab.Graphics.TikZ.Property[Catlab.Graphics.TikZ.Property(\"wire\", \"{\\\\node[anchor=south] {\\$A\\$};}\")])], Catlab.Graphics.TikZ.Property[Catlab.Graphics.TikZ.Property(\"unit length/.code\", \"{{\\\\newdimen\\\\tikzunit}\\\\setlength{\\\\tikzunit}{#1}}\"), Catlab.Graphics.TikZ.Property(\"unit length\", \"4mm\"), Catlab.Graphics.TikZ.Property(\"x\", \"\\\\tikzunit\"), Catlab.Graphics.TikZ.Property(\"y\", \"\\\\tikzunit\"), Catlab.Graphics.TikZ.Property(\"semithick\", nothing), Catlab.Graphics.TikZ.Property(\"box/.style\", Catlab.Graphics.TikZ.Property[Catlab.Graphics.TikZ.Property(\"rectangle\", nothing), Catlab.Graphics.TikZ.Property(\"draw\", nothing), Catlab.Graphics.TikZ.Property(\"solid\", nothing), Catlab.Graphics.TikZ.Property(\"rounded corners\", nothing)]), Catlab.Graphics.TikZ.Property(\"outer box/.style\", Catlab.Graphics.TikZ.Property[Catlab.Graphics.TikZ.Property(\"draw\", \"none\")]), Catlab.Graphics.TikZ.Property(\"wire/.style\", Catlab.Graphics.TikZ.Property[Catlab.Graphics.TikZ.Property(\"draw\", nothing), Catlab.Graphics.TikZ.Property(\"postaction\", Catlab.Graphics.TikZ.Property[Catlab.Graphics.TikZ.Property(\"decorate\", nothing)]), Catlab.Graphics.TikZ.Property(\"decoration\", Catlab.Graphics.TikZ.Property[Catlab.Graphics.TikZ.Property(\"markings\", nothing), Catlab.Graphics.TikZ.Property(\"mark\", \"at position 0.5 with {#1}\")])])]), [\"calc\", \"shapes.geometric\", \"decorations.markings\"], [\"amssymb\"])"
      ]
     },
     "execution_count": 4,
     "metadata": {},
     "output_type": "execute_result"
    }
   ],
   "source": [
    "to_tikz(f⋅g, labels=true)"
   ]
  },
  {
   "cell_type": "code",
   "execution_count": 5,
   "metadata": {},
   "outputs": [
    {
     "data": {
      "image/svg+xml": [
       "<?xml version=\"1.0\" encoding=\"UTF-8\"?>\n",
       "<svg xmlns=\"http://www.w3.org/2000/svg\" xmlns:xlink=\"http://www.w3.org/1999/xlink\" width=\"79.37\" height=\"69.227\" viewBox=\"0 0 79.37 69.227\">\n",
       "<defs>\n",
       "<g>\n",
       "<g id=\"glyph-1717857318698388--0-0\">\n",
       "<path d=\"M 3.625 -3.9375 L 4.46875 -3.9375 C 4.65625 -3.9375 4.765625 -3.9375 4.765625 -4.140625 C 4.765625 -4.25 4.65625 -4.25 4.5 -4.25 L 3.671875 -4.25 L 3.890625 -5.375 C 3.921875 -5.578125 4.0625 -6.28125 4.125 -6.40625 C 4.203125 -6.59375 4.375 -6.734375 4.578125 -6.734375 C 4.625 -6.734375 4.875 -6.734375 5.0625 -6.5625 C 4.640625 -6.515625 4.53125 -6.171875 4.53125 -6.03125 C 4.53125 -5.796875 4.71875 -5.671875 4.90625 -5.671875 C 5.15625 -5.671875 5.4375 -5.890625 5.4375 -6.265625 C 5.4375 -6.71875 4.984375 -6.953125 4.578125 -6.953125 C 4.25 -6.953125 3.625 -6.765625 3.328125 -5.796875 C 3.265625 -5.59375 3.25 -5.484375 3 -4.25 L 2.328125 -4.25 C 2.140625 -4.25 2.03125 -4.25 2.03125 -4.0625 C 2.03125 -3.9375 2.125 -3.9375 2.3125 -3.9375 L 2.953125 -3.9375 L 2.21875 -0.046875 C 2.046875 0.90625 1.875 1.796875 1.359375 1.796875 C 1.328125 1.796875 1.078125 1.796875 0.890625 1.625 C 1.34375 1.59375 1.421875 1.25 1.421875 1.09375 C 1.421875 0.875 1.25 0.75 1.0625 0.75 C 0.8125 0.75 0.515625 0.96875 0.515625 1.34375 C 0.515625 1.78125 0.953125 2.015625 1.359375 2.015625 C 1.90625 2.015625 2.296875 1.4375 2.46875 1.0625 C 2.796875 0.4375 3.015625 -0.75 3.03125 -0.8125 Z M 3.625 -3.9375 \"/>\n",
       "</g>\n",
       "<g id=\"glyph-1717857318698388--0-1\">\n",
       "<path d=\"M 4.640625 -3.71875 C 4.65625 -3.78125 4.671875 -3.828125 4.671875 -3.890625 C 4.671875 -4.0625 4.5625 -4.15625 4.390625 -4.15625 C 4.28125 -4.15625 4.015625 -4.09375 3.984375 -3.734375 C 3.8125 -4.09375 3.453125 -4.359375 3.0625 -4.359375 C 1.9375 -4.359375 0.71875 -2.984375 0.71875 -1.5625 C 0.71875 -0.578125 1.328125 0 2.03125 0 C 2.609375 0 3.078125 -0.46875 3.171875 -0.578125 L 3.1875 -0.5625 C 2.984375 0.3125 2.859375 0.71875 2.859375 0.734375 C 2.8125 0.828125 2.484375 1.796875 1.4375 1.796875 C 1.25 1.796875 0.921875 1.796875 0.65625 1.703125 C 0.953125 1.609375 1.0625 1.359375 1.0625 1.1875 C 1.0625 1.03125 0.953125 0.84375 0.6875 0.84375 C 0.46875 0.84375 0.140625 1.03125 0.140625 1.421875 C 0.140625 1.828125 0.515625 2.015625 1.453125 2.015625 C 2.6875 2.015625 3.40625 1.25 3.546875 0.65625 Z M 3.359375 -1.265625 C 3.296875 -1 3.078125 -0.765625 2.859375 -0.578125 C 2.65625 -0.390625 2.34375 -0.21875 2.0625 -0.21875 C 1.5625 -0.21875 1.421875 -0.734375 1.421875 -1.125 C 1.421875 -1.59375 1.703125 -2.765625 1.96875 -3.265625 C 2.234375 -3.75 2.65625 -4.140625 3.078125 -4.140625 C 3.734375 -4.140625 3.859375 -3.34375 3.859375 -3.296875 C 3.859375 -3.25 3.84375 -3.1875 3.828125 -3.140625 Z M 3.359375 -1.265625 \"/>\n",
       "</g>\n",
       "<g id=\"glyph-1717857318698388--0-2\">\n",
       "<path d=\"M 1.765625 -1.140625 C 1.375 -0.46875 0.984375 -0.328125 0.546875 -0.3125 C 0.4375 -0.296875 0.34375 -0.296875 0.34375 -0.109375 C 0.34375 -0.046875 0.390625 0 0.46875 0 C 0.734375 0 1.046875 -0.03125 1.328125 -0.03125 C 1.640625 -0.03125 1.984375 0 2.3125 0 C 2.359375 0 2.5 0 2.5 -0.1875 C 2.5 -0.296875 2.40625 -0.3125 2.34375 -0.3125 C 2.109375 -0.328125 1.875 -0.40625 1.875 -0.65625 C 1.875 -0.765625 1.9375 -0.875 2.015625 -1.015625 L 2.765625 -2.28125 L 5.234375 -2.28125 C 5.25 -2.078125 5.390625 -0.734375 5.390625 -0.625 C 5.390625 -0.328125 4.875 -0.3125 4.6875 -0.3125 C 4.546875 -0.3125 4.453125 -0.3125 4.453125 -0.109375 C 4.453125 0 4.5625 0 4.578125 0 C 4.984375 0 5.40625 -0.03125 5.8125 -0.03125 C 6.0625 -0.03125 6.6875 0 6.9375 0 C 6.984375 0 7.109375 0 7.109375 -0.203125 C 7.109375 -0.3125 7.015625 -0.3125 6.875 -0.3125 C 6.265625 -0.3125 6.265625 -0.375 6.234375 -0.65625 L 5.640625 -6.828125 C 5.625 -7.015625 5.625 -7.0625 5.453125 -7.0625 C 5.296875 -7.0625 5.25 -6.984375 5.203125 -6.890625 Z M 2.953125 -2.578125 L 4.890625 -5.84375 L 5.203125 -2.578125 Z M 2.953125 -2.578125 \"/>\n",
       "</g>\n",
       "<g id=\"glyph-1717857318698388--0-3\">\n",
       "<path d=\"M 1.578125 -0.765625 C 1.484375 -0.390625 1.453125 -0.3125 0.6875 -0.3125 C 0.515625 -0.3125 0.421875 -0.3125 0.421875 -0.109375 C 0.421875 0 0.5 0 0.6875 0 L 4.203125 0 C 5.765625 0 6.921875 -1.15625 6.921875 -2.125 C 6.921875 -2.84375 6.34375 -3.40625 5.390625 -3.515625 C 6.421875 -3.703125 7.453125 -4.4375 7.453125 -5.375 C 7.453125 -6.109375 6.796875 -6.734375 5.625 -6.734375 L 2.3125 -6.734375 C 2.125 -6.734375 2.015625 -6.734375 2.015625 -6.53125 C 2.015625 -6.421875 2.109375 -6.421875 2.296875 -6.421875 C 2.3125 -6.421875 2.5 -6.421875 2.671875 -6.40625 C 2.84375 -6.390625 2.9375 -6.375 2.9375 -6.25 C 2.9375 -6.21875 2.921875 -6.1875 2.90625 -6.0625 Z M 3.0625 -3.609375 L 3.671875 -6.046875 C 3.765625 -6.40625 3.78125 -6.421875 4.203125 -6.421875 L 5.484375 -6.421875 C 6.34375 -6.421875 6.5625 -5.84375 6.5625 -5.40625 C 6.5625 -4.546875 5.703125 -3.609375 4.5 -3.609375 Z M 2.625 -0.3125 C 2.484375 -0.3125 2.46875 -0.3125 2.40625 -0.3125 C 2.3125 -0.328125 2.28125 -0.328125 2.28125 -0.421875 C 2.28125 -0.4375 2.28125 -0.46875 2.328125 -0.640625 L 3 -3.390625 L 4.875 -3.390625 C 5.8125 -3.390625 6 -2.65625 6 -2.234375 C 6 -1.265625 5.125 -0.3125 3.96875 -0.3125 Z M 2.625 -0.3125 \"/>\n",
       "</g>\n",
       "</g>\n",
       "<clipPath id=\"clip-1717857318698388--0\">\n",
       "<path clip-rule=\"nonzero\" d=\"M 14 37 L 31 37 L 31 68.460938 L 14 68.460938 Z M 14 37 \"/>\n",
       "</clipPath>\n",
       "<clipPath id=\"clip-1717857318698388--1\">\n",
       "<path clip-rule=\"nonzero\" d=\"M 47 37 L 65 37 L 65 68.460938 L 47 68.460938 Z M 47 37 \"/>\n",
       "</clipPath>\n",
       "</defs>\n",
       "<path fill=\"none\" stroke-width=\"0.59776\" stroke-linecap=\"butt\" stroke-linejoin=\"miter\" stroke=\"rgb(0%, 0%, 0%)\" stroke-opacity=\"1\" stroke-miterlimit=\"10\" d=\"M -9.655888 11.337429 L -24.361246 11.337429 C -26.561323 11.337429 -28.346663 9.556039 -28.346663 7.352012 L -28.346663 -7.353346 C -28.346663 -9.553422 -26.561323 -11.338762 -24.361246 -11.338762 L -9.655888 -11.338762 C -7.451862 -11.338762 -5.670472 -9.553422 -5.670472 -7.353346 L -5.670472 7.352012 C -5.670472 9.556039 -7.451862 11.337429 -9.655888 11.337429 Z M -9.655888 11.337429 \" transform=\"matrix(0.988957, 0, 0, -0.988957, 39.373478, 34.231763)\"/>\n",
       "<g fill=\"rgb(0%, 0%, 0%)\" fill-opacity=\"1\">\n",
       "<use xlink:href=\"#glyph-1717857318698388--0-0\" x=\"19.611148\" y=\"36.694266\"/>\n",
       "</g>\n",
       "<path fill=\"none\" stroke-width=\"0.59776\" stroke-linecap=\"butt\" stroke-linejoin=\"miter\" stroke=\"rgb(0%, 0%, 0%)\" stroke-opacity=\"1\" stroke-miterlimit=\"10\" d=\"M 24.360373 11.337429 L 9.655015 11.337429 C 7.454939 11.337429 5.669599 9.556039 5.669599 7.352012 L 5.669599 -7.353346 C 5.669599 -9.553422 7.454939 -11.338762 9.655015 -11.338762 L 24.360373 -11.338762 C 26.5644 -11.338762 28.34579 -9.553422 28.34579 -7.353346 L 28.34579 7.352012 C 28.34579 9.556039 26.5644 11.337429 24.360373 11.337429 Z M 24.360373 11.337429 \" transform=\"matrix(0.988957, 0, 0, -0.988957, 39.373478, 34.231763)\"/>\n",
       "<g fill=\"rgb(0%, 0%, 0%)\" fill-opacity=\"1\">\n",
       "<use xlink:href=\"#glyph-1717857318698388--0-1\" x=\"53.666876\" y=\"35.394776\"/>\n",
       "</g>\n",
       "<path fill=\"none\" stroke-width=\"0.59776\" stroke-linecap=\"butt\" stroke-linejoin=\"miter\" stroke=\"rgb(0%, 0%, 0%)\" stroke-opacity=\"1\" stroke-miterlimit=\"10\" d=\"M -17.006592 34.31381 C -17.006592 25.470056 -17.006592 20.481373 -17.006592 11.637619 \" transform=\"matrix(0.988957, 0, 0, -0.988957, 39.373478, 34.231763)\"/>\n",
       "<g fill=\"rgb(0%, 0%, 0%)\" fill-opacity=\"1\">\n",
       "<use xlink:href=\"#glyph-1717857318698388--0-2\" x=\"11.584772\" y=\"14.874904\"/>\n",
       "</g>\n",
       "<path fill=\"none\" stroke-width=\"0.59776\" stroke-linecap=\"butt\" stroke-linejoin=\"miter\" stroke=\"rgb(0%, 0%, 0%)\" stroke-opacity=\"1\" stroke-miterlimit=\"10\" d=\"M 17.009669 34.31381 C 17.009669 25.470056 17.009669 20.481373 17.009669 11.637619 \" transform=\"matrix(0.988957, 0, 0, -0.988957, 39.373478, 34.231763)\"/>\n",
       "<g fill=\"rgb(0%, 0%, 0%)\" fill-opacity=\"1\">\n",
       "<use xlink:href=\"#glyph-1717857318698388--0-3\" x=\"44.646598\" y=\"14.874904\"/>\n",
       "</g>\n",
       "<g clip-path=\"url(#clip-1717857318698388--0)\">\n",
       "<path fill=\"none\" stroke-width=\"0.59776\" stroke-linecap=\"butt\" stroke-linejoin=\"miter\" stroke=\"rgb(0%, 0%, 0%)\" stroke-opacity=\"1\" stroke-miterlimit=\"10\" d=\"M -17.006592 -11.638952 C -17.006592 -20.482706 -17.006592 -25.471389 -17.006592 -34.315143 \" transform=\"matrix(0.988957, 0, 0, -0.988957, 39.373478, 34.231763)\"/>\n",
       "</g>\n",
       "<g fill=\"rgb(0%, 0%, 0%)\" fill-opacity=\"1\">\n",
       "<use xlink:href=\"#glyph-1717857318698388--0-3\" x=\"11.006232\" y=\"60.319463\"/>\n",
       "</g>\n",
       "<g clip-path=\"url(#clip-1717857318698388--1)\">\n",
       "<path fill=\"none\" stroke-width=\"0.59776\" stroke-linecap=\"butt\" stroke-linejoin=\"miter\" stroke=\"rgb(0%, 0%, 0%)\" stroke-opacity=\"1\" stroke-miterlimit=\"10\" d=\"M 17.009669 -11.638952 C 17.009669 -20.482706 17.009669 -25.471389 17.009669 -34.315143 \" transform=\"matrix(0.988957, 0, 0, -0.988957, 39.373478, 34.231763)\"/>\n",
       "</g>\n",
       "<g fill=\"rgb(0%, 0%, 0%)\" fill-opacity=\"1\">\n",
       "<use xlink:href=\"#glyph-1717857318698388--0-2\" x=\"45.224149\" y=\"60.319463\"/>\n",
       "</g>\n",
       "</svg>\n",
       "\n"
      ],
      "text/plain": [
       "Catlab.Graphics.TikZ.Document(Catlab.Graphics.TikZ.Picture(Catlab.Graphics.TikZ.Statement[Catlab.Graphics.TikZ.Node(\"root\", Catlab.Graphics.TikZ.Property[Catlab.Graphics.TikZ.Property(\"outer box\", nothing), Catlab.Graphics.TikZ.Property(\"minimum width\", \"7\\\\tikzunit\"), Catlab.Graphics.TikZ.Property(\"minimum height\", \"6\\\\tikzunit\")], Catlab.Graphics.TikZ.Coordinate(\"0\", \"0\"), \"\"), Catlab.Graphics.TikZ.Node(\"n1\", Catlab.Graphics.TikZ.Property[Catlab.Graphics.TikZ.Property(\"box\", nothing), Catlab.Graphics.TikZ.Property(\"minimum size\", \"2\\\\tikzunit\")], Catlab.Graphics.TikZ.Coordinate(\"-1.5\", \"0\"), \"\\$f\\$\"), Catlab.Graphics.TikZ.Node(\"n2\", Catlab.Graphics.TikZ.Property[Catlab.Graphics.TikZ.Property(\"box\", nothing), Catlab.Graphics.TikZ.Property(\"minimum size\", \"2\\\\tikzunit\")], Catlab.Graphics.TikZ.Coordinate(\"1.5\", \"0\"), \"\\$g\\$\"), Catlab.Graphics.TikZ.Edge(Catlab.Graphics.TikZ.PathExpression[Catlab.Graphics.TikZ.NodeCoordinate(\"\\$(root.north)+(-1.5,0)\\$\"), Catlab.Graphics.TikZ.PathOperation(\"to\", Catlab.Graphics.TikZ.Property[Catlab.Graphics.TikZ.Property(\"out\", \"-90\"), Catlab.Graphics.TikZ.Property(\"in\", \"90\")]), Catlab.Graphics.TikZ.NodeCoordinate(\"n1.north\")], Catlab.Graphics.TikZ.Property[Catlab.Graphics.TikZ.Property(\"wire\", \"{\\\\node[anchor=east] {\\$A\\$};}\")]), Catlab.Graphics.TikZ.Edge(Catlab.Graphics.TikZ.PathExpression[Catlab.Graphics.TikZ.NodeCoordinate(\"\\$(root.north)+(1.5,0)\\$\"), Catlab.Graphics.TikZ.PathOperation(\"to\", Catlab.Graphics.TikZ.Property[Catlab.Graphics.TikZ.Property(\"out\", \"-90\"), Catlab.Graphics.TikZ.Property(\"in\", \"90\")]), Catlab.Graphics.TikZ.NodeCoordinate(\"n2.north\")], Catlab.Graphics.TikZ.Property[Catlab.Graphics.TikZ.Property(\"wire\", \"{\\\\node[anchor=east] {\\$B\\$};}\")]), Catlab.Graphics.TikZ.Edge(Catlab.Graphics.TikZ.PathExpression[Catlab.Graphics.TikZ.NodeCoordinate(\"n1.south\"), Catlab.Graphics.TikZ.PathOperation(\"to\", Catlab.Graphics.TikZ.Property[Catlab.Graphics.TikZ.Property(\"out\", \"-90\"), Catlab.Graphics.TikZ.Property(\"in\", \"90\")]), Catlab.Graphics.TikZ.NodeCoordinate(\"\\$(root.south)+(-1.5,0)\\$\")], Catlab.Graphics.TikZ.Property[Catlab.Graphics.TikZ.Property(\"wire\", \"{\\\\node[anchor=east] {\\$B\\$};}\")]), Catlab.Graphics.TikZ.Edge(Catlab.Graphics.TikZ.PathExpression[Catlab.Graphics.TikZ.NodeCoordinate(\"n2.south\"), Catlab.Graphics.TikZ.PathOperation(\"to\", Catlab.Graphics.TikZ.Property[Catlab.Graphics.TikZ.Property(\"out\", \"-90\"), Catlab.Graphics.TikZ.Property(\"in\", \"90\")]), Catlab.Graphics.TikZ.NodeCoordinate(\"\\$(root.south)+(1.5,0)\\$\")], Catlab.Graphics.TikZ.Property[Catlab.Graphics.TikZ.Property(\"wire\", \"{\\\\node[anchor=east] {\\$A\\$};}\")])], Catlab.Graphics.TikZ.Property[Catlab.Graphics.TikZ.Property(\"unit length/.code\", \"{{\\\\newdimen\\\\tikzunit}\\\\setlength{\\\\tikzunit}{#1}}\"), Catlab.Graphics.TikZ.Property(\"unit length\", \"4mm\"), Catlab.Graphics.TikZ.Property(\"x\", \"\\\\tikzunit\"), Catlab.Graphics.TikZ.Property(\"y\", \"\\\\tikzunit\"), Catlab.Graphics.TikZ.Property(\"semithick\", nothing), Catlab.Graphics.TikZ.Property(\"box/.style\", Catlab.Graphics.TikZ.Property[Catlab.Graphics.TikZ.Property(\"rectangle\", nothing), Catlab.Graphics.TikZ.Property(\"draw\", nothing), Catlab.Graphics.TikZ.Property(\"solid\", nothing), Catlab.Graphics.TikZ.Property(\"rounded corners\", nothing)]), Catlab.Graphics.TikZ.Property(\"outer box/.style\", Catlab.Graphics.TikZ.Property[Catlab.Graphics.TikZ.Property(\"draw\", \"none\")]), Catlab.Graphics.TikZ.Property(\"wire/.style\", Catlab.Graphics.TikZ.Property[Catlab.Graphics.TikZ.Property(\"draw\", nothing), Catlab.Graphics.TikZ.Property(\"postaction\", Catlab.Graphics.TikZ.Property[Catlab.Graphics.TikZ.Property(\"decorate\", nothing)]), Catlab.Graphics.TikZ.Property(\"decoration\", Catlab.Graphics.TikZ.Property[Catlab.Graphics.TikZ.Property(\"markings\", nothing), Catlab.Graphics.TikZ.Property(\"mark\", \"at position 0.5 with {#1}\")])])]), [\"calc\", \"shapes.geometric\", \"decorations.markings\"], [\"amssymb\"])"
      ]
     },
     "execution_count": 5,
     "metadata": {},
     "output_type": "execute_result"
    }
   ],
   "source": [
    "to_tikz(f⊗g, labels=true, orientation=TopToBottom)"
   ]
  },
  {
   "cell_type": "markdown",
   "metadata": {},
   "source": [
    "Here is a more complex example, involving generators with compound domains and\n",
    "codomains."
   ]
  },
  {
   "cell_type": "code",
   "execution_count": 6,
   "metadata": {},
   "outputs": [
    {
     "data": {
      "image/svg+xml": [
       "<?xml version=\"1.0\" encoding=\"UTF-8\"?>\n",
       "<svg xmlns=\"http://www.w3.org/2000/svg\" xmlns:xlink=\"http://www.w3.org/1999/xlink\" width=\"250.644\" height=\"147.401\" viewBox=\"0 0 250.644 147.401\">\n",
       "<defs>\n",
       "<g>\n",
       "<g id=\"glyph-1717857318698389--0-0\">\n",
       "<path d=\"M 3.640625 -3.96875 L 4.5 -3.96875 C 4.6875 -3.96875 4.796875 -3.96875 4.796875 -4.171875 C 4.796875 -4.28125 4.6875 -4.28125 4.53125 -4.28125 L 3.703125 -4.28125 L 3.90625 -5.40625 C 3.953125 -5.609375 4.09375 -6.3125 4.140625 -6.4375 C 4.234375 -6.625 4.40625 -6.78125 4.609375 -6.78125 C 4.65625 -6.78125 4.90625 -6.78125 5.09375 -6.59375 C 4.65625 -6.5625 4.5625 -6.21875 4.5625 -6.0625 C 4.5625 -5.828125 4.75 -5.71875 4.9375 -5.71875 C 5.1875 -5.71875 5.484375 -5.9375 5.484375 -6.3125 C 5.484375 -6.765625 5.015625 -7 4.609375 -7 C 4.28125 -7 3.65625 -6.8125 3.359375 -5.828125 C 3.296875 -5.625 3.265625 -5.53125 3.03125 -4.28125 L 2.34375 -4.28125 C 2.15625 -4.28125 2.046875 -4.28125 2.046875 -4.09375 C 2.046875 -3.96875 2.140625 -3.96875 2.328125 -3.96875 L 2.96875 -3.96875 L 2.234375 -0.046875 C 2.046875 0.90625 1.890625 1.8125 1.375 1.8125 C 1.328125 1.8125 1.078125 1.8125 0.890625 1.640625 C 1.34375 1.609375 1.4375 1.25 1.4375 1.09375 C 1.4375 0.875 1.265625 0.75 1.078125 0.75 C 0.8125 0.75 0.53125 0.96875 0.53125 1.34375 C 0.53125 1.796875 0.96875 2.03125 1.375 2.03125 C 1.921875 2.03125 2.3125 1.453125 2.484375 1.078125 C 2.8125 0.453125 3.03125 -0.75 3.046875 -0.828125 Z M 3.640625 -3.96875 \"/>\n",
       "</g>\n",
       "<g id=\"glyph-1717857318698389--0-1\">\n",
       "<path d=\"M 4.671875 -3.734375 C 4.6875 -3.796875 4.703125 -3.84375 4.703125 -3.921875 C 4.703125 -4.09375 4.578125 -4.1875 4.421875 -4.1875 C 4.3125 -4.1875 4.046875 -4.125 4.015625 -3.765625 C 3.828125 -4.125 3.484375 -4.390625 3.078125 -4.390625 C 1.953125 -4.390625 0.71875 -3 0.71875 -1.5625 C 0.71875 -0.578125 1.328125 0 2.046875 0 C 2.625 0 3.09375 -0.46875 3.1875 -0.578125 L 3.203125 -0.5625 C 3 0.3125 2.875 0.71875 2.875 0.75 C 2.84375 0.828125 2.5 1.8125 1.453125 1.8125 C 1.265625 1.8125 0.9375 1.8125 0.65625 1.71875 C 0.953125 1.625 1.0625 1.375 1.0625 1.203125 C 1.0625 1.046875 0.953125 0.859375 0.6875 0.859375 C 0.46875 0.859375 0.15625 1.03125 0.15625 1.421875 C 0.15625 1.828125 0.515625 2.03125 1.46875 2.03125 C 2.703125 2.03125 3.421875 1.265625 3.578125 0.671875 Z M 3.390625 -1.265625 C 3.328125 -1.015625 3.09375 -0.765625 2.875 -0.578125 C 2.671875 -0.390625 2.359375 -0.21875 2.078125 -0.21875 C 1.578125 -0.21875 1.421875 -0.734375 1.421875 -1.125 C 1.421875 -1.609375 1.71875 -2.78125 1.984375 -3.28125 C 2.25 -3.765625 2.671875 -4.171875 3.09375 -4.171875 C 3.75 -4.171875 3.890625 -3.359375 3.890625 -3.3125 C 3.890625 -3.265625 3.875 -3.203125 3.859375 -3.171875 Z M 3.390625 -1.265625 \"/>\n",
       "</g>\n",
       "<g id=\"glyph-1717857318698389--0-2\">\n",
       "<path d=\"M 2.84375 -6.78125 C 2.84375 -6.78125 2.84375 -6.890625 2.71875 -6.890625 C 2.484375 -6.890625 1.765625 -6.8125 1.515625 -6.78125 C 1.421875 -6.78125 1.3125 -6.765625 1.3125 -6.59375 C 1.3125 -6.46875 1.40625 -6.46875 1.5625 -6.46875 C 2.03125 -6.46875 2.046875 -6.40625 2.046875 -6.296875 L 2.03125 -6.109375 L 0.578125 -0.390625 C 0.546875 -0.25 0.546875 -0.234375 0.546875 -0.171875 C 0.546875 0.0625 0.75 0.109375 0.828125 0.109375 C 0.984375 0.109375 1.15625 -0.015625 1.203125 -0.15625 L 1.390625 -0.90625 L 1.609375 -1.796875 C 1.671875 -2.015625 1.71875 -2.234375 1.78125 -2.453125 C 1.796875 -2.515625 1.875 -2.84375 1.890625 -2.90625 C 1.921875 -3 2.21875 -3.546875 2.5625 -3.8125 C 2.78125 -3.984375 3.078125 -4.171875 3.515625 -4.171875 C 3.9375 -4.171875 4.046875 -3.828125 4.046875 -3.46875 C 4.046875 -2.9375 3.671875 -1.859375 3.4375 -1.25 C 3.359375 -1.015625 3.296875 -0.90625 3.296875 -0.703125 C 3.296875 -0.234375 3.65625 0.109375 4.125 0.109375 C 5.046875 0.109375 5.421875 -1.34375 5.421875 -1.421875 C 5.421875 -1.515625 5.328125 -1.515625 5.296875 -1.515625 C 5.203125 -1.515625 5.203125 -1.484375 5.15625 -1.34375 C 5 -0.8125 4.6875 -0.109375 4.140625 -0.109375 C 3.96875 -0.109375 3.90625 -0.203125 3.90625 -0.4375 C 3.90625 -0.6875 3.984375 -0.921875 4.078125 -1.140625 C 4.234375 -1.5625 4.6875 -2.75 4.6875 -3.328125 C 4.6875 -3.96875 4.28125 -4.390625 3.546875 -4.390625 C 2.921875 -4.390625 2.4375 -4.078125 2.078125 -3.625 Z M 2.84375 -6.78125 \"/>\n",
       "</g>\n",
       "<g id=\"glyph-1717857318698389--0-3\">\n",
       "<path d=\"M 2.84375 -6.78125 C 2.84375 -6.78125 2.84375 -6.890625 2.71875 -6.890625 C 2.484375 -6.890625 1.765625 -6.8125 1.515625 -6.78125 C 1.421875 -6.78125 1.3125 -6.765625 1.3125 -6.59375 C 1.3125 -6.46875 1.40625 -6.46875 1.5625 -6.46875 C 2.03125 -6.46875 2.046875 -6.40625 2.046875 -6.296875 L 2.03125 -6.109375 L 0.578125 -0.390625 C 0.546875 -0.25 0.546875 -0.234375 0.546875 -0.171875 C 0.546875 0.0625 0.75 0.109375 0.828125 0.109375 C 0.96875 0.109375 1.109375 0.015625 1.171875 -0.09375 C 1.21875 -0.1875 1.671875 -2.03125 1.71875 -2.265625 C 2.0625 -2.25 2.875 -2.078125 2.875 -1.421875 C 2.875 -1.359375 2.875 -1.3125 2.84375 -1.21875 C 2.828125 -1.09375 2.8125 -0.984375 2.8125 -0.875 C 2.8125 -0.28125 3.203125 0.109375 3.71875 0.109375 C 4.015625 0.109375 4.28125 -0.046875 4.5 -0.421875 C 4.75 -0.859375 4.859375 -1.40625 4.859375 -1.421875 C 4.859375 -1.515625 4.765625 -1.515625 4.75 -1.515625 C 4.640625 -1.515625 4.640625 -1.484375 4.609375 -1.34375 C 4.40625 -0.609375 4.171875 -0.109375 3.734375 -0.109375 C 3.546875 -0.109375 3.421875 -0.21875 3.421875 -0.578125 C 3.421875 -0.75 3.46875 -0.96875 3.5 -1.125 C 3.546875 -1.296875 3.546875 -1.34375 3.546875 -1.4375 C 3.546875 -2.078125 2.921875 -2.375 2.078125 -2.484375 C 2.375 -2.65625 2.703125 -2.96875 2.921875 -3.21875 C 3.40625 -3.734375 3.859375 -4.171875 4.34375 -4.171875 C 4.40625 -4.171875 4.421875 -4.171875 4.4375 -4.15625 C 4.546875 -4.140625 4.5625 -4.140625 4.640625 -4.078125 C 4.65625 -4.0625 4.65625 -4.0625 4.6875 -4.03125 C 4.203125 -4.015625 4.125 -3.625 4.125 -3.5 C 4.125 -3.34375 4.234375 -3.15625 4.5 -3.15625 C 4.75 -3.15625 5.046875 -3.375 5.046875 -3.765625 C 5.046875 -4.0625 4.8125 -4.390625 4.359375 -4.390625 C 4.09375 -4.390625 3.625 -4.3125 2.921875 -3.515625 C 2.578125 -3.140625 2.1875 -2.734375 1.8125 -2.59375 Z M 2.84375 -6.78125 \"/>\n",
       "</g>\n",
       "<g id=\"glyph-1717857318698389--0-4\">\n",
       "<path d=\"M 0.875 -0.578125 C 0.84375 -0.4375 0.78125 -0.203125 0.78125 -0.15625 C 0.78125 0.015625 0.921875 0.109375 1.078125 0.109375 C 1.1875 0.109375 1.375 0.03125 1.4375 -0.171875 C 1.453125 -0.1875 1.5625 -0.65625 1.625 -0.90625 L 1.84375 -1.796875 C 1.90625 -2.015625 1.96875 -2.234375 2.015625 -2.453125 C 2.046875 -2.625 2.140625 -2.921875 2.140625 -2.953125 C 2.296875 -3.265625 2.8125 -4.171875 3.765625 -4.171875 C 4.203125 -4.171875 4.296875 -3.796875 4.296875 -3.46875 C 4.296875 -3.21875 4.234375 -2.953125 4.140625 -2.65625 L 3.875 -1.5 L 3.671875 -0.75 C 3.625 -0.546875 3.546875 -0.203125 3.546875 -0.15625 C 3.546875 0.015625 3.6875 0.109375 3.828125 0.109375 C 4.140625 0.109375 4.203125 -0.140625 4.28125 -0.453125 C 4.421875 -1.015625 4.78125 -2.453125 4.875 -2.84375 C 4.90625 -2.96875 5.421875 -4.171875 6.515625 -4.171875 C 6.9375 -4.171875 7.046875 -3.828125 7.046875 -3.46875 C 7.046875 -2.90625 6.625 -1.78125 6.421875 -1.25 C 6.34375 -1.015625 6.296875 -0.90625 6.296875 -0.703125 C 6.296875 -0.234375 6.640625 0.109375 7.109375 0.109375 C 8.046875 0.109375 8.40625 -1.34375 8.40625 -1.421875 C 8.40625 -1.515625 8.328125 -1.515625 8.296875 -1.515625 C 8.203125 -1.515625 8.203125 -1.484375 8.140625 -1.34375 C 8 -0.8125 7.671875 -0.109375 7.140625 -0.109375 C 6.96875 -0.109375 6.890625 -0.203125 6.890625 -0.4375 C 6.890625 -0.6875 6.984375 -0.921875 7.078125 -1.140625 C 7.265625 -1.65625 7.671875 -2.765625 7.671875 -3.328125 C 7.671875 -3.96875 7.28125 -4.390625 6.53125 -4.390625 C 5.796875 -4.390625 5.28125 -3.953125 4.921875 -3.421875 C 4.90625 -3.546875 4.875 -3.890625 4.609375 -4.125 C 4.359375 -4.328125 4.03125 -4.390625 3.796875 -4.390625 C 2.890625 -4.390625 2.40625 -3.75 2.25 -3.515625 C 2.1875 -4.09375 1.78125 -4.390625 1.328125 -4.390625 C 0.875 -4.390625 0.6875 -4 0.59375 -3.8125 C 0.421875 -3.46875 0.28125 -2.890625 0.28125 -2.859375 C 0.28125 -2.765625 0.390625 -2.765625 0.40625 -2.765625 C 0.5 -2.765625 0.515625 -2.765625 0.578125 -2.984375 C 0.75 -3.6875 0.9375 -4.171875 1.296875 -4.171875 C 1.453125 -4.171875 1.609375 -4.09375 1.609375 -3.703125 C 1.609375 -3.5 1.578125 -3.390625 1.453125 -2.875 Z M 0.875 -0.578125 \"/>\n",
       "</g>\n",
       "<g id=\"glyph-1717857318698389--0-5\">\n",
       "<path d=\"M 0.875 -0.578125 C 0.84375 -0.4375 0.78125 -0.203125 0.78125 -0.15625 C 0.78125 0.015625 0.921875 0.109375 1.078125 0.109375 C 1.1875 0.109375 1.375 0.03125 1.4375 -0.171875 C 1.453125 -0.1875 1.5625 -0.65625 1.625 -0.90625 L 1.84375 -1.796875 C 1.90625 -2.015625 1.96875 -2.234375 2.015625 -2.453125 C 2.046875 -2.625 2.140625 -2.921875 2.140625 -2.953125 C 2.296875 -3.265625 2.8125 -4.171875 3.765625 -4.171875 C 4.203125 -4.171875 4.296875 -3.796875 4.296875 -3.46875 C 4.296875 -2.859375 3.8125 -1.59375 3.65625 -1.15625 C 3.5625 -0.9375 3.546875 -0.8125 3.546875 -0.703125 C 3.546875 -0.234375 3.90625 0.109375 4.359375 0.109375 C 5.296875 0.109375 5.671875 -1.34375 5.671875 -1.421875 C 5.671875 -1.515625 5.578125 -1.515625 5.546875 -1.515625 C 5.453125 -1.515625 5.453125 -1.484375 5.390625 -1.34375 C 5.203125 -0.671875 4.875 -0.109375 4.390625 -0.109375 C 4.21875 -0.109375 4.140625 -0.203125 4.140625 -0.4375 C 4.140625 -0.6875 4.234375 -0.921875 4.328125 -1.140625 C 4.515625 -1.671875 4.9375 -2.765625 4.9375 -3.328125 C 4.9375 -3.984375 4.5 -4.390625 3.796875 -4.390625 C 2.890625 -4.390625 2.40625 -3.75 2.25 -3.515625 C 2.1875 -4.078125 1.78125 -4.390625 1.328125 -4.390625 C 0.875 -4.390625 0.6875 -4 0.578125 -3.8125 C 0.421875 -3.484375 0.28125 -2.890625 0.28125 -2.859375 C 0.28125 -2.765625 0.390625 -2.765625 0.40625 -2.765625 C 0.5 -2.765625 0.515625 -2.765625 0.578125 -2.984375 C 0.75 -3.6875 0.9375 -4.171875 1.296875 -4.171875 C 1.5 -4.171875 1.609375 -4.03125 1.609375 -3.703125 C 1.609375 -3.5 1.578125 -3.390625 1.453125 -2.875 Z M 0.875 -0.578125 \"/>\n",
       "</g>\n",
       "<g id=\"glyph-1717857318698389--0-6\">\n",
       "<path d=\"M 2.5625 -6.78125 C 2.5625 -6.78125 2.5625 -6.890625 2.4375 -6.890625 C 2.203125 -6.890625 1.484375 -6.8125 1.21875 -6.78125 C 1.140625 -6.78125 1.03125 -6.765625 1.03125 -6.578125 C 1.03125 -6.46875 1.125 -6.46875 1.28125 -6.46875 C 1.75 -6.46875 1.765625 -6.375 1.765625 -6.296875 L 1.734375 -6.109375 L 0.484375 -1.140625 C 0.453125 -1.03125 0.4375 -0.96875 0.4375 -0.796875 C 0.4375 -0.234375 0.875 0.109375 1.34375 0.109375 C 1.671875 0.109375 1.921875 -0.09375 2.078125 -0.453125 C 2.265625 -0.828125 2.375 -1.40625 2.375 -1.421875 C 2.375 -1.515625 2.296875 -1.515625 2.265625 -1.515625 C 2.15625 -1.515625 2.15625 -1.484375 2.125 -1.34375 C 1.953125 -0.6875 1.765625 -0.109375 1.375 -0.109375 C 1.078125 -0.109375 1.078125 -0.421875 1.078125 -0.5625 C 1.078125 -0.796875 1.078125 -0.859375 1.125 -1.046875 Z M 2.5625 -6.78125 \"/>\n",
       "</g>\n",
       "</g>\n",
       "<clipPath id=\"clip-1717857318698389--0\">\n",
       "<path clip-rule=\"nonzero\" d=\"M 0.328125 14 L 32 14 L 32 32 L 0.328125 32 Z M 0.328125 14 \"/>\n",
       "</clipPath>\n",
       "<clipPath id=\"clip-1717857318698389--1\">\n",
       "<path clip-rule=\"nonzero\" d=\"M 0.328125 48 L 32 48 L 32 65 L 0.328125 65 Z M 0.328125 48 \"/>\n",
       "</clipPath>\n",
       "<clipPath id=\"clip-1717857318698389--2\">\n",
       "<path clip-rule=\"nonzero\" d=\"M 0.328125 81 L 32 81 L 32 99 L 0.328125 99 Z M 0.328125 81 \"/>\n",
       "</clipPath>\n",
       "<clipPath id=\"clip-1717857318698389--3\">\n",
       "<path clip-rule=\"nonzero\" d=\"M 0.328125 115 L 32 115 L 32 133 L 0.328125 133 Z M 0.328125 115 \"/>\n",
       "</clipPath>\n",
       "<clipPath id=\"clip-1717857318698389--4\">\n",
       "<path clip-rule=\"nonzero\" d=\"M 218 14 L 249.960938 14 L 249.960938 32 L 218 32 Z M 218 14 \"/>\n",
       "</clipPath>\n",
       "<clipPath id=\"clip-1717857318698389--5\">\n",
       "<path clip-rule=\"nonzero\" d=\"M 218 48 L 249.960938 48 L 249.960938 65 L 218 65 Z M 218 48 \"/>\n",
       "</clipPath>\n",
       "<clipPath id=\"clip-1717857318698389--6\">\n",
       "<path clip-rule=\"nonzero\" d=\"M 218 81 L 249.960938 81 L 249.960938 99 L 218 99 Z M 218 81 \"/>\n",
       "</clipPath>\n",
       "<clipPath id=\"clip-1717857318698389--7\">\n",
       "<path clip-rule=\"nonzero\" d=\"M 218 115 L 249.960938 115 L 249.960938 133 L 218 133 Z M 218 115 \"/>\n",
       "</clipPath>\n",
       "</defs>\n",
       "<path fill=\"none\" stroke-width=\"0.59776\" stroke-linecap=\"butt\" stroke-linejoin=\"miter\" stroke=\"rgb(0%, 0%, 0%)\" stroke-opacity=\"1\" stroke-miterlimit=\"10\" d=\"M -83.357091 62.36114 L -98.065056 62.36114 C -100.265368 62.36114 -102.049934 60.580495 -102.049934 58.376262 L -102.049934 43.672219 C -102.049934 41.467985 -100.265368 39.687341 -98.065056 39.687341 L -83.357091 39.687341 C -81.15678 39.687341 -79.372213 41.467985 -79.372213 43.672219 L -79.372213 58.376262 C -79.372213 60.580495 -81.15678 62.36114 -83.357091 62.36114 Z M -83.357091 62.36114 \" transform=\"matrix(0.995953, 0, 0, -0.995953, 125.14472, 73.401714)\"/>\n",
       "<g fill=\"rgb(0%, 0%, 0%)\" fill-opacity=\"1\">\n",
       "<use xlink:href=\"#glyph-1717857318698389--0-0\" x=\"31.839887\" y=\"25.065142\"/>\n",
       "</g>\n",
       "<path fill=\"none\" stroke-width=\"0.59776\" stroke-linecap=\"butt\" stroke-linejoin=\"miter\" stroke=\"rgb(0%, 0%, 0%)\" stroke-opacity=\"1\" stroke-miterlimit=\"10\" d=\"M -83.357091 28.34848 L -98.065056 28.34848 C -100.265368 28.34848 -102.049934 26.563914 -102.049934 24.363602 L -102.049934 9.655637 C -102.049934 7.455326 -100.265368 5.670759 -98.065056 5.670759 L -83.357091 5.670759 C -81.15678 5.670759 -79.372213 7.455326 -79.372213 9.655637 L -79.372213 24.363602 C -79.372213 26.563914 -81.15678 28.34848 -83.357091 28.34848 Z M -83.357091 28.34848 \" transform=\"matrix(0.995953, 0, 0, -0.995953, 125.14472, 73.401714)\"/>\n",
       "<g fill=\"rgb(0%, 0%, 0%)\" fill-opacity=\"1\">\n",
       "<use xlink:href=\"#glyph-1717857318698389--0-1\" x=\"32.259184\" y=\"57.634787\"/>\n",
       "</g>\n",
       "<path fill=\"none\" stroke-width=\"0.59776\" stroke-linecap=\"butt\" stroke-linejoin=\"miter\" stroke=\"rgb(0%, 0%, 0%)\" stroke-opacity=\"1\" stroke-miterlimit=\"10\" d=\"M -83.357091 -5.668101 L -98.065056 -5.668101 C -100.265368 -5.668101 -102.049934 -7.452668 -102.049934 -9.652979 L -102.049934 -24.360944 C -102.049934 -26.561256 -100.265368 -28.345822 -98.065056 -28.345822 L -83.357091 -28.345822 C -81.15678 -28.345822 -79.372213 -26.561256 -79.372213 -24.360944 L -79.372213 -9.652979 C -79.372213 -7.452668 -81.15678 -5.668101 -83.357091 -5.668101 Z M -83.357091 -5.668101 \" transform=\"matrix(0.995953, 0, 0, -0.995953, 125.14472, 73.401714)\"/>\n",
       "<g fill=\"rgb(0%, 0%, 0%)\" fill-opacity=\"1\">\n",
       "<use xlink:href=\"#glyph-1717857318698389--0-2\" x=\"31.944462\" y=\"93.785878\"/>\n",
       "</g>\n",
       "<path fill=\"none\" stroke-width=\"0.59776\" stroke-linecap=\"butt\" stroke-linejoin=\"miter\" stroke=\"rgb(0%, 0%, 0%)\" stroke-opacity=\"1\" stroke-miterlimit=\"10\" d=\"M -83.357091 -39.684683 L -98.065056 -39.684683 C -100.265368 -39.684683 -102.049934 -41.469249 -102.049934 -43.669561 L -102.049934 -58.377526 C -102.049934 -60.577837 -100.265368 -62.362404 -98.065056 -62.362404 L -83.357091 -62.362404 C -81.15678 -62.362404 -79.372213 -60.577837 -79.372213 -58.377526 L -79.372213 -43.669561 C -79.372213 -41.469249 -81.15678 -39.684683 -83.357091 -39.684683 Z M -83.357091 -39.684683 \" transform=\"matrix(0.995953, 0, 0, -0.995953, 125.14472, 73.401714)\"/>\n",
       "<g fill=\"rgb(0%, 0%, 0%)\" fill-opacity=\"1\">\n",
       "<use xlink:href=\"#glyph-1717857318698389--0-3\" x=\"32.063977\" y=\"127.664205\"/>\n",
       "</g>\n",
       "<path fill=\"none\" stroke-width=\"0.59776\" stroke-linecap=\"butt\" stroke-linejoin=\"miter\" stroke=\"rgb(0%, 0%, 0%)\" stroke-opacity=\"1\" stroke-miterlimit=\"10\" d=\"M -38.001649 62.36114 L -52.709614 62.36114 C -54.909926 62.36114 -56.694492 60.580495 -56.694492 58.376262 L -56.694492 9.655637 C -56.694492 7.455326 -54.909926 5.670759 -52.709614 5.670759 L -38.001649 5.670759 C -35.801338 5.670759 -34.016771 7.455326 -34.016771 9.655637 L -34.016771 58.376262 C -34.016771 60.580495 -35.801338 62.36114 -38.001649 62.36114 Z M -38.001649 62.36114 \" transform=\"matrix(0.995953, 0, 0, -0.995953, 125.14472, 73.401714)\"/>\n",
       "<g fill=\"rgb(0%, 0%, 0%)\" fill-opacity=\"1\">\n",
       "<use xlink:href=\"#glyph-1717857318698389--0-4\" x=\"75.617984\" y=\"41.659706\"/>\n",
       "</g>\n",
       "<path fill=\"none\" stroke-width=\"0.59776\" stroke-linecap=\"butt\" stroke-linejoin=\"miter\" stroke=\"rgb(0%, 0%, 0%)\" stroke-opacity=\"1\" stroke-miterlimit=\"10\" d=\"M -38.001649 -5.668101 L -52.709614 -5.668101 C -54.909926 -5.668101 -56.694492 -7.452668 -56.694492 -9.652979 L -56.694492 -58.377526 C -56.694492 -60.577837 -54.909926 -62.362404 -52.709614 -62.362404 L -38.001649 -62.362404 C -35.801338 -62.362404 -34.016771 -60.577837 -34.016771 -58.377526 L -34.016771 -9.652979 C -34.016771 -7.452668 -35.801338 -5.668101 -38.001649 -5.668101 Z M -38.001649 -5.668101 \" transform=\"matrix(0.995953, 0, 0, -0.995953, 125.14472, 73.401714)\"/>\n",
       "<g fill=\"rgb(0%, 0%, 0%)\" fill-opacity=\"1\">\n",
       "<use xlink:href=\"#glyph-1717857318698389--0-5\" x=\"76.996383\" y=\"109.41636\"/>\n",
       "</g>\n",
       "<path fill=\"none\" stroke-width=\"0.59776\" stroke-linecap=\"butt\" stroke-linejoin=\"miter\" stroke=\"rgb(0%, 0%, 0%)\" stroke-opacity=\"1\" stroke-miterlimit=\"10\" d=\"M 7.353793 62.36114 L -7.354172 62.36114 C -9.554484 62.36114 -11.33905 60.580495 -11.33905 58.376262 L -11.33905 -58.377526 C -11.33905 -60.577837 -9.554484 -62.362404 -7.354172 -62.362404 L 7.353793 -62.362404 C 9.554104 -62.362404 11.338671 -60.577837 11.338671 -58.377526 L 11.338671 58.376262 C 11.338671 60.580495 9.554104 62.36114 7.353793 62.36114 Z M 7.353793 62.36114 \" transform=\"matrix(0.995953, 0, 0, -0.995953, 125.14472, 73.401714)\"/>\n",
       "<g fill=\"rgb(0%, 0%, 0%)\" fill-opacity=\"1\">\n",
       "<use xlink:href=\"#glyph-1717857318698389--0-6\" x=\"123.567131\" y=\"76.847711\"/>\n",
       "</g>\n",
       "<path fill=\"none\" stroke-width=\"0.59776\" stroke-linecap=\"butt\" stroke-linejoin=\"miter\" stroke=\"rgb(0%, 0%, 0%)\" stroke-opacity=\"1\" stroke-miterlimit=\"10\" d=\"M 52.709235 62.36114 L 38.00127 62.36114 C 35.800958 62.36114 34.016392 60.580495 34.016392 58.376262 L 34.016392 9.655637 C 34.016392 7.455326 35.800958 5.670759 38.00127 5.670759 L 52.709235 5.670759 C 54.909546 5.670759 56.694113 7.455326 56.694113 9.655637 L 56.694113 58.376262 C 56.694113 60.580495 54.909546 62.36114 52.709235 62.36114 Z M 52.709235 62.36114 \" transform=\"matrix(0.995953, 0, 0, -0.995953, 125.14472, 73.401714)\"/>\n",
       "<g fill=\"rgb(0%, 0%, 0%)\" fill-opacity=\"1\">\n",
       "<use xlink:href=\"#glyph-1717857318698389--0-5\" x=\"167.337261\" y=\"41.659706\"/>\n",
       "</g>\n",
       "<path fill=\"none\" stroke-width=\"0.59776\" stroke-linecap=\"butt\" stroke-linejoin=\"miter\" stroke=\"rgb(0%, 0%, 0%)\" stroke-opacity=\"1\" stroke-miterlimit=\"10\" d=\"M 52.709235 -5.668101 L 38.00127 -5.668101 C 35.800958 -5.668101 34.016392 -7.452668 34.016392 -9.652979 L 34.016392 -58.377526 C 34.016392 -60.577837 35.800958 -62.362404 38.00127 -62.362404 L 52.709235 -62.362404 C 54.909546 -62.362404 56.694113 -60.577837 56.694113 -58.377526 L 56.694113 -9.652979 C 56.694113 -7.452668 54.909546 -5.668101 52.709235 -5.668101 Z M 52.709235 -5.668101 \" transform=\"matrix(0.995953, 0, 0, -0.995953, 125.14472, 73.401714)\"/>\n",
       "<g fill=\"rgb(0%, 0%, 0%)\" fill-opacity=\"1\">\n",
       "<use xlink:href=\"#glyph-1717857318698389--0-4\" x=\"165.959858\" y=\"109.41636\"/>\n",
       "</g>\n",
       "<path fill=\"none\" stroke-width=\"0.59776\" stroke-linecap=\"butt\" stroke-linejoin=\"miter\" stroke=\"rgb(0%, 0%, 0%)\" stroke-opacity=\"1\" stroke-miterlimit=\"10\" d=\"M 98.064676 62.36114 L 83.356711 62.36114 C 81.1564 62.36114 79.371833 60.580495 79.371833 58.376262 L 79.371833 43.672219 C 79.371833 41.467985 81.1564 39.687341 83.356711 39.687341 L 98.064676 39.687341 C 100.264988 39.687341 102.049554 41.467985 102.049554 43.672219 L 102.049554 58.376262 C 102.049554 60.580495 100.264988 62.36114 98.064676 62.36114 Z M 98.064676 62.36114 \" transform=\"matrix(0.995953, 0, 0, -0.995953, 125.14472, 73.401714)\"/>\n",
       "<g fill=\"rgb(0%, 0%, 0%)\" fill-opacity=\"1\">\n",
       "<use xlink:href=\"#glyph-1717857318698389--0-2\" x=\"212.62821\" y=\"26.03022\"/>\n",
       "</g>\n",
       "<path fill=\"none\" stroke-width=\"0.59776\" stroke-linecap=\"butt\" stroke-linejoin=\"miter\" stroke=\"rgb(0%, 0%, 0%)\" stroke-opacity=\"1\" stroke-miterlimit=\"10\" d=\"M 98.064676 28.34848 L 83.356711 28.34848 C 81.1564 28.34848 79.371833 26.563914 79.371833 24.363602 L 79.371833 9.655637 C 79.371833 7.455326 81.1564 5.670759 83.356711 5.670759 L 98.064676 5.670759 C 100.264988 5.670759 102.049554 7.455326 102.049554 9.655637 L 102.049554 24.363602 C 102.049554 26.563914 100.264988 28.34848 98.064676 28.34848 Z M 98.064676 28.34848 \" transform=\"matrix(0.995953, 0, 0, -0.995953, 125.14472, 73.401714)\"/>\n",
       "<g fill=\"rgb(0%, 0%, 0%)\" fill-opacity=\"1\">\n",
       "<use xlink:href=\"#glyph-1717857318698389--0-3\" x=\"212.746728\" y=\"59.908547\"/>\n",
       "</g>\n",
       "<path fill=\"none\" stroke-width=\"0.59776\" stroke-linecap=\"butt\" stroke-linejoin=\"miter\" stroke=\"rgb(0%, 0%, 0%)\" stroke-opacity=\"1\" stroke-miterlimit=\"10\" d=\"M 98.064676 -5.668101 L 83.356711 -5.668101 C 81.1564 -5.668101 79.371833 -7.452668 79.371833 -9.652979 L 79.371833 -24.360944 C 79.371833 -26.561256 81.1564 -28.345822 83.356711 -28.345822 L 98.064676 -28.345822 C 100.264988 -28.345822 102.049554 -26.561256 102.049554 -24.360944 L 102.049554 -9.652979 C 102.049554 -7.452668 100.264988 -5.668101 98.064676 -5.668101 Z M 98.064676 -5.668101 \" transform=\"matrix(0.995953, 0, 0, -0.995953, 125.14472, 73.401714)\"/>\n",
       "<g fill=\"rgb(0%, 0%, 0%)\" fill-opacity=\"1\">\n",
       "<use xlink:href=\"#glyph-1717857318698389--0-0\" x=\"212.523635\" y=\"92.821796\"/>\n",
       "</g>\n",
       "<path fill=\"none\" stroke-width=\"0.59776\" stroke-linecap=\"butt\" stroke-linejoin=\"miter\" stroke=\"rgb(0%, 0%, 0%)\" stroke-opacity=\"1\" stroke-miterlimit=\"10\" d=\"M 98.064676 -39.684683 L 83.356711 -39.684683 C 81.1564 -39.684683 79.371833 -41.469249 79.371833 -43.669561 L 79.371833 -58.377526 C 79.371833 -60.577837 81.1564 -62.362404 83.356711 -62.362404 L 98.064676 -62.362404 C 100.264988 -62.362404 102.049554 -60.577837 102.049554 -58.377526 L 102.049554 -43.669561 C 102.049554 -41.469249 100.264988 -39.684683 98.064676 -39.684683 Z M 98.064676 -39.684683 \" transform=\"matrix(0.995953, 0, 0, -0.995953, 125.14472, 73.401714)\"/>\n",
       "<g fill=\"rgb(0%, 0%, 0%)\" fill-opacity=\"1\">\n",
       "<use xlink:href=\"#glyph-1717857318698389--0-1\" x=\"212.941935\" y=\"125.390445\"/>\n",
       "</g>\n",
       "<g clip-path=\"url(#clip-1717857318698389--0)\">\n",
       "<path fill=\"none\" stroke-width=\"0.59776\" stroke-linecap=\"butt\" stroke-linejoin=\"miter\" stroke=\"rgb(0%, 0%, 0%)\" stroke-opacity=\"1\" stroke-miterlimit=\"10\" d=\"M -125.025737 51.034045 C -116.181347 51.034045 -111.192405 51.022279 -102.348016 51.022279 \" transform=\"matrix(0.995953, 0, 0, -0.995953, 125.14472, 73.401714)\"/>\n",
       "</g>\n",
       "<g clip-path=\"url(#clip-1717857318698389--1)\">\n",
       "<path fill=\"none\" stroke-width=\"0.59776\" stroke-linecap=\"butt\" stroke-linejoin=\"miter\" stroke=\"rgb(0%, 0%, 0%)\" stroke-opacity=\"1\" stroke-miterlimit=\"10\" d=\"M -125.025737 17.00962 C -116.181347 17.00962 -111.192405 17.00962 -102.348016 17.00962 \" transform=\"matrix(0.995953, 0, 0, -0.995953, 125.14472, 73.401714)\"/>\n",
       "</g>\n",
       "<g clip-path=\"url(#clip-1717857318698389--2)\">\n",
       "<path fill=\"none\" stroke-width=\"0.59776\" stroke-linecap=\"butt\" stroke-linejoin=\"miter\" stroke=\"rgb(0%, 0%, 0%)\" stroke-opacity=\"1\" stroke-miterlimit=\"10\" d=\"M -125.025737 -17.006962 C -116.181347 -17.006962 -111.192405 -17.006962 -102.348016 -17.006962 \" transform=\"matrix(0.995953, 0, 0, -0.995953, 125.14472, 73.401714)\"/>\n",
       "</g>\n",
       "<g clip-path=\"url(#clip-1717857318698389--3)\">\n",
       "<path fill=\"none\" stroke-width=\"0.59776\" stroke-linecap=\"butt\" stroke-linejoin=\"miter\" stroke=\"rgb(0%, 0%, 0%)\" stroke-opacity=\"1\" stroke-miterlimit=\"10\" d=\"M -125.025737 -51.03531 C -116.181347 -51.03531 -111.192405 -51.023543 -102.348016 -51.023543 \" transform=\"matrix(0.995953, 0, 0, -0.995953, 125.14472, 73.401714)\"/>\n",
       "</g>\n",
       "<path fill=\"none\" stroke-width=\"0.59776\" stroke-linecap=\"butt\" stroke-linejoin=\"miter\" stroke=\"rgb(0%, 0%, 0%)\" stroke-opacity=\"1\" stroke-miterlimit=\"10\" d=\"M 56.992194 -51.023543 C 65.601256 -51.023543 70.460768 -51.023543 79.073752 -51.023543 \" transform=\"matrix(0.995953, 0, 0, -0.995953, 125.14472, 73.401714)\"/>\n",
       "<path fill=\"none\" stroke-width=\"0.59776\" stroke-linecap=\"butt\" stroke-linejoin=\"miter\" stroke=\"rgb(0%, 0%, 0%)\" stroke-opacity=\"1\" stroke-miterlimit=\"10\" d=\"M 56.992194 51.022279 C 65.601256 51.022279 70.460768 51.022279 79.073752 51.022279 \" transform=\"matrix(0.995953, 0, 0, -0.995953, 125.14472, 73.401714)\"/>\n",
       "<path fill=\"none\" stroke-width=\"0.59776\" stroke-linecap=\"butt\" stroke-linejoin=\"miter\" stroke=\"rgb(0%, 0%, 0%)\" stroke-opacity=\"1\" stroke-miterlimit=\"10\" d=\"M 56.992194 -17.006962 C 65.601256 -17.006962 70.460768 -17.006962 79.073752 -17.006962 \" transform=\"matrix(0.995953, 0, 0, -0.995953, 125.14472, 73.401714)\"/>\n",
       "<path fill=\"none\" stroke-width=\"0.59776\" stroke-linecap=\"butt\" stroke-linejoin=\"miter\" stroke=\"rgb(0%, 0%, 0%)\" stroke-opacity=\"1\" stroke-miterlimit=\"10\" d=\"M 56.992194 17.00962 C 65.601256 17.00962 70.460768 17.00962 79.073752 17.00962 \" transform=\"matrix(0.995953, 0, 0, -0.995953, 125.14472, 73.401714)\"/>\n",
       "<path fill=\"none\" stroke-width=\"0.59776\" stroke-linecap=\"butt\" stroke-linejoin=\"miter\" stroke=\"rgb(0%, 0%, 0%)\" stroke-opacity=\"1\" stroke-miterlimit=\"10\" d=\"M 11.636752 -51.023543 C 20.249736 -51.023543 25.105326 -51.023543 33.71831 -51.023543 \" transform=\"matrix(0.995953, 0, 0, -0.995953, 125.14472, 73.401714)\"/>\n",
       "<path fill=\"none\" stroke-width=\"0.59776\" stroke-linecap=\"butt\" stroke-linejoin=\"miter\" stroke=\"rgb(0%, 0%, 0%)\" stroke-opacity=\"1\" stroke-miterlimit=\"10\" d=\"M 11.636752 51.022279 C 20.249736 51.022279 25.105326 51.022279 33.71831 51.022279 \" transform=\"matrix(0.995953, 0, 0, -0.995953, 125.14472, 73.401714)\"/>\n",
       "<path fill=\"none\" stroke-width=\"0.59776\" stroke-linecap=\"butt\" stroke-linejoin=\"miter\" stroke=\"rgb(0%, 0%, 0%)\" stroke-opacity=\"1\" stroke-miterlimit=\"10\" d=\"M 11.636752 -17.006962 C 20.249736 -17.006962 25.105326 -17.006962 33.71831 -17.006962 \" transform=\"matrix(0.995953, 0, 0, -0.995953, 125.14472, 73.401714)\"/>\n",
       "<path fill=\"none\" stroke-width=\"0.59776\" stroke-linecap=\"butt\" stroke-linejoin=\"miter\" stroke=\"rgb(0%, 0%, 0%)\" stroke-opacity=\"1\" stroke-miterlimit=\"10\" d=\"M 11.636752 17.00962 C 20.249736 17.00962 25.105326 17.00962 33.71831 17.00962 \" transform=\"matrix(0.995953, 0, 0, -0.995953, 125.14472, 73.401714)\"/>\n",
       "<path fill=\"none\" stroke-width=\"0.59776\" stroke-linecap=\"butt\" stroke-linejoin=\"miter\" stroke=\"rgb(0%, 0%, 0%)\" stroke-opacity=\"1\" stroke-miterlimit=\"10\" d=\"M -33.71869 -51.023543 C -25.105706 -51.023543 -20.246194 -51.023543 -11.637132 -51.023543 \" transform=\"matrix(0.995953, 0, 0, -0.995953, 125.14472, 73.401714)\"/>\n",
       "<path fill=\"none\" stroke-width=\"0.59776\" stroke-linecap=\"butt\" stroke-linejoin=\"miter\" stroke=\"rgb(0%, 0%, 0%)\" stroke-opacity=\"1\" stroke-miterlimit=\"10\" d=\"M -33.71869 51.022279 C -25.105706 51.022279 -20.246194 51.022279 -11.637132 51.022279 \" transform=\"matrix(0.995953, 0, 0, -0.995953, 125.14472, 73.401714)\"/>\n",
       "<path fill=\"none\" stroke-width=\"0.59776\" stroke-linecap=\"butt\" stroke-linejoin=\"miter\" stroke=\"rgb(0%, 0%, 0%)\" stroke-opacity=\"1\" stroke-miterlimit=\"10\" d=\"M -33.71869 -17.006962 C -25.105706 -17.006962 -20.246194 -17.006962 -11.637132 -17.006962 \" transform=\"matrix(0.995953, 0, 0, -0.995953, 125.14472, 73.401714)\"/>\n",
       "<path fill=\"none\" stroke-width=\"0.59776\" stroke-linecap=\"butt\" stroke-linejoin=\"miter\" stroke=\"rgb(0%, 0%, 0%)\" stroke-opacity=\"1\" stroke-miterlimit=\"10\" d=\"M -33.71869 17.00962 C -25.105706 17.00962 -20.246194 17.00962 -11.637132 17.00962 \" transform=\"matrix(0.995953, 0, 0, -0.995953, 125.14472, 73.401714)\"/>\n",
       "<path fill=\"none\" stroke-width=\"0.59776\" stroke-linecap=\"butt\" stroke-linejoin=\"miter\" stroke=\"rgb(0%, 0%, 0%)\" stroke-opacity=\"1\" stroke-miterlimit=\"10\" d=\"M -79.07021 -51.023543 C -70.461148 -51.023543 -65.601636 -51.023543 -56.992574 -51.023543 \" transform=\"matrix(0.995953, 0, 0, -0.995953, 125.14472, 73.401714)\"/>\n",
       "<path fill=\"none\" stroke-width=\"0.59776\" stroke-linecap=\"butt\" stroke-linejoin=\"miter\" stroke=\"rgb(0%, 0%, 0%)\" stroke-opacity=\"1\" stroke-miterlimit=\"10\" d=\"M -79.07021 51.022279 C -70.461148 51.022279 -65.601636 51.022279 -56.992574 51.022279 \" transform=\"matrix(0.995953, 0, 0, -0.995953, 125.14472, 73.401714)\"/>\n",
       "<path fill=\"none\" stroke-width=\"0.59776\" stroke-linecap=\"butt\" stroke-linejoin=\"miter\" stroke=\"rgb(0%, 0%, 0%)\" stroke-opacity=\"1\" stroke-miterlimit=\"10\" d=\"M -79.07021 -17.006962 C -70.461148 -17.006962 -65.601636 -17.006962 -56.992574 -17.006962 \" transform=\"matrix(0.995953, 0, 0, -0.995953, 125.14472, 73.401714)\"/>\n",
       "<path fill=\"none\" stroke-width=\"0.59776\" stroke-linecap=\"butt\" stroke-linejoin=\"miter\" stroke=\"rgb(0%, 0%, 0%)\" stroke-opacity=\"1\" stroke-miterlimit=\"10\" d=\"M -79.07021 17.00962 C -70.461148 17.00962 -65.601636 17.00962 -56.992574 17.00962 \" transform=\"matrix(0.995953, 0, 0, -0.995953, 125.14472, 73.401714)\"/>\n",
       "<g clip-path=\"url(#clip-1717857318698389--4)\">\n",
       "<path fill=\"none\" stroke-width=\"0.59776\" stroke-linecap=\"butt\" stroke-linejoin=\"miter\" stroke=\"rgb(0%, 0%, 0%)\" stroke-opacity=\"1\" stroke-miterlimit=\"10\" d=\"M 102.347636 51.022279 C 111.192026 51.022279 116.180967 51.034045 125.025357 51.034045 \" transform=\"matrix(0.995953, 0, 0, -0.995953, 125.14472, 73.401714)\"/>\n",
       "</g>\n",
       "<g clip-path=\"url(#clip-1717857318698389--5)\">\n",
       "<path fill=\"none\" stroke-width=\"0.59776\" stroke-linecap=\"butt\" stroke-linejoin=\"miter\" stroke=\"rgb(0%, 0%, 0%)\" stroke-opacity=\"1\" stroke-miterlimit=\"10\" d=\"M 102.347636 17.00962 C 111.192026 17.00962 116.180967 17.00962 125.025357 17.00962 \" transform=\"matrix(0.995953, 0, 0, -0.995953, 125.14472, 73.401714)\"/>\n",
       "</g>\n",
       "<g clip-path=\"url(#clip-1717857318698389--6)\">\n",
       "<path fill=\"none\" stroke-width=\"0.59776\" stroke-linecap=\"butt\" stroke-linejoin=\"miter\" stroke=\"rgb(0%, 0%, 0%)\" stroke-opacity=\"1\" stroke-miterlimit=\"10\" d=\"M 102.347636 -17.006962 C 111.192026 -17.006962 116.180967 -17.006962 125.025357 -17.006962 \" transform=\"matrix(0.995953, 0, 0, -0.995953, 125.14472, 73.401714)\"/>\n",
       "</g>\n",
       "<g clip-path=\"url(#clip-1717857318698389--7)\">\n",
       "<path fill=\"none\" stroke-width=\"0.59776\" stroke-linecap=\"butt\" stroke-linejoin=\"miter\" stroke=\"rgb(0%, 0%, 0%)\" stroke-opacity=\"1\" stroke-miterlimit=\"10\" d=\"M 102.347636 -51.023543 C 111.192026 -51.023543 116.180967 -51.03531 125.025357 -51.03531 \" transform=\"matrix(0.995953, 0, 0, -0.995953, 125.14472, 73.401714)\"/>\n",
       "</g>\n",
       "</svg>\n",
       "\n"
      ],
      "text/plain": [
       "Catlab.Graphics.TikZ.Document(Catlab.Graphics.TikZ.Picture(Catlab.Graphics.TikZ.Statement[Catlab.Graphics.TikZ.Node(\"root\", Catlab.Graphics.TikZ.Property[Catlab.Graphics.TikZ.Property(\"outer box\", nothing), Catlab.Graphics.TikZ.Property(\"minimum width\", \"22\\\\tikzunit\"), Catlab.Graphics.TikZ.Property(\"minimum height\", \"13\\\\tikzunit\")], Catlab.Graphics.TikZ.Coordinate(\"0\", \"0\"), \"\"), Catlab.Graphics.TikZ.Node(\"n1\", Catlab.Graphics.TikZ.Property[Catlab.Graphics.TikZ.Property(\"box\", nothing), Catlab.Graphics.TikZ.Property(\"minimum size\", \"2\\\\tikzunit\")], Catlab.Graphics.TikZ.Coordinate(\"-8\", \"4.5\"), \"\\$f\\$\"), Catlab.Graphics.TikZ.Node(\"n2\", Catlab.Graphics.TikZ.Property[Catlab.Graphics.TikZ.Property(\"box\", nothing), Catlab.Graphics.TikZ.Property(\"minimum size\", \"2\\\\tikzunit\")], Catlab.Graphics.TikZ.Coordinate(\"-8\", \"1.5\"), \"\\$g\\$\"), Catlab.Graphics.TikZ.Node(\"n3\", Catlab.Graphics.TikZ.Property[Catlab.Graphics.TikZ.Property(\"box\", nothing), Catlab.Graphics.TikZ.Property(\"minimum size\", \"2\\\\tikzunit\")], Catlab.Graphics.TikZ.Coordinate(\"-8\", \"-1.5\"), \"\\$h\\$\"), Catlab.Graphics.TikZ.Node(\"n4\", Catlab.Graphics.TikZ.Property[Catlab.Graphics.TikZ.Property(\"box\", nothing), Catlab.Graphics.TikZ.Property(\"minimum size\", \"2\\\\tikzunit\")], Catlab.Graphics.TikZ.Coordinate(\"-8\", \"-4.5\"), \"\\$k\\$\"), Catlab.Graphics.TikZ.Node(\"n5\", Catlab.Graphics.TikZ.Property[Catlab.Graphics.TikZ.Property(\"box\", nothing), Catlab.Graphics.TikZ.Property(\"minimum width\", \"2\\\\tikzunit\"), Catlab.Graphics.TikZ.Property(\"minimum height\", \"5\\\\tikzunit\")], Catlab.Graphics.TikZ.Coordinate(\"-4\", \"3\"), \"\\$m\\$\"), Catlab.Graphics.TikZ.Node(\"n6\", Catlab.Graphics.TikZ.Property[Catlab.Graphics.TikZ.Property(\"box\", nothing), Catlab.Graphics.TikZ.Property(\"minimum width\", \"2\\\\tikzunit\"), Catlab.Graphics.TikZ.Property(\"minimum height\", \"5\\\\tikzunit\")], Catlab.Graphics.TikZ.Coordinate(\"-4\", \"-3\"), \"\\$n\\$\"), Catlab.Graphics.TikZ.Node(\"n7\", Catlab.Graphics.TikZ.Property[Catlab.Graphics.TikZ.Property(\"box\", nothing), Catlab.Graphics.TikZ.Property(\"minimum width\", \"2\\\\tikzunit\"), Catlab.Graphics.TikZ.Property(\"minimum height\", \"11\\\\tikzunit\")], Catlab.Graphics.TikZ.Coordinate(\"0\", \"0\"), \"\\$l\\$\"), Catlab.Graphics.TikZ.Node(\"n8\", Catlab.Graphics.TikZ.Property[Catlab.Graphics.TikZ.Property(\"box\", nothing), Catlab.Graphics.TikZ.Property(\"minimum width\", \"2\\\\tikzunit\"), Catlab.Graphics.TikZ.Property(\"minimum height\", \"5\\\\tikzunit\")], Catlab.Graphics.TikZ.Coordinate(\"4\", \"3\"), \"\\$n\\$\"), Catlab.Graphics.TikZ.Node(\"n9\", Catlab.Graphics.TikZ.Property[Catlab.Graphics.TikZ.Property(\"box\", nothing), Catlab.Graphics.TikZ.Property(\"minimum width\", \"2\\\\tikzunit\"), Catlab.Graphics.TikZ.Property(\"minimum height\", \"5\\\\tikzunit\")], Catlab.Graphics.TikZ.Coordinate(\"4\", \"-3\"), \"\\$m\\$\")  …  Catlab.Graphics.TikZ.Edge(Catlab.Graphics.TikZ.PathExpression[Catlab.Graphics.TikZ.NodeCoordinate(\"\\$(n6.east)+(0,1.5)\\$\"), Catlab.Graphics.TikZ.PathOperation(\"to\", Catlab.Graphics.TikZ.Property[Catlab.Graphics.TikZ.Property(\"out\", \"0\"), Catlab.Graphics.TikZ.Property(\"in\", \"-180\")]), Catlab.Graphics.TikZ.NodeCoordinate(\"\\$(n7.west)+(0,-1.5)\\$\")], Catlab.Graphics.TikZ.Property[Catlab.Graphics.TikZ.Property(\"wire\", nothing)]), Catlab.Graphics.TikZ.Edge(Catlab.Graphics.TikZ.PathExpression[Catlab.Graphics.TikZ.NodeCoordinate(\"\\$(n5.east)+(0,-1.5)\\$\"), Catlab.Graphics.TikZ.PathOperation(\"to\", Catlab.Graphics.TikZ.Property[Catlab.Graphics.TikZ.Property(\"out\", \"0\"), Catlab.Graphics.TikZ.Property(\"in\", \"-180\")]), Catlab.Graphics.TikZ.NodeCoordinate(\"\\$(n7.west)+(0,1.5)\\$\")], Catlab.Graphics.TikZ.Property[Catlab.Graphics.TikZ.Property(\"wire\", nothing)]), Catlab.Graphics.TikZ.Edge(Catlab.Graphics.TikZ.PathExpression[Catlab.Graphics.TikZ.NodeCoordinate(\"n4.east\"), Catlab.Graphics.TikZ.PathOperation(\"to\", Catlab.Graphics.TikZ.Property[Catlab.Graphics.TikZ.Property(\"out\", \"0\"), Catlab.Graphics.TikZ.Property(\"in\", \"-180\")]), Catlab.Graphics.TikZ.NodeCoordinate(\"\\$(n6.west)+(0,-1.5)\\$\")], Catlab.Graphics.TikZ.Property[Catlab.Graphics.TikZ.Property(\"wire\", nothing)]), Catlab.Graphics.TikZ.Edge(Catlab.Graphics.TikZ.PathExpression[Catlab.Graphics.TikZ.NodeCoordinate(\"n1.east\"), Catlab.Graphics.TikZ.PathOperation(\"to\", Catlab.Graphics.TikZ.Property[Catlab.Graphics.TikZ.Property(\"out\", \"0\"), Catlab.Graphics.TikZ.Property(\"in\", \"-180\")]), Catlab.Graphics.TikZ.NodeCoordinate(\"\\$(n5.west)+(0,1.5)\\$\")], Catlab.Graphics.TikZ.Property[Catlab.Graphics.TikZ.Property(\"wire\", nothing)]), Catlab.Graphics.TikZ.Edge(Catlab.Graphics.TikZ.PathExpression[Catlab.Graphics.TikZ.NodeCoordinate(\"n3.east\"), Catlab.Graphics.TikZ.PathOperation(\"to\", Catlab.Graphics.TikZ.Property[Catlab.Graphics.TikZ.Property(\"out\", \"0\"), Catlab.Graphics.TikZ.Property(\"in\", \"-180\")]), Catlab.Graphics.TikZ.NodeCoordinate(\"\\$(n6.west)+(0,1.5)\\$\")], Catlab.Graphics.TikZ.Property[Catlab.Graphics.TikZ.Property(\"wire\", nothing)]), Catlab.Graphics.TikZ.Edge(Catlab.Graphics.TikZ.PathExpression[Catlab.Graphics.TikZ.NodeCoordinate(\"n2.east\"), Catlab.Graphics.TikZ.PathOperation(\"to\", Catlab.Graphics.TikZ.Property[Catlab.Graphics.TikZ.Property(\"out\", \"0\"), Catlab.Graphics.TikZ.Property(\"in\", \"-180\")]), Catlab.Graphics.TikZ.NodeCoordinate(\"\\$(n5.west)+(0,-1.5)\\$\")], Catlab.Graphics.TikZ.Property[Catlab.Graphics.TikZ.Property(\"wire\", nothing)]), Catlab.Graphics.TikZ.Edge(Catlab.Graphics.TikZ.PathExpression[Catlab.Graphics.TikZ.NodeCoordinate(\"n10.east\"), Catlab.Graphics.TikZ.PathOperation(\"to\", Catlab.Graphics.TikZ.Property[Catlab.Graphics.TikZ.Property(\"out\", \"0\"), Catlab.Graphics.TikZ.Property(\"in\", \"180\")]), Catlab.Graphics.TikZ.NodeCoordinate(\"\\$(root.east)+(0,4.501)\\$\")], Catlab.Graphics.TikZ.Property[Catlab.Graphics.TikZ.Property(\"wire\", nothing)]), Catlab.Graphics.TikZ.Edge(Catlab.Graphics.TikZ.PathExpression[Catlab.Graphics.TikZ.NodeCoordinate(\"n11.east\"), Catlab.Graphics.TikZ.PathOperation(\"to\", Catlab.Graphics.TikZ.Property[Catlab.Graphics.TikZ.Property(\"out\", \"0\"), Catlab.Graphics.TikZ.Property(\"in\", \"180\")]), Catlab.Graphics.TikZ.NodeCoordinate(\"\\$(root.east)+(0,1.5)\\$\")], Catlab.Graphics.TikZ.Property[Catlab.Graphics.TikZ.Property(\"wire\", nothing)]), Catlab.Graphics.TikZ.Edge(Catlab.Graphics.TikZ.PathExpression[Catlab.Graphics.TikZ.NodeCoordinate(\"n12.east\"), Catlab.Graphics.TikZ.PathOperation(\"to\", Catlab.Graphics.TikZ.Property[Catlab.Graphics.TikZ.Property(\"out\", \"0\"), Catlab.Graphics.TikZ.Property(\"in\", \"180\")]), Catlab.Graphics.TikZ.NodeCoordinate(\"\\$(root.east)+(0,-1.5)\\$\")], Catlab.Graphics.TikZ.Property[Catlab.Graphics.TikZ.Property(\"wire\", nothing)]), Catlab.Graphics.TikZ.Edge(Catlab.Graphics.TikZ.PathExpression[Catlab.Graphics.TikZ.NodeCoordinate(\"n13.east\"), Catlab.Graphics.TikZ.PathOperation(\"to\", Catlab.Graphics.TikZ.Property[Catlab.Graphics.TikZ.Property(\"out\", \"0\"), Catlab.Graphics.TikZ.Property(\"in\", \"180\")]), Catlab.Graphics.TikZ.NodeCoordinate(\"\\$(root.east)+(0,-4.501)\\$\")], Catlab.Graphics.TikZ.Property[Catlab.Graphics.TikZ.Property(\"wire\", nothing)])], Catlab.Graphics.TikZ.Property[Catlab.Graphics.TikZ.Property(\"unit length/.code\", \"{{\\\\newdimen\\\\tikzunit}\\\\setlength{\\\\tikzunit}{#1}}\"), Catlab.Graphics.TikZ.Property(\"unit length\", \"4mm\"), Catlab.Graphics.TikZ.Property(\"x\", \"\\\\tikzunit\"), Catlab.Graphics.TikZ.Property(\"y\", \"\\\\tikzunit\"), Catlab.Graphics.TikZ.Property(\"semithick\", nothing), Catlab.Graphics.TikZ.Property(\"box/.style\", Catlab.Graphics.TikZ.Property[Catlab.Graphics.TikZ.Property(\"rectangle\", nothing), Catlab.Graphics.TikZ.Property(\"draw\", nothing), Catlab.Graphics.TikZ.Property(\"solid\", nothing), Catlab.Graphics.TikZ.Property(\"rounded corners\", nothing)]), Catlab.Graphics.TikZ.Property(\"outer box/.style\", Catlab.Graphics.TikZ.Property[Catlab.Graphics.TikZ.Property(\"draw\", \"none\")]), Catlab.Graphics.TikZ.Property(\"wire/.style\", Catlab.Graphics.TikZ.Property[Catlab.Graphics.TikZ.Property(\"draw\", nothing)])]), [\"calc\", \"shapes.geometric\"], [\"amssymb\"])"
      ]
     },
     "execution_count": 6,
     "metadata": {},
     "output_type": "execute_result"
    }
   ],
   "source": [
    "h, k = Hom(:h, C, D),  Hom(:k, D, C)\n",
    "m, n = Hom(:m, B⊗A, A⊗B), Hom(:n, D⊗C, C⊗D)\n",
    "q = Hom(:l, A⊗B⊗C⊗D, D⊗C⊗B⊗A)\n",
    "\n",
    "to_tikz((f⊗g⊗h⊗k)⋅(m⊗n)⋅q⋅(n⊗m)⋅(h⊗k⊗f⊗g))"
   ]
  },
  {
   "cell_type": "markdown",
   "metadata": {},
   "source": [
    "Identities and braidings appear as wires."
   ]
  },
  {
   "cell_type": "code",
   "execution_count": 7,
   "metadata": {},
   "outputs": [
    {
     "data": {
      "image/svg+xml": [
       "<?xml version=\"1.0\" encoding=\"UTF-8\"?>\n",
       "<svg xmlns=\"http://www.w3.org/2000/svg\" xmlns:xlink=\"http://www.w3.org/1999/xlink\" width=\"46.55\" height=\"45.354\" viewBox=\"0 0 46.55 45.354\">\n",
       "<defs>\n",
       "<g>\n",
       "<g id=\"glyph-1717857318698390--0-0\">\n",
       "<path d=\"M 1.765625 -1.125 C 1.359375 -0.46875 0.984375 -0.328125 0.546875 -0.296875 C 0.4375 -0.296875 0.34375 -0.296875 0.34375 -0.109375 C 0.34375 -0.046875 0.390625 0 0.46875 0 C 0.734375 0 1.046875 -0.03125 1.3125 -0.03125 C 1.640625 -0.03125 1.984375 0 2.296875 0 C 2.359375 0 2.484375 0 2.484375 -0.1875 C 2.484375 -0.296875 2.390625 -0.296875 2.328125 -0.296875 C 2.109375 -0.328125 1.875 -0.40625 1.875 -0.65625 C 1.875 -0.765625 1.921875 -0.875 2 -1.015625 L 2.75 -2.265625 L 5.21875 -2.265625 C 5.234375 -2.0625 5.375 -0.734375 5.375 -0.625 C 5.375 -0.328125 4.859375 -0.296875 4.671875 -0.296875 C 4.53125 -0.296875 4.4375 -0.296875 4.4375 -0.109375 C 4.4375 0 4.546875 0 4.5625 0 C 4.96875 0 5.390625 -0.03125 5.796875 -0.03125 C 6.046875 -0.03125 6.65625 0 6.90625 0 C 6.96875 0 7.09375 0 7.09375 -0.203125 C 7.09375 -0.296875 6.984375 -0.296875 6.859375 -0.296875 C 6.25 -0.296875 6.25 -0.375 6.21875 -0.65625 L 5.625 -6.796875 C 5.609375 -7 5.609375 -7.03125 5.4375 -7.03125 C 5.28125 -7.03125 5.234375 -6.96875 5.171875 -6.875 Z M 2.9375 -2.578125 L 4.875 -5.8125 L 5.1875 -2.578125 Z M 2.9375 -2.578125 \"/>\n",
       "</g>\n",
       "</g>\n",
       "<clipPath id=\"clip-1717857318698390--0\">\n",
       "<path clip-rule=\"nonzero\" d=\"M 0.105469 14 L 46 14 L 46 31 L 0.105469 31 Z M 0.105469 14 \"/>\n",
       "</clipPath>\n",
       "</defs>\n",
       "<g clip-path=\"url(#clip-1717857318698390--0)\">\n",
       "<path fill=\"none\" stroke-width=\"0.59776\" stroke-linecap=\"butt\" stroke-linejoin=\"miter\" stroke=\"rgb(0%, 0%, 0%)\" stroke-opacity=\"1\" stroke-miterlimit=\"10\" d=\"M -22.977405 -0.000850906 C -14.015613 -0.000850906 -8.960243 -0.000850906 0.00154948 -0.000850906 C 8.95938 -0.000850906 14.01475 -0.000850906 22.976542 -0.000850906 \" transform=\"matrix(0.985957, 0, 0, -0.985957, 23.05316, 22.358536)\"/>\n",
       "</g>\n",
       "<g fill=\"rgb(0%, 0%, 0%)\" fill-opacity=\"1\">\n",
       "<use xlink:href=\"#glyph-1717857318698390--0-0\" x=\"19.369626\" y=\"18.789373\"/>\n",
       "</g>\n",
       "</svg>\n",
       "\n"
      ],
      "text/plain": [
       "Catlab.Graphics.TikZ.Document(Catlab.Graphics.TikZ.Picture(Catlab.Graphics.TikZ.Statement[Catlab.Graphics.TikZ.Node(\"root\", Catlab.Graphics.TikZ.Property[Catlab.Graphics.TikZ.Property(\"outer box\", nothing), Catlab.Graphics.TikZ.Property(\"minimum size\", \"4\\\\tikzunit\")], Catlab.Graphics.TikZ.Coordinate(\"0\", \"0\"), \"\"), Catlab.Graphics.TikZ.Edge(Catlab.Graphics.TikZ.PathExpression[Catlab.Graphics.TikZ.NodeCoordinate(\"root.west\"), Catlab.Graphics.TikZ.PathOperation(\"to\", Catlab.Graphics.TikZ.Property[Catlab.Graphics.TikZ.Property(\"out\", \"0\"), Catlab.Graphics.TikZ.Property(\"in\", \"180\")]), Catlab.Graphics.TikZ.Coordinate(\"0\", \"0\"), Catlab.Graphics.TikZ.PathOperation(\"to\", Catlab.Graphics.TikZ.Property[Catlab.Graphics.TikZ.Property(\"out\", \"0\"), Catlab.Graphics.TikZ.Property(\"in\", \"180\")]), Catlab.Graphics.TikZ.NodeCoordinate(\"root.east\")], Catlab.Graphics.TikZ.Property[Catlab.Graphics.TikZ.Property(\"wire\", \"{\\\\node[anchor=south] {\\$A\\$};}\")])], Catlab.Graphics.TikZ.Property[Catlab.Graphics.TikZ.Property(\"unit length/.code\", \"{{\\\\newdimen\\\\tikzunit}\\\\setlength{\\\\tikzunit}{#1}}\"), Catlab.Graphics.TikZ.Property(\"unit length\", \"4mm\"), Catlab.Graphics.TikZ.Property(\"x\", \"\\\\tikzunit\"), Catlab.Graphics.TikZ.Property(\"y\", \"\\\\tikzunit\"), Catlab.Graphics.TikZ.Property(\"semithick\", nothing), Catlab.Graphics.TikZ.Property(\"outer box/.style\", Catlab.Graphics.TikZ.Property[Catlab.Graphics.TikZ.Property(\"draw\", \"none\")]), Catlab.Graphics.TikZ.Property(\"wire/.style\", Catlab.Graphics.TikZ.Property[Catlab.Graphics.TikZ.Property(\"draw\", nothing), Catlab.Graphics.TikZ.Property(\"postaction\", Catlab.Graphics.TikZ.Property[Catlab.Graphics.TikZ.Property(\"decorate\", nothing)]), Catlab.Graphics.TikZ.Property(\"decoration\", Catlab.Graphics.TikZ.Property[Catlab.Graphics.TikZ.Property(\"markings\", nothing), Catlab.Graphics.TikZ.Property(\"mark\", \"at position 0.5 with {#1}\")])])]), [\"calc\", \"shapes.geometric\", \"decorations.markings\"], [\"amssymb\"])"
      ]
     },
     "execution_count": 7,
     "metadata": {},
     "output_type": "execute_result"
    }
   ],
   "source": [
    "to_tikz(id(A), labels=true)"
   ]
  },
  {
   "cell_type": "code",
   "execution_count": 8,
   "metadata": {},
   "outputs": [
    {
     "data": {
      "image/svg+xml": [
       "<?xml version=\"1.0\" encoding=\"UTF-8\"?>\n",
       "<svg xmlns=\"http://www.w3.org/2000/svg\" xmlns:xlink=\"http://www.w3.org/1999/xlink\" width=\"46.55\" height=\"79.37\" viewBox=\"0 0 46.55 79.37\">\n",
       "<defs>\n",
       "<g>\n",
       "<g id=\"glyph-1717857318698391--0-0\">\n",
       "<path d=\"M 1.765625 -1.140625 C 1.375 -0.46875 0.984375 -0.328125 0.546875 -0.3125 C 0.4375 -0.296875 0.34375 -0.296875 0.34375 -0.109375 C 0.34375 -0.046875 0.390625 0 0.46875 0 C 0.734375 0 1.046875 -0.03125 1.328125 -0.03125 C 1.65625 -0.03125 2 0 2.3125 0 C 2.375 0 2.5 0 2.5 -0.1875 C 2.5 -0.296875 2.40625 -0.3125 2.34375 -0.3125 C 2.109375 -0.328125 1.875 -0.40625 1.875 -0.65625 C 1.875 -0.765625 1.9375 -0.875 2.015625 -1.015625 L 2.765625 -2.28125 L 5.25 -2.28125 C 5.265625 -2.078125 5.40625 -0.734375 5.40625 -0.625 C 5.40625 -0.328125 4.890625 -0.3125 4.6875 -0.3125 C 4.546875 -0.3125 4.453125 -0.3125 4.453125 -0.109375 C 4.453125 0 4.578125 0 4.59375 0 C 5 0 5.421875 -0.03125 5.828125 -0.03125 C 6.078125 -0.03125 6.6875 0 6.9375 0 C 7 0 7.125 0 7.125 -0.203125 C 7.125 -0.3125 7.015625 -0.3125 6.890625 -0.3125 C 6.28125 -0.3125 6.28125 -0.375 6.25 -0.65625 L 5.65625 -6.828125 C 5.625 -7.03125 5.625 -7.078125 5.453125 -7.078125 C 5.296875 -7.078125 5.265625 -7 5.203125 -6.90625 Z M 2.953125 -2.59375 L 4.890625 -5.84375 L 5.21875 -2.59375 Z M 2.953125 -2.59375 \"/>\n",
       "</g>\n",
       "<g id=\"glyph-1717857318698391--0-1\">\n",
       "<path d=\"M 1.578125 -0.765625 C 1.484375 -0.390625 1.46875 -0.3125 0.6875 -0.3125 C 0.515625 -0.3125 0.421875 -0.3125 0.421875 -0.109375 C 0.421875 0 0.5 0 0.6875 0 L 4.203125 0 C 5.765625 0 6.9375 -1.171875 6.9375 -2.140625 C 6.9375 -2.84375 6.359375 -3.421875 5.40625 -3.53125 C 6.421875 -3.71875 7.46875 -4.4375 7.46875 -5.375 C 7.46875 -6.109375 6.8125 -6.75 5.625 -6.75 L 2.3125 -6.75 C 2.125 -6.75 2.03125 -6.75 2.03125 -6.546875 C 2.03125 -6.4375 2.109375 -6.4375 2.296875 -6.4375 C 2.328125 -6.4375 2.515625 -6.4375 2.671875 -6.421875 C 2.859375 -6.40625 2.9375 -6.390625 2.9375 -6.265625 C 2.9375 -6.21875 2.9375 -6.1875 2.90625 -6.078125 Z M 3.078125 -3.609375 L 3.6875 -6.0625 C 3.765625 -6.40625 3.796875 -6.4375 4.21875 -6.4375 L 5.484375 -6.4375 C 6.359375 -6.4375 6.5625 -5.859375 6.5625 -5.421875 C 6.5625 -4.546875 5.71875 -3.609375 4.515625 -3.609375 Z M 2.625 -0.3125 C 2.484375 -0.3125 2.46875 -0.3125 2.40625 -0.3125 C 2.3125 -0.328125 2.28125 -0.328125 2.28125 -0.421875 C 2.28125 -0.4375 2.28125 -0.46875 2.328125 -0.640625 L 3.015625 -3.390625 L 4.875 -3.390625 C 5.828125 -3.390625 6.015625 -2.671875 6.015625 -2.234375 C 6.015625 -1.265625 5.140625 -0.3125 3.96875 -0.3125 Z M 2.625 -0.3125 \"/>\n",
       "</g>\n",
       "</g>\n",
       "<clipPath id=\"clip-1717857318698391--0\">\n",
       "<path clip-rule=\"nonzero\" d=\"M 0 14 L 46.105469 14 L 46.105469 65 L 0 65 Z M 0 14 \"/>\n",
       "</clipPath>\n",
       "<clipPath id=\"clip-1717857318698391--1\">\n",
       "<path clip-rule=\"nonzero\" d=\"M 0 14 L 46.105469 14 L 46.105469 65 L 0 65 Z M 0 14 \"/>\n",
       "</clipPath>\n",
       "</defs>\n",
       "<g clip-path=\"url(#clip-1717857318698391--0)\">\n",
       "<path fill=\"none\" stroke-width=\"0.59776\" stroke-linecap=\"butt\" stroke-linejoin=\"miter\" stroke=\"rgb(0%, 0%, 0%)\" stroke-opacity=\"1\" stroke-miterlimit=\"10\" d=\"M -22.975255 17.00852 C -11.797926 17.00852 -7.905186 7.90574 -0.00138628 0.00194079 C 7.902413 -7.905803 11.799097 -17.008582 22.976427 -17.008582 \" transform=\"matrix(0.990426, 0, 0, -0.990426, 23.052154, 39.373016)\"/>\n",
       "</g>\n",
       "<g fill=\"rgb(0%, 0%, 0%)\" fill-opacity=\"1\">\n",
       "<use xlink:href=\"#glyph-1717857318698391--0-0\" x=\"9.587319\" y=\"24.822674\"/>\n",
       "</g>\n",
       "<g clip-path=\"url(#clip-1717857318698391--1)\">\n",
       "<path fill=\"none\" stroke-width=\"0.59776\" stroke-linecap=\"butt\" stroke-linejoin=\"miter\" stroke=\"rgb(0%, 0%, 0%)\" stroke-opacity=\"1\" stroke-miterlimit=\"10\" d=\"M -22.975255 -17.008582 C -11.797926 -17.008582 -7.905186 -7.905803 -0.00138628 0.00194079 C 7.902413 7.90574 11.799097 17.00852 22.976427 17.00852 \" transform=\"matrix(0.990426, 0, 0, -0.990426, 23.052154, 39.373016)\"/>\n",
       "</g>\n",
       "<g fill=\"rgb(0%, 0%, 0%)\" fill-opacity=\"1\">\n",
       "<use xlink:href=\"#glyph-1717857318698391--0-1\" x=\"9.298115\" y=\"46.753667\"/>\n",
       "</g>\n",
       "</svg>\n",
       "\n"
      ],
      "text/plain": [
       "Catlab.Graphics.TikZ.Document(Catlab.Graphics.TikZ.Picture(Catlab.Graphics.TikZ.Statement[Catlab.Graphics.TikZ.Node(\"root\", Catlab.Graphics.TikZ.Property[Catlab.Graphics.TikZ.Property(\"outer box\", nothing), Catlab.Graphics.TikZ.Property(\"minimum width\", \"4\\\\tikzunit\"), Catlab.Graphics.TikZ.Property(\"minimum height\", \"7\\\\tikzunit\")], Catlab.Graphics.TikZ.Coordinate(\"0\", \"0\"), \"\"), Catlab.Graphics.TikZ.Edge(Catlab.Graphics.TikZ.PathExpression[Catlab.Graphics.TikZ.NodeCoordinate(\"\\$(root.west)+(0,1.5)\\$\"), Catlab.Graphics.TikZ.PathOperation(\"to\", Catlab.Graphics.TikZ.Property[Catlab.Graphics.TikZ.Property(\"out\", \"0\"), Catlab.Graphics.TikZ.Property(\"in\", \"135\")]), Catlab.Graphics.TikZ.Coordinate(\"0\", \"0\"), Catlab.Graphics.TikZ.PathOperation(\"to\", Catlab.Graphics.TikZ.Property[Catlab.Graphics.TikZ.Property(\"out\", \"-45\"), Catlab.Graphics.TikZ.Property(\"in\", \"180\")]), Catlab.Graphics.TikZ.NodeCoordinate(\"\\$(root.east)+(0,-1.5)\\$\")], Catlab.Graphics.TikZ.Property[Catlab.Graphics.TikZ.Property(\"wire\", \"{\\\\node[anchor=south] {\\$A\\$};}\")]), Catlab.Graphics.TikZ.Edge(Catlab.Graphics.TikZ.PathExpression[Catlab.Graphics.TikZ.NodeCoordinate(\"\\$(root.west)+(0,-1.5)\\$\"), Catlab.Graphics.TikZ.PathOperation(\"to\", Catlab.Graphics.TikZ.Property[Catlab.Graphics.TikZ.Property(\"out\", \"0\"), Catlab.Graphics.TikZ.Property(\"in\", \"-135\")]), Catlab.Graphics.TikZ.Coordinate(\"0\", \"0\"), Catlab.Graphics.TikZ.PathOperation(\"to\", Catlab.Graphics.TikZ.Property[Catlab.Graphics.TikZ.Property(\"out\", \"45\"), Catlab.Graphics.TikZ.Property(\"in\", \"180\")]), Catlab.Graphics.TikZ.NodeCoordinate(\"\\$(root.east)+(0,1.5)\\$\")], Catlab.Graphics.TikZ.Property[Catlab.Graphics.TikZ.Property(\"wire\", \"{\\\\node[anchor=south] {\\$B\\$};}\")])], Catlab.Graphics.TikZ.Property[Catlab.Graphics.TikZ.Property(\"unit length/.code\", \"{{\\\\newdimen\\\\tikzunit}\\\\setlength{\\\\tikzunit}{#1}}\"), Catlab.Graphics.TikZ.Property(\"unit length\", \"4mm\"), Catlab.Graphics.TikZ.Property(\"x\", \"\\\\tikzunit\"), Catlab.Graphics.TikZ.Property(\"y\", \"\\\\tikzunit\"), Catlab.Graphics.TikZ.Property(\"semithick\", nothing), Catlab.Graphics.TikZ.Property(\"outer box/.style\", Catlab.Graphics.TikZ.Property[Catlab.Graphics.TikZ.Property(\"draw\", \"none\")]), Catlab.Graphics.TikZ.Property(\"wire/.style\", Catlab.Graphics.TikZ.Property[Catlab.Graphics.TikZ.Property(\"draw\", nothing), Catlab.Graphics.TikZ.Property(\"postaction\", Catlab.Graphics.TikZ.Property[Catlab.Graphics.TikZ.Property(\"decorate\", nothing)]), Catlab.Graphics.TikZ.Property(\"decoration\", Catlab.Graphics.TikZ.Property[Catlab.Graphics.TikZ.Property(\"markings\", nothing), Catlab.Graphics.TikZ.Property(\"mark\", \"at position 0.25 with {#1}\")])])]), [\"calc\", \"shapes.geometric\", \"decorations.markings\"], [\"amssymb\"])"
      ]
     },
     "execution_count": 8,
     "metadata": {},
     "output_type": "execute_result"
    }
   ],
   "source": [
    "to_tikz(braid(A,B), labels=true, labels_pos=0.25)"
   ]
  },
  {
   "cell_type": "code",
   "execution_count": 9,
   "metadata": {},
   "outputs": [
    {
     "data": {
      "image/svg+xml": [
       "<?xml version=\"1.0\" encoding=\"UTF-8\"?>\n",
       "<svg xmlns=\"http://www.w3.org/2000/svg\" xmlns:xlink=\"http://www.w3.org/1999/xlink\" width=\"114.581\" height=\"79.37\" viewBox=\"0 0 114.581 79.37\">\n",
       "<defs>\n",
       "<g>\n",
       "<g id=\"glyph-1717857318698392--0-0\">\n",
       "<path d=\"M 4.65625 -3.734375 C 4.671875 -3.78125 4.6875 -3.84375 4.6875 -3.90625 C 4.6875 -4.078125 4.5625 -4.171875 4.40625 -4.171875 C 4.296875 -4.171875 4.03125 -4.109375 4 -3.75 C 3.8125 -4.109375 3.46875 -4.375 3.078125 -4.375 C 1.953125 -4.375 0.71875 -2.984375 0.71875 -1.5625 C 0.71875 -0.578125 1.328125 0 2.03125 0 C 2.625 0 3.078125 -0.46875 3.1875 -0.578125 L 3.1875 -0.5625 C 2.984375 0.3125 2.875 0.71875 2.875 0.734375 C 2.828125 0.828125 2.5 1.8125 1.4375 1.8125 C 1.25 1.8125 0.9375 1.796875 0.65625 1.71875 C 0.953125 1.625 1.0625 1.359375 1.0625 1.203125 C 1.0625 1.03125 0.953125 0.84375 0.6875 0.84375 C 0.46875 0.84375 0.140625 1.03125 0.140625 1.421875 C 0.140625 1.828125 0.515625 2.03125 1.46875 2.03125 C 2.703125 2.03125 3.40625 1.25 3.5625 0.65625 Z M 3.375 -1.265625 C 3.3125 -1.015625 3.078125 -0.765625 2.875 -0.578125 C 2.65625 -0.390625 2.359375 -0.21875 2.0625 -0.21875 C 1.578125 -0.21875 1.421875 -0.734375 1.421875 -1.125 C 1.421875 -1.609375 1.71875 -2.765625 1.984375 -3.28125 C 2.25 -3.765625 2.671875 -4.15625 3.078125 -4.15625 C 3.734375 -4.15625 3.875 -3.359375 3.875 -3.296875 C 3.875 -3.25 3.859375 -3.1875 3.84375 -3.15625 Z M 3.375 -1.265625 \"/>\n",
       "</g>\n",
       "<g id=\"glyph-1717857318698392--0-1\">\n",
       "<path d=\"M 3.625 -3.953125 L 4.484375 -3.953125 C 4.671875 -3.953125 4.78125 -3.953125 4.78125 -4.15625 C 4.78125 -4.265625 4.671875 -4.265625 4.515625 -4.265625 L 3.6875 -4.265625 L 3.890625 -5.390625 C 3.9375 -5.59375 4.078125 -6.296875 4.140625 -6.421875 C 4.21875 -6.609375 4.390625 -6.75 4.59375 -6.75 C 4.640625 -6.75 4.890625 -6.75 5.078125 -6.578125 C 4.65625 -6.53125 4.546875 -6.1875 4.546875 -6.046875 C 4.546875 -5.8125 4.734375 -5.703125 4.921875 -5.703125 C 5.171875 -5.703125 5.453125 -5.921875 5.453125 -6.296875 C 5.453125 -6.75 5 -6.96875 4.59375 -6.96875 C 4.265625 -6.96875 3.640625 -6.796875 3.34375 -5.8125 C 3.28125 -5.609375 3.25 -5.515625 3.015625 -4.265625 L 2.328125 -4.265625 C 2.140625 -4.265625 2.03125 -4.265625 2.03125 -4.078125 C 2.03125 -3.953125 2.125 -3.953125 2.3125 -3.953125 L 2.96875 -3.953125 L 2.21875 -0.046875 C 2.046875 0.90625 1.875 1.8125 1.359375 1.8125 C 1.328125 1.8125 1.078125 1.8125 0.890625 1.625 C 1.34375 1.609375 1.4375 1.25 1.4375 1.09375 C 1.4375 0.875 1.25 0.75 1.0625 0.75 C 0.8125 0.75 0.53125 0.96875 0.53125 1.34375 C 0.53125 1.796875 0.953125 2.03125 1.359375 2.03125 C 1.90625 2.03125 2.296875 1.4375 2.484375 1.0625 C 2.796875 0.4375 3.03125 -0.75 3.03125 -0.828125 Z M 3.625 -3.953125 \"/>\n",
       "</g>\n",
       "</g>\n",
       "<clipPath id=\"clip-1717857318698392--0\">\n",
       "<path clip-rule=\"nonzero\" d=\"M 0.242188 14 L 54 14 L 54 65 L 0.242188 65 Z M 0.242188 14 \"/>\n",
       "</clipPath>\n",
       "<clipPath id=\"clip-1717857318698392--1\">\n",
       "<path clip-rule=\"nonzero\" d=\"M 60 14 L 113.921875 14 L 113.921875 65 L 60 65 Z M 60 14 \"/>\n",
       "</clipPath>\n",
       "</defs>\n",
       "<path fill=\"none\" stroke-width=\"0.59776\" stroke-linecap=\"butt\" stroke-linejoin=\"miter\" stroke=\"rgb(0%, 0%, 0%)\" stroke-opacity=\"1\" stroke-miterlimit=\"10\" d=\"M 7.353671 28.345703 L -7.35198 28.345703 C -9.552906 28.345703 -11.34042 26.562126 -11.34042 24.3612 L -11.34042 9.655549 C -11.34042 7.454623 -9.552906 5.671046 -7.35198 5.671046 L 7.353671 5.671046 C 9.554597 5.671046 11.338173 7.454623 11.338173 9.655549 L 11.338173 24.3612 C 11.338173 26.562126 9.554597 28.345703 7.353671 28.345703 Z M 7.353671 28.345703 \" transform=\"matrix(0.992125, 0, 0, -0.992125, 57.083146, 39.372481)\"/>\n",
       "<g fill=\"rgb(0%, 0%, 0%)\" fill-opacity=\"1\">\n",
       "<use xlink:href=\"#glyph-1717857318698392--0-0\" x=\"54.548267\" y=\"23.665158\"/>\n",
       "</g>\n",
       "<path fill=\"none\" stroke-width=\"0.59776\" stroke-linecap=\"butt\" stroke-linejoin=\"miter\" stroke=\"rgb(0%, 0%, 0%)\" stroke-opacity=\"1\" stroke-miterlimit=\"10\" d=\"M 7.353671 -5.668251 L -7.35198 -5.668251 C -9.552906 -5.668251 -11.34042 -7.451828 -11.34042 -9.652754 L -11.34042 -24.362342 C -11.34042 -26.563268 -9.552906 -28.346845 -7.35198 -28.346845 L 7.353671 -28.346845 C 9.554597 -28.346845 11.338173 -26.563268 11.338173 -24.362342 L 11.338173 -9.652754 C 11.338173 -7.451828 9.554597 -5.668251 7.353671 -5.668251 Z M 7.353671 -5.668251 \" transform=\"matrix(0.992125, 0, 0, -0.992125, 57.083146, 39.372481)\"/>\n",
       "<g fill=\"rgb(0%, 0%, 0%)\" fill-opacity=\"1\">\n",
       "<use xlink:href=\"#glyph-1717857318698392--0-1\" x=\"54.131574\" y=\"58.717926\"/>\n",
       "</g>\n",
       "<g clip-path=\"url(#clip-1717857318698392--0)\">\n",
       "<path fill=\"none\" stroke-width=\"0.59776\" stroke-linecap=\"butt\" stroke-linejoin=\"miter\" stroke=\"rgb(0%, 0%, 0%)\" stroke-opacity=\"1\" stroke-miterlimit=\"10\" d=\"M -56.992902 -17.007548 C -45.815033 -17.007548 -41.921087 -7.904612 -34.015077 0.00139788 C -26.242934 7.773541 -22.63247 17.006406 -11.635715 17.006406 \" transform=\"matrix(0.992125, 0, 0, -0.992125, 57.083146, 39.372481)\"/>\n",
       "<path fill=\"none\" stroke-width=\"0.59776\" stroke-linecap=\"butt\" stroke-linejoin=\"miter\" stroke=\"rgb(0%, 0%, 0%)\" stroke-opacity=\"1\" stroke-miterlimit=\"10\" d=\"M -56.992902 17.006406 C -45.815033 17.006406 -41.921087 7.90347 -34.015077 0.00139788 C -26.242934 -7.774682 -22.63247 -17.007548 -11.635715 -17.007548 \" transform=\"matrix(0.992125, 0, 0, -0.992125, 57.083146, 39.372481)\"/>\n",
       "</g>\n",
       "<g clip-path=\"url(#clip-1717857318698392--1)\">\n",
       "<path fill=\"none\" stroke-width=\"0.59776\" stroke-linecap=\"butt\" stroke-linejoin=\"miter\" stroke=\"rgb(0%, 0%, 0%)\" stroke-opacity=\"1\" stroke-miterlimit=\"10\" d=\"M 11.637405 -17.007548 C 22.630223 -17.007548 26.240687 -7.774682 34.016767 0.00139788 C 41.91884 7.90347 45.812786 17.006406 56.990656 17.006406 \" transform=\"matrix(0.992125, 0, 0, -0.992125, 57.083146, 39.372481)\"/>\n",
       "<path fill=\"none\" stroke-width=\"0.59776\" stroke-linecap=\"butt\" stroke-linejoin=\"miter\" stroke=\"rgb(0%, 0%, 0%)\" stroke-opacity=\"1\" stroke-miterlimit=\"10\" d=\"M 11.637405 17.006406 C 22.630223 17.006406 26.240687 7.773541 34.016767 0.00139788 C 41.91884 -7.904612 45.812786 -17.007548 56.990656 -17.007548 \" transform=\"matrix(0.992125, 0, 0, -0.992125, 57.083146, 39.372481)\"/>\n",
       "</g>\n",
       "</svg>\n",
       "\n"
      ],
      "text/plain": [
       "Catlab.Graphics.TikZ.Document(Catlab.Graphics.TikZ.Picture(Catlab.Graphics.TikZ.Statement[Catlab.Graphics.TikZ.Node(\"root\", Catlab.Graphics.TikZ.Property[Catlab.Graphics.TikZ.Property(\"outer box\", nothing), Catlab.Graphics.TikZ.Property(\"minimum width\", \"10\\\\tikzunit\"), Catlab.Graphics.TikZ.Property(\"minimum height\", \"7\\\\tikzunit\")], Catlab.Graphics.TikZ.Coordinate(\"0\", \"0\"), \"\"), Catlab.Graphics.TikZ.Node(\"n1\", Catlab.Graphics.TikZ.Property[Catlab.Graphics.TikZ.Property(\"box\", nothing), Catlab.Graphics.TikZ.Property(\"minimum size\", \"2\\\\tikzunit\")], Catlab.Graphics.TikZ.Coordinate(\"0\", \"1.5\"), \"\\$g\\$\"), Catlab.Graphics.TikZ.Node(\"n2\", Catlab.Graphics.TikZ.Property[Catlab.Graphics.TikZ.Property(\"box\", nothing), Catlab.Graphics.TikZ.Property(\"minimum size\", \"2\\\\tikzunit\")], Catlab.Graphics.TikZ.Coordinate(\"0\", \"-1.5\"), \"\\$f\\$\"), Catlab.Graphics.TikZ.Edge(Catlab.Graphics.TikZ.PathExpression[Catlab.Graphics.TikZ.NodeCoordinate(\"\\$(root.west)+(0,-1.5)\\$\"), Catlab.Graphics.TikZ.PathOperation(\"to\", Catlab.Graphics.TikZ.Property[Catlab.Graphics.TikZ.Property(\"out\", \"0\"), Catlab.Graphics.TikZ.Property(\"in\", \"-135\")]), Catlab.Graphics.TikZ.Coordinate(\"-3\", \"0\"), Catlab.Graphics.TikZ.PathOperation(\"to\", Catlab.Graphics.TikZ.Property[Catlab.Graphics.TikZ.Property(\"out\", \"45\"), Catlab.Graphics.TikZ.Property(\"in\", \"-180\")]), Catlab.Graphics.TikZ.NodeCoordinate(\"n1.west\")], Catlab.Graphics.TikZ.Property[Catlab.Graphics.TikZ.Property(\"wire\", nothing)]), Catlab.Graphics.TikZ.Edge(Catlab.Graphics.TikZ.PathExpression[Catlab.Graphics.TikZ.NodeCoordinate(\"\\$(root.west)+(0,1.5)\\$\"), Catlab.Graphics.TikZ.PathOperation(\"to\", Catlab.Graphics.TikZ.Property[Catlab.Graphics.TikZ.Property(\"out\", \"0\"), Catlab.Graphics.TikZ.Property(\"in\", \"135\")]), Catlab.Graphics.TikZ.Coordinate(\"-3\", \"0\"), Catlab.Graphics.TikZ.PathOperation(\"to\", Catlab.Graphics.TikZ.Property[Catlab.Graphics.TikZ.Property(\"out\", \"-45\"), Catlab.Graphics.TikZ.Property(\"in\", \"-180\")]), Catlab.Graphics.TikZ.NodeCoordinate(\"n2.west\")], Catlab.Graphics.TikZ.Property[Catlab.Graphics.TikZ.Property(\"wire\", nothing)]), Catlab.Graphics.TikZ.Edge(Catlab.Graphics.TikZ.PathExpression[Catlab.Graphics.TikZ.NodeCoordinate(\"n2.east\"), Catlab.Graphics.TikZ.PathOperation(\"to\", Catlab.Graphics.TikZ.Property[Catlab.Graphics.TikZ.Property(\"out\", \"0\"), Catlab.Graphics.TikZ.Property(\"in\", \"-135\")]), Catlab.Graphics.TikZ.Coordinate(\"3\", \"0\"), Catlab.Graphics.TikZ.PathOperation(\"to\", Catlab.Graphics.TikZ.Property[Catlab.Graphics.TikZ.Property(\"out\", \"45\"), Catlab.Graphics.TikZ.Property(\"in\", \"180\")]), Catlab.Graphics.TikZ.NodeCoordinate(\"\\$(root.east)+(0,1.5)\\$\")], Catlab.Graphics.TikZ.Property[Catlab.Graphics.TikZ.Property(\"wire\", nothing)]), Catlab.Graphics.TikZ.Edge(Catlab.Graphics.TikZ.PathExpression[Catlab.Graphics.TikZ.NodeCoordinate(\"n1.east\"), Catlab.Graphics.TikZ.PathOperation(\"to\", Catlab.Graphics.TikZ.Property[Catlab.Graphics.TikZ.Property(\"out\", \"0\"), Catlab.Graphics.TikZ.Property(\"in\", \"135\")]), Catlab.Graphics.TikZ.Coordinate(\"3\", \"0\"), Catlab.Graphics.TikZ.PathOperation(\"to\", Catlab.Graphics.TikZ.Property[Catlab.Graphics.TikZ.Property(\"out\", \"-45\"), Catlab.Graphics.TikZ.Property(\"in\", \"180\")]), Catlab.Graphics.TikZ.NodeCoordinate(\"\\$(root.east)+(0,-1.5)\\$\")], Catlab.Graphics.TikZ.Property[Catlab.Graphics.TikZ.Property(\"wire\", nothing)])], Catlab.Graphics.TikZ.Property[Catlab.Graphics.TikZ.Property(\"unit length/.code\", \"{{\\\\newdimen\\\\tikzunit}\\\\setlength{\\\\tikzunit}{#1}}\"), Catlab.Graphics.TikZ.Property(\"unit length\", \"4mm\"), Catlab.Graphics.TikZ.Property(\"x\", \"\\\\tikzunit\"), Catlab.Graphics.TikZ.Property(\"y\", \"\\\\tikzunit\"), Catlab.Graphics.TikZ.Property(\"semithick\", nothing), Catlab.Graphics.TikZ.Property(\"box/.style\", Catlab.Graphics.TikZ.Property[Catlab.Graphics.TikZ.Property(\"rectangle\", nothing), Catlab.Graphics.TikZ.Property(\"draw\", nothing), Catlab.Graphics.TikZ.Property(\"solid\", nothing), Catlab.Graphics.TikZ.Property(\"rounded corners\", nothing)]), Catlab.Graphics.TikZ.Property(\"outer box/.style\", Catlab.Graphics.TikZ.Property[Catlab.Graphics.TikZ.Property(\"draw\", \"none\")]), Catlab.Graphics.TikZ.Property(\"wire/.style\", Catlab.Graphics.TikZ.Property[Catlab.Graphics.TikZ.Property(\"draw\", nothing)])]), [\"calc\", \"shapes.geometric\"], [\"amssymb\"])"
      ]
     },
     "execution_count": 9,
     "metadata": {},
     "output_type": "execute_result"
    }
   ],
   "source": [
    "to_tikz(braid(A,B) ⋅ (g⊗f) ⋅ braid(A,B))"
   ]
  },
  {
   "cell_type": "markdown",
   "metadata": {},
   "source": [
    "The isomorphism $A \\otimes B \\otimes C \\to C \\otimes B \\otimes A$ induced by\n",
    "the permutation $(3\\ 2\\ 1)$ is a composite of braidings and identities."
   ]
  },
  {
   "cell_type": "code",
   "execution_count": 10,
   "metadata": {},
   "outputs": [
    {
     "data": {
      "image/svg+xml": [
       "<?xml version=\"1.0\" encoding=\"UTF-8\"?>\n",
       "<svg xmlns=\"http://www.w3.org/2000/svg\" xmlns:xlink=\"http://www.w3.org/1999/xlink\" width=\"98.854\" height=\"113.386\" viewBox=\"0 0 98.854 113.386\">\n",
       "<defs>\n",
       "<g>\n",
       "<g id=\"glyph-1717857318698393--0-0\">\n",
       "<path d=\"M 1.578125 -0.765625 C 1.484375 -0.390625 1.46875 -0.3125 0.6875 -0.3125 C 0.515625 -0.3125 0.421875 -0.3125 0.421875 -0.109375 C 0.421875 0 0.5 0 0.6875 0 L 4.21875 0 C 5.78125 0 6.953125 -1.171875 6.953125 -2.140625 C 6.953125 -2.859375 6.375 -3.421875 5.421875 -3.53125 C 6.453125 -3.71875 7.484375 -4.453125 7.484375 -5.40625 C 7.484375 -6.125 6.828125 -6.765625 5.640625 -6.765625 L 2.3125 -6.765625 C 2.125 -6.765625 2.03125 -6.765625 2.03125 -6.5625 C 2.03125 -6.453125 2.125 -6.453125 2.3125 -6.453125 C 2.328125 -6.453125 2.515625 -6.453125 2.6875 -6.4375 C 2.859375 -6.421875 2.953125 -6.40625 2.953125 -6.28125 C 2.953125 -6.234375 2.9375 -6.21875 2.90625 -6.09375 Z M 3.078125 -3.625 L 3.6875 -6.078125 C 3.78125 -6.421875 3.796875 -6.453125 4.234375 -6.453125 L 5.515625 -6.453125 C 6.375 -6.453125 6.59375 -5.875 6.59375 -5.4375 C 6.59375 -4.5625 5.734375 -3.625 4.53125 -3.625 Z M 2.640625 -0.3125 C 2.5 -0.3125 2.484375 -0.3125 2.421875 -0.3125 C 2.3125 -0.328125 2.28125 -0.34375 2.28125 -0.421875 C 2.28125 -0.453125 2.28125 -0.46875 2.34375 -0.640625 L 3.015625 -3.40625 L 4.890625 -3.40625 C 5.84375 -3.40625 6.03125 -2.671875 6.03125 -2.25 C 6.03125 -1.265625 5.15625 -0.3125 3.984375 -0.3125 Z M 2.640625 -0.3125 \"/>\n",
       "</g>\n",
       "<g id=\"glyph-1717857318698393--0-1\">\n",
       "<path d=\"M 7.53125 -6.890625 C 7.53125 -6.921875 7.515625 -6.984375 7.421875 -6.984375 C 7.390625 -6.984375 7.375 -6.96875 7.265625 -6.859375 L 6.578125 -6.109375 C 6.484375 -6.234375 6.03125 -6.984375 4.9375 -6.984375 C 2.71875 -6.984375 0.5 -4.796875 0.5 -2.5 C 0.5 -0.859375 1.671875 0.21875 3.1875 0.21875 C 4.046875 0.21875 4.796875 -0.171875 5.3125 -0.640625 C 6.234375 -1.453125 6.40625 -2.34375 6.40625 -2.375 C 6.40625 -2.484375 6.3125 -2.484375 6.296875 -2.484375 C 6.234375 -2.484375 6.1875 -2.453125 6.15625 -2.375 C 6.078125 -2.09375 5.84375 -1.390625 5.15625 -0.8125 C 4.484375 -0.25 3.859375 -0.09375 3.34375 -0.09375 C 2.453125 -0.09375 1.390625 -0.609375 1.390625 -2.15625 C 1.390625 -2.71875 1.609375 -4.3125 2.59375 -5.484375 C 3.203125 -6.1875 4.125 -6.671875 5.015625 -6.671875 C 6.015625 -6.671875 6.609375 -5.90625 6.609375 -4.765625 C 6.609375 -4.375 6.578125 -4.359375 6.578125 -4.265625 C 6.578125 -4.15625 6.6875 -4.15625 6.71875 -4.15625 C 6.859375 -4.15625 6.859375 -4.1875 6.90625 -4.359375 Z M 7.53125 -6.890625 \"/>\n",
       "</g>\n",
       "<g id=\"glyph-1717857318698393--0-2\">\n",
       "<path d=\"M 1.765625 -1.140625 C 1.375 -0.46875 0.984375 -0.34375 0.5625 -0.3125 C 0.4375 -0.296875 0.34375 -0.296875 0.34375 -0.109375 C 0.34375 -0.046875 0.390625 0 0.46875 0 C 0.75 0 1.046875 -0.03125 1.328125 -0.03125 C 1.65625 -0.03125 2 0 2.3125 0 C 2.375 0 2.5 0 2.5 -0.1875 C 2.5 -0.296875 2.421875 -0.3125 2.34375 -0.3125 C 2.125 -0.328125 1.875 -0.40625 1.875 -0.65625 C 1.875 -0.765625 1.9375 -0.875 2.015625 -1.015625 L 2.78125 -2.28125 L 5.265625 -2.28125 C 5.28125 -2.078125 5.421875 -0.734375 5.421875 -0.640625 C 5.421875 -0.34375 4.90625 -0.3125 4.703125 -0.3125 C 4.5625 -0.3125 4.46875 -0.3125 4.46875 -0.109375 C 4.46875 0 4.59375 0 4.609375 0 C 5.015625 0 5.4375 -0.03125 5.84375 -0.03125 C 6.09375 -0.03125 6.71875 0 6.96875 0 C 7.03125 0 7.140625 0 7.140625 -0.203125 C 7.140625 -0.3125 7.046875 -0.3125 6.921875 -0.3125 C 6.296875 -0.3125 6.296875 -0.375 6.265625 -0.65625 L 5.671875 -6.859375 C 5.640625 -7.046875 5.640625 -7.09375 5.484375 -7.09375 C 5.3125 -7.09375 5.28125 -7.03125 5.21875 -6.921875 Z M 2.96875 -2.59375 L 4.90625 -5.859375 L 5.234375 -2.59375 Z M 2.96875 -2.59375 \"/>\n",
       "</g>\n",
       "</g>\n",
       "<clipPath id=\"clip-1717857318698393--0\">\n",
       "<path clip-rule=\"nonzero\" d=\"M 0.195312 14 L 98.515625 14 L 98.515625 65 L 0.195312 65 Z M 0.195312 14 \"/>\n",
       "</clipPath>\n",
       "<clipPath id=\"clip-1717857318698393--1\">\n",
       "<path clip-rule=\"nonzero\" d=\"M 85 46 L 98.515625 46 L 98.515625 67 L 85 67 Z M 85 46 \"/>\n",
       "</clipPath>\n",
       "<clipPath id=\"clip-1717857318698393--2\">\n",
       "<path clip-rule=\"nonzero\" d=\"M 85 46 L 98.515625 46 L 98.515625 67 L 85 67 Z M 85 46 \"/>\n",
       "</clipPath>\n",
       "<clipPath id=\"clip-1717857318698393--3\">\n",
       "<path clip-rule=\"nonzero\" d=\"M 0.195312 14 L 98.515625 14 L 98.515625 99 L 0.195312 99 Z M 0.195312 14 \"/>\n",
       "</clipPath>\n",
       "<clipPath id=\"clip-1717857318698393--4\">\n",
       "<path clip-rule=\"nonzero\" d=\"M 85 12 L 98.515625 12 L 98.515625 33 L 85 33 Z M 85 12 \"/>\n",
       "</clipPath>\n",
       "<clipPath id=\"clip-1717857318698393--5\">\n",
       "<path clip-rule=\"nonzero\" d=\"M 85 12 L 98.515625 12 L 98.515625 33 L 85 33 Z M 85 12 \"/>\n",
       "</clipPath>\n",
       "<clipPath id=\"clip-1717857318698393--6\">\n",
       "<path clip-rule=\"nonzero\" d=\"M 0.195312 14 L 98.515625 14 L 98.515625 99 L 0.195312 99 Z M 0.195312 14 \"/>\n",
       "</clipPath>\n",
       "<clipPath id=\"clip-1717857318698393--7\">\n",
       "<path clip-rule=\"nonzero\" d=\"M 85 80 L 98.515625 80 L 98.515625 101 L 85 101 Z M 85 80 \"/>\n",
       "</clipPath>\n",
       "<clipPath id=\"clip-1717857318698393--8\">\n",
       "<path clip-rule=\"nonzero\" d=\"M 85 80 L 98.515625 80 L 98.515625 101 L 85 101 Z M 85 80 \"/>\n",
       "</clipPath>\n",
       "</defs>\n",
       "<g clip-path=\"url(#clip-1717857318698393--0)\">\n",
       "<path fill=\"none\" stroke-width=\"0.59776\" stroke-linecap=\"butt\" stroke-linejoin=\"miter\" stroke=\"rgb(0%, 0%, 0%)\" stroke-opacity=\"1\" stroke-miterlimit=\"10\" d=\"M -45.654225 0.000939803 C -34.476837 0.000939803 -30.580853 9.10466 -22.678919 17.006594 C -14.839822 24.84569 -11.085225 34.016176 0.00183292 34.016176 C 11.084964 34.016176 14.839561 24.84569 22.678657 17.006594 C 30.580592 9.10466 34.476575 0.000939803 45.653964 0.000939803 \" transform=\"matrix(0.994614, 0, 0, -0.994614, 52.810677, 56.387653)\"/>\n",
       "</g>\n",
       "<g fill=\"rgb(0%, 0%, 0%)\" fill-opacity=\"1\">\n",
       "<use xlink:href=\"#glyph-1717857318698393--0-0\" x=\"3.496718\" y=\"52.788145\"/>\n",
       "</g>\n",
       "<path fill-rule=\"nonzero\" fill=\"rgb(0%, 0%, 0%)\" fill-opacity=\"1\" d=\"M 97.273438 56.382812 L 93.4375 54.914062 L 94.699219 56.371094 L 93.421875 57.816406 Z M 97.273438 56.382812 \"/>\n",
       "<g clip-path=\"url(#clip-1717857318698393--1)\">\n",
       "<path fill=\"none\" stroke-width=\"0.59776\" stroke-linecap=\"butt\" stroke-linejoin=\"miter\" stroke=\"rgb(0%, 0%, 0%)\" stroke-opacity=\"1\" stroke-miterlimit=\"10\" d=\"M 4.828691 0.000532958 L 0.964688 1.458492 L 2.240407 -0.000289817 L 0.96319 -1.459722 Z M 4.828691 0.000532958 \" transform=\"matrix(0.994564, 0.00484377, 0.00484377, -0.994564, 92.470991, 56.359953)\"/>\n",
       "</g>\n",
       "<g fill=\"rgb(0%, 0%, 0%)\" fill-opacity=\"1\">\n",
       "<use xlink:href=\"#glyph-1717857318698393--0-0\" x=\"3.496718\" y=\"52.788145\"/>\n",
       "</g>\n",
       "<path fill-rule=\"nonzero\" fill=\"rgb(0%, 0%, 0%)\" fill-opacity=\"1\" d=\"M 97.273438 56.382812 L 93.4375 54.914062 L 94.699219 56.371094 L 93.421875 57.816406 Z M 97.273438 56.382812 \"/>\n",
       "<g clip-path=\"url(#clip-1717857318698393--2)\">\n",
       "<path fill=\"none\" stroke-width=\"0.59776\" stroke-linecap=\"butt\" stroke-linejoin=\"miter\" stroke=\"rgb(0%, 0%, 0%)\" stroke-opacity=\"1\" stroke-miterlimit=\"10\" d=\"M 4.828691 0.000532958 L 0.964688 1.458492 L 2.240407 -0.000289817 L 0.96319 -1.459722 Z M 4.828691 0.000532958 \" transform=\"matrix(0.994564, 0.00484377, 0.00484377, -0.994564, 92.470991, 56.359953)\"/>\n",
       "</g>\n",
       "<g clip-path=\"url(#clip-1717857318698393--3)\">\n",
       "<path fill=\"none\" stroke-width=\"0.59776\" stroke-linecap=\"butt\" stroke-linejoin=\"miter\" stroke=\"rgb(0%, 0%, 0%)\" stroke-opacity=\"1\" stroke-miterlimit=\"10\" d=\"M -45.654225 -34.014296 C -36.691892 -34.014296 -31.637324 -34.014296 -22.678919 -34.014296 C -11.59186 -34.014296 -7.841191 -24.847738 0.00183292 -17.008642 C 11.316681 -5.689867 11.359882 5.691747 22.678657 17.006594 C 30.580592 24.912456 34.476575 34.016176 45.653964 34.016176 \" transform=\"matrix(0.994614, 0, 0, -0.994614, 52.810677, 56.387653)\"/>\n",
       "</g>\n",
       "<g fill=\"rgb(0%, 0%, 0%)\" fill-opacity=\"1\">\n",
       "<use xlink:href=\"#glyph-1717857318698393--0-1\" x=\"3.607121\" y=\"86.619942\"/>\n",
       "</g>\n",
       "<path fill-rule=\"nonzero\" fill=\"rgb(0%, 0%, 0%)\" fill-opacity=\"1\" d=\"M 97.273438 22.558594 L 93.425781 21.128906 L 94.699219 22.570312 L 93.4375 24.027344 Z M 97.273438 22.558594 \"/>\n",
       "<g clip-path=\"url(#clip-1717857318698393--4)\">\n",
       "<path fill=\"none\" stroke-width=\"0.59776\" stroke-linecap=\"butt\" stroke-linejoin=\"miter\" stroke=\"rgb(0%, 0%, 0%)\" stroke-opacity=\"1\" stroke-miterlimit=\"10\" d=\"M 4.828216 0.000515132 L 0.966623 1.456823 L 2.239932 0.00133791 L 0.964213 -1.457444 Z M 4.828216 0.000515132 \" transform=\"matrix(0.994564, -0.00484377, -0.00484377, -0.994564, 92.471469, 22.582493)\"/>\n",
       "</g>\n",
       "<g fill=\"rgb(0%, 0%, 0%)\" fill-opacity=\"1\">\n",
       "<use xlink:href=\"#glyph-1717857318698393--0-1\" x=\"3.607121\" y=\"86.619942\"/>\n",
       "</g>\n",
       "<path fill-rule=\"nonzero\" fill=\"rgb(0%, 0%, 0%)\" fill-opacity=\"1\" d=\"M 97.273438 22.558594 L 93.425781 21.128906 L 94.699219 22.570312 L 93.4375 24.027344 Z M 97.273438 22.558594 \"/>\n",
       "<g clip-path=\"url(#clip-1717857318698393--5)\">\n",
       "<path fill=\"none\" stroke-width=\"0.59776\" stroke-linecap=\"butt\" stroke-linejoin=\"miter\" stroke=\"rgb(0%, 0%, 0%)\" stroke-opacity=\"1\" stroke-miterlimit=\"10\" d=\"M 4.828216 0.000515132 L 0.966623 1.456823 L 2.239932 0.00133791 L 0.964213 -1.457444 Z M 4.828216 0.000515132 \" transform=\"matrix(0.994564, -0.00484377, -0.00484377, -0.994564, 92.471469, 22.582493)\"/>\n",
       "</g>\n",
       "<g clip-path=\"url(#clip-1717857318698393--6)\">\n",
       "<path fill=\"none\" stroke-width=\"0.59776\" stroke-linecap=\"butt\" stroke-linejoin=\"miter\" stroke=\"rgb(0%, 0%, 0%)\" stroke-opacity=\"1\" stroke-miterlimit=\"10\" d=\"M -45.654225 34.016176 C -34.476837 34.016176 -30.580853 24.912456 -22.678919 17.006594 C -11.360144 5.691747 -11.316942 -5.689867 0.00183292 -17.008642 C 7.840929 -24.847738 11.591599 -34.014296 22.678657 -34.014296 C 31.637063 -34.014296 36.695558 -34.014296 45.653964 -34.014296 \" transform=\"matrix(0.994614, 0, 0, -0.994614, 52.810677, 56.387653)\"/>\n",
       "</g>\n",
       "<g fill=\"rgb(0%, 0%, 0%)\" fill-opacity=\"1\">\n",
       "<use xlink:href=\"#glyph-1717857318698393--0-2\" x=\"3.787146\" y=\"18.955354\"/>\n",
       "</g>\n",
       "<path fill-rule=\"nonzero\" fill=\"rgb(0%, 0%, 0%)\" fill-opacity=\"1\" d=\"M 97.273438 90.21875 L 93.429688 88.769531 L 94.699219 90.21875 L 93.429688 91.671875 Z M 97.273438 90.21875 \"/>\n",
       "<g clip-path=\"url(#clip-1717857318698393--7)\">\n",
       "<path fill=\"none\" stroke-width=\"0.59776\" stroke-linecap=\"butt\" stroke-linejoin=\"miter\" stroke=\"rgb(0%, 0%, 0%)\" stroke-opacity=\"1\" stroke-miterlimit=\"10\" d=\"M 4.828552 0.00180368 L 0.963988 1.45887 L 2.240394 0.00180368 L 0.963988 -1.45919 Z M 4.828552 0.00180368 \" transform=\"matrix(0.994614, 0, 0, -0.994614, 92.470892, 90.220544)\"/>\n",
       "</g>\n",
       "<g fill=\"rgb(0%, 0%, 0%)\" fill-opacity=\"1\">\n",
       "<use xlink:href=\"#glyph-1717857318698393--0-2\" x=\"3.787146\" y=\"18.955354\"/>\n",
       "</g>\n",
       "<path fill-rule=\"nonzero\" fill=\"rgb(0%, 0%, 0%)\" fill-opacity=\"1\" d=\"M 97.273438 90.21875 L 93.429688 88.769531 L 94.699219 90.21875 L 93.429688 91.671875 Z M 97.273438 90.21875 \"/>\n",
       "<g clip-path=\"url(#clip-1717857318698393--8)\">\n",
       "<path fill=\"none\" stroke-width=\"0.59776\" stroke-linecap=\"butt\" stroke-linejoin=\"miter\" stroke=\"rgb(0%, 0%, 0%)\" stroke-opacity=\"1\" stroke-miterlimit=\"10\" d=\"M 4.828552 0.00180368 L 0.963988 1.45887 L 2.240394 0.00180368 L 0.963988 -1.45919 Z M 4.828552 0.00180368 \" transform=\"matrix(0.994614, 0, 0, -0.994614, 92.470892, 90.220544)\"/>\n",
       "</g>\n",
       "</svg>\n",
       "\n"
      ],
      "text/plain": [
       "Catlab.Graphics.TikZ.Document(Catlab.Graphics.TikZ.Picture(Catlab.Graphics.TikZ.Statement[Catlab.Graphics.TikZ.Node(\"root\", Catlab.Graphics.TikZ.Property[Catlab.Graphics.TikZ.Property(\"outer box\", nothing), Catlab.Graphics.TikZ.Property(\"minimum width\", \"8\\\\tikzunit\"), Catlab.Graphics.TikZ.Property(\"minimum height\", \"10\\\\tikzunit\")], Catlab.Graphics.TikZ.Coordinate(\"0\", \"0\"), \"\"), Catlab.Graphics.TikZ.Edge(Catlab.Graphics.TikZ.PathExpression[Catlab.Graphics.TikZ.NodeCoordinate(\"root.west\"), Catlab.Graphics.TikZ.PathOperation(\"to\", Catlab.Graphics.TikZ.Property[Catlab.Graphics.TikZ.Property(\"out\", \"0\"), Catlab.Graphics.TikZ.Property(\"in\", \"-135\")]), Catlab.Graphics.TikZ.Coordinate(\"-2\", \"1.5\"), Catlab.Graphics.TikZ.PathOperation(\"to\", Catlab.Graphics.TikZ.Property[Catlab.Graphics.TikZ.Property(\"out\", \"45\"), Catlab.Graphics.TikZ.Property(\"in\", \"180\")]), Catlab.Graphics.TikZ.Coordinate(\"0\", \"3\"), Catlab.Graphics.TikZ.PathOperation(\"to\", Catlab.Graphics.TikZ.Property[Catlab.Graphics.TikZ.Property(\"out\", \"0\"), Catlab.Graphics.TikZ.Property(\"in\", \"135\")]), Catlab.Graphics.TikZ.Coordinate(\"2\", \"1.5\"), Catlab.Graphics.TikZ.PathOperation(\"to\", Catlab.Graphics.TikZ.Property[Catlab.Graphics.TikZ.Property(\"out\", \"-45\"), Catlab.Graphics.TikZ.Property(\"in\", \"180\")]), Catlab.Graphics.TikZ.NodeCoordinate(\"root.east\")], Catlab.Graphics.TikZ.Property[Catlab.Graphics.TikZ.Property(\"wire\", \"{\\\\node[anchor=south] {\\$B\\$};}\"), Catlab.Graphics.TikZ.Property(\"->\", nothing)]), Catlab.Graphics.TikZ.Edge(Catlab.Graphics.TikZ.PathExpression[Catlab.Graphics.TikZ.NodeCoordinate(\"\\$(root.west)+(0,-3)\\$\"), Catlab.Graphics.TikZ.PathOperation(\"to\", Catlab.Graphics.TikZ.Property[Catlab.Graphics.TikZ.Property(\"out\", \"0\"), Catlab.Graphics.TikZ.Property(\"in\", \"180\")]), Catlab.Graphics.TikZ.Coordinate(\"-2\", \"-3\"), Catlab.Graphics.TikZ.PathOperation(\"to\", Catlab.Graphics.TikZ.Property[Catlab.Graphics.TikZ.Property(\"out\", \"0\"), Catlab.Graphics.TikZ.Property(\"in\", \"-135\")]), Catlab.Graphics.TikZ.Coordinate(\"0\", \"-1.5\"), Catlab.Graphics.TikZ.PathOperation(\"to\", Catlab.Graphics.TikZ.Property[Catlab.Graphics.TikZ.Property(\"out\", \"45\"), Catlab.Graphics.TikZ.Property(\"in\", \"-135\")]), Catlab.Graphics.TikZ.Coordinate(\"2\", \"1.5\"), Catlab.Graphics.TikZ.PathOperation(\"to\", Catlab.Graphics.TikZ.Property[Catlab.Graphics.TikZ.Property(\"out\", \"45\"), Catlab.Graphics.TikZ.Property(\"in\", \"180\")]), Catlab.Graphics.TikZ.NodeCoordinate(\"\\$(root.east)+(0,3)\\$\")], Catlab.Graphics.TikZ.Property[Catlab.Graphics.TikZ.Property(\"wire\", \"{\\\\node[anchor=south] {\\$C\\$};}\"), Catlab.Graphics.TikZ.Property(\"->\", nothing)]), Catlab.Graphics.TikZ.Edge(Catlab.Graphics.TikZ.PathExpression[Catlab.Graphics.TikZ.NodeCoordinate(\"\\$(root.west)+(0,3)\\$\"), Catlab.Graphics.TikZ.PathOperation(\"to\", Catlab.Graphics.TikZ.Property[Catlab.Graphics.TikZ.Property(\"out\", \"0\"), Catlab.Graphics.TikZ.Property(\"in\", \"135\")]), Catlab.Graphics.TikZ.Coordinate(\"-2\", \"1.5\"), Catlab.Graphics.TikZ.PathOperation(\"to\", Catlab.Graphics.TikZ.Property[Catlab.Graphics.TikZ.Property(\"out\", \"-45\"), Catlab.Graphics.TikZ.Property(\"in\", \"135\")]), Catlab.Graphics.TikZ.Coordinate(\"0\", \"-1.5\"), Catlab.Graphics.TikZ.PathOperation(\"to\", Catlab.Graphics.TikZ.Property[Catlab.Graphics.TikZ.Property(\"out\", \"-45\"), Catlab.Graphics.TikZ.Property(\"in\", \"180\")]), Catlab.Graphics.TikZ.Coordinate(\"2\", \"-3\"), Catlab.Graphics.TikZ.PathOperation(\"to\", Catlab.Graphics.TikZ.Property[Catlab.Graphics.TikZ.Property(\"out\", \"0\"), Catlab.Graphics.TikZ.Property(\"in\", \"180\")]), Catlab.Graphics.TikZ.NodeCoordinate(\"\\$(root.east)+(0,-3)\\$\")], Catlab.Graphics.TikZ.Property[Catlab.Graphics.TikZ.Property(\"wire\", \"{\\\\node[anchor=south] {\\$A\\$};}\"), Catlab.Graphics.TikZ.Property(\"->\", nothing)])], Catlab.Graphics.TikZ.Property[Catlab.Graphics.TikZ.Property(\"unit length/.code\", \"{{\\\\newdimen\\\\tikzunit}\\\\setlength{\\\\tikzunit}{#1}}\"), Catlab.Graphics.TikZ.Property(\"unit length\", \"4mm\"), Catlab.Graphics.TikZ.Property(\"x\", \"\\\\tikzunit\"), Catlab.Graphics.TikZ.Property(\"y\", \"\\\\tikzunit\"), Catlab.Graphics.TikZ.Property(\"semithick\", nothing), Catlab.Graphics.TikZ.Property(\"outer box/.style\", Catlab.Graphics.TikZ.Property[Catlab.Graphics.TikZ.Property(\"draw\", \"none\")]), Catlab.Graphics.TikZ.Property(\"wire/.style\", Catlab.Graphics.TikZ.Property[Catlab.Graphics.TikZ.Property(\"draw\", nothing), Catlab.Graphics.TikZ.Property(\"postaction\", Catlab.Graphics.TikZ.Property[Catlab.Graphics.TikZ.Property(\"decorate\", nothing)]), Catlab.Graphics.TikZ.Property(\"decoration\", Catlab.Graphics.TikZ.Property[Catlab.Graphics.TikZ.Property(\"markings\", nothing), Catlab.Graphics.TikZ.Property(\"mark\", \"at position 0.1pt with {#1}\")])]), Catlab.Graphics.TikZ.Property(\"->/.style\", Catlab.Graphics.TikZ.Property[Catlab.Graphics.TikZ.Property(\"postaction\", Catlab.Graphics.TikZ.Property[Catlab.Graphics.TikZ.Property(\"decorate\", nothing)]), Catlab.Graphics.TikZ.Property(\"decoration\", Catlab.Graphics.TikZ.Property[Catlab.Graphics.TikZ.Property(\"markings\", nothing), Catlab.Graphics.TikZ.Property(\"mark\", \"at position -0.1pt with {\\\\arrow{Stealth}}\")])]), Catlab.Graphics.TikZ.Property(\"<-/.style\", Catlab.Graphics.TikZ.Property[Catlab.Graphics.TikZ.Property(\"postaction\", Catlab.Graphics.TikZ.Property[Catlab.Graphics.TikZ.Property(\"decorate\", nothing)]), Catlab.Graphics.TikZ.Property(\"decoration\", Catlab.Graphics.TikZ.Property[Catlab.Graphics.TikZ.Property(\"markings\", nothing), Catlab.Graphics.TikZ.Property(\"mark\", \"at position -0.1pt with {\\\\arrow{Stealth[reversed]}}\")])])]), [\"calc\", \"shapes.geometric\", \"decorations.markings\", \"arrows.meta\"], [\"amssymb\"])"
      ]
     },
     "execution_count": 10,
     "metadata": {},
     "output_type": "execute_result"
    }
   ],
   "source": [
    "σ = (braid(A,B) ⊗ id(C)) ⋅ (id(B) ⊗ braid(A,C) ⋅ (braid(B,C) ⊗ id(A)))\n",
    "\n",
    "to_tikz(σ, arrowtip=\"Stealth\", arrowtip_pos=\"-0.1pt\",\n",
    "        labels=true, labels_pos=\"0.1pt\")"
   ]
  },
  {
   "cell_type": "markdown",
   "metadata": {},
   "source": [
    "By default, anchor points are added along identity and braiding wires to\n",
    "reproduce the expression structure in the layout. The anchors can be disabled\n",
    "to get a more \"unbiased\" layout."
   ]
  },
  {
   "cell_type": "code",
   "execution_count": 11,
   "metadata": {},
   "outputs": [
    {
     "data": {
      "image/svg+xml": [
       "<?xml version=\"1.0\" encoding=\"UTF-8\"?>\n",
       "<svg xmlns=\"http://www.w3.org/2000/svg\" xmlns:xlink=\"http://www.w3.org/1999/xlink\" width=\"98.855\" height=\"113.386\" viewBox=\"0 0 98.855 113.386\">\n",
       "<defs>\n",
       "<g>\n",
       "<g id=\"glyph-1717857318698394--0-0\">\n",
       "<path d=\"M 1.578125 -0.765625 C 1.484375 -0.390625 1.46875 -0.3125 0.6875 -0.3125 C 0.515625 -0.3125 0.421875 -0.3125 0.421875 -0.109375 C 0.421875 0 0.5 0 0.6875 0 L 4.21875 0 C 5.78125 0 6.953125 -1.171875 6.953125 -2.140625 C 6.953125 -2.859375 6.375 -3.421875 5.421875 -3.53125 C 6.453125 -3.71875 7.484375 -4.453125 7.484375 -5.40625 C 7.484375 -6.125 6.828125 -6.765625 5.640625 -6.765625 L 2.3125 -6.765625 C 2.125 -6.765625 2.03125 -6.765625 2.03125 -6.5625 C 2.03125 -6.453125 2.125 -6.453125 2.3125 -6.453125 C 2.328125 -6.453125 2.515625 -6.453125 2.6875 -6.4375 C 2.859375 -6.421875 2.953125 -6.40625 2.953125 -6.28125 C 2.953125 -6.234375 2.9375 -6.21875 2.90625 -6.09375 Z M 3.078125 -3.625 L 3.6875 -6.078125 C 3.78125 -6.421875 3.796875 -6.453125 4.234375 -6.453125 L 5.515625 -6.453125 C 6.375 -6.453125 6.59375 -5.875 6.59375 -5.4375 C 6.59375 -4.5625 5.734375 -3.625 4.53125 -3.625 Z M 2.640625 -0.3125 C 2.5 -0.3125 2.484375 -0.3125 2.421875 -0.3125 C 2.3125 -0.328125 2.28125 -0.34375 2.28125 -0.421875 C 2.28125 -0.453125 2.28125 -0.46875 2.34375 -0.640625 L 3.015625 -3.40625 L 4.890625 -3.40625 C 5.84375 -3.40625 6.03125 -2.671875 6.03125 -2.25 C 6.03125 -1.265625 5.15625 -0.3125 3.984375 -0.3125 Z M 2.640625 -0.3125 \"/>\n",
       "</g>\n",
       "<g id=\"glyph-1717857318698394--0-1\">\n",
       "<path d=\"M 7.53125 -6.890625 C 7.53125 -6.921875 7.515625 -6.984375 7.421875 -6.984375 C 7.390625 -6.984375 7.375 -6.96875 7.265625 -6.859375 L 6.578125 -6.109375 C 6.484375 -6.234375 6.03125 -6.984375 4.9375 -6.984375 C 2.71875 -6.984375 0.5 -4.796875 0.5 -2.5 C 0.5 -0.859375 1.671875 0.21875 3.1875 0.21875 C 4.046875 0.21875 4.796875 -0.171875 5.3125 -0.640625 C 6.234375 -1.453125 6.40625 -2.34375 6.40625 -2.375 C 6.40625 -2.484375 6.3125 -2.484375 6.296875 -2.484375 C 6.234375 -2.484375 6.1875 -2.453125 6.15625 -2.375 C 6.078125 -2.09375 5.84375 -1.390625 5.15625 -0.8125 C 4.484375 -0.25 3.859375 -0.09375 3.34375 -0.09375 C 2.453125 -0.09375 1.390625 -0.609375 1.390625 -2.15625 C 1.390625 -2.71875 1.609375 -4.3125 2.59375 -5.484375 C 3.203125 -6.1875 4.125 -6.671875 5.015625 -6.671875 C 6.015625 -6.671875 6.609375 -5.90625 6.609375 -4.765625 C 6.609375 -4.375 6.578125 -4.359375 6.578125 -4.265625 C 6.578125 -4.15625 6.6875 -4.15625 6.71875 -4.15625 C 6.859375 -4.15625 6.859375 -4.1875 6.90625 -4.359375 Z M 7.53125 -6.890625 \"/>\n",
       "</g>\n",
       "<g id=\"glyph-1717857318698394--0-2\">\n",
       "<path d=\"M 1.765625 -1.140625 C 1.375 -0.46875 0.984375 -0.34375 0.5625 -0.3125 C 0.4375 -0.296875 0.34375 -0.296875 0.34375 -0.109375 C 0.34375 -0.046875 0.390625 0 0.46875 0 C 0.75 0 1.046875 -0.03125 1.328125 -0.03125 C 1.65625 -0.03125 2 0 2.3125 0 C 2.375 0 2.5 0 2.5 -0.1875 C 2.5 -0.296875 2.421875 -0.3125 2.34375 -0.3125 C 2.125 -0.328125 1.875 -0.40625 1.875 -0.65625 C 1.875 -0.765625 1.9375 -0.875 2.015625 -1.015625 L 2.78125 -2.28125 L 5.265625 -2.28125 C 5.28125 -2.078125 5.421875 -0.734375 5.421875 -0.640625 C 5.421875 -0.34375 4.90625 -0.3125 4.703125 -0.3125 C 4.5625 -0.3125 4.46875 -0.3125 4.46875 -0.109375 C 4.46875 0 4.59375 0 4.609375 0 C 5.015625 0 5.4375 -0.03125 5.84375 -0.03125 C 6.09375 -0.03125 6.71875 0 6.96875 0 C 7.03125 0 7.140625 0 7.140625 -0.203125 C 7.140625 -0.3125 7.046875 -0.3125 6.921875 -0.3125 C 6.296875 -0.3125 6.296875 -0.375 6.265625 -0.65625 L 5.671875 -6.859375 C 5.640625 -7.046875 5.640625 -7.09375 5.484375 -7.09375 C 5.3125 -7.09375 5.28125 -7.03125 5.21875 -6.921875 Z M 2.96875 -2.59375 L 4.90625 -5.859375 L 5.234375 -2.59375 Z M 2.96875 -2.59375 \"/>\n",
       "</g>\n",
       "</g>\n",
       "<clipPath id=\"clip-1717857318698394--0\">\n",
       "<path clip-rule=\"nonzero\" d=\"M 0.195312 47 L 98.515625 47 L 98.515625 65 L 0.195312 65 Z M 0.195312 47 \"/>\n",
       "</clipPath>\n",
       "<clipPath id=\"clip-1717857318698394--1\">\n",
       "<path clip-rule=\"nonzero\" d=\"M 85 46 L 98.515625 46 L 98.515625 67 L 85 67 Z M 85 46 \"/>\n",
       "</clipPath>\n",
       "<clipPath id=\"clip-1717857318698394--2\">\n",
       "<path clip-rule=\"nonzero\" d=\"M 85 46 L 98.515625 46 L 98.515625 67 L 85 67 Z M 85 46 \"/>\n",
       "</clipPath>\n",
       "<clipPath id=\"clip-1717857318698394--3\">\n",
       "<path clip-rule=\"nonzero\" d=\"M 0.195312 14 L 98.515625 14 L 98.515625 99 L 0.195312 99 Z M 0.195312 14 \"/>\n",
       "</clipPath>\n",
       "<clipPath id=\"clip-1717857318698394--4\">\n",
       "<path clip-rule=\"nonzero\" d=\"M 85 12 L 98.515625 12 L 98.515625 33 L 85 33 Z M 85 12 \"/>\n",
       "</clipPath>\n",
       "<clipPath id=\"clip-1717857318698394--5\">\n",
       "<path clip-rule=\"nonzero\" d=\"M 85 12 L 98.515625 12 L 98.515625 33 L 85 33 Z M 85 12 \"/>\n",
       "</clipPath>\n",
       "<clipPath id=\"clip-1717857318698394--6\">\n",
       "<path clip-rule=\"nonzero\" d=\"M 0.195312 14 L 98.515625 14 L 98.515625 99 L 0.195312 99 Z M 0.195312 14 \"/>\n",
       "</clipPath>\n",
       "<clipPath id=\"clip-1717857318698394--7\">\n",
       "<path clip-rule=\"nonzero\" d=\"M 85 80 L 98.515625 80 L 98.515625 101 L 85 101 Z M 85 80 \"/>\n",
       "</clipPath>\n",
       "<clipPath id=\"clip-1717857318698394--8\">\n",
       "<path clip-rule=\"nonzero\" d=\"M 85 80 L 98.515625 80 L 98.515625 101 L 85 101 Z M 85 80 \"/>\n",
       "</clipPath>\n",
       "</defs>\n",
       "<g clip-path=\"url(#clip-1717857318698394--0)\">\n",
       "<path fill=\"none\" stroke-width=\"0.59776\" stroke-linecap=\"butt\" stroke-linejoin=\"miter\" stroke=\"rgb(0%, 0%, 0%)\" stroke-opacity=\"1\" stroke-miterlimit=\"10\" d=\"M -45.651801 0.000939803 C -10.045966 0.000939803 10.046627 0.000939803 45.652461 0.000939803 \" transform=\"matrix(0.994614, 0, 0, -0.994614, 52.812172, 56.387653)\"/>\n",
       "</g>\n",
       "<g fill=\"rgb(0%, 0%, 0%)\" fill-opacity=\"1\">\n",
       "<use xlink:href=\"#glyph-1717857318698394--0-0\" x=\"3.497218\" y=\"52.788145\"/>\n",
       "</g>\n",
       "<path fill-rule=\"nonzero\" fill=\"rgb(0%, 0%, 0%)\" fill-opacity=\"1\" d=\"M 97.273438 56.386719 L 93.429688 54.9375 L 94.699219 56.386719 L 93.429688 57.839844 Z M 97.273438 56.386719 \"/>\n",
       "<g clip-path=\"url(#clip-1717857318698394--1)\">\n",
       "<path fill=\"none\" stroke-width=\"0.59776\" stroke-linecap=\"butt\" stroke-linejoin=\"miter\" stroke=\"rgb(0%, 0%, 0%)\" stroke-opacity=\"1\" stroke-miterlimit=\"10\" d=\"M 4.82816 0.000939803 L 0.963595 1.458006 L 2.240001 0.000939803 L 0.963595 -1.460054 Z M 4.82816 0.000939803 \" transform=\"matrix(0.994614, 0, 0, -0.994614, 92.471282, 56.387653)\"/>\n",
       "</g>\n",
       "<g fill=\"rgb(0%, 0%, 0%)\" fill-opacity=\"1\">\n",
       "<use xlink:href=\"#glyph-1717857318698394--0-0\" x=\"3.497218\" y=\"52.788145\"/>\n",
       "</g>\n",
       "<path fill-rule=\"nonzero\" fill=\"rgb(0%, 0%, 0%)\" fill-opacity=\"1\" d=\"M 97.273438 56.386719 L 93.429688 54.9375 L 94.699219 56.386719 L 93.429688 57.839844 Z M 97.273438 56.386719 \"/>\n",
       "<g clip-path=\"url(#clip-1717857318698394--2)\">\n",
       "<path fill=\"none\" stroke-width=\"0.59776\" stroke-linecap=\"butt\" stroke-linejoin=\"miter\" stroke=\"rgb(0%, 0%, 0%)\" stroke-opacity=\"1\" stroke-miterlimit=\"10\" d=\"M 4.82816 0.000939803 L 0.963595 1.458006 L 2.240001 0.000939803 L 0.963595 -1.460054 Z M 4.82816 0.000939803 \" transform=\"matrix(0.994614, 0, 0, -0.994614, 92.471282, 56.387653)\"/>\n",
       "</g>\n",
       "<g clip-path=\"url(#clip-1717857318698394--3)\">\n",
       "<path fill=\"none\" stroke-width=\"0.59776\" stroke-linecap=\"butt\" stroke-linejoin=\"miter\" stroke=\"rgb(0%, 0%, 0%)\" stroke-opacity=\"1\" stroke-miterlimit=\"10\" d=\"M -45.651801 -34.014296 C -1.232874 -34.014296 1.229607 34.016176 45.652461 34.016176 \" transform=\"matrix(0.994614, 0, 0, -0.994614, 52.812172, 56.387653)\"/>\n",
       "</g>\n",
       "<g fill=\"rgb(0%, 0%, 0%)\" fill-opacity=\"1\">\n",
       "<use xlink:href=\"#glyph-1717857318698394--0-1\" x=\"3.607621\" y=\"86.619942\"/>\n",
       "</g>\n",
       "<path fill-rule=\"nonzero\" fill=\"rgb(0%, 0%, 0%)\" fill-opacity=\"1\" d=\"M 97.292969 22.554688 L 93.449219 21.113281 L 94.71875 22.5625 L 93.453125 24.015625 Z M 97.292969 22.554688 \"/>\n",
       "<g clip-path=\"url(#clip-1717857318698394--4)\">\n",
       "<path fill=\"none\" stroke-width=\"0.59776\" stroke-linecap=\"butt\" stroke-linejoin=\"miter\" stroke=\"rgb(0%, 0%, 0%)\" stroke-opacity=\"1\" stroke-miterlimit=\"10\" d=\"M 4.828015 0.00172931 L 0.966073 1.458245 L 2.239773 -0.0012597 L 0.964514 -1.4599 Z M 4.828015 0.00172931 \" transform=\"matrix(0.994584, -0.00186987, -0.00186987, -0.994584, 92.491105, 22.565435)\"/>\n",
       "</g>\n",
       "<g fill=\"rgb(0%, 0%, 0%)\" fill-opacity=\"1\">\n",
       "<use xlink:href=\"#glyph-1717857318698394--0-1\" x=\"3.607621\" y=\"86.619942\"/>\n",
       "</g>\n",
       "<path fill-rule=\"nonzero\" fill=\"rgb(0%, 0%, 0%)\" fill-opacity=\"1\" d=\"M 97.292969 22.554688 L 93.449219 21.113281 L 94.71875 22.5625 L 93.453125 24.015625 Z M 97.292969 22.554688 \"/>\n",
       "<g clip-path=\"url(#clip-1717857318698394--5)\">\n",
       "<path fill=\"none\" stroke-width=\"0.59776\" stroke-linecap=\"butt\" stroke-linejoin=\"miter\" stroke=\"rgb(0%, 0%, 0%)\" stroke-opacity=\"1\" stroke-miterlimit=\"10\" d=\"M 4.828015 0.00172931 L 0.966073 1.458245 L 2.239773 -0.0012597 L 0.964514 -1.4599 Z M 4.828015 0.00172931 \" transform=\"matrix(0.994584, -0.00186987, -0.00186987, -0.994584, 92.491105, 22.565435)\"/>\n",
       "</g>\n",
       "<g clip-path=\"url(#clip-1717857318698394--6)\">\n",
       "<path fill=\"none\" stroke-width=\"0.59776\" stroke-linecap=\"butt\" stroke-linejoin=\"miter\" stroke=\"rgb(0%, 0%, 0%)\" stroke-opacity=\"1\" stroke-miterlimit=\"10\" d=\"M -45.651801 34.016176 C -1.232874 34.016176 1.229607 -34.014296 45.652461 -34.014296 \" transform=\"matrix(0.994614, 0, 0, -0.994614, 52.812172, 56.387653)\"/>\n",
       "</g>\n",
       "<g fill=\"rgb(0%, 0%, 0%)\" fill-opacity=\"1\">\n",
       "<use xlink:href=\"#glyph-1717857318698394--0-2\" x=\"3.787646\" y=\"18.955354\"/>\n",
       "</g>\n",
       "<path fill-rule=\"nonzero\" fill=\"rgb(0%, 0%, 0%)\" fill-opacity=\"1\" d=\"M 97.292969 90.21875 L 93.453125 88.761719 L 94.71875 90.214844 L 93.449219 91.660156 Z M 97.292969 90.21875 \"/>\n",
       "<g clip-path=\"url(#clip-1717857318698394--7)\">\n",
       "<path fill=\"none\" stroke-width=\"0.59776\" stroke-linecap=\"butt\" stroke-linejoin=\"miter\" stroke=\"rgb(0%, 0%, 0%)\" stroke-opacity=\"1\" stroke-miterlimit=\"10\" d=\"M 4.828011 0.00015035 L 0.964518 1.457852 L 2.239777 -0.000788156 L 0.966069 -1.456365 Z M 4.828011 0.00015035 \" transform=\"matrix(0.994584, 0.00186987, 0.00186987, -0.994584, 92.491105, 90.209872)\"/>\n",
       "</g>\n",
       "<g fill=\"rgb(0%, 0%, 0%)\" fill-opacity=\"1\">\n",
       "<use xlink:href=\"#glyph-1717857318698394--0-2\" x=\"3.787646\" y=\"18.955354\"/>\n",
       "</g>\n",
       "<path fill-rule=\"nonzero\" fill=\"rgb(0%, 0%, 0%)\" fill-opacity=\"1\" d=\"M 97.292969 90.21875 L 93.453125 88.761719 L 94.71875 90.214844 L 93.449219 91.660156 Z M 97.292969 90.21875 \"/>\n",
       "<g clip-path=\"url(#clip-1717857318698394--8)\">\n",
       "<path fill=\"none\" stroke-width=\"0.59776\" stroke-linecap=\"butt\" stroke-linejoin=\"miter\" stroke=\"rgb(0%, 0%, 0%)\" stroke-opacity=\"1\" stroke-miterlimit=\"10\" d=\"M 4.828011 0.00015035 L 0.964518 1.457852 L 2.239777 -0.000788156 L 0.966069 -1.456365 Z M 4.828011 0.00015035 \" transform=\"matrix(0.994584, 0.00186987, 0.00186987, -0.994584, 92.491105, 90.209872)\"/>\n",
       "</g>\n",
       "</svg>\n",
       "\n"
      ],
      "text/plain": [
       "Catlab.Graphics.TikZ.Document(Catlab.Graphics.TikZ.Picture(Catlab.Graphics.TikZ.Statement[Catlab.Graphics.TikZ.Node(\"root\", Catlab.Graphics.TikZ.Property[Catlab.Graphics.TikZ.Property(\"outer box\", nothing), Catlab.Graphics.TikZ.Property(\"minimum width\", \"8\\\\tikzunit\"), Catlab.Graphics.TikZ.Property(\"minimum height\", \"10\\\\tikzunit\")], Catlab.Graphics.TikZ.Coordinate(\"0\", \"0\"), \"\"), Catlab.Graphics.TikZ.Edge(Catlab.Graphics.TikZ.PathExpression[Catlab.Graphics.TikZ.NodeCoordinate(\"root.west\"), Catlab.Graphics.TikZ.PathOperation(\"to\", Catlab.Graphics.TikZ.Property[Catlab.Graphics.TikZ.Property(\"out\", \"0\"), Catlab.Graphics.TikZ.Property(\"in\", \"180\")]), Catlab.Graphics.TikZ.NodeCoordinate(\"root.east\")], Catlab.Graphics.TikZ.Property[Catlab.Graphics.TikZ.Property(\"wire\", \"{\\\\node[anchor=south] {\\$B\\$};}\"), Catlab.Graphics.TikZ.Property(\"->\", nothing)]), Catlab.Graphics.TikZ.Edge(Catlab.Graphics.TikZ.PathExpression[Catlab.Graphics.TikZ.NodeCoordinate(\"\\$(root.west)+(0,-3)\\$\"), Catlab.Graphics.TikZ.PathOperation(\"to\", Catlab.Graphics.TikZ.Property[Catlab.Graphics.TikZ.Property(\"out\", \"0\"), Catlab.Graphics.TikZ.Property(\"in\", \"180\")]), Catlab.Graphics.TikZ.NodeCoordinate(\"\\$(root.east)+(0,3)\\$\")], Catlab.Graphics.TikZ.Property[Catlab.Graphics.TikZ.Property(\"wire\", \"{\\\\node[anchor=south] {\\$C\\$};}\"), Catlab.Graphics.TikZ.Property(\"->\", nothing)]), Catlab.Graphics.TikZ.Edge(Catlab.Graphics.TikZ.PathExpression[Catlab.Graphics.TikZ.NodeCoordinate(\"\\$(root.west)+(0,3)\\$\"), Catlab.Graphics.TikZ.PathOperation(\"to\", Catlab.Graphics.TikZ.Property[Catlab.Graphics.TikZ.Property(\"out\", \"0\"), Catlab.Graphics.TikZ.Property(\"in\", \"180\")]), Catlab.Graphics.TikZ.NodeCoordinate(\"\\$(root.east)+(0,-3)\\$\")], Catlab.Graphics.TikZ.Property[Catlab.Graphics.TikZ.Property(\"wire\", \"{\\\\node[anchor=south] {\\$A\\$};}\"), Catlab.Graphics.TikZ.Property(\"->\", nothing)])], Catlab.Graphics.TikZ.Property[Catlab.Graphics.TikZ.Property(\"unit length/.code\", \"{{\\\\newdimen\\\\tikzunit}\\\\setlength{\\\\tikzunit}{#1}}\"), Catlab.Graphics.TikZ.Property(\"unit length\", \"4mm\"), Catlab.Graphics.TikZ.Property(\"x\", \"\\\\tikzunit\"), Catlab.Graphics.TikZ.Property(\"y\", \"\\\\tikzunit\"), Catlab.Graphics.TikZ.Property(\"semithick\", nothing), Catlab.Graphics.TikZ.Property(\"outer box/.style\", Catlab.Graphics.TikZ.Property[Catlab.Graphics.TikZ.Property(\"draw\", \"none\")]), Catlab.Graphics.TikZ.Property(\"wire/.style\", Catlab.Graphics.TikZ.Property[Catlab.Graphics.TikZ.Property(\"draw\", nothing), Catlab.Graphics.TikZ.Property(\"postaction\", Catlab.Graphics.TikZ.Property[Catlab.Graphics.TikZ.Property(\"decorate\", nothing)]), Catlab.Graphics.TikZ.Property(\"decoration\", Catlab.Graphics.TikZ.Property[Catlab.Graphics.TikZ.Property(\"markings\", nothing), Catlab.Graphics.TikZ.Property(\"mark\", \"at position 0.1pt with {#1}\")])]), Catlab.Graphics.TikZ.Property(\"->/.style\", Catlab.Graphics.TikZ.Property[Catlab.Graphics.TikZ.Property(\"postaction\", Catlab.Graphics.TikZ.Property[Catlab.Graphics.TikZ.Property(\"decorate\", nothing)]), Catlab.Graphics.TikZ.Property(\"decoration\", Catlab.Graphics.TikZ.Property[Catlab.Graphics.TikZ.Property(\"markings\", nothing), Catlab.Graphics.TikZ.Property(\"mark\", \"at position -0.1pt with {\\\\arrow{Stealth}}\")])]), Catlab.Graphics.TikZ.Property(\"<-/.style\", Catlab.Graphics.TikZ.Property[Catlab.Graphics.TikZ.Property(\"postaction\", Catlab.Graphics.TikZ.Property[Catlab.Graphics.TikZ.Property(\"decorate\", nothing)]), Catlab.Graphics.TikZ.Property(\"decoration\", Catlab.Graphics.TikZ.Property[Catlab.Graphics.TikZ.Property(\"markings\", nothing), Catlab.Graphics.TikZ.Property(\"mark\", \"at position -0.1pt with {\\\\arrow{Stealth[reversed]}}\")])])]), [\"calc\", \"shapes.geometric\", \"decorations.markings\", \"arrows.meta\"], [\"amssymb\"])"
      ]
     },
     "execution_count": 11,
     "metadata": {},
     "output_type": "execute_result"
    }
   ],
   "source": [
    "to_tikz(σ, anchor_wires=false, arrowtip=\"Stealth\", arrowtip_pos=\"-0.1pt\",\n",
    "        labels=true, labels_pos=\"0.1pt\")"
   ]
  },
  {
   "cell_type": "markdown",
   "metadata": {},
   "source": [
    "### Biproduct category"
   ]
  },
  {
   "cell_type": "code",
   "execution_count": 12,
   "metadata": {},
   "outputs": [
    {
     "data": {
      "image/svg+xml": [
       "<?xml version=\"1.0\" encoding=\"UTF-8\"?>\n",
       "<svg xmlns=\"http://www.w3.org/2000/svg\" xmlns:xlink=\"http://www.w3.org/1999/xlink\" width=\"52.219\" height=\"79.37\" viewBox=\"0 0 52.219 79.37\">\n",
       "<defs>\n",
       "<g>\n",
       "<g id=\"glyph-1717857318698395--0-0\">\n",
       "<path d=\"M 1.75 -1.125 C 1.359375 -0.46875 0.984375 -0.328125 0.546875 -0.296875 C 0.4375 -0.296875 0.34375 -0.296875 0.34375 -0.109375 C 0.34375 -0.046875 0.390625 0 0.46875 0 C 0.734375 0 1.046875 -0.03125 1.3125 -0.03125 C 1.640625 -0.03125 1.984375 0 2.296875 0 C 2.359375 0 2.484375 0 2.484375 -0.1875 C 2.484375 -0.296875 2.390625 -0.296875 2.328125 -0.296875 C 2.09375 -0.328125 1.859375 -0.40625 1.859375 -0.640625 C 1.859375 -0.765625 1.921875 -0.875 2 -1.015625 L 2.75 -2.265625 L 5.203125 -2.265625 C 5.234375 -2.0625 5.375 -0.71875 5.375 -0.625 C 5.375 -0.328125 4.859375 -0.296875 4.65625 -0.296875 C 4.53125 -0.296875 4.421875 -0.296875 4.421875 -0.109375 C 4.421875 0 4.546875 0 4.5625 0 C 4.96875 0 5.390625 -0.03125 5.796875 -0.03125 C 6.03125 -0.03125 6.65625 0 6.890625 0 C 6.953125 0 7.078125 0 7.078125 -0.203125 C 7.078125 -0.296875 6.984375 -0.296875 6.84375 -0.296875 C 6.234375 -0.296875 6.234375 -0.375 6.21875 -0.65625 L 5.609375 -6.796875 C 5.59375 -6.984375 5.59375 -7.03125 5.421875 -7.03125 C 5.265625 -7.03125 5.234375 -6.953125 5.171875 -6.859375 Z M 2.9375 -2.578125 L 4.859375 -5.8125 L 5.1875 -2.578125 Z M 2.9375 -2.578125 \"/>\n",
       "</g>\n",
       "</g>\n",
       "<clipPath id=\"clip-1717857318698395--0\">\n",
       "<path clip-rule=\"nonzero\" d=\"M 20 14 L 51.449219 14 L 51.449219 47 L 20 47 Z M 20 14 \"/>\n",
       "</clipPath>\n",
       "<clipPath id=\"clip-1717857318698395--1\">\n",
       "<path clip-rule=\"nonzero\" d=\"M 20 32 L 51.449219 32 L 51.449219 65 L 20 65 Z M 20 32 \"/>\n",
       "</clipPath>\n",
       "</defs>\n",
       "<path fill-rule=\"nonzero\" fill=\"rgb(0%, 0%, 0%)\" fill-opacity=\"1\" stroke-width=\"0.59776\" stroke-linecap=\"butt\" stroke-linejoin=\"miter\" stroke=\"rgb(0%, 0%, 0%)\" stroke-opacity=\"1\" stroke-miterlimit=\"10\" d=\"M 2.836076 -0.000363565 C 2.836076 1.565682 1.567381 2.834378 0.00133519 2.834378 C -1.564711 2.834378 -2.833406 1.565682 -2.833406 -0.000363565 C -2.833406 -1.566409 -1.564711 -2.835105 0.00133519 -2.835105 C 1.567381 -2.835105 2.836076 -1.566409 2.836076 -0.000363565 Z M 2.836076 -0.000363565 \" transform=\"matrix(0.985264, 0, 0, -0.985264, 25.725247, 39.374642)\"/>\n",
       "<path fill=\"none\" stroke-width=\"0.59776\" stroke-linecap=\"butt\" stroke-linejoin=\"miter\" stroke=\"rgb(0%, 0%, 0%)\" stroke-opacity=\"1\" stroke-miterlimit=\"10\" d=\"M -25.81265 -0.000363565 C -16.967464 -0.000363565 -11.975941 -0.000363565 -3.134721 -0.000363565 \" transform=\"matrix(0.985264, 0, 0, -0.985264, 25.725247, 39.374642)\"/>\n",
       "<g fill=\"rgb(0%, 0%, 0%)\" fill-opacity=\"1\">\n",
       "<use xlink:href=\"#glyph-1717857318698395--0-0\" x=\"7.784572\" y=\"35.808971\"/>\n",
       "</g>\n",
       "<g clip-path=\"url(#clip-1717857318698395--0)\">\n",
       "<path fill=\"none\" stroke-width=\"0.59776\" stroke-linecap=\"butt\" stroke-linejoin=\"miter\" stroke=\"rgb(0%, 0%, 0%)\" stroke-opacity=\"1\" stroke-miterlimit=\"10\" d=\"M 2.713171 1.565682 C 12.125305 7.001249 14.944187 17.008083 25.811355 17.008083 \" transform=\"matrix(0.985264, 0, 0, -0.985264, 25.725247, 39.374642)\"/>\n",
       "</g>\n",
       "<g clip-path=\"url(#clip-1717857318698395--1)\">\n",
       "<path fill=\"none\" stroke-width=\"0.59776\" stroke-linecap=\"butt\" stroke-linejoin=\"miter\" stroke=\"rgb(0%, 0%, 0%)\" stroke-opacity=\"1\" stroke-miterlimit=\"10\" d=\"M 2.713171 -1.566409 C 12.125305 -7.001976 14.944187 -17.00881 25.811355 -17.00881 \" transform=\"matrix(0.985264, 0, 0, -0.985264, 25.725247, 39.374642)\"/>\n",
       "</g>\n",
       "</svg>\n",
       "\n"
      ],
      "text/plain": [
       "Catlab.Graphics.TikZ.Document(Catlab.Graphics.TikZ.Picture(Catlab.Graphics.TikZ.Statement[Catlab.Graphics.TikZ.Node(\"root\", Catlab.Graphics.TikZ.Property[Catlab.Graphics.TikZ.Property(\"outer box\", nothing), Catlab.Graphics.TikZ.Property(\"minimum width\", \"4.5\\\\tikzunit\"), Catlab.Graphics.TikZ.Property(\"minimum height\", \"7\\\\tikzunit\")], Catlab.Graphics.TikZ.Coordinate(\"0\", \"0\"), \"\"), Catlab.Graphics.TikZ.Node(\"n1\", Catlab.Graphics.TikZ.Property[Catlab.Graphics.TikZ.Property(\"junction\", nothing), Catlab.Graphics.TikZ.Property(\"minimum size\", \"0.5\\\\tikzunit\")], Catlab.Graphics.TikZ.Coordinate(\"0\", \"0\"), \"\"), Catlab.Graphics.TikZ.Edge(Catlab.Graphics.TikZ.PathExpression[Catlab.Graphics.TikZ.NodeCoordinate(\"root.west\"), Catlab.Graphics.TikZ.PathOperation(\"to\", Catlab.Graphics.TikZ.Property[Catlab.Graphics.TikZ.Property(\"out\", \"0\"), Catlab.Graphics.TikZ.Property(\"in\", \"180\")]), Catlab.Graphics.TikZ.NodeCoordinate(\"n1.180\")], Catlab.Graphics.TikZ.Property[Catlab.Graphics.TikZ.Property(\"wire\", \"{\\\\node[anchor=south] {\\$A\\$};}\")]), Catlab.Graphics.TikZ.Edge(Catlab.Graphics.TikZ.PathExpression[Catlab.Graphics.TikZ.NodeCoordinate(\"n1.30\"), Catlab.Graphics.TikZ.PathOperation(\"to\", Catlab.Graphics.TikZ.Property[Catlab.Graphics.TikZ.Property(\"out\", \"30\"), Catlab.Graphics.TikZ.Property(\"in\", \"180\")]), Catlab.Graphics.TikZ.NodeCoordinate(\"\\$(root.east)+(0.0,1.5)\\$\")], Catlab.Graphics.TikZ.Property[Catlab.Graphics.TikZ.Property(\"wire\", nothing)]), Catlab.Graphics.TikZ.Edge(Catlab.Graphics.TikZ.PathExpression[Catlab.Graphics.TikZ.NodeCoordinate(\"n1.-30\"), Catlab.Graphics.TikZ.PathOperation(\"to\", Catlab.Graphics.TikZ.Property[Catlab.Graphics.TikZ.Property(\"out\", \"-30\"), Catlab.Graphics.TikZ.Property(\"in\", \"180\")]), Catlab.Graphics.TikZ.NodeCoordinate(\"\\$(root.east)+(0.0,-1.5)\\$\")], Catlab.Graphics.TikZ.Property[Catlab.Graphics.TikZ.Property(\"wire\", nothing)])], Catlab.Graphics.TikZ.Property[Catlab.Graphics.TikZ.Property(\"unit length/.code\", \"{{\\\\newdimen\\\\tikzunit}\\\\setlength{\\\\tikzunit}{#1}}\"), Catlab.Graphics.TikZ.Property(\"unit length\", \"4mm\"), Catlab.Graphics.TikZ.Property(\"x\", \"\\\\tikzunit\"), Catlab.Graphics.TikZ.Property(\"y\", \"\\\\tikzunit\"), Catlab.Graphics.TikZ.Property(\"semithick\", nothing), Catlab.Graphics.TikZ.Property(\"junction/.style\", Catlab.Graphics.TikZ.Property[Catlab.Graphics.TikZ.Property(\"circle\", nothing), Catlab.Graphics.TikZ.Property(\"draw\", nothing), Catlab.Graphics.TikZ.Property(\"fill\", nothing), Catlab.Graphics.TikZ.Property(\"inner sep\", \"0\")]), Catlab.Graphics.TikZ.Property(\"outer box/.style\", Catlab.Graphics.TikZ.Property[Catlab.Graphics.TikZ.Property(\"draw\", \"none\")]), Catlab.Graphics.TikZ.Property(\"wire/.style\", Catlab.Graphics.TikZ.Property[Catlab.Graphics.TikZ.Property(\"draw\", nothing), Catlab.Graphics.TikZ.Property(\"postaction\", Catlab.Graphics.TikZ.Property[Catlab.Graphics.TikZ.Property(\"decorate\", nothing)]), Catlab.Graphics.TikZ.Property(\"decoration\", Catlab.Graphics.TikZ.Property[Catlab.Graphics.TikZ.Property(\"markings\", nothing), Catlab.Graphics.TikZ.Property(\"mark\", \"at position 0.5 with {#1}\")])])]), [\"calc\", \"shapes.geometric\", \"decorations.markings\"], [\"amssymb\"])"
      ]
     },
     "execution_count": 12,
     "metadata": {},
     "output_type": "execute_result"
    }
   ],
   "source": [
    "A, B, C = Ob(FreeBiproductCategory, :A, :B, :C)\n",
    "f = Hom(:f, A, B)\n",
    "\n",
    "to_tikz(mcopy(A), labels=true)"
   ]
  },
  {
   "cell_type": "code",
   "execution_count": 13,
   "metadata": {},
   "outputs": [
    {
     "data": {
      "image/svg+xml": [
       "<?xml version=\"1.0\" encoding=\"UTF-8\"?>\n",
       "<svg xmlns=\"http://www.w3.org/2000/svg\" xmlns:xlink=\"http://www.w3.org/1999/xlink\" width=\"51.621\" height=\"45.354\" viewBox=\"0 0 51.621 45.354\">\n",
       "<defs>\n",
       "<g>\n",
       "<g id=\"glyph-1717857318698396--0-0\">\n",
       "<path d=\"M 1.765625 -1.125 C 1.359375 -0.46875 0.984375 -0.328125 0.546875 -0.296875 C 0.4375 -0.296875 0.34375 -0.296875 0.34375 -0.109375 C 0.34375 -0.046875 0.390625 0 0.46875 0 C 0.734375 0 1.046875 -0.03125 1.3125 -0.03125 C 1.640625 -0.03125 1.984375 0 2.296875 0 C 2.359375 0 2.484375 0 2.484375 -0.1875 C 2.484375 -0.296875 2.390625 -0.296875 2.328125 -0.296875 C 2.109375 -0.328125 1.875 -0.40625 1.875 -0.65625 C 1.875 -0.765625 1.921875 -0.875 2 -1.015625 L 2.75 -2.265625 L 5.21875 -2.265625 C 5.234375 -2.0625 5.375 -0.734375 5.375 -0.625 C 5.375 -0.328125 4.859375 -0.296875 4.671875 -0.296875 C 4.53125 -0.296875 4.4375 -0.296875 4.4375 -0.109375 C 4.4375 0 4.546875 0 4.5625 0 C 4.96875 0 5.390625 -0.03125 5.796875 -0.03125 C 6.046875 -0.03125 6.65625 0 6.90625 0 C 6.96875 0 7.09375 0 7.09375 -0.203125 C 7.09375 -0.296875 6.984375 -0.296875 6.859375 -0.296875 C 6.25 -0.296875 6.25 -0.375 6.21875 -0.65625 L 5.625 -6.796875 C 5.609375 -7 5.609375 -7.03125 5.4375 -7.03125 C 5.28125 -7.03125 5.234375 -6.96875 5.171875 -6.875 Z M 2.9375 -2.578125 L 4.875 -5.8125 L 5.1875 -2.578125 Z M 2.9375 -2.578125 \"/>\n",
       "</g>\n",
       "</g>\n",
       "<clipPath id=\"clip-1717857318698396--0\">\n",
       "<path clip-rule=\"nonzero\" d=\"M 0.175781 14 L 32 14 L 32 31 L 0.175781 31 Z M 0.175781 14 \"/>\n",
       "</clipPath>\n",
       "</defs>\n",
       "<path fill-rule=\"nonzero\" fill=\"rgb(0%, 0%, 0%)\" fill-opacity=\"1\" stroke-width=\"0.59776\" stroke-linecap=\"butt\" stroke-linejoin=\"miter\" stroke=\"rgb(0%, 0%, 0%)\" stroke-opacity=\"1\" stroke-miterlimit=\"10\" d=\"M 2.835712 -0.000850906 C 2.835712 1.564095 1.563946 2.835861 -0.00100052 2.835861 C -1.565947 2.835861 -2.833751 1.564095 -2.833751 -0.000850906 C -2.833751 -1.565797 -1.565947 -2.833601 -0.00100052 -2.833601 C 1.563946 -2.833601 2.835712 -1.565797 2.835712 -0.000850906 Z M 2.835712 -0.000850906 \" transform=\"matrix(0.985957, 0, 0, -0.985957, 25.918955, 22.358536)\"/>\n",
       "<g clip-path=\"url(#clip-1717857318698396--0)\">\n",
       "<path fill=\"none\" stroke-width=\"0.59776\" stroke-linecap=\"butt\" stroke-linejoin=\"miter\" stroke=\"rgb(0%, 0%, 0%)\" stroke-opacity=\"1\" stroke-miterlimit=\"10\" d=\"M -25.812705 -0.000850906 C -16.965808 -0.000850906 -11.97779 -0.000850906 -3.134854 -0.000850906 \" transform=\"matrix(0.985957, 0, 0, -0.985957, 25.918955, 22.358536)\"/>\n",
       "</g>\n",
       "<g fill=\"rgb(0%, 0%, 0%)\" fill-opacity=\"1\">\n",
       "<use xlink:href=\"#glyph-1717857318698396--0-0\" x=\"7.965673\" y=\"18.789373\"/>\n",
       "</g>\n",
       "</svg>\n",
       "\n"
      ],
      "text/plain": [
       "Catlab.Graphics.TikZ.Document(Catlab.Graphics.TikZ.Picture(Catlab.Graphics.TikZ.Statement[Catlab.Graphics.TikZ.Node(\"root\", Catlab.Graphics.TikZ.Property[Catlab.Graphics.TikZ.Property(\"outer box\", nothing), Catlab.Graphics.TikZ.Property(\"minimum width\", \"4.5\\\\tikzunit\"), Catlab.Graphics.TikZ.Property(\"minimum height\", \"4\\\\tikzunit\")], Catlab.Graphics.TikZ.Coordinate(\"0\", \"0\"), \"\"), Catlab.Graphics.TikZ.Node(\"n1\", Catlab.Graphics.TikZ.Property[Catlab.Graphics.TikZ.Property(\"junction\", nothing), Catlab.Graphics.TikZ.Property(\"minimum size\", \"0.5\\\\tikzunit\")], Catlab.Graphics.TikZ.Coordinate(\"0\", \"0\"), \"\"), Catlab.Graphics.TikZ.Edge(Catlab.Graphics.TikZ.PathExpression[Catlab.Graphics.TikZ.NodeCoordinate(\"root.west\"), Catlab.Graphics.TikZ.PathOperation(\"to\", Catlab.Graphics.TikZ.Property[Catlab.Graphics.TikZ.Property(\"out\", \"0\"), Catlab.Graphics.TikZ.Property(\"in\", \"180\")]), Catlab.Graphics.TikZ.NodeCoordinate(\"n1.180\")], Catlab.Graphics.TikZ.Property[Catlab.Graphics.TikZ.Property(\"wire\", \"{\\\\node[anchor=south] {\\$A\\$};}\")])], Catlab.Graphics.TikZ.Property[Catlab.Graphics.TikZ.Property(\"unit length/.code\", \"{{\\\\newdimen\\\\tikzunit}\\\\setlength{\\\\tikzunit}{#1}}\"), Catlab.Graphics.TikZ.Property(\"unit length\", \"4mm\"), Catlab.Graphics.TikZ.Property(\"x\", \"\\\\tikzunit\"), Catlab.Graphics.TikZ.Property(\"y\", \"\\\\tikzunit\"), Catlab.Graphics.TikZ.Property(\"semithick\", nothing), Catlab.Graphics.TikZ.Property(\"junction/.style\", Catlab.Graphics.TikZ.Property[Catlab.Graphics.TikZ.Property(\"circle\", nothing), Catlab.Graphics.TikZ.Property(\"draw\", nothing), Catlab.Graphics.TikZ.Property(\"fill\", nothing), Catlab.Graphics.TikZ.Property(\"inner sep\", \"0\")]), Catlab.Graphics.TikZ.Property(\"outer box/.style\", Catlab.Graphics.TikZ.Property[Catlab.Graphics.TikZ.Property(\"draw\", \"none\")]), Catlab.Graphics.TikZ.Property(\"wire/.style\", Catlab.Graphics.TikZ.Property[Catlab.Graphics.TikZ.Property(\"draw\", nothing), Catlab.Graphics.TikZ.Property(\"postaction\", Catlab.Graphics.TikZ.Property[Catlab.Graphics.TikZ.Property(\"decorate\", nothing)]), Catlab.Graphics.TikZ.Property(\"decoration\", Catlab.Graphics.TikZ.Property[Catlab.Graphics.TikZ.Property(\"markings\", nothing), Catlab.Graphics.TikZ.Property(\"mark\", \"at position 0.5 with {#1}\")])])]), [\"calc\", \"shapes.geometric\", \"decorations.markings\"], [\"amssymb\"])"
      ]
     },
     "execution_count": 13,
     "metadata": {},
     "output_type": "execute_result"
    }
   ],
   "source": [
    "to_tikz(delete(A), labels=true)"
   ]
  },
  {
   "cell_type": "code",
   "execution_count": 14,
   "metadata": {},
   "outputs": [
    {
     "data": {
      "image/svg+xml": [
       "<?xml version=\"1.0\" encoding=\"UTF-8\"?>\n",
       "<svg xmlns=\"http://www.w3.org/2000/svg\" xmlns:xlink=\"http://www.w3.org/1999/xlink\" width=\"125.92\" height=\"79.37\" viewBox=\"0 0 125.92 79.37\">\n",
       "<defs>\n",
       "<g>\n",
       "<g id=\"glyph-1717857318698397--0-0\">\n",
       "<path d=\"M 3.625 -3.953125 L 4.484375 -3.953125 C 4.671875 -3.953125 4.78125 -3.953125 4.78125 -4.15625 C 4.78125 -4.265625 4.671875 -4.265625 4.515625 -4.265625 L 3.6875 -4.265625 L 3.890625 -5.390625 C 3.9375 -5.59375 4.078125 -6.296875 4.140625 -6.421875 C 4.21875 -6.609375 4.390625 -6.75 4.59375 -6.75 C 4.640625 -6.75 4.890625 -6.75 5.078125 -6.578125 C 4.65625 -6.53125 4.546875 -6.1875 4.546875 -6.046875 C 4.546875 -5.8125 4.734375 -5.703125 4.921875 -5.703125 C 5.171875 -5.703125 5.453125 -5.921875 5.453125 -6.296875 C 5.453125 -6.75 5 -6.96875 4.59375 -6.96875 C 4.265625 -6.96875 3.640625 -6.796875 3.34375 -5.8125 C 3.28125 -5.609375 3.25 -5.515625 3.015625 -4.265625 L 2.328125 -4.265625 C 2.140625 -4.265625 2.03125 -4.265625 2.03125 -4.078125 C 2.03125 -3.953125 2.125 -3.953125 2.3125 -3.953125 L 2.96875 -3.953125 L 2.21875 -0.046875 C 2.046875 0.90625 1.875 1.8125 1.359375 1.8125 C 1.328125 1.8125 1.078125 1.8125 0.890625 1.625 C 1.34375 1.609375 1.4375 1.25 1.4375 1.09375 C 1.4375 0.875 1.25 0.75 1.0625 0.75 C 0.8125 0.75 0.53125 0.96875 0.53125 1.34375 C 0.53125 1.796875 0.953125 2.03125 1.359375 2.03125 C 1.90625 2.03125 2.296875 1.4375 2.484375 1.0625 C 2.796875 0.4375 3.03125 -0.75 3.03125 -0.828125 Z M 3.625 -3.953125 \"/>\n",
       "</g>\n",
       "<g id=\"glyph-1717857318698397--0-1\">\n",
       "<path d=\"M 1.765625 -1.140625 C 1.375 -0.46875 0.984375 -0.34375 0.546875 -0.3125 C 0.4375 -0.296875 0.34375 -0.296875 0.34375 -0.109375 C 0.34375 -0.046875 0.390625 0 0.46875 0 C 0.734375 0 1.046875 -0.03125 1.328125 -0.03125 C 1.65625 -0.03125 2 0 2.3125 0 C 2.375 0 2.5 0 2.5 -0.1875 C 2.5 -0.296875 2.40625 -0.3125 2.34375 -0.3125 C 2.109375 -0.328125 1.875 -0.40625 1.875 -0.65625 C 1.875 -0.765625 1.9375 -0.875 2.015625 -1.015625 L 2.765625 -2.28125 L 5.25 -2.28125 C 5.265625 -2.078125 5.40625 -0.734375 5.40625 -0.640625 C 5.40625 -0.34375 4.890625 -0.3125 4.703125 -0.3125 C 4.5625 -0.3125 4.453125 -0.3125 4.453125 -0.109375 C 4.453125 0 4.578125 0 4.59375 0 C 5 0 5.4375 -0.03125 5.828125 -0.03125 C 6.078125 -0.03125 6.703125 0 6.953125 0 C 7.015625 0 7.125 0 7.125 -0.203125 C 7.125 -0.3125 7.03125 -0.3125 6.90625 -0.3125 C 6.296875 -0.3125 6.296875 -0.375 6.265625 -0.65625 L 5.65625 -6.84375 C 5.640625 -7.046875 5.640625 -7.078125 5.46875 -7.078125 C 5.3125 -7.078125 5.265625 -7.015625 5.21875 -6.90625 Z M 2.953125 -2.59375 L 4.90625 -5.859375 L 5.21875 -2.59375 Z M 2.953125 -2.59375 \"/>\n",
       "</g>\n",
       "<g id=\"glyph-1717857318698397--0-2\">\n",
       "<path d=\"M 1.578125 -0.765625 C 1.484375 -0.390625 1.46875 -0.3125 0.6875 -0.3125 C 0.515625 -0.3125 0.421875 -0.3125 0.421875 -0.109375 C 0.421875 0 0.5 0 0.6875 0 L 4.21875 0 C 5.78125 0 6.9375 -1.171875 6.9375 -2.140625 C 6.9375 -2.84375 6.375 -3.421875 5.40625 -3.53125 C 6.4375 -3.71875 7.484375 -4.453125 7.484375 -5.390625 C 7.484375 -6.125 6.828125 -6.75 5.640625 -6.75 L 2.3125 -6.75 C 2.125 -6.75 2.03125 -6.75 2.03125 -6.5625 C 2.03125 -6.453125 2.109375 -6.453125 2.296875 -6.453125 C 2.328125 -6.453125 2.515625 -6.453125 2.6875 -6.421875 C 2.859375 -6.40625 2.953125 -6.40625 2.953125 -6.265625 C 2.953125 -6.234375 2.9375 -6.203125 2.90625 -6.078125 Z M 3.078125 -3.625 L 3.6875 -6.078125 C 3.78125 -6.421875 3.796875 -6.453125 4.21875 -6.453125 L 5.5 -6.453125 C 6.375 -6.453125 6.578125 -5.859375 6.578125 -5.4375 C 6.578125 -4.5625 5.734375 -3.625 4.515625 -3.625 Z M 2.625 -0.3125 C 2.5 -0.3125 2.46875 -0.3125 2.40625 -0.3125 C 2.3125 -0.328125 2.28125 -0.34375 2.28125 -0.421875 C 2.28125 -0.4375 2.28125 -0.46875 2.328125 -0.640625 L 3.015625 -3.40625 L 4.890625 -3.40625 C 5.828125 -3.40625 6.015625 -2.671875 6.015625 -2.25 C 6.015625 -1.265625 5.140625 -0.3125 3.96875 -0.3125 Z M 2.625 -0.3125 \"/>\n",
       "</g>\n",
       "</g>\n",
       "<clipPath id=\"clip-1717857318698397--0\">\n",
       "<path clip-rule=\"nonzero\" d=\"M 0.457031 30 L 32 30 L 32 48 L 0.457031 48 Z M 0.457031 30 \"/>\n",
       "</clipPath>\n",
       "<clipPath id=\"clip-1717857318698397--1\">\n",
       "<path clip-rule=\"nonzero\" d=\"M 94 30 L 125.382812 30 L 125.382812 48 L 94 48 Z M 94 30 \"/>\n",
       "</clipPath>\n",
       "</defs>\n",
       "<path fill-rule=\"nonzero\" fill=\"rgb(0%, 0%, 0%)\" fill-opacity=\"1\" stroke-width=\"0.59776\" stroke-linecap=\"butt\" stroke-linejoin=\"miter\" stroke=\"rgb(0%, 0%, 0%)\" stroke-opacity=\"1\" stroke-miterlimit=\"10\" d=\"M -34.016319 0.00139788 C -34.016319 1.564488 -35.284115 2.836222 -36.851143 2.836222 C -38.418171 2.836222 -39.685967 1.564488 -39.685967 0.00139788 C -39.685967 -1.56563 -38.418171 -2.833426 -36.851143 -2.833426 C -35.284115 -2.833426 -34.016319 -1.56563 -34.016319 0.00139788 Z M -34.016319 0.00139788 \" transform=\"matrix(0.992125, 0, 0, -0.992125, 62.920315, 39.372481)\"/>\n",
       "<path fill=\"none\" stroke-width=\"0.59776\" stroke-linecap=\"butt\" stroke-linejoin=\"miter\" stroke=\"rgb(0%, 0%, 0%)\" stroke-opacity=\"1\" stroke-miterlimit=\"10\" d=\"M 7.352429 28.345703 L -7.353222 28.345703 C -9.554148 28.345703 -11.337725 26.562126 -11.337725 24.3612 L -11.337725 9.655549 C -11.337725 7.454623 -9.554148 5.671046 -7.353222 5.671046 L 7.352429 5.671046 C 9.553355 5.671046 11.336932 7.454623 11.336932 9.655549 L 11.336932 24.3612 C 11.336932 26.562126 9.553355 28.345703 7.352429 28.345703 Z M 7.352429 28.345703 \" transform=\"matrix(0.992125, 0, 0, -0.992125, 62.920315, 39.372481)\"/>\n",
       "<g fill=\"rgb(0%, 0%, 0%)\" fill-opacity=\"1\">\n",
       "<use xlink:href=\"#glyph-1717857318698397--0-0\" x=\"59.968743\" y=\"24.969802\"/>\n",
       "</g>\n",
       "<path fill=\"none\" stroke-width=\"0.59776\" stroke-linecap=\"butt\" stroke-linejoin=\"miter\" stroke=\"rgb(0%, 0%, 0%)\" stroke-opacity=\"1\" stroke-miterlimit=\"10\" d=\"M 7.352429 -5.668251 L -7.353222 -5.668251 C -9.554148 -5.668251 -11.337725 -7.451828 -11.337725 -9.652754 L -11.337725 -24.362342 C -11.337725 -26.563268 -9.554148 -28.346845 -7.353222 -28.346845 L 7.352429 -28.346845 C 9.553355 -28.346845 11.336932 -26.563268 11.336932 -24.362342 L 11.336932 -9.652754 C 11.336932 -7.451828 9.553355 -5.668251 7.352429 -5.668251 Z M 7.352429 -5.668251 \" transform=\"matrix(0.992125, 0, 0, -0.992125, 62.920315, 39.372481)\"/>\n",
       "<g fill=\"rgb(0%, 0%, 0%)\" fill-opacity=\"1\">\n",
       "<use xlink:href=\"#glyph-1717857318698397--0-0\" x=\"59.968743\" y=\"58.717926\"/>\n",
       "</g>\n",
       "<path fill-rule=\"nonzero\" fill=\"rgb(0%, 0%, 0%)\" fill-opacity=\"1\" stroke-width=\"0.59776\" stroke-linecap=\"butt\" stroke-linejoin=\"miter\" stroke=\"rgb(0%, 0%, 0%)\" stroke-opacity=\"1\" stroke-miterlimit=\"10\" d=\"M 39.685174 0.00139788 C 39.685174 1.564488 38.417378 2.836222 36.85035 2.836222 C 35.283322 2.836222 34.015526 1.564488 34.015526 0.00139788 C 34.015526 -1.56563 35.283322 -2.833426 36.85035 -2.833426 C 38.417378 -2.833426 39.685174 -1.56563 39.685174 0.00139788 Z M 39.685174 0.00139788 \" transform=\"matrix(0.992125, 0, 0, -0.992125, 62.920315, 39.372481)\"/>\n",
       "<g clip-path=\"url(#clip-1717857318698397--0)\">\n",
       "<path fill=\"none\" stroke-width=\"0.59776\" stroke-linecap=\"butt\" stroke-linejoin=\"miter\" stroke=\"rgb(0%, 0%, 0%)\" stroke-opacity=\"1\" stroke-miterlimit=\"10\" d=\"M -62.659855 0.00139788 C -53.816778 0.00139788 -48.828275 0.00139788 -39.985198 0.00139788 \" transform=\"matrix(0.992125, 0, 0, -0.992125, 62.920315, 39.372481)\"/>\n",
       "</g>\n",
       "<g fill=\"rgb(0%, 0%, 0%)\" fill-opacity=\"1\">\n",
       "<use xlink:href=\"#glyph-1717857318698397--0-1\" x=\"8.294905\" y=\"35.78198\"/>\n",
       "</g>\n",
       "<path fill=\"none\" stroke-width=\"0.59776\" stroke-linecap=\"butt\" stroke-linejoin=\"miter\" stroke=\"rgb(0%, 0%, 0%)\" stroke-opacity=\"1\" stroke-miterlimit=\"10\" d=\"M 11.636164 -17.007548 C 22.325813 -17.007548 24.881092 -6.908486 34.137581 -1.56563 \" transform=\"matrix(0.992125, 0, 0, -0.992125, 62.920315, 39.372481)\"/>\n",
       "<path fill=\"none\" stroke-width=\"0.59776\" stroke-linecap=\"butt\" stroke-linejoin=\"miter\" stroke=\"rgb(0%, 0%, 0%)\" stroke-opacity=\"1\" stroke-miterlimit=\"10\" d=\"M 11.636164 17.006406 C 22.325813 17.006406 24.881092 6.911282 34.137581 1.568426 \" transform=\"matrix(0.992125, 0, 0, -0.992125, 62.920315, 39.372481)\"/>\n",
       "<path fill=\"none\" stroke-width=\"0.59776\" stroke-linecap=\"butt\" stroke-linejoin=\"miter\" stroke=\"rgb(0%, 0%, 0%)\" stroke-opacity=\"1\" stroke-miterlimit=\"10\" d=\"M -34.138373 -1.56563 C -24.881885 -6.908486 -22.322669 -17.007548 -11.636956 -17.007548 \" transform=\"matrix(0.992125, 0, 0, -0.992125, 62.920315, 39.372481)\"/>\n",
       "<path fill=\"none\" stroke-width=\"0.59776\" stroke-linecap=\"butt\" stroke-linejoin=\"miter\" stroke=\"rgb(0%, 0%, 0%)\" stroke-opacity=\"1\" stroke-miterlimit=\"10\" d=\"M -34.138373 1.568426 C -24.881885 6.911282 -22.322669 17.006406 -11.636956 17.006406 \" transform=\"matrix(0.992125, 0, 0, -0.992125, 62.920315, 39.372481)\"/>\n",
       "<g clip-path=\"url(#clip-1717857318698397--1)\">\n",
       "<path fill=\"none\" stroke-width=\"0.59776\" stroke-linecap=\"butt\" stroke-linejoin=\"miter\" stroke=\"rgb(0%, 0%, 0%)\" stroke-opacity=\"1\" stroke-miterlimit=\"10\" d=\"M 39.984406 0.00139788 C 48.827483 0.00139788 53.819923 0.00139788 62.663 0.00139788 \" transform=\"matrix(0.992125, 0, 0, -0.992125, 62.920315, 39.372481)\"/>\n",
       "</g>\n",
       "<g fill=\"rgb(0%, 0%, 0%)\" fill-opacity=\"1\">\n",
       "<use xlink:href=\"#glyph-1717857318698397--0-2\" x=\"109.841875\" y=\"35.78198\"/>\n",
       "</g>\n",
       "</svg>\n",
       "\n"
      ],
      "text/plain": [
       "Catlab.Graphics.TikZ.Document(Catlab.Graphics.TikZ.Picture(Catlab.Graphics.TikZ.Statement[Catlab.Graphics.TikZ.Node(\"root\", Catlab.Graphics.TikZ.Property[Catlab.Graphics.TikZ.Property(\"outer box\", nothing), Catlab.Graphics.TikZ.Property(\"minimum width\", \"11\\\\tikzunit\"), Catlab.Graphics.TikZ.Property(\"minimum height\", \"7\\\\tikzunit\")], Catlab.Graphics.TikZ.Coordinate(\"0\", \"0\"), \"\"), Catlab.Graphics.TikZ.Node(\"n1\", Catlab.Graphics.TikZ.Property[Catlab.Graphics.TikZ.Property(\"junction\", nothing), Catlab.Graphics.TikZ.Property(\"minimum size\", \"0.5\\\\tikzunit\")], Catlab.Graphics.TikZ.Coordinate(\"-3.25\", \"0\"), \"\"), Catlab.Graphics.TikZ.Node(\"n2\", Catlab.Graphics.TikZ.Property[Catlab.Graphics.TikZ.Property(\"box\", nothing), Catlab.Graphics.TikZ.Property(\"minimum size\", \"2\\\\tikzunit\")], Catlab.Graphics.TikZ.Coordinate(\"0\", \"1.5\"), \"\\$f\\$\"), Catlab.Graphics.TikZ.Node(\"n3\", Catlab.Graphics.TikZ.Property[Catlab.Graphics.TikZ.Property(\"box\", nothing), Catlab.Graphics.TikZ.Property(\"minimum size\", \"2\\\\tikzunit\")], Catlab.Graphics.TikZ.Coordinate(\"0\", \"-1.5\"), \"\\$f\\$\"), Catlab.Graphics.TikZ.Node(\"n4\", Catlab.Graphics.TikZ.Property[Catlab.Graphics.TikZ.Property(\"junction\", nothing), Catlab.Graphics.TikZ.Property(\"minimum size\", \"0.5\\\\tikzunit\")], Catlab.Graphics.TikZ.Coordinate(\"3.25\", \"0\"), \"\"), Catlab.Graphics.TikZ.Edge(Catlab.Graphics.TikZ.PathExpression[Catlab.Graphics.TikZ.NodeCoordinate(\"root.west\"), Catlab.Graphics.TikZ.PathOperation(\"to\", Catlab.Graphics.TikZ.Property[Catlab.Graphics.TikZ.Property(\"out\", \"0\"), Catlab.Graphics.TikZ.Property(\"in\", \"180\")]), Catlab.Graphics.TikZ.NodeCoordinate(\"n1.180\")], Catlab.Graphics.TikZ.Property[Catlab.Graphics.TikZ.Property(\"wire\", \"{\\\\node[anchor=south] {\\$A\\$};}\")]), Catlab.Graphics.TikZ.Edge(Catlab.Graphics.TikZ.PathExpression[Catlab.Graphics.TikZ.NodeCoordinate(\"n3.east\"), Catlab.Graphics.TikZ.PathOperation(\"to\", Catlab.Graphics.TikZ.Property[Catlab.Graphics.TikZ.Property(\"out\", \"0\"), Catlab.Graphics.TikZ.Property(\"in\", \"-150\")]), Catlab.Graphics.TikZ.NodeCoordinate(\"n4.-150\")], Catlab.Graphics.TikZ.Property[Catlab.Graphics.TikZ.Property(\"wire\", nothing)]), Catlab.Graphics.TikZ.Edge(Catlab.Graphics.TikZ.PathExpression[Catlab.Graphics.TikZ.NodeCoordinate(\"n2.east\"), Catlab.Graphics.TikZ.PathOperation(\"to\", Catlab.Graphics.TikZ.Property[Catlab.Graphics.TikZ.Property(\"out\", \"0\"), Catlab.Graphics.TikZ.Property(\"in\", \"150\")]), Catlab.Graphics.TikZ.NodeCoordinate(\"n4.150\")], Catlab.Graphics.TikZ.Property[Catlab.Graphics.TikZ.Property(\"wire\", nothing)]), Catlab.Graphics.TikZ.Edge(Catlab.Graphics.TikZ.PathExpression[Catlab.Graphics.TikZ.NodeCoordinate(\"n1.-30\"), Catlab.Graphics.TikZ.PathOperation(\"to\", Catlab.Graphics.TikZ.Property[Catlab.Graphics.TikZ.Property(\"out\", \"-30\"), Catlab.Graphics.TikZ.Property(\"in\", \"-180\")]), Catlab.Graphics.TikZ.NodeCoordinate(\"n3.west\")], Catlab.Graphics.TikZ.Property[Catlab.Graphics.TikZ.Property(\"wire\", nothing)]), Catlab.Graphics.TikZ.Edge(Catlab.Graphics.TikZ.PathExpression[Catlab.Graphics.TikZ.NodeCoordinate(\"n1.30\"), Catlab.Graphics.TikZ.PathOperation(\"to\", Catlab.Graphics.TikZ.Property[Catlab.Graphics.TikZ.Property(\"out\", \"30\"), Catlab.Graphics.TikZ.Property(\"in\", \"-180\")]), Catlab.Graphics.TikZ.NodeCoordinate(\"n2.west\")], Catlab.Graphics.TikZ.Property[Catlab.Graphics.TikZ.Property(\"wire\", nothing)]), Catlab.Graphics.TikZ.Edge(Catlab.Graphics.TikZ.PathExpression[Catlab.Graphics.TikZ.NodeCoordinate(\"n4.0\"), Catlab.Graphics.TikZ.PathOperation(\"to\", Catlab.Graphics.TikZ.Property[Catlab.Graphics.TikZ.Property(\"out\", \"0\"), Catlab.Graphics.TikZ.Property(\"in\", \"180\")]), Catlab.Graphics.TikZ.NodeCoordinate(\"root.east\")], Catlab.Graphics.TikZ.Property[Catlab.Graphics.TikZ.Property(\"wire\", \"{\\\\node[anchor=south] {\\$B\\$};}\")])], Catlab.Graphics.TikZ.Property[Catlab.Graphics.TikZ.Property(\"unit length/.code\", \"{{\\\\newdimen\\\\tikzunit}\\\\setlength{\\\\tikzunit}{#1}}\"), Catlab.Graphics.TikZ.Property(\"unit length\", \"4mm\"), Catlab.Graphics.TikZ.Property(\"x\", \"\\\\tikzunit\"), Catlab.Graphics.TikZ.Property(\"y\", \"\\\\tikzunit\"), Catlab.Graphics.TikZ.Property(\"semithick\", nothing), Catlab.Graphics.TikZ.Property(\"box/.style\", Catlab.Graphics.TikZ.Property[Catlab.Graphics.TikZ.Property(\"rectangle\", nothing), Catlab.Graphics.TikZ.Property(\"draw\", nothing), Catlab.Graphics.TikZ.Property(\"solid\", nothing), Catlab.Graphics.TikZ.Property(\"rounded corners\", nothing)]), Catlab.Graphics.TikZ.Property(\"junction/.style\", Catlab.Graphics.TikZ.Property[Catlab.Graphics.TikZ.Property(\"circle\", nothing), Catlab.Graphics.TikZ.Property(\"draw\", nothing), Catlab.Graphics.TikZ.Property(\"fill\", nothing), Catlab.Graphics.TikZ.Property(\"inner sep\", \"0\")]), Catlab.Graphics.TikZ.Property(\"outer box/.style\", Catlab.Graphics.TikZ.Property[Catlab.Graphics.TikZ.Property(\"draw\", \"none\")]), Catlab.Graphics.TikZ.Property(\"wire/.style\", Catlab.Graphics.TikZ.Property[Catlab.Graphics.TikZ.Property(\"draw\", nothing), Catlab.Graphics.TikZ.Property(\"postaction\", Catlab.Graphics.TikZ.Property[Catlab.Graphics.TikZ.Property(\"decorate\", nothing)]), Catlab.Graphics.TikZ.Property(\"decoration\", Catlab.Graphics.TikZ.Property[Catlab.Graphics.TikZ.Property(\"markings\", nothing), Catlab.Graphics.TikZ.Property(\"mark\", \"at position 0.5 with {#1}\")])])]), [\"calc\", \"shapes.geometric\", \"decorations.markings\"], [\"amssymb\"])"
      ]
     },
     "execution_count": 14,
     "metadata": {},
     "output_type": "execute_result"
    }
   ],
   "source": [
    "to_tikz(mcopy(A)⋅(f⊗f)⋅mmerge(B), labels=true)"
   ]
  },
  {
   "cell_type": "code",
   "execution_count": 15,
   "metadata": {},
   "outputs": [
    {
     "data": {
      "image/svg+xml": [
       "<?xml version=\"1.0\" encoding=\"UTF-8\"?>\n",
       "<svg xmlns=\"http://www.w3.org/2000/svg\" xmlns:xlink=\"http://www.w3.org/1999/xlink\" width=\"147.401\" height=\"74.896\" viewBox=\"0 0 147.401 74.896\">\n",
       "<defs>\n",
       "<g>\n",
       "<g id=\"glyph-1717857318698398--0-0\">\n",
       "<path d=\"M 1.78125 -1.140625 C 1.375 -0.46875 0.984375 -0.34375 0.5625 -0.3125 C 0.4375 -0.296875 0.34375 -0.296875 0.34375 -0.109375 C 0.34375 -0.046875 0.390625 0 0.46875 0 C 0.75 0 1.046875 -0.03125 1.328125 -0.03125 C 1.65625 -0.03125 2 0 2.328125 0 C 2.375 0 2.515625 0 2.515625 -0.1875 C 2.515625 -0.296875 2.421875 -0.3125 2.34375 -0.3125 C 2.125 -0.328125 1.890625 -0.40625 1.890625 -0.65625 C 1.890625 -0.78125 1.9375 -0.890625 2.03125 -1.015625 L 2.78125 -2.296875 L 5.265625 -2.296875 C 5.28125 -2.078125 5.421875 -0.734375 5.421875 -0.640625 C 5.421875 -0.34375 4.90625 -0.3125 4.71875 -0.3125 C 4.578125 -0.3125 4.46875 -0.3125 4.46875 -0.109375 C 4.46875 0 4.59375 0 4.609375 0 C 5.015625 0 5.453125 -0.03125 5.859375 -0.03125 C 6.109375 -0.03125 6.734375 0 6.96875 0 C 7.03125 0 7.15625 0 7.15625 -0.203125 C 7.15625 -0.3125 7.046875 -0.3125 6.921875 -0.3125 C 6.3125 -0.3125 6.3125 -0.375 6.28125 -0.671875 L 5.671875 -6.859375 C 5.65625 -7.0625 5.65625 -7.109375 5.484375 -7.109375 C 5.328125 -7.109375 5.28125 -7.03125 5.234375 -6.9375 Z M 2.96875 -2.59375 L 4.921875 -5.875 L 5.234375 -2.59375 Z M 2.96875 -2.59375 \"/>\n",
       "</g>\n",
       "<g id=\"glyph-1717857318698398--0-1\">\n",
       "<path d=\"M 1.59375 -0.78125 C 1.484375 -0.390625 1.46875 -0.3125 0.6875 -0.3125 C 0.515625 -0.3125 0.421875 -0.3125 0.421875 -0.109375 C 0.421875 0 0.5 0 0.6875 0 L 4.234375 0 C 5.796875 0 6.96875 -1.171875 6.96875 -2.140625 C 6.96875 -2.859375 6.390625 -3.4375 5.421875 -3.546875 C 6.453125 -3.734375 7.5 -4.46875 7.5 -5.40625 C 7.5 -6.140625 6.84375 -6.78125 5.65625 -6.78125 L 2.328125 -6.78125 C 2.140625 -6.78125 2.03125 -6.78125 2.03125 -6.578125 C 2.03125 -6.46875 2.125 -6.46875 2.3125 -6.46875 C 2.328125 -6.46875 2.515625 -6.46875 2.6875 -6.453125 C 2.875 -6.421875 2.953125 -6.421875 2.953125 -6.296875 C 2.953125 -6.25 2.953125 -6.21875 2.921875 -6.109375 Z M 3.078125 -3.625 L 3.703125 -6.09375 C 3.796875 -6.4375 3.8125 -6.46875 4.234375 -6.46875 L 5.515625 -6.46875 C 6.390625 -6.46875 6.59375 -5.890625 6.59375 -5.453125 C 6.59375 -4.578125 5.75 -3.625 4.53125 -3.625 Z M 2.640625 -0.3125 C 2.5 -0.3125 2.484375 -0.3125 2.421875 -0.3125 C 2.328125 -0.328125 2.296875 -0.34375 2.296875 -0.421875 C 2.296875 -0.453125 2.296875 -0.46875 2.34375 -0.640625 L 3.03125 -3.40625 L 4.90625 -3.40625 C 5.859375 -3.40625 6.046875 -2.671875 6.046875 -2.25 C 6.046875 -1.265625 5.15625 -0.3125 3.984375 -0.3125 Z M 2.640625 -0.3125 \"/>\n",
       "</g>\n",
       "</g>\n",
       "<clipPath id=\"clip-1717857318698398--0\">\n",
       "<path clip-rule=\"nonzero\" d=\"M 31 0.101562 L 48 0.101562 L 48 32 L 31 32 Z M 31 0.101562 \"/>\n",
       "</clipPath>\n",
       "<clipPath id=\"clip-1717857318698398--1\">\n",
       "<path clip-rule=\"nonzero\" d=\"M 98 0.101562 L 116 0.101562 L 116 32 L 98 32 Z M 98 0.101562 \"/>\n",
       "</clipPath>\n",
       "<clipPath id=\"clip-1717857318698398--2\">\n",
       "<path clip-rule=\"nonzero\" d=\"M 100 20 L 133 20 L 133 74.691406 L 100 74.691406 Z M 100 20 \"/>\n",
       "</clipPath>\n",
       "<clipPath id=\"clip-1717857318698398--3\">\n",
       "<path clip-rule=\"nonzero\" d=\"M 14 20 L 47 20 L 47 74.691406 L 14 74.691406 Z M 14 20 \"/>\n",
       "</clipPath>\n",
       "<clipPath id=\"clip-1717857318698398--4\">\n",
       "<path clip-rule=\"nonzero\" d=\"M 48 20 L 115 20 L 115 74.691406 L 48 74.691406 Z M 48 20 \"/>\n",
       "</clipPath>\n",
       "<clipPath id=\"clip-1717857318698398--5\">\n",
       "<path clip-rule=\"nonzero\" d=\"M 32 20 L 99 20 L 99 74.691406 L 32 74.691406 Z M 32 20 \"/>\n",
       "</clipPath>\n",
       "</defs>\n",
       "<path fill-rule=\"nonzero\" fill=\"rgb(0%, 0%, 0%)\" fill-opacity=\"1\" stroke-width=\"0.59776\" stroke-linecap=\"butt\" stroke-linejoin=\"miter\" stroke=\"rgb(0%, 0%, 0%)\" stroke-opacity=\"1\" stroke-miterlimit=\"10\" d=\"M -31.181254 11.340547 C -31.181254 12.905474 -32.452022 14.17232 -34.016949 14.17232 C -35.581877 14.17232 -36.852645 12.905474 -36.852645 11.340547 C -36.852645 9.771697 -35.581877 8.504851 -34.016949 8.504851 C -32.452022 8.504851 -31.181254 9.771697 -31.181254 11.340547 Z M -31.181254 11.340547 \" transform=\"matrix(0.995953, 0, 0, -0.995953, 73.40271, 37.39621)\"/>\n",
       "<path fill-rule=\"nonzero\" fill=\"rgb(0%, 0%, 0%)\" fill-opacity=\"1\" stroke-width=\"0.59776\" stroke-linecap=\"butt\" stroke-linejoin=\"miter\" stroke=\"rgb(0%, 0%, 0%)\" stroke-opacity=\"1\" stroke-miterlimit=\"10\" d=\"M 36.851909 11.340547 C 36.851909 12.905474 35.581141 14.17232 34.016214 14.17232 C 32.451286 14.17232 31.180518 12.905474 31.180518 11.340547 C 31.180518 9.771697 32.451286 8.504851 34.016214 8.504851 C 35.581141 8.504851 36.851909 9.771697 36.851909 11.340547 Z M 36.851909 11.340547 \" transform=\"matrix(0.995953, 0, 0, -0.995953, 73.40271, 37.39621)\"/>\n",
       "<g clip-path=\"url(#clip-1717857318698398--0)\">\n",
       "<path fill=\"none\" stroke-width=\"0.59776\" stroke-linecap=\"butt\" stroke-linejoin=\"miter\" stroke=\"rgb(0%, 0%, 0%)\" stroke-opacity=\"1\" stroke-miterlimit=\"10\" d=\"M -34.016949 37.148122 C -34.016949 28.307655 -34.016949 23.314791 -34.016949 14.470401 \" transform=\"matrix(0.995953, 0, 0, -0.995953, 73.40271, 37.39621)\"/>\n",
       "</g>\n",
       "<g fill=\"rgb(0%, 0%, 0%)\" fill-opacity=\"1\">\n",
       "<use xlink:href=\"#glyph-1717857318698398--0-0\" x=\"28.478272\" y=\"15.079898\"/>\n",
       "</g>\n",
       "<g clip-path=\"url(#clip-1717857318698398--1)\">\n",
       "<path fill=\"none\" stroke-width=\"0.59776\" stroke-linecap=\"butt\" stroke-linejoin=\"miter\" stroke=\"rgb(0%, 0%, 0%)\" stroke-opacity=\"1\" stroke-miterlimit=\"10\" d=\"M 34.016214 37.148122 C 34.016214 28.307655 34.016214 23.314791 34.016214 14.470401 \" transform=\"matrix(0.995953, 0, 0, -0.995953, 73.40271, 37.39621)\"/>\n",
       "</g>\n",
       "<g fill=\"rgb(0%, 0%, 0%)\" fill-opacity=\"1\">\n",
       "<use xlink:href=\"#glyph-1717857318698398--0-1\" x=\"95.651298\" y=\"15.079898\"/>\n",
       "</g>\n",
       "<g clip-path=\"url(#clip-1717857318698398--2)\">\n",
       "<path fill=\"none\" stroke-width=\"0.59776\" stroke-linecap=\"butt\" stroke-linejoin=\"miter\" stroke=\"rgb(0%, 0%, 0%)\" stroke-opacity=\"1\" stroke-miterlimit=\"10\" d=\"M 35.581141 8.626437 C 45.021694 -7.724898 51.022543 -18.27149 51.022543 -37.148673 \" transform=\"matrix(0.995953, 0, 0, -0.995953, 73.40271, 37.39621)\"/>\n",
       "</g>\n",
       "<g clip-path=\"url(#clip-1717857318698398--3)\">\n",
       "<path fill=\"none\" stroke-width=\"0.59776\" stroke-linecap=\"butt\" stroke-linejoin=\"miter\" stroke=\"rgb(0%, 0%, 0%)\" stroke-opacity=\"1\" stroke-miterlimit=\"10\" d=\"M -35.581877 8.626437 C -45.022429 -7.724898 -51.023279 -18.27149 -51.023279 -37.148673 \" transform=\"matrix(0.995953, 0, 0, -0.995953, 73.40271, 37.39621)\"/>\n",
       "</g>\n",
       "<g clip-path=\"url(#clip-1717857318698398--4)\">\n",
       "<path fill=\"none\" stroke-width=\"0.59776\" stroke-linecap=\"butt\" stroke-linejoin=\"miter\" stroke=\"rgb(0%, 0%, 0%)\" stroke-opacity=\"1\" stroke-miterlimit=\"10\" d=\"M 32.451286 8.626437 C 19.265105 -14.208169 -17.006698 -10.784155 -17.006698 -37.148673 \" transform=\"matrix(0.995953, 0, 0, -0.995953, 73.40271, 37.39621)\"/>\n",
       "</g>\n",
       "<g clip-path=\"url(#clip-1717857318698398--5)\">\n",
       "<path fill=\"none\" stroke-width=\"0.59776\" stroke-linecap=\"butt\" stroke-linejoin=\"miter\" stroke=\"rgb(0%, 0%, 0%)\" stroke-opacity=\"1\" stroke-miterlimit=\"10\" d=\"M -32.4481 8.626437 C -19.265841 -14.208169 17.009884 -10.784155 17.009884 -37.148673 \" transform=\"matrix(0.995953, 0, 0, -0.995953, 73.40271, 37.39621)\"/>\n",
       "</g>\n",
       "</svg>\n",
       "\n"
      ],
      "text/plain": [
       "Catlab.Graphics.TikZ.Document(Catlab.Graphics.TikZ.Picture(Catlab.Graphics.TikZ.Statement[Catlab.Graphics.TikZ.Node(\"root\", Catlab.Graphics.TikZ.Property[Catlab.Graphics.TikZ.Property(\"outer box\", nothing), Catlab.Graphics.TikZ.Property(\"minimum width\", \"13\\\\tikzunit\"), Catlab.Graphics.TikZ.Property(\"minimum height\", \"6.5\\\\tikzunit\")], Catlab.Graphics.TikZ.Coordinate(\"0\", \"0\"), \"\"), Catlab.Graphics.TikZ.Node(\"n1\", Catlab.Graphics.TikZ.Property[Catlab.Graphics.TikZ.Property(\"junction\", nothing), Catlab.Graphics.TikZ.Property(\"minimum size\", \"0.5\\\\tikzunit\")], Catlab.Graphics.TikZ.Coordinate(\"-3\", \"1\"), \"\"), Catlab.Graphics.TikZ.Node(\"n2\", Catlab.Graphics.TikZ.Property[Catlab.Graphics.TikZ.Property(\"junction\", nothing), Catlab.Graphics.TikZ.Property(\"minimum size\", \"0.5\\\\tikzunit\")], Catlab.Graphics.TikZ.Coordinate(\"3\", \"1\"), \"\"), Catlab.Graphics.TikZ.Edge(Catlab.Graphics.TikZ.PathExpression[Catlab.Graphics.TikZ.NodeCoordinate(\"\\$(root.north)+(-3,0.0)\\$\"), Catlab.Graphics.TikZ.PathOperation(\"to\", Catlab.Graphics.TikZ.Property[Catlab.Graphics.TikZ.Property(\"out\", \"-90\"), Catlab.Graphics.TikZ.Property(\"in\", \"90\")]), Catlab.Graphics.TikZ.NodeCoordinate(\"n1.90\")], Catlab.Graphics.TikZ.Property[Catlab.Graphics.TikZ.Property(\"wire\", \"{\\\\node[anchor=east] {\\$A\\$};}\")]), Catlab.Graphics.TikZ.Edge(Catlab.Graphics.TikZ.PathExpression[Catlab.Graphics.TikZ.NodeCoordinate(\"\\$(root.north)+(3,0.0)\\$\"), Catlab.Graphics.TikZ.PathOperation(\"to\", Catlab.Graphics.TikZ.Property[Catlab.Graphics.TikZ.Property(\"out\", \"-90\"), Catlab.Graphics.TikZ.Property(\"in\", \"90\")]), Catlab.Graphics.TikZ.NodeCoordinate(\"n2.90\")], Catlab.Graphics.TikZ.Property[Catlab.Graphics.TikZ.Property(\"wire\", \"{\\\\node[anchor=east] {\\$B\\$};}\")]), Catlab.Graphics.TikZ.Edge(Catlab.Graphics.TikZ.PathExpression[Catlab.Graphics.TikZ.NodeCoordinate(\"n2.-60\"), Catlab.Graphics.TikZ.PathOperation(\"to\", Catlab.Graphics.TikZ.Property[Catlab.Graphics.TikZ.Property(\"out\", \"-60\"), Catlab.Graphics.TikZ.Property(\"in\", \"90\")]), Catlab.Graphics.TikZ.NodeCoordinate(\"\\$(root.south)+(4.5,-0.0)\\$\")], Catlab.Graphics.TikZ.Property[Catlab.Graphics.TikZ.Property(\"wire\", nothing)]), Catlab.Graphics.TikZ.Edge(Catlab.Graphics.TikZ.PathExpression[Catlab.Graphics.TikZ.NodeCoordinate(\"n1.-120\"), Catlab.Graphics.TikZ.PathOperation(\"to\", Catlab.Graphics.TikZ.Property[Catlab.Graphics.TikZ.Property(\"out\", \"-120\"), Catlab.Graphics.TikZ.Property(\"in\", \"90\")]), Catlab.Graphics.TikZ.NodeCoordinate(\"\\$(root.south)+(-4.5,-0.0)\\$\")], Catlab.Graphics.TikZ.Property[Catlab.Graphics.TikZ.Property(\"wire\", nothing)]), Catlab.Graphics.TikZ.Edge(Catlab.Graphics.TikZ.PathExpression[Catlab.Graphics.TikZ.NodeCoordinate(\"n2.-120\"), Catlab.Graphics.TikZ.PathOperation(\"to\", Catlab.Graphics.TikZ.Property[Catlab.Graphics.TikZ.Property(\"out\", \"-120\"), Catlab.Graphics.TikZ.Property(\"in\", \"90\")]), Catlab.Graphics.TikZ.NodeCoordinate(\"\\$(root.south)+(-1.5,-0.0)\\$\")], Catlab.Graphics.TikZ.Property[Catlab.Graphics.TikZ.Property(\"wire\", nothing)]), Catlab.Graphics.TikZ.Edge(Catlab.Graphics.TikZ.PathExpression[Catlab.Graphics.TikZ.NodeCoordinate(\"n1.-60\"), Catlab.Graphics.TikZ.PathOperation(\"to\", Catlab.Graphics.TikZ.Property[Catlab.Graphics.TikZ.Property(\"out\", \"-60\"), Catlab.Graphics.TikZ.Property(\"in\", \"90\")]), Catlab.Graphics.TikZ.NodeCoordinate(\"\\$(root.south)+(1.5,-0.0)\\$\")], Catlab.Graphics.TikZ.Property[Catlab.Graphics.TikZ.Property(\"wire\", nothing)])], Catlab.Graphics.TikZ.Property[Catlab.Graphics.TikZ.Property(\"unit length/.code\", \"{{\\\\newdimen\\\\tikzunit}\\\\setlength{\\\\tikzunit}{#1}}\"), Catlab.Graphics.TikZ.Property(\"unit length\", \"4mm\"), Catlab.Graphics.TikZ.Property(\"x\", \"\\\\tikzunit\"), Catlab.Graphics.TikZ.Property(\"y\", \"\\\\tikzunit\"), Catlab.Graphics.TikZ.Property(\"semithick\", nothing), Catlab.Graphics.TikZ.Property(\"junction/.style\", Catlab.Graphics.TikZ.Property[Catlab.Graphics.TikZ.Property(\"circle\", nothing), Catlab.Graphics.TikZ.Property(\"draw\", nothing), Catlab.Graphics.TikZ.Property(\"fill\", nothing), Catlab.Graphics.TikZ.Property(\"inner sep\", \"0\")]), Catlab.Graphics.TikZ.Property(\"outer box/.style\", Catlab.Graphics.TikZ.Property[Catlab.Graphics.TikZ.Property(\"draw\", \"none\")]), Catlab.Graphics.TikZ.Property(\"wire/.style\", Catlab.Graphics.TikZ.Property[Catlab.Graphics.TikZ.Property(\"draw\", nothing), Catlab.Graphics.TikZ.Property(\"postaction\", Catlab.Graphics.TikZ.Property[Catlab.Graphics.TikZ.Property(\"decorate\", nothing)]), Catlab.Graphics.TikZ.Property(\"decoration\", Catlab.Graphics.TikZ.Property[Catlab.Graphics.TikZ.Property(\"markings\", nothing), Catlab.Graphics.TikZ.Property(\"mark\", \"at position 0.5 with {#1}\")])])]), [\"calc\", \"shapes.geometric\", \"decorations.markings\"], [\"amssymb\"])"
      ]
     },
     "execution_count": 15,
     "metadata": {},
     "output_type": "execute_result"
    }
   ],
   "source": [
    "to_tikz(mcopy(A⊗B), orientation=TopToBottom, labels=true)"
   ]
  },
  {
   "cell_type": "code",
   "execution_count": 16,
   "metadata": {},
   "outputs": [
    {
     "data": {
      "image/svg+xml": [
       "<?xml version=\"1.0\" encoding=\"UTF-8\"?>\n",
       "<svg xmlns=\"http://www.w3.org/2000/svg\" xmlns:xlink=\"http://www.w3.org/1999/xlink\" width=\"215.433\" height=\"74.896\" viewBox=\"0 0 215.433 74.896\">\n",
       "<defs>\n",
       "<g>\n",
       "<g id=\"glyph-1717857318698399--0-0\">\n",
       "<path d=\"M 1.78125 -1.140625 C 1.375 -0.484375 1 -0.34375 0.5625 -0.3125 C 0.4375 -0.296875 0.34375 -0.296875 0.34375 -0.109375 C 0.34375 -0.046875 0.390625 0 0.484375 0 C 0.75 0 1.046875 -0.03125 1.328125 -0.03125 C 1.65625 -0.03125 2 0 2.328125 0 C 2.390625 0 2.515625 0 2.515625 -0.1875 C 2.515625 -0.296875 2.421875 -0.3125 2.359375 -0.3125 C 2.125 -0.328125 1.890625 -0.40625 1.890625 -0.65625 C 1.890625 -0.78125 1.953125 -0.890625 2.03125 -1.03125 L 2.78125 -2.296875 L 5.28125 -2.296875 C 5.296875 -2.09375 5.4375 -0.734375 5.4375 -0.640625 C 5.4375 -0.34375 4.921875 -0.3125 4.71875 -0.3125 C 4.578125 -0.3125 4.484375 -0.3125 4.484375 -0.109375 C 4.484375 0 4.59375 0 4.625 0 C 5.03125 0 5.453125 -0.03125 5.859375 -0.03125 C 6.109375 -0.03125 6.734375 0 6.984375 0 C 7.046875 0 7.171875 0 7.171875 -0.203125 C 7.171875 -0.3125 7.0625 -0.3125 6.9375 -0.3125 C 6.3125 -0.3125 6.3125 -0.375 6.296875 -0.671875 L 5.6875 -6.875 C 5.671875 -7.078125 5.671875 -7.109375 5.5 -7.109375 C 5.34375 -7.109375 5.296875 -7.046875 5.234375 -6.953125 Z M 2.96875 -2.609375 L 4.921875 -5.890625 L 5.25 -2.609375 Z M 2.96875 -2.609375 \"/>\n",
       "</g>\n",
       "<g id=\"glyph-1717857318698399--0-1\">\n",
       "<path d=\"M 1.59375 -0.78125 C 1.484375 -0.390625 1.46875 -0.3125 0.6875 -0.3125 C 0.515625 -0.3125 0.421875 -0.3125 0.421875 -0.109375 C 0.421875 0 0.5 0 0.6875 0 L 4.234375 0 C 5.796875 0 6.96875 -1.171875 6.96875 -2.140625 C 6.96875 -2.859375 6.40625 -3.4375 5.4375 -3.546875 C 6.46875 -3.734375 7.515625 -4.46875 7.515625 -5.421875 C 7.515625 -6.15625 6.859375 -6.78125 5.671875 -6.78125 L 2.328125 -6.78125 C 2.140625 -6.78125 2.03125 -6.78125 2.03125 -6.59375 C 2.03125 -6.484375 2.125 -6.484375 2.3125 -6.484375 C 2.328125 -6.484375 2.53125 -6.484375 2.6875 -6.453125 C 2.875 -6.4375 2.96875 -6.421875 2.96875 -6.296875 C 2.96875 -6.265625 2.953125 -6.234375 2.921875 -6.109375 Z M 3.09375 -3.640625 L 3.703125 -6.109375 C 3.796875 -6.453125 3.8125 -6.484375 4.25 -6.484375 L 5.53125 -6.484375 C 6.40625 -6.484375 6.609375 -5.890625 6.609375 -5.453125 C 6.609375 -4.578125 5.75 -3.640625 4.546875 -3.640625 Z M 2.640625 -0.3125 C 2.5 -0.3125 2.484375 -0.3125 2.421875 -0.3125 C 2.328125 -0.328125 2.296875 -0.34375 2.296875 -0.421875 C 2.296875 -0.453125 2.296875 -0.46875 2.34375 -0.640625 L 3.03125 -3.421875 L 4.90625 -3.421875 C 5.859375 -3.421875 6.046875 -2.6875 6.046875 -2.25 C 6.046875 -1.265625 5.171875 -0.3125 4 -0.3125 Z M 2.640625 -0.3125 \"/>\n",
       "</g>\n",
       "<g id=\"glyph-1717857318698399--0-2\">\n",
       "<path d=\"M 7.546875 -6.90625 C 7.546875 -6.9375 7.53125 -7 7.4375 -7 C 7.40625 -7 7.40625 -7 7.296875 -6.890625 L 6.59375 -6.125 C 6.515625 -6.265625 6.046875 -7 4.953125 -7 C 2.734375 -7 0.5 -4.8125 0.5 -2.5 C 0.5 -0.859375 1.671875 0.21875 3.1875 0.21875 C 4.046875 0.21875 4.8125 -0.171875 5.34375 -0.640625 C 6.265625 -1.453125 6.421875 -2.359375 6.421875 -2.390625 C 6.421875 -2.484375 6.328125 -2.484375 6.3125 -2.484375 C 6.25 -2.484375 6.203125 -2.46875 6.1875 -2.390625 C 6.09375 -2.09375 5.859375 -1.390625 5.171875 -0.8125 C 4.484375 -0.265625 3.859375 -0.09375 3.34375 -0.09375 C 2.453125 -0.09375 1.40625 -0.609375 1.40625 -2.15625 C 1.40625 -2.71875 1.609375 -4.328125 2.609375 -5.5 C 3.203125 -6.203125 4.140625 -6.703125 5.03125 -6.703125 C 6.046875 -6.703125 6.625 -5.9375 6.625 -4.78125 C 6.625 -4.375 6.59375 -4.375 6.59375 -4.265625 C 6.59375 -4.171875 6.703125 -4.171875 6.75 -4.171875 C 6.875 -4.171875 6.875 -4.1875 6.921875 -4.375 Z M 7.546875 -6.90625 \"/>\n",
       "</g>\n",
       "</g>\n",
       "<clipPath id=\"clip-1717857318698399--0\">\n",
       "<path clip-rule=\"nonzero\" d=\"M 31 0.046875 L 49 0.046875 L 49 32 L 31 32 Z M 31 0.046875 \"/>\n",
       "</clipPath>\n",
       "<clipPath id=\"clip-1717857318698399--1\">\n",
       "<path clip-rule=\"nonzero\" d=\"M 99 0.046875 L 116 0.046875 L 116 32 L 99 32 Z M 99 0.046875 \"/>\n",
       "</clipPath>\n",
       "<clipPath id=\"clip-1717857318698399--2\">\n",
       "<path clip-rule=\"nonzero\" d=\"M 166 0.046875 L 184 0.046875 L 184 32 L 166 32 Z M 166 0.046875 \"/>\n",
       "</clipPath>\n",
       "<clipPath id=\"clip-1717857318698399--3\">\n",
       "<path clip-rule=\"nonzero\" d=\"M 82 20 L 183 20 L 183 74.746094 L 82 74.746094 Z M 82 20 \"/>\n",
       "</clipPath>\n",
       "<clipPath id=\"clip-1717857318698399--4\">\n",
       "<path clip-rule=\"nonzero\" d=\"M 14 20 L 47 20 L 47 74.746094 L 14 74.746094 Z M 14 20 \"/>\n",
       "</clipPath>\n",
       "<clipPath id=\"clip-1717857318698399--5\">\n",
       "<path clip-rule=\"nonzero\" d=\"M 100 20 L 167 20 L 167 74.746094 L 100 74.746094 Z M 100 20 \"/>\n",
       "</clipPath>\n",
       "<clipPath id=\"clip-1717857318698399--6\">\n",
       "<path clip-rule=\"nonzero\" d=\"M 32 20 L 133 20 L 133 74.746094 L 32 74.746094 Z M 32 20 \"/>\n",
       "</clipPath>\n",
       "<clipPath id=\"clip-1717857318698399--7\">\n",
       "<path clip-rule=\"nonzero\" d=\"M 168 20 L 201 20 L 201 74.746094 L 168 74.746094 Z M 168 20 \"/>\n",
       "</clipPath>\n",
       "<clipPath id=\"clip-1717857318698399--8\">\n",
       "<path clip-rule=\"nonzero\" d=\"M 48 20 L 115 20 L 115 74.746094 L 48 74.746094 Z M 48 20 \"/>\n",
       "</clipPath>\n",
       "</defs>\n",
       "<path fill-rule=\"nonzero\" fill=\"rgb(0%, 0%, 0%)\" fill-opacity=\"1\" stroke-width=\"0.59776\" stroke-linecap=\"butt\" stroke-linejoin=\"miter\" stroke=\"rgb(0%, 0%, 0%)\" stroke-opacity=\"1\" stroke-miterlimit=\"10\" d=\"M -65.198141 11.339966 C -65.198141 12.902662 -66.467097 14.171618 -68.033709 14.171618 C -69.596405 14.171618 -70.865361 12.902662 -70.865361 11.339966 C -70.865361 9.773354 -69.596405 8.504398 -68.033709 8.504398 C -66.467097 8.504398 -65.198141 9.773354 -65.198141 11.339966 Z M -65.198141 11.339966 \" transform=\"matrix(0.997375, 0, 0, -0.997375, 107.433246, 37.396136)\"/>\n",
       "<path fill-rule=\"nonzero\" fill=\"rgb(0%, 0%, 0%)\" fill-opacity=\"1\" stroke-width=\"0.59776\" stroke-linecap=\"butt\" stroke-linejoin=\"miter\" stroke=\"rgb(0%, 0%, 0%)\" stroke-opacity=\"1\" stroke-miterlimit=\"10\" d=\"M 2.835918 11.339966 C 2.835918 12.902662 1.566962 14.171618 0.000349167 14.171618 C -1.566263 14.171618 -2.835219 12.902662 -2.835219 11.339966 C -2.835219 9.773354 -1.566263 8.504398 0.000349167 8.504398 C 1.566962 8.504398 2.835918 9.773354 2.835918 11.339966 Z M 2.835918 11.339966 \" transform=\"matrix(0.997375, 0, 0, -0.997375, 107.433246, 37.396136)\"/>\n",
       "<path fill-rule=\"nonzero\" fill=\"rgb(0%, 0%, 0%)\" fill-opacity=\"1\" stroke-width=\"0.59776\" stroke-linecap=\"butt\" stroke-linejoin=\"miter\" stroke=\"rgb(0%, 0%, 0%)\" stroke-opacity=\"1\" stroke-miterlimit=\"10\" d=\"M 70.866059 11.339966 C 70.866059 12.902662 69.597103 14.171618 68.030491 14.171618 C 66.467795 14.171618 65.198839 12.902662 65.198839 11.339966 C 65.198839 9.773354 66.467795 8.504398 68.030491 8.504398 C 69.597103 8.504398 70.866059 9.773354 70.866059 11.339966 Z M 70.866059 11.339966 \" transform=\"matrix(0.997375, 0, 0, -0.997375, 107.433246, 37.396136)\"/>\n",
       "<g clip-path=\"url(#clip-1717857318698399--0)\">\n",
       "<path fill=\"none\" stroke-width=\"0.59776\" stroke-linecap=\"butt\" stroke-linejoin=\"miter\" stroke=\"rgb(0%, 0%, 0%)\" stroke-opacity=\"1\" stroke-miterlimit=\"10\" d=\"M -68.033709 37.149905 C -68.033709 28.306378 -68.033709 23.316718 -68.033709 14.473191 \" transform=\"matrix(0.997375, 0, 0, -0.997375, 107.433246, 37.396136)\"/>\n",
       "</g>\n",
       "<g fill=\"rgb(0%, 0%, 0%)\" fill-opacity=\"1\">\n",
       "<use xlink:href=\"#glyph-1717857318698399--0-0\" x=\"28.518941\" y=\"15.047955\"/>\n",
       "</g>\n",
       "<g clip-path=\"url(#clip-1717857318698399--1)\">\n",
       "<path fill=\"none\" stroke-width=\"0.59776\" stroke-linecap=\"butt\" stroke-linejoin=\"miter\" stroke=\"rgb(0%, 0%, 0%)\" stroke-opacity=\"1\" stroke-miterlimit=\"10\" d=\"M 0.000349167 37.149905 C 0.000349167 28.306378 0.000349167 23.316718 0.000349167 14.473191 \" transform=\"matrix(0.997375, 0, 0, -0.997375, 107.433246, 37.396136)\"/>\n",
       "</g>\n",
       "<g fill=\"rgb(0%, 0%, 0%)\" fill-opacity=\"1\">\n",
       "<use xlink:href=\"#glyph-1717857318698399--0-1\" x=\"95.787895\" y=\"15.047955\"/>\n",
       "</g>\n",
       "<g clip-path=\"url(#clip-1717857318698399--2)\">\n",
       "<path fill=\"none\" stroke-width=\"0.59776\" stroke-linecap=\"butt\" stroke-linejoin=\"miter\" stroke=\"rgb(0%, 0%, 0%)\" stroke-opacity=\"1\" stroke-miterlimit=\"10\" d=\"M 68.030491 37.149905 C 68.030491 28.306378 68.030491 23.316718 68.030491 14.473191 \" transform=\"matrix(0.997375, 0, 0, -0.997375, 107.433246, 37.396136)\"/>\n",
       "</g>\n",
       "<g fill=\"rgb(0%, 0%, 0%)\" fill-opacity=\"1\">\n",
       "<use xlink:href=\"#glyph-1717857318698399--0-2\" x=\"163.863726\" y=\"15.047955\"/>\n",
       "</g>\n",
       "<g clip-path=\"url(#clip-1717857318698399--3)\">\n",
       "<path fill=\"none\" stroke-width=\"0.59776\" stroke-linecap=\"butt\" stroke-linejoin=\"miter\" stroke=\"rgb(0%, 0%, 0%)\" stroke-opacity=\"1\" stroke-miterlimit=\"10\" d=\"M 66.463878 8.625811 C 47.876023 -23.575907 -17.009145 0.0329417 -17.009145 -37.150603 \" transform=\"matrix(0.997375, 0, 0, -0.997375, 107.433246, 37.396136)\"/>\n",
       "</g>\n",
       "<g clip-path=\"url(#clip-1717857318698399--4)\">\n",
       "<path fill=\"none\" stroke-width=\"0.59776\" stroke-linecap=\"butt\" stroke-linejoin=\"miter\" stroke=\"rgb(0%, 0%, 0%)\" stroke-opacity=\"1\" stroke-miterlimit=\"10\" d=\"M -69.600321 8.625811 C -79.039161 -7.725706 -85.039286 -18.269007 -85.039286 -37.150603 \" transform=\"matrix(0.997375, 0, 0, -0.997375, 107.433246, 37.396136)\"/>\n",
       "</g>\n",
       "<g clip-path=\"url(#clip-1717857318698399--5)\">\n",
       "<path fill=\"none\" stroke-width=\"0.59776\" stroke-linecap=\"butt\" stroke-linejoin=\"miter\" stroke=\"rgb(0%, 0%, 0%)\" stroke-opacity=\"1\" stroke-miterlimit=\"10\" d=\"M 1.566962 8.625811 C 14.750005 -14.207565 51.024914 -10.784517 51.024914 -37.150603 \" transform=\"matrix(0.997375, 0, 0, -0.997375, 107.433246, 37.396136)\"/>\n",
       "</g>\n",
       "<g clip-path=\"url(#clip-1717857318698399--6)\">\n",
       "<path fill=\"none\" stroke-width=\"0.59776\" stroke-linecap=\"butt\" stroke-linejoin=\"miter\" stroke=\"rgb(0%, 0%, 0%)\" stroke-opacity=\"1\" stroke-miterlimit=\"10\" d=\"M -66.467097 8.625811 C -47.875324 -23.575907 17.009843 0.0329417 17.009843 -37.150603 \" transform=\"matrix(0.997375, 0, 0, -0.997375, 107.433246, 37.396136)\"/>\n",
       "</g>\n",
       "<g clip-path=\"url(#clip-1717857318698399--7)\">\n",
       "<path fill=\"none\" stroke-width=\"0.59776\" stroke-linecap=\"butt\" stroke-linejoin=\"miter\" stroke=\"rgb(0%, 0%, 0%)\" stroke-opacity=\"1\" stroke-miterlimit=\"10\" d=\"M 69.597103 8.625811 C 79.039859 -7.725706 85.039984 -18.269007 85.039984 -37.150603 \" transform=\"matrix(0.997375, 0, 0, -0.997375, 107.433246, 37.396136)\"/>\n",
       "</g>\n",
       "<g clip-path=\"url(#clip-1717857318698399--8)\">\n",
       "<path fill=\"none\" stroke-width=\"0.59776\" stroke-linecap=\"butt\" stroke-linejoin=\"miter\" stroke=\"rgb(0%, 0%, 0%)\" stroke-opacity=\"1\" stroke-miterlimit=\"10\" d=\"M -1.566263 8.625811 C -14.749306 -14.207565 -51.024215 -10.784517 -51.024215 -37.150603 \" transform=\"matrix(0.997375, 0, 0, -0.997375, 107.433246, 37.396136)\"/>\n",
       "</g>\n",
       "</svg>\n",
       "\n"
      ],
      "text/plain": [
       "Catlab.Graphics.TikZ.Document(Catlab.Graphics.TikZ.Picture(Catlab.Graphics.TikZ.Statement[Catlab.Graphics.TikZ.Node(\"root\", Catlab.Graphics.TikZ.Property[Catlab.Graphics.TikZ.Property(\"outer box\", nothing), Catlab.Graphics.TikZ.Property(\"minimum width\", \"19\\\\tikzunit\"), Catlab.Graphics.TikZ.Property(\"minimum height\", \"6.5\\\\tikzunit\")], Catlab.Graphics.TikZ.Coordinate(\"0\", \"0\"), \"\"), Catlab.Graphics.TikZ.Node(\"n1\", Catlab.Graphics.TikZ.Property[Catlab.Graphics.TikZ.Property(\"junction\", nothing), Catlab.Graphics.TikZ.Property(\"minimum size\", \"0.5\\\\tikzunit\")], Catlab.Graphics.TikZ.Coordinate(\"-6\", \"1\"), \"\"), Catlab.Graphics.TikZ.Node(\"n2\", Catlab.Graphics.TikZ.Property[Catlab.Graphics.TikZ.Property(\"junction\", nothing), Catlab.Graphics.TikZ.Property(\"minimum size\", \"0.5\\\\tikzunit\")], Catlab.Graphics.TikZ.Coordinate(\"0\", \"1\"), \"\"), Catlab.Graphics.TikZ.Node(\"n3\", Catlab.Graphics.TikZ.Property[Catlab.Graphics.TikZ.Property(\"junction\", nothing), Catlab.Graphics.TikZ.Property(\"minimum size\", \"0.5\\\\tikzunit\")], Catlab.Graphics.TikZ.Coordinate(\"6\", \"1\"), \"\"), Catlab.Graphics.TikZ.Edge(Catlab.Graphics.TikZ.PathExpression[Catlab.Graphics.TikZ.NodeCoordinate(\"\\$(root.north)+(-6,0.0)\\$\"), Catlab.Graphics.TikZ.PathOperation(\"to\", Catlab.Graphics.TikZ.Property[Catlab.Graphics.TikZ.Property(\"out\", \"-90\"), Catlab.Graphics.TikZ.Property(\"in\", \"90\")]), Catlab.Graphics.TikZ.NodeCoordinate(\"n1.90\")], Catlab.Graphics.TikZ.Property[Catlab.Graphics.TikZ.Property(\"wire\", \"{\\\\node[anchor=east] {\\$A\\$};}\")]), Catlab.Graphics.TikZ.Edge(Catlab.Graphics.TikZ.PathExpression[Catlab.Graphics.TikZ.NodeCoordinate(\"root.north\"), Catlab.Graphics.TikZ.PathOperation(\"to\", Catlab.Graphics.TikZ.Property[Catlab.Graphics.TikZ.Property(\"out\", \"-90\"), Catlab.Graphics.TikZ.Property(\"in\", \"90\")]), Catlab.Graphics.TikZ.NodeCoordinate(\"n2.90\")], Catlab.Graphics.TikZ.Property[Catlab.Graphics.TikZ.Property(\"wire\", \"{\\\\node[anchor=east] {\\$B\\$};}\")]), Catlab.Graphics.TikZ.Edge(Catlab.Graphics.TikZ.PathExpression[Catlab.Graphics.TikZ.NodeCoordinate(\"\\$(root.north)+(6,0.0)\\$\"), Catlab.Graphics.TikZ.PathOperation(\"to\", Catlab.Graphics.TikZ.Property[Catlab.Graphics.TikZ.Property(\"out\", \"-90\"), Catlab.Graphics.TikZ.Property(\"in\", \"90\")]), Catlab.Graphics.TikZ.NodeCoordinate(\"n3.90\")], Catlab.Graphics.TikZ.Property[Catlab.Graphics.TikZ.Property(\"wire\", \"{\\\\node[anchor=east] {\\$C\\$};}\")]), Catlab.Graphics.TikZ.Edge(Catlab.Graphics.TikZ.PathExpression[Catlab.Graphics.TikZ.NodeCoordinate(\"n3.-120\"), Catlab.Graphics.TikZ.PathOperation(\"to\", Catlab.Graphics.TikZ.Property[Catlab.Graphics.TikZ.Property(\"out\", \"-120\"), Catlab.Graphics.TikZ.Property(\"in\", \"90\")]), Catlab.Graphics.TikZ.NodeCoordinate(\"\\$(root.south)+(-1.5,-0.0)\\$\")], Catlab.Graphics.TikZ.Property[Catlab.Graphics.TikZ.Property(\"wire\", nothing)]), Catlab.Graphics.TikZ.Edge(Catlab.Graphics.TikZ.PathExpression[Catlab.Graphics.TikZ.NodeCoordinate(\"n1.-120\"), Catlab.Graphics.TikZ.PathOperation(\"to\", Catlab.Graphics.TikZ.Property[Catlab.Graphics.TikZ.Property(\"out\", \"-120\"), Catlab.Graphics.TikZ.Property(\"in\", \"90\")]), Catlab.Graphics.TikZ.NodeCoordinate(\"\\$(root.south)+(-7.5,-0.0)\\$\")], Catlab.Graphics.TikZ.Property[Catlab.Graphics.TikZ.Property(\"wire\", nothing)]), Catlab.Graphics.TikZ.Edge(Catlab.Graphics.TikZ.PathExpression[Catlab.Graphics.TikZ.NodeCoordinate(\"n2.-60\"), Catlab.Graphics.TikZ.PathOperation(\"to\", Catlab.Graphics.TikZ.Property[Catlab.Graphics.TikZ.Property(\"out\", \"-60\"), Catlab.Graphics.TikZ.Property(\"in\", \"90\")]), Catlab.Graphics.TikZ.NodeCoordinate(\"\\$(root.south)+(4.5,-0.0)\\$\")], Catlab.Graphics.TikZ.Property[Catlab.Graphics.TikZ.Property(\"wire\", nothing)]), Catlab.Graphics.TikZ.Edge(Catlab.Graphics.TikZ.PathExpression[Catlab.Graphics.TikZ.NodeCoordinate(\"n1.-60\"), Catlab.Graphics.TikZ.PathOperation(\"to\", Catlab.Graphics.TikZ.Property[Catlab.Graphics.TikZ.Property(\"out\", \"-60\"), Catlab.Graphics.TikZ.Property(\"in\", \"90\")]), Catlab.Graphics.TikZ.NodeCoordinate(\"\\$(root.south)+(1.5,-0.0)\\$\")], Catlab.Graphics.TikZ.Property[Catlab.Graphics.TikZ.Property(\"wire\", nothing)]), Catlab.Graphics.TikZ.Edge(Catlab.Graphics.TikZ.PathExpression[Catlab.Graphics.TikZ.NodeCoordinate(\"n3.-60\"), Catlab.Graphics.TikZ.PathOperation(\"to\", Catlab.Graphics.TikZ.Property[Catlab.Graphics.TikZ.Property(\"out\", \"-60\"), Catlab.Graphics.TikZ.Property(\"in\", \"90\")]), Catlab.Graphics.TikZ.NodeCoordinate(\"\\$(root.south)+(7.5,-0.0)\\$\")], Catlab.Graphics.TikZ.Property[Catlab.Graphics.TikZ.Property(\"wire\", nothing)]), Catlab.Graphics.TikZ.Edge(Catlab.Graphics.TikZ.PathExpression[Catlab.Graphics.TikZ.NodeCoordinate(\"n2.-120\"), Catlab.Graphics.TikZ.PathOperation(\"to\", Catlab.Graphics.TikZ.Property[Catlab.Graphics.TikZ.Property(\"out\", \"-120\"), Catlab.Graphics.TikZ.Property(\"in\", \"90\")]), Catlab.Graphics.TikZ.NodeCoordinate(\"\\$(root.south)+(-4.5,-0.0)\\$\")], Catlab.Graphics.TikZ.Property[Catlab.Graphics.TikZ.Property(\"wire\", nothing)])], Catlab.Graphics.TikZ.Property[Catlab.Graphics.TikZ.Property(\"unit length/.code\", \"{{\\\\newdimen\\\\tikzunit}\\\\setlength{\\\\tikzunit}{#1}}\"), Catlab.Graphics.TikZ.Property(\"unit length\", \"4mm\"), Catlab.Graphics.TikZ.Property(\"x\", \"\\\\tikzunit\"), Catlab.Graphics.TikZ.Property(\"y\", \"\\\\tikzunit\"), Catlab.Graphics.TikZ.Property(\"semithick\", nothing), Catlab.Graphics.TikZ.Property(\"junction/.style\", Catlab.Graphics.TikZ.Property[Catlab.Graphics.TikZ.Property(\"circle\", nothing), Catlab.Graphics.TikZ.Property(\"draw\", nothing), Catlab.Graphics.TikZ.Property(\"fill\", nothing), Catlab.Graphics.TikZ.Property(\"inner sep\", \"0\")]), Catlab.Graphics.TikZ.Property(\"outer box/.style\", Catlab.Graphics.TikZ.Property[Catlab.Graphics.TikZ.Property(\"draw\", \"none\")]), Catlab.Graphics.TikZ.Property(\"wire/.style\", Catlab.Graphics.TikZ.Property[Catlab.Graphics.TikZ.Property(\"draw\", nothing), Catlab.Graphics.TikZ.Property(\"postaction\", Catlab.Graphics.TikZ.Property[Catlab.Graphics.TikZ.Property(\"decorate\", nothing)]), Catlab.Graphics.TikZ.Property(\"decoration\", Catlab.Graphics.TikZ.Property[Catlab.Graphics.TikZ.Property(\"markings\", nothing), Catlab.Graphics.TikZ.Property(\"mark\", \"at position 0.5 with {#1}\")])])]), [\"calc\", \"shapes.geometric\", \"decorations.markings\"], [\"amssymb\"])"
      ]
     },
     "execution_count": 16,
     "metadata": {},
     "output_type": "execute_result"
    }
   ],
   "source": [
    "to_tikz(mcopy(A⊗B⊗C), orientation=TopToBottom, labels=true)"
   ]
  },
  {
   "cell_type": "markdown",
   "metadata": {},
   "source": [
    "### Compact closed category"
   ]
  },
  {
   "cell_type": "markdown",
   "metadata": {},
   "source": [
    "The unit and co-unit of a compact closed category appear as caps and cups."
   ]
  },
  {
   "cell_type": "code",
   "execution_count": 17,
   "metadata": {},
   "outputs": [
    {
     "data": {
      "image/svg+xml": [
       "<?xml version=\"1.0\" encoding=\"UTF-8\"?>\n",
       "<svg xmlns=\"http://www.w3.org/2000/svg\" xmlns:xlink=\"http://www.w3.org/1999/xlink\" width=\"45.952\" height=\"79.37\" viewBox=\"0 0 45.952 79.37\">\n",
       "<defs>\n",
       "<g>\n",
       "<g id=\"glyph-1717857318698400--0-0\">\n",
       "<path d=\"M 1.765625 -1.140625 C 1.375 -0.46875 0.984375 -0.34375 0.546875 -0.3125 C 0.4375 -0.296875 0.34375 -0.296875 0.34375 -0.109375 C 0.34375 -0.046875 0.390625 0 0.46875 0 C 0.734375 0 1.046875 -0.03125 1.328125 -0.03125 C 1.65625 -0.03125 2 0 2.3125 0 C 2.375 0 2.5 0 2.5 -0.1875 C 2.5 -0.296875 2.40625 -0.3125 2.34375 -0.3125 C 2.109375 -0.328125 1.875 -0.40625 1.875 -0.65625 C 1.875 -0.765625 1.9375 -0.875 2.015625 -1.015625 L 2.765625 -2.28125 L 5.25 -2.28125 C 5.265625 -2.078125 5.40625 -0.734375 5.40625 -0.640625 C 5.40625 -0.34375 4.890625 -0.3125 4.703125 -0.3125 C 4.5625 -0.3125 4.453125 -0.3125 4.453125 -0.109375 C 4.453125 0 4.578125 0 4.59375 0 C 5 0 5.4375 -0.03125 5.828125 -0.03125 C 6.078125 -0.03125 6.703125 0 6.953125 0 C 7.015625 0 7.125 0 7.125 -0.203125 C 7.125 -0.3125 7.03125 -0.3125 6.90625 -0.3125 C 6.296875 -0.3125 6.296875 -0.375 6.265625 -0.65625 L 5.65625 -6.84375 C 5.640625 -7.046875 5.640625 -7.078125 5.46875 -7.078125 C 5.3125 -7.078125 5.265625 -7.015625 5.21875 -6.90625 Z M 2.953125 -2.59375 L 4.90625 -5.859375 L 5.21875 -2.59375 Z M 2.953125 -2.59375 \"/>\n",
       "</g>\n",
       "</g>\n",
       "<clipPath id=\"clip-1717857318698400--0\">\n",
       "<path clip-rule=\"nonzero\" d=\"M 14 14 L 45.746094 14 L 45.746094 48 L 14 48 Z M 14 14 \"/>\n",
       "</clipPath>\n",
       "<clipPath id=\"clip-1717857318698400--1\">\n",
       "<path clip-rule=\"nonzero\" d=\"M 14 30 L 45.746094 30 L 45.746094 65 L 14 65 Z M 14 30 \"/>\n",
       "</clipPath>\n",
       "</defs>\n",
       "<g clip-path=\"url(#clip-1717857318698400--0)\">\n",
       "<path fill=\"none\" stroke-width=\"0.59776\" stroke-linecap=\"butt\" stroke-linejoin=\"miter\" stroke=\"rgb(0%, 0%, 0%)\" stroke-opacity=\"1\" stroke-miterlimit=\"10\" d=\"M 0.000711982 0.00139788 C 0.000711982 11.179267 11.796731 17.006406 22.9746 17.006406 \" transform=\"matrix(0.992125, 0, 0, -0.992125, 22.655544, 39.372481)\"/>\n",
       "</g>\n",
       "<g fill=\"rgb(0%, 0%, 0%)\" fill-opacity=\"1\">\n",
       "<use xlink:href=\"#glyph-1717857318698400--0-0\" x=\"26.683571\" y=\"22.870465\"/>\n",
       "</g>\n",
       "<path fill-rule=\"nonzero\" fill=\"rgb(0%, 0%, 0%)\" fill-opacity=\"1\" stroke-width=\"0.59776\" stroke-linecap=\"butt\" stroke-linejoin=\"miter\" stroke=\"rgb(0%, 0%, 0%)\" stroke-opacity=\"1\" stroke-miterlimit=\"10\" d=\"M 4.827301 -0.00151454 L 0.966359 1.457682 L 2.240807 -0.000577292 L 0.965908 -1.457703 Z M 4.827301 -0.00151454 \" transform=\"matrix(0.84404, -0.521342, -0.521342, -0.84404, 25.596649, 29.421645)\"/>\n",
       "<g fill=\"rgb(0%, 0%, 0%)\" fill-opacity=\"1\">\n",
       "<use xlink:href=\"#glyph-1717857318698400--0-0\" x=\"26.683571\" y=\"22.870465\"/>\n",
       "</g>\n",
       "<path fill-rule=\"nonzero\" fill=\"rgb(0%, 0%, 0%)\" fill-opacity=\"1\" stroke-width=\"0.59776\" stroke-linecap=\"butt\" stroke-linejoin=\"miter\" stroke=\"rgb(0%, 0%, 0%)\" stroke-opacity=\"1\" stroke-miterlimit=\"10\" d=\"M 4.827301 -0.00151454 L 0.966359 1.457682 L 2.240807 -0.000577292 L 0.965908 -1.457703 Z M 4.827301 -0.00151454 \" transform=\"matrix(0.84404, -0.521342, -0.521342, -0.84404, 25.596649, 29.421645)\"/>\n",
       "<g clip-path=\"url(#clip-1717857318698400--1)\">\n",
       "<path fill=\"none\" stroke-width=\"0.59776\" stroke-linecap=\"butt\" stroke-linejoin=\"miter\" stroke=\"rgb(0%, 0%, 0%)\" stroke-opacity=\"1\" stroke-miterlimit=\"10\" d=\"M 0.000711982 0.00139788 C 0.000711982 -11.176472 11.796731 -17.007548 22.9746 -17.007548 \" transform=\"matrix(0.992125, 0, 0, -0.992125, 22.655544, 39.372481)\"/>\n",
       "</g>\n",
       "<g fill=\"rgb(0%, 0%, 0%)\" fill-opacity=\"1\">\n",
       "<use xlink:href=\"#glyph-1717857318698400--0-0\" x=\"26.683571\" y=\"48.693495\"/>\n",
       "</g>\n",
       "<path fill-rule=\"nonzero\" fill=\"rgb(0%, 0%, 0%)\" fill-opacity=\"1\" stroke-width=\"0.59776\" stroke-linecap=\"butt\" stroke-linejoin=\"miter\" stroke=\"rgb(0%, 0%, 0%)\" stroke-opacity=\"1\" stroke-miterlimit=\"10\" d=\"M 4.8279 0.000543323 L 0.964438 1.460081 L 2.241407 -0.000393928 L 0.966958 -1.458653 Z M 4.8279 0.000543323 \" transform=\"matrix(0.84404, 0.521342, 0.521342, -0.84404, 25.596649, 49.323316)\"/>\n",
       "<g fill=\"rgb(0%, 0%, 0%)\" fill-opacity=\"1\">\n",
       "<use xlink:href=\"#glyph-1717857318698400--0-0\" x=\"26.683571\" y=\"48.693495\"/>\n",
       "</g>\n",
       "<path fill-rule=\"nonzero\" fill=\"rgb(0%, 0%, 0%)\" fill-opacity=\"1\" stroke-width=\"0.59776\" stroke-linecap=\"butt\" stroke-linejoin=\"miter\" stroke=\"rgb(0%, 0%, 0%)\" stroke-opacity=\"1\" stroke-miterlimit=\"10\" d=\"M 4.8279 0.000543323 L 0.964438 1.460081 L 2.241407 -0.000393928 L 0.966958 -1.458653 Z M 4.8279 0.000543323 \" transform=\"matrix(0.84404, 0.521342, 0.521342, -0.84404, 25.596649, 49.323316)\"/>\n",
       "</svg>\n",
       "\n"
      ],
      "text/plain": [
       "Catlab.Graphics.TikZ.Document(Catlab.Graphics.TikZ.Picture(Catlab.Graphics.TikZ.Statement[Catlab.Graphics.TikZ.Node(\"root\", Catlab.Graphics.TikZ.Property[Catlab.Graphics.TikZ.Property(\"outer box\", nothing), Catlab.Graphics.TikZ.Property(\"minimum width\", \"4\\\\tikzunit\"), Catlab.Graphics.TikZ.Property(\"minimum height\", \"7\\\\tikzunit\")], Catlab.Graphics.TikZ.Coordinate(\"0\", \"0\"), \"\"), Catlab.Graphics.TikZ.Node(\"n1\", Catlab.Graphics.TikZ.Property[Catlab.Graphics.TikZ.Property(\"invisible\", nothing)], Catlab.Graphics.TikZ.Coordinate(\"0\", \"0\"), \"\"), Catlab.Graphics.TikZ.Edge(Catlab.Graphics.TikZ.PathExpression[Catlab.Graphics.TikZ.NodeCoordinate(\"n1.center\"), Catlab.Graphics.TikZ.PathOperation(\"to\", Catlab.Graphics.TikZ.Property[Catlab.Graphics.TikZ.Property(\"out\", \"90\"), Catlab.Graphics.TikZ.Property(\"in\", \"180\")]), Catlab.Graphics.TikZ.NodeCoordinate(\"\\$(root.east)+(0,1.5)\\$\")], Catlab.Graphics.TikZ.Property[Catlab.Graphics.TikZ.Property(\"wire\", \"{\\\\node[anchor=south] {\\$A\\$};}\"), Catlab.Graphics.TikZ.Property(\"->\", nothing)]), Catlab.Graphics.TikZ.Edge(Catlab.Graphics.TikZ.PathExpression[Catlab.Graphics.TikZ.NodeCoordinate(\"n1.center\"), Catlab.Graphics.TikZ.PathOperation(\"to\", Catlab.Graphics.TikZ.Property[Catlab.Graphics.TikZ.Property(\"out\", \"-90\"), Catlab.Graphics.TikZ.Property(\"in\", \"180\")]), Catlab.Graphics.TikZ.NodeCoordinate(\"\\$(root.east)+(0,-1.5)\\$\")], Catlab.Graphics.TikZ.Property[Catlab.Graphics.TikZ.Property(\"wire\", \"{\\\\node[anchor=south] {\\$A\\$};}\"), Catlab.Graphics.TikZ.Property(\"->\", nothing)])], Catlab.Graphics.TikZ.Property[Catlab.Graphics.TikZ.Property(\"unit length/.code\", \"{{\\\\newdimen\\\\tikzunit}\\\\setlength{\\\\tikzunit}{#1}}\"), Catlab.Graphics.TikZ.Property(\"unit length\", \"4mm\"), Catlab.Graphics.TikZ.Property(\"x\", \"\\\\tikzunit\"), Catlab.Graphics.TikZ.Property(\"y\", \"\\\\tikzunit\"), Catlab.Graphics.TikZ.Property(\"semithick\", nothing), Catlab.Graphics.TikZ.Property(\"invisible/.style\", Catlab.Graphics.TikZ.Property[Catlab.Graphics.TikZ.Property(\"draw\", \"none\"), Catlab.Graphics.TikZ.Property(\"inner sep\", \"0\")]), Catlab.Graphics.TikZ.Property(\"outer box/.style\", Catlab.Graphics.TikZ.Property[Catlab.Graphics.TikZ.Property(\"draw\", \"none\")]), Catlab.Graphics.TikZ.Property(\"wire/.style\", Catlab.Graphics.TikZ.Property[Catlab.Graphics.TikZ.Property(\"draw\", nothing), Catlab.Graphics.TikZ.Property(\"postaction\", Catlab.Graphics.TikZ.Property[Catlab.Graphics.TikZ.Property(\"decorate\", nothing)]), Catlab.Graphics.TikZ.Property(\"decoration\", Catlab.Graphics.TikZ.Property[Catlab.Graphics.TikZ.Property(\"markings\", nothing), Catlab.Graphics.TikZ.Property(\"mark\", \"at position 0.5 with {#1}\")])]), Catlab.Graphics.TikZ.Property(\"->/.style\", Catlab.Graphics.TikZ.Property[Catlab.Graphics.TikZ.Property(\"postaction\", Catlab.Graphics.TikZ.Property[Catlab.Graphics.TikZ.Property(\"decorate\", nothing)]), Catlab.Graphics.TikZ.Property(\"decoration\", Catlab.Graphics.TikZ.Property[Catlab.Graphics.TikZ.Property(\"markings\", nothing), Catlab.Graphics.TikZ.Property(\"mark\", \"at position 0.5 with {\\\\arrow{Stealth}}\")])]), Catlab.Graphics.TikZ.Property(\"<-/.style\", Catlab.Graphics.TikZ.Property[Catlab.Graphics.TikZ.Property(\"postaction\", Catlab.Graphics.TikZ.Property[Catlab.Graphics.TikZ.Property(\"decorate\", nothing)]), Catlab.Graphics.TikZ.Property(\"decoration\", Catlab.Graphics.TikZ.Property[Catlab.Graphics.TikZ.Property(\"markings\", nothing), Catlab.Graphics.TikZ.Property(\"mark\", \"at position 0.5 with {\\\\arrow{Stealth[reversed]}}\")])])]), [\"calc\", \"shapes.geometric\", \"decorations.markings\", \"arrows.meta\"], [\"amssymb\"])"
      ]
     },
     "execution_count": 17,
     "metadata": {},
     "output_type": "execute_result"
    }
   ],
   "source": [
    "A, B = Ob(FreeCompactClosedCategory, :A, :B)\n",
    "\n",
    "to_tikz(dunit(A), arrowtip=\"Stealth\", labels=true)"
   ]
  },
  {
   "cell_type": "code",
   "execution_count": 18,
   "metadata": {},
   "outputs": [
    {
     "data": {
      "image/svg+xml": [
       "<?xml version=\"1.0\" encoding=\"UTF-8\"?>\n",
       "<svg xmlns=\"http://www.w3.org/2000/svg\" xmlns:xlink=\"http://www.w3.org/1999/xlink\" width=\"45.952\" height=\"79.37\" viewBox=\"0 0 45.952 79.37\">\n",
       "<defs>\n",
       "<g>\n",
       "<g id=\"glyph-1717857318698401--0-0\">\n",
       "<path d=\"M 1.765625 -1.140625 C 1.375 -0.46875 0.984375 -0.34375 0.546875 -0.3125 C 0.4375 -0.296875 0.34375 -0.296875 0.34375 -0.109375 C 0.34375 -0.046875 0.390625 0 0.46875 0 C 0.734375 0 1.046875 -0.03125 1.328125 -0.03125 C 1.65625 -0.03125 2 0 2.3125 0 C 2.375 0 2.5 0 2.5 -0.1875 C 2.5 -0.296875 2.40625 -0.3125 2.34375 -0.3125 C 2.109375 -0.328125 1.875 -0.40625 1.875 -0.65625 C 1.875 -0.765625 1.9375 -0.875 2.015625 -1.015625 L 2.765625 -2.28125 L 5.25 -2.28125 C 5.265625 -2.078125 5.40625 -0.734375 5.40625 -0.640625 C 5.40625 -0.34375 4.890625 -0.3125 4.703125 -0.3125 C 4.5625 -0.3125 4.453125 -0.3125 4.453125 -0.109375 C 4.453125 0 4.578125 0 4.59375 0 C 5 0 5.4375 -0.03125 5.828125 -0.03125 C 6.078125 -0.03125 6.703125 0 6.953125 0 C 7.015625 0 7.125 0 7.125 -0.203125 C 7.125 -0.3125 7.03125 -0.3125 6.90625 -0.3125 C 6.296875 -0.3125 6.296875 -0.375 6.265625 -0.65625 L 5.65625 -6.84375 C 5.640625 -7.046875 5.640625 -7.078125 5.46875 -7.078125 C 5.3125 -7.078125 5.265625 -7.015625 5.21875 -6.90625 Z M 2.953125 -2.59375 L 4.90625 -5.859375 L 5.21875 -2.59375 Z M 2.953125 -2.59375 \"/>\n",
       "</g>\n",
       "</g>\n",
       "<clipPath id=\"clip-1717857318698401--0\">\n",
       "<path clip-rule=\"nonzero\" d=\"M 0.15625 14 L 32 14 L 32 48 L 0.15625 48 Z M 0.15625 14 \"/>\n",
       "</clipPath>\n",
       "<clipPath id=\"clip-1717857318698401--1\">\n",
       "<path clip-rule=\"nonzero\" d=\"M 0.15625 30 L 32 30 L 32 65 L 0.15625 65 Z M 0.15625 30 \"/>\n",
       "</clipPath>\n",
       "</defs>\n",
       "<g clip-path=\"url(#clip-1717857318698401--0)\">\n",
       "<path fill=\"none\" stroke-width=\"0.59776\" stroke-linecap=\"butt\" stroke-linejoin=\"miter\" stroke=\"rgb(0%, 0%, 0%)\" stroke-opacity=\"1\" stroke-miterlimit=\"10\" d=\"M -22.97665 17.006406 C -11.798781 17.006406 0.00117488 11.179267 0.00117488 0.00139788 \" transform=\"matrix(0.992125, 0, 0, -0.992125, 23.248834, 39.372481)\"/>\n",
       "</g>\n",
       "<g fill=\"rgb(0%, 0%, 0%)\" fill-opacity=\"1\">\n",
       "<use xlink:href=\"#glyph-1717857318698401--0-0\" x=\"11.807649\" y=\"22.870465\"/>\n",
       "</g>\n",
       "<path fill-rule=\"nonzero\" fill=\"rgb(0%, 0%, 0%)\" fill-opacity=\"1\" stroke-width=\"0.59776\" stroke-linecap=\"butt\" stroke-linejoin=\"miter\" stroke=\"rgb(0%, 0%, 0%)\" stroke-opacity=\"1\" stroke-miterlimit=\"10\" d=\"M 4.827339 0.00179372 L 0.965946 1.457982 L 2.240846 0.000856465 L 0.966397 -1.457403 Z M 4.827339 0.00179372 \" transform=\"matrix(0.84404, 0.521342, 0.521342, -0.84404, 10.72147, 23.500445)\"/>\n",
       "<g fill=\"rgb(0%, 0%, 0%)\" fill-opacity=\"1\">\n",
       "<use xlink:href=\"#glyph-1717857318698401--0-0\" x=\"11.807649\" y=\"22.870465\"/>\n",
       "</g>\n",
       "<path fill-rule=\"nonzero\" fill=\"rgb(0%, 0%, 0%)\" fill-opacity=\"1\" stroke-width=\"0.59776\" stroke-linecap=\"butt\" stroke-linejoin=\"miter\" stroke=\"rgb(0%, 0%, 0%)\" stroke-opacity=\"1\" stroke-miterlimit=\"10\" d=\"M 4.827339 0.00179372 L 0.965946 1.457982 L 2.240846 0.000856465 L 0.966397 -1.457403 Z M 4.827339 0.00179372 \" transform=\"matrix(0.84404, 0.521342, 0.521342, -0.84404, 10.72147, 23.500445)\"/>\n",
       "<g clip-path=\"url(#clip-1717857318698401--1)\">\n",
       "<path fill=\"none\" stroke-width=\"0.59776\" stroke-linecap=\"butt\" stroke-linejoin=\"miter\" stroke=\"rgb(0%, 0%, 0%)\" stroke-opacity=\"1\" stroke-miterlimit=\"10\" d=\"M -22.97665 -17.007548 C -11.798781 -17.007548 0.00117488 -11.176472 0.00117488 0.00139788 \" transform=\"matrix(0.992125, 0, 0, -0.992125, 23.248834, 39.372481)\"/>\n",
       "</g>\n",
       "<g fill=\"rgb(0%, 0%, 0%)\" fill-opacity=\"1\">\n",
       "<use xlink:href=\"#glyph-1717857318698401--0-0\" x=\"11.807649\" y=\"48.692503\"/>\n",
       "</g>\n",
       "<path fill-rule=\"nonzero\" fill=\"rgb(0%, 0%, 0%)\" fill-opacity=\"1\" stroke-width=\"0.59776\" stroke-linecap=\"butt\" stroke-linejoin=\"miter\" stroke=\"rgb(0%, 0%, 0%)\" stroke-opacity=\"1\" stroke-miterlimit=\"10\" d=\"M 4.828809 0.000585022 L 0.965797 1.456431 L 2.242315 0.00152227 L 0.965346 -1.458953 Z M 4.828809 0.000585022 \" transform=\"matrix(0.84404, -0.521342, -0.521342, -0.84404, 10.72147, 55.244516)\"/>\n",
       "<g fill=\"rgb(0%, 0%, 0%)\" fill-opacity=\"1\">\n",
       "<use xlink:href=\"#glyph-1717857318698401--0-0\" x=\"11.807649\" y=\"48.692503\"/>\n",
       "</g>\n",
       "<path fill-rule=\"nonzero\" fill=\"rgb(0%, 0%, 0%)\" fill-opacity=\"1\" stroke-width=\"0.59776\" stroke-linecap=\"butt\" stroke-linejoin=\"miter\" stroke=\"rgb(0%, 0%, 0%)\" stroke-opacity=\"1\" stroke-miterlimit=\"10\" d=\"M 4.828809 0.000585022 L 0.965797 1.456431 L 2.242315 0.00152227 L 0.965346 -1.458953 Z M 4.828809 0.000585022 \" transform=\"matrix(0.84404, -0.521342, -0.521342, -0.84404, 10.72147, 55.244516)\"/>\n",
       "</svg>\n",
       "\n"
      ],
      "text/plain": [
       "Catlab.Graphics.TikZ.Document(Catlab.Graphics.TikZ.Picture(Catlab.Graphics.TikZ.Statement[Catlab.Graphics.TikZ.Node(\"root\", Catlab.Graphics.TikZ.Property[Catlab.Graphics.TikZ.Property(\"outer box\", nothing), Catlab.Graphics.TikZ.Property(\"minimum width\", \"4\\\\tikzunit\"), Catlab.Graphics.TikZ.Property(\"minimum height\", \"7\\\\tikzunit\")], Catlab.Graphics.TikZ.Coordinate(\"0\", \"0\"), \"\"), Catlab.Graphics.TikZ.Node(\"n1\", Catlab.Graphics.TikZ.Property[Catlab.Graphics.TikZ.Property(\"invisible\", nothing)], Catlab.Graphics.TikZ.Coordinate(\"0\", \"0\"), \"\"), Catlab.Graphics.TikZ.Edge(Catlab.Graphics.TikZ.PathExpression[Catlab.Graphics.TikZ.NodeCoordinate(\"\\$(root.west)+(0,1.5)\\$\"), Catlab.Graphics.TikZ.PathOperation(\"to\", Catlab.Graphics.TikZ.Property[Catlab.Graphics.TikZ.Property(\"out\", \"0\"), Catlab.Graphics.TikZ.Property(\"in\", \"90\")]), Catlab.Graphics.TikZ.NodeCoordinate(\"n1.center\")], Catlab.Graphics.TikZ.Property[Catlab.Graphics.TikZ.Property(\"wire\", \"{\\\\node[anchor=south] {\\$A\\$};}\"), Catlab.Graphics.TikZ.Property(\"->\", nothing)]), Catlab.Graphics.TikZ.Edge(Catlab.Graphics.TikZ.PathExpression[Catlab.Graphics.TikZ.NodeCoordinate(\"\\$(root.west)+(0,-1.5)\\$\"), Catlab.Graphics.TikZ.PathOperation(\"to\", Catlab.Graphics.TikZ.Property[Catlab.Graphics.TikZ.Property(\"out\", \"0\"), Catlab.Graphics.TikZ.Property(\"in\", \"-90\")]), Catlab.Graphics.TikZ.NodeCoordinate(\"n1.center\")], Catlab.Graphics.TikZ.Property[Catlab.Graphics.TikZ.Property(\"wire\", \"{\\\\node[anchor=south] {\\$A\\$};}\"), Catlab.Graphics.TikZ.Property(\"->\", nothing)])], Catlab.Graphics.TikZ.Property[Catlab.Graphics.TikZ.Property(\"unit length/.code\", \"{{\\\\newdimen\\\\tikzunit}\\\\setlength{\\\\tikzunit}{#1}}\"), Catlab.Graphics.TikZ.Property(\"unit length\", \"4mm\"), Catlab.Graphics.TikZ.Property(\"x\", \"\\\\tikzunit\"), Catlab.Graphics.TikZ.Property(\"y\", \"\\\\tikzunit\"), Catlab.Graphics.TikZ.Property(\"semithick\", nothing), Catlab.Graphics.TikZ.Property(\"invisible/.style\", Catlab.Graphics.TikZ.Property[Catlab.Graphics.TikZ.Property(\"draw\", \"none\"), Catlab.Graphics.TikZ.Property(\"inner sep\", \"0\")]), Catlab.Graphics.TikZ.Property(\"outer box/.style\", Catlab.Graphics.TikZ.Property[Catlab.Graphics.TikZ.Property(\"draw\", \"none\")]), Catlab.Graphics.TikZ.Property(\"wire/.style\", Catlab.Graphics.TikZ.Property[Catlab.Graphics.TikZ.Property(\"draw\", nothing), Catlab.Graphics.TikZ.Property(\"postaction\", Catlab.Graphics.TikZ.Property[Catlab.Graphics.TikZ.Property(\"decorate\", nothing)]), Catlab.Graphics.TikZ.Property(\"decoration\", Catlab.Graphics.TikZ.Property[Catlab.Graphics.TikZ.Property(\"markings\", nothing), Catlab.Graphics.TikZ.Property(\"mark\", \"at position 0.5 with {#1}\")])]), Catlab.Graphics.TikZ.Property(\"->/.style\", Catlab.Graphics.TikZ.Property[Catlab.Graphics.TikZ.Property(\"postaction\", Catlab.Graphics.TikZ.Property[Catlab.Graphics.TikZ.Property(\"decorate\", nothing)]), Catlab.Graphics.TikZ.Property(\"decoration\", Catlab.Graphics.TikZ.Property[Catlab.Graphics.TikZ.Property(\"markings\", nothing), Catlab.Graphics.TikZ.Property(\"mark\", \"at position 0.5 with {\\\\arrow{Stealth}}\")])]), Catlab.Graphics.TikZ.Property(\"<-/.style\", Catlab.Graphics.TikZ.Property[Catlab.Graphics.TikZ.Property(\"postaction\", Catlab.Graphics.TikZ.Property[Catlab.Graphics.TikZ.Property(\"decorate\", nothing)]), Catlab.Graphics.TikZ.Property(\"decoration\", Catlab.Graphics.TikZ.Property[Catlab.Graphics.TikZ.Property(\"markings\", nothing), Catlab.Graphics.TikZ.Property(\"mark\", \"at position 0.5 with {\\\\arrow{Stealth[reversed]}}\")])])]), [\"calc\", \"shapes.geometric\", \"decorations.markings\", \"arrows.meta\"], [\"amssymb\"])"
      ]
     },
     "execution_count": 18,
     "metadata": {},
     "output_type": "execute_result"
    }
   ],
   "source": [
    "to_tikz(dcounit(A), arrowtip=\"Stealth\", labels=true)"
   ]
  },
  {
   "cell_type": "markdown",
   "metadata": {},
   "source": [
    "In a self-dual compact closed category, such as a bicategory of relations,\n",
    "every morphism $f: A \\to B$ has a transpose $f^\\dagger: B \\to A$ given by\n",
    "bending wires:"
   ]
  },
  {
   "cell_type": "code",
   "execution_count": 19,
   "metadata": {},
   "outputs": [
    {
     "data": {
      "image/svg+xml": [
       "<?xml version=\"1.0\" encoding=\"UTF-8\"?>\n",
       "<svg xmlns=\"http://www.w3.org/2000/svg\" xmlns:xlink=\"http://www.w3.org/1999/xlink\" width=\"114.581\" height=\"113.386\" viewBox=\"0 0 114.581 113.386\">\n",
       "<defs>\n",
       "<g>\n",
       "<g id=\"glyph-1717857318698402--0-0\">\n",
       "<path d=\"M 3.640625 -3.96875 L 4.484375 -3.96875 C 4.6875 -3.96875 4.78125 -3.96875 4.78125 -4.15625 C 4.78125 -4.265625 4.6875 -4.265625 4.515625 -4.265625 L 3.6875 -4.265625 L 3.90625 -5.40625 C 3.9375 -5.609375 4.078125 -6.3125 4.140625 -6.421875 C 4.234375 -6.625 4.390625 -6.765625 4.609375 -6.765625 C 4.640625 -6.765625 4.90625 -6.765625 5.09375 -6.59375 C 4.65625 -6.546875 4.5625 -6.203125 4.5625 -6.046875 C 4.5625 -5.828125 4.734375 -5.703125 4.921875 -5.703125 C 5.1875 -5.703125 5.46875 -5.921875 5.46875 -6.296875 C 5.46875 -6.75 5.015625 -6.984375 4.609375 -6.984375 C 4.265625 -6.984375 3.640625 -6.8125 3.34375 -5.828125 C 3.28125 -5.609375 3.265625 -5.515625 3.015625 -4.265625 L 2.34375 -4.265625 C 2.15625 -4.265625 2.046875 -4.265625 2.046875 -4.078125 C 2.046875 -3.96875 2.125 -3.96875 2.3125 -3.96875 L 2.96875 -3.96875 L 2.234375 -0.046875 C 2.046875 0.90625 1.875 1.8125 1.359375 1.8125 C 1.328125 1.8125 1.078125 1.8125 0.890625 1.640625 C 1.34375 1.609375 1.4375 1.25 1.4375 1.09375 C 1.4375 0.875 1.265625 0.75 1.0625 0.75 C 0.8125 0.75 0.53125 0.96875 0.53125 1.34375 C 0.53125 1.796875 0.953125 2.03125 1.359375 2.03125 C 1.90625 2.03125 2.3125 1.453125 2.484375 1.0625 C 2.796875 0.453125 3.03125 -0.75 3.046875 -0.828125 Z M 3.640625 -3.96875 \"/>\n",
       "</g>\n",
       "</g>\n",
       "<clipPath id=\"clip-1717857318698402--0\">\n",
       "<path clip-rule=\"nonzero\" d=\"M 0.101562 64 L 100 64 L 100 99 L 0.101562 99 Z M 0.101562 64 \"/>\n",
       "</clipPath>\n",
       "<clipPath id=\"clip-1717857318698402--1\">\n",
       "<path clip-rule=\"nonzero\" d=\"M 14 14 L 114.0625 14 L 114.0625 48 L 14 48 Z M 14 14 \"/>\n",
       "</clipPath>\n",
       "</defs>\n",
       "<path fill=\"none\" stroke-width=\"0.59776\" stroke-linecap=\"butt\" stroke-linejoin=\"miter\" stroke=\"rgb(0%, 0%, 0%)\" stroke-opacity=\"1\" stroke-miterlimit=\"10\" d=\"M 7.355428 11.339352 L -7.352696 11.339352 C -9.555969 11.339352 -11.33901 9.556311 -11.33901 7.353038 L -11.33901 -7.355086 C -11.33901 -9.554431 -9.555969 -11.337472 -7.352696 -11.337472 L 7.355428 -11.337472 C 9.554774 -11.337472 11.337814 -9.554431 11.337814 -7.355086 L 11.337814 7.353038 C 11.337814 9.556311 9.554774 11.339352 7.355428 11.339352 Z M 7.355428 11.339352 \" transform=\"matrix(0.994614, 0, 0, -0.994614, 57.082626, 56.387653)\"/>\n",
       "<g fill=\"rgb(0%, 0%, 0%)\" fill-opacity=\"1\">\n",
       "<use xlink:href=\"#glyph-1717857318698402--0-0\" x=\"54.123649\" y=\"58.865237\"/>\n",
       "</g>\n",
       "<g clip-path=\"url(#clip-1717857318698402--0)\">\n",
       "<path fill=\"none\" stroke-width=\"0.59776\" stroke-linecap=\"butt\" stroke-linejoin=\"miter\" stroke=\"rgb(0%, 0%, 0%)\" stroke-opacity=\"1\" stroke-miterlimit=\"10\" d=\"M -56.99114 -34.014296 C -48.032735 -34.014296 -42.978167 -34.014296 -34.015834 -34.014296 C -20.749067 -34.014296 -13.263437 -34.014296 -0.000597636 -34.014296 C 14.888187 -34.014296 34.014638 -31.893499 34.014638 -17.008642 \" transform=\"matrix(0.994614, 0, 0, -0.994614, 57.082626, 56.387653)\"/>\n",
       "</g>\n",
       "<path fill=\"none\" stroke-width=\"0.59776\" stroke-linecap=\"butt\" stroke-linejoin=\"miter\" stroke=\"rgb(0%, 0%, 0%)\" stroke-opacity=\"1\" stroke-miterlimit=\"10\" d=\"M -34.015834 17.006594 C -34.015834 6.013794 -22.630293 0.000939803 -11.637492 0.000939803 \" transform=\"matrix(0.994614, 0, 0, -0.994614, 57.082626, 56.387653)\"/>\n",
       "<path fill=\"none\" stroke-width=\"0.59776\" stroke-linecap=\"butt\" stroke-linejoin=\"miter\" stroke=\"rgb(0%, 0%, 0%)\" stroke-opacity=\"1\" stroke-miterlimit=\"10\" d=\"M 11.636297 0.000939803 C 22.633025 0.000939803 34.014638 -6.011914 34.014638 -17.008642 \" transform=\"matrix(0.994614, 0, 0, -0.994614, 57.082626, 56.387653)\"/>\n",
       "<g clip-path=\"url(#clip-1717857318698402--1)\">\n",
       "<path fill=\"none\" stroke-width=\"0.59776\" stroke-linecap=\"butt\" stroke-linejoin=\"miter\" stroke=\"rgb(0%, 0%, 0%)\" stroke-opacity=\"1\" stroke-miterlimit=\"10\" d=\"M -34.015834 17.006594 C -34.015834 31.895378 -14.885454 34.016176 -0.000597636 34.016176 C 13.266169 34.016176 20.751799 34.016176 34.014638 34.016176 C 42.976972 34.016176 48.031539 34.016176 56.993873 34.016176 \" transform=\"matrix(0.994614, 0, 0, -0.994614, 57.082626, 56.387653)\"/>\n",
       "</g>\n",
       "</svg>\n",
       "\n"
      ],
      "text/plain": [
       "Catlab.Graphics.TikZ.Document(Catlab.Graphics.TikZ.Picture(Catlab.Graphics.TikZ.Statement[Catlab.Graphics.TikZ.Node(\"root\", Catlab.Graphics.TikZ.Property[Catlab.Graphics.TikZ.Property(\"outer box\", nothing), Catlab.Graphics.TikZ.Property(\"minimum size\", \"10\\\\tikzunit\")], Catlab.Graphics.TikZ.Coordinate(\"0\", \"0\"), \"\"), Catlab.Graphics.TikZ.Node(\"n1\", Catlab.Graphics.TikZ.Property[Catlab.Graphics.TikZ.Property(\"invisible\", nothing)], Catlab.Graphics.TikZ.Coordinate(\"-3\", \"1.5\"), \"\"), Catlab.Graphics.TikZ.Node(\"n2\", Catlab.Graphics.TikZ.Property[Catlab.Graphics.TikZ.Property(\"box\", nothing), Catlab.Graphics.TikZ.Property(\"minimum size\", \"2\\\\tikzunit\")], Catlab.Graphics.TikZ.Coordinate(\"0\", \"0\"), \"\\$f\\$\"), Catlab.Graphics.TikZ.Node(\"n3\", Catlab.Graphics.TikZ.Property[Catlab.Graphics.TikZ.Property(\"invisible\", nothing)], Catlab.Graphics.TikZ.Coordinate(\"3\", \"-1.5\"), \"\"), Catlab.Graphics.TikZ.Edge(Catlab.Graphics.TikZ.PathExpression[Catlab.Graphics.TikZ.NodeCoordinate(\"\\$(root.west)+(0,-3)\\$\"), Catlab.Graphics.TikZ.PathOperation(\"to\", Catlab.Graphics.TikZ.Property[Catlab.Graphics.TikZ.Property(\"out\", \"0\"), Catlab.Graphics.TikZ.Property(\"in\", \"180\")]), Catlab.Graphics.TikZ.Coordinate(\"-3\", \"-3\"), Catlab.Graphics.TikZ.PathOperation(\"to\", Catlab.Graphics.TikZ.Property[Catlab.Graphics.TikZ.Property(\"out\", \"0\"), Catlab.Graphics.TikZ.Property(\"in\", \"180\")]), Catlab.Graphics.TikZ.Coordinate(\"0\", \"-3\"), Catlab.Graphics.TikZ.PathOperation(\"to\", Catlab.Graphics.TikZ.Property[Catlab.Graphics.TikZ.Property(\"out\", \"0\"), Catlab.Graphics.TikZ.Property(\"in\", \"-90\")]), Catlab.Graphics.TikZ.NodeCoordinate(\"n3.center\")], Catlab.Graphics.TikZ.Property[Catlab.Graphics.TikZ.Property(\"wire\", nothing)]), Catlab.Graphics.TikZ.Edge(Catlab.Graphics.TikZ.PathExpression[Catlab.Graphics.TikZ.NodeCoordinate(\"n1.center\"), Catlab.Graphics.TikZ.PathOperation(\"to\", Catlab.Graphics.TikZ.Property[Catlab.Graphics.TikZ.Property(\"out\", \"-90\"), Catlab.Graphics.TikZ.Property(\"in\", \"-180\")]), Catlab.Graphics.TikZ.NodeCoordinate(\"n2.west\")], Catlab.Graphics.TikZ.Property[Catlab.Graphics.TikZ.Property(\"wire\", nothing)]), Catlab.Graphics.TikZ.Edge(Catlab.Graphics.TikZ.PathExpression[Catlab.Graphics.TikZ.NodeCoordinate(\"n2.east\"), Catlab.Graphics.TikZ.PathOperation(\"to\", Catlab.Graphics.TikZ.Property[Catlab.Graphics.TikZ.Property(\"out\", \"0\"), Catlab.Graphics.TikZ.Property(\"in\", \"90\")]), Catlab.Graphics.TikZ.NodeCoordinate(\"n3.center\")], Catlab.Graphics.TikZ.Property[Catlab.Graphics.TikZ.Property(\"wire\", nothing)]), Catlab.Graphics.TikZ.Edge(Catlab.Graphics.TikZ.PathExpression[Catlab.Graphics.TikZ.NodeCoordinate(\"n1.center\"), Catlab.Graphics.TikZ.PathOperation(\"to\", Catlab.Graphics.TikZ.Property[Catlab.Graphics.TikZ.Property(\"out\", \"90\"), Catlab.Graphics.TikZ.Property(\"in\", \"180\")]), Catlab.Graphics.TikZ.Coordinate(\"0\", \"3\"), Catlab.Graphics.TikZ.PathOperation(\"to\", Catlab.Graphics.TikZ.Property[Catlab.Graphics.TikZ.Property(\"out\", \"0\"), Catlab.Graphics.TikZ.Property(\"in\", \"180\")]), Catlab.Graphics.TikZ.Coordinate(\"3\", \"3\"), Catlab.Graphics.TikZ.PathOperation(\"to\", Catlab.Graphics.TikZ.Property[Catlab.Graphics.TikZ.Property(\"out\", \"0\"), Catlab.Graphics.TikZ.Property(\"in\", \"180\")]), Catlab.Graphics.TikZ.NodeCoordinate(\"\\$(root.east)+(0,3)\\$\")], Catlab.Graphics.TikZ.Property[Catlab.Graphics.TikZ.Property(\"wire\", nothing)])], Catlab.Graphics.TikZ.Property[Catlab.Graphics.TikZ.Property(\"unit length/.code\", \"{{\\\\newdimen\\\\tikzunit}\\\\setlength{\\\\tikzunit}{#1}}\"), Catlab.Graphics.TikZ.Property(\"unit length\", \"4mm\"), Catlab.Graphics.TikZ.Property(\"x\", \"\\\\tikzunit\"), Catlab.Graphics.TikZ.Property(\"y\", \"\\\\tikzunit\"), Catlab.Graphics.TikZ.Property(\"semithick\", nothing), Catlab.Graphics.TikZ.Property(\"box/.style\", Catlab.Graphics.TikZ.Property[Catlab.Graphics.TikZ.Property(\"rectangle\", nothing), Catlab.Graphics.TikZ.Property(\"draw\", nothing), Catlab.Graphics.TikZ.Property(\"solid\", nothing), Catlab.Graphics.TikZ.Property(\"rounded corners\", nothing)]), Catlab.Graphics.TikZ.Property(\"invisible/.style\", Catlab.Graphics.TikZ.Property[Catlab.Graphics.TikZ.Property(\"draw\", \"none\"), Catlab.Graphics.TikZ.Property(\"inner sep\", \"0\")]), Catlab.Graphics.TikZ.Property(\"outer box/.style\", Catlab.Graphics.TikZ.Property[Catlab.Graphics.TikZ.Property(\"draw\", \"none\")]), Catlab.Graphics.TikZ.Property(\"wire/.style\", Catlab.Graphics.TikZ.Property[Catlab.Graphics.TikZ.Property(\"draw\", nothing)])]), [\"calc\", \"shapes.geometric\"], [\"amssymb\"])"
      ]
     },
     "execution_count": 19,
     "metadata": {},
     "output_type": "execute_result"
    }
   ],
   "source": [
    "A, B = Ob(FreeBicategoryRelations, :A, :B)\n",
    "f = Hom(:f, A, B)\n",
    "\n",
    "to_tikz((dunit(A) ⊗ id(B)) ⋅ (id(A) ⊗ f ⊗ id(B)) ⋅ (id(A) ⊗ dcounit(B)))"
   ]
  },
  {
   "cell_type": "markdown",
   "metadata": {},
   "source": [
    "### Abelian bicategory of relations"
   ]
  },
  {
   "cell_type": "markdown",
   "metadata": {},
   "source": [
    "In an abelian bicategory of relations, such as the category of linear\n",
    "relations, the duplication morphisms $\\Delta_X: X \\to X \\oplus X$ and addition\n",
    "morphisms $\\blacktriangledown_X: X \\oplus X \\to X$ belong to a bimonoid. Among\n",
    "other things, this means that the following two morphisms are equal."
   ]
  },
  {
   "cell_type": "code",
   "execution_count": 20,
   "metadata": {},
   "outputs": [
    {
     "data": {
      "image/svg+xml": [
       "<?xml version=\"1.0\" encoding=\"UTF-8\"?>\n",
       "<svg xmlns=\"http://www.w3.org/2000/svg\" xmlns:xlink=\"http://www.w3.org/1999/xlink\" width=\"80.565\" height=\"79.37\" viewBox=\"0 0 80.565 79.37\">\n",
       "<defs>\n",
       "<clipPath id=\"clip-1717857318698403--0\">\n",
       "<path clip-rule=\"nonzero\" d=\"M 0.101562 14 L 32 14 L 32 47 L 0.101562 47 Z M 0.101562 14 \"/>\n",
       "</clipPath>\n",
       "<clipPath id=\"clip-1717857318698403--1\">\n",
       "<path clip-rule=\"nonzero\" d=\"M 0.101562 32 L 32 32 L 32 65 L 0.101562 65 Z M 0.101562 32 \"/>\n",
       "</clipPath>\n",
       "<clipPath id=\"clip-1717857318698403--2\">\n",
       "<path clip-rule=\"nonzero\" d=\"M 48 14 L 80.03125 14 L 80.03125 47 L 48 47 Z M 48 14 \"/>\n",
       "</clipPath>\n",
       "<clipPath id=\"clip-1717857318698403--3\">\n",
       "<path clip-rule=\"nonzero\" d=\"M 48 32 L 80.03125 32 L 80.03125 65 L 48 65 Z M 48 32 \"/>\n",
       "</clipPath>\n",
       "</defs>\n",
       "<path fill=\"none\" stroke-width=\"0.59776\" stroke-linecap=\"butt\" stroke-linejoin=\"miter\" stroke=\"rgb(0%, 0%, 0%)\" stroke-opacity=\"1\" stroke-miterlimit=\"10\" d=\"M -11.340106 0.00139788 C -11.340106 1.564488 -12.607902 2.836222 -14.17493 2.836222 C -15.738021 2.836222 -17.009754 1.564488 -17.009754 0.00139788 C -17.009754 -1.56563 -15.738021 -2.833426 -14.17493 -2.833426 C -12.607902 -2.833426 -11.340106 -1.56563 -11.340106 0.00139788 Z M -11.340106 0.00139788 \" transform=\"matrix(0.992125, 0, 0, -0.992125, 40.067209, 39.372481)\"/>\n",
       "<path fill-rule=\"nonzero\" fill=\"rgb(0%, 0%, 0%)\" fill-opacity=\"1\" stroke-width=\"0.59776\" stroke-linecap=\"butt\" stroke-linejoin=\"miter\" stroke=\"rgb(0%, 0%, 0%)\" stroke-opacity=\"1\" stroke-miterlimit=\"10\" d=\"M 17.008136 0.00139788 C 17.008136 1.564488 15.74034 2.836222 14.173312 2.836222 C 12.606284 2.836222 11.338488 1.564488 11.338488 0.00139788 C 11.338488 -1.56563 12.606284 -2.833426 14.173312 -2.833426 C 15.74034 -2.833426 17.008136 -1.56563 17.008136 0.00139788 Z M 17.008136 0.00139788 \" transform=\"matrix(0.992125, 0, 0, -0.992125, 40.067209, 39.372481)\"/>\n",
       "<g clip-path=\"url(#clip-1717857318698403--0)\">\n",
       "<path fill=\"none\" stroke-width=\"0.59776\" stroke-linecap=\"butt\" stroke-linejoin=\"miter\" stroke=\"rgb(0%, 0%, 0%)\" stroke-opacity=\"1\" stroke-miterlimit=\"10\" d=\"M -39.983643 17.006406 C -29.116816 17.006406 -26.297741 7.001839 -16.8877 1.568426 \" transform=\"matrix(0.992125, 0, 0, -0.992125, 40.067209, 39.372481)\"/>\n",
       "</g>\n",
       "<g clip-path=\"url(#clip-1717857318698403--1)\">\n",
       "<path fill=\"none\" stroke-width=\"0.59776\" stroke-linecap=\"butt\" stroke-linejoin=\"miter\" stroke=\"rgb(0%, 0%, 0%)\" stroke-opacity=\"1\" stroke-miterlimit=\"10\" d=\"M -39.983643 -17.007548 C -29.116816 -17.007548 -26.297741 -6.999043 -16.8877 -1.56563 \" transform=\"matrix(0.992125, 0, 0, -0.992125, 40.067209, 39.372481)\"/>\n",
       "</g>\n",
       "<path fill=\"none\" stroke-width=\"0.59776\" stroke-linecap=\"butt\" stroke-linejoin=\"miter\" stroke=\"rgb(0%, 0%, 0%)\" stroke-opacity=\"1\" stroke-miterlimit=\"10\" d=\"M -11.040875 0.00139788 C -2.430096 0.00139788 2.428478 0.00139788 11.039257 0.00139788 \" transform=\"matrix(0.992125, 0, 0, -0.992125, 40.067209, 39.372481)\"/>\n",
       "<g clip-path=\"url(#clip-1717857318698403--2)\">\n",
       "<path fill=\"none\" stroke-width=\"0.59776\" stroke-linecap=\"butt\" stroke-linejoin=\"miter\" stroke=\"rgb(0%, 0%, 0%)\" stroke-opacity=\"1\" stroke-miterlimit=\"10\" d=\"M 16.886082 1.568426 C 26.30006 7.001839 29.115198 17.006406 39.985962 17.006406 \" transform=\"matrix(0.992125, 0, 0, -0.992125, 40.067209, 39.372481)\"/>\n",
       "</g>\n",
       "<g clip-path=\"url(#clip-1717857318698403--3)\">\n",
       "<path fill=\"none\" stroke-width=\"0.59776\" stroke-linecap=\"butt\" stroke-linejoin=\"miter\" stroke=\"rgb(0%, 0%, 0%)\" stroke-opacity=\"1\" stroke-miterlimit=\"10\" d=\"M 16.886082 -1.56563 C 26.30006 -6.999043 29.115198 -17.007548 39.985962 -17.007548 \" transform=\"matrix(0.992125, 0, 0, -0.992125, 40.067209, 39.372481)\"/>\n",
       "</g>\n",
       "</svg>\n",
       "\n"
      ],
      "text/plain": [
       "Catlab.Graphics.TikZ.Document(Catlab.Graphics.TikZ.Picture(Catlab.Graphics.TikZ.Statement[Catlab.Graphics.TikZ.Node(\"root\", Catlab.Graphics.TikZ.Property[Catlab.Graphics.TikZ.Property(\"outer box\", nothing), Catlab.Graphics.TikZ.Property(\"minimum size\", \"7\\\\tikzunit\")], Catlab.Graphics.TikZ.Coordinate(\"0\", \"0\"), \"\"), Catlab.Graphics.TikZ.Node(\"n1\", Catlab.Graphics.TikZ.Property[Catlab.Graphics.TikZ.Property(\"variant junction\", nothing), Catlab.Graphics.TikZ.Property(\"minimum size\", \"0.5\\\\tikzunit\")], Catlab.Graphics.TikZ.Coordinate(\"-1.25\", \"0\"), \"\"), Catlab.Graphics.TikZ.Node(\"n2\", Catlab.Graphics.TikZ.Property[Catlab.Graphics.TikZ.Property(\"junction\", nothing), Catlab.Graphics.TikZ.Property(\"minimum size\", \"0.5\\\\tikzunit\")], Catlab.Graphics.TikZ.Coordinate(\"1.25\", \"0\"), \"\"), Catlab.Graphics.TikZ.Edge(Catlab.Graphics.TikZ.PathExpression[Catlab.Graphics.TikZ.NodeCoordinate(\"\\$(root.west)+(-0.0,1.5)\\$\"), Catlab.Graphics.TikZ.PathOperation(\"to\", Catlab.Graphics.TikZ.Property[Catlab.Graphics.TikZ.Property(\"out\", \"0\"), Catlab.Graphics.TikZ.Property(\"in\", \"150\")]), Catlab.Graphics.TikZ.NodeCoordinate(\"n1.150\")], Catlab.Graphics.TikZ.Property[Catlab.Graphics.TikZ.Property(\"wire\", nothing)]), Catlab.Graphics.TikZ.Edge(Catlab.Graphics.TikZ.PathExpression[Catlab.Graphics.TikZ.NodeCoordinate(\"\\$(root.west)+(-0.0,-1.5)\\$\"), Catlab.Graphics.TikZ.PathOperation(\"to\", Catlab.Graphics.TikZ.Property[Catlab.Graphics.TikZ.Property(\"out\", \"0\"), Catlab.Graphics.TikZ.Property(\"in\", \"-150\")]), Catlab.Graphics.TikZ.NodeCoordinate(\"n1.-150\")], Catlab.Graphics.TikZ.Property[Catlab.Graphics.TikZ.Property(\"wire\", nothing)]), Catlab.Graphics.TikZ.Edge(Catlab.Graphics.TikZ.PathExpression[Catlab.Graphics.TikZ.NodeCoordinate(\"n1.0\"), Catlab.Graphics.TikZ.PathOperation(\"to\", Catlab.Graphics.TikZ.Property[Catlab.Graphics.TikZ.Property(\"out\", \"0\"), Catlab.Graphics.TikZ.Property(\"in\", \"180\")]), Catlab.Graphics.TikZ.NodeCoordinate(\"n2.180\")], Catlab.Graphics.TikZ.Property[Catlab.Graphics.TikZ.Property(\"wire\", nothing)]), Catlab.Graphics.TikZ.Edge(Catlab.Graphics.TikZ.PathExpression[Catlab.Graphics.TikZ.NodeCoordinate(\"n2.30\"), Catlab.Graphics.TikZ.PathOperation(\"to\", Catlab.Graphics.TikZ.Property[Catlab.Graphics.TikZ.Property(\"out\", \"30\"), Catlab.Graphics.TikZ.Property(\"in\", \"180\")]), Catlab.Graphics.TikZ.NodeCoordinate(\"\\$(root.east)+(0.0,1.5)\\$\")], Catlab.Graphics.TikZ.Property[Catlab.Graphics.TikZ.Property(\"wire\", nothing)]), Catlab.Graphics.TikZ.Edge(Catlab.Graphics.TikZ.PathExpression[Catlab.Graphics.TikZ.NodeCoordinate(\"n2.-30\"), Catlab.Graphics.TikZ.PathOperation(\"to\", Catlab.Graphics.TikZ.Property[Catlab.Graphics.TikZ.Property(\"out\", \"-30\"), Catlab.Graphics.TikZ.Property(\"in\", \"180\")]), Catlab.Graphics.TikZ.NodeCoordinate(\"\\$(root.east)+(0.0,-1.5)\\$\")], Catlab.Graphics.TikZ.Property[Catlab.Graphics.TikZ.Property(\"wire\", nothing)])], Catlab.Graphics.TikZ.Property[Catlab.Graphics.TikZ.Property(\"unit length/.code\", \"{{\\\\newdimen\\\\tikzunit}\\\\setlength{\\\\tikzunit}{#1}}\"), Catlab.Graphics.TikZ.Property(\"unit length\", \"4mm\"), Catlab.Graphics.TikZ.Property(\"x\", \"\\\\tikzunit\"), Catlab.Graphics.TikZ.Property(\"y\", \"\\\\tikzunit\"), Catlab.Graphics.TikZ.Property(\"semithick\", nothing), Catlab.Graphics.TikZ.Property(\"junction/.style\", Catlab.Graphics.TikZ.Property[Catlab.Graphics.TikZ.Property(\"circle\", nothing), Catlab.Graphics.TikZ.Property(\"draw\", nothing), Catlab.Graphics.TikZ.Property(\"fill\", nothing), Catlab.Graphics.TikZ.Property(\"inner sep\", \"0\")]), Catlab.Graphics.TikZ.Property(\"outer box/.style\", Catlab.Graphics.TikZ.Property[Catlab.Graphics.TikZ.Property(\"draw\", \"none\")]), Catlab.Graphics.TikZ.Property(\"variant junction/.style\", Catlab.Graphics.TikZ.Property[Catlab.Graphics.TikZ.Property(\"circle\", nothing), Catlab.Graphics.TikZ.Property(\"draw\", nothing), Catlab.Graphics.TikZ.Property(\"solid\", nothing), Catlab.Graphics.TikZ.Property(\"inner sep\", \"0\")]), Catlab.Graphics.TikZ.Property(\"wire/.style\", Catlab.Graphics.TikZ.Property[Catlab.Graphics.TikZ.Property(\"draw\", nothing)])]), [\"calc\", \"shapes.geometric\"], [\"amssymb\"])"
      ]
     },
     "execution_count": 20,
     "metadata": {},
     "output_type": "execute_result"
    }
   ],
   "source": [
    "X = Ob(FreeAbelianBicategoryRelations, :X)\n",
    "\n",
    "to_tikz(plus(X) ⋅ mcopy(X))"
   ]
  },
  {
   "cell_type": "code",
   "execution_count": 21,
   "metadata": {},
   "outputs": [
    {
     "data": {
      "image/svg+xml": [
       "<?xml version=\"1.0\" encoding=\"UTF-8\"?>\n",
       "<svg xmlns=\"http://www.w3.org/2000/svg\" xmlns:xlink=\"http://www.w3.org/1999/xlink\" width=\"103.243\" height=\"147.401\" viewBox=\"0 0 103.243 147.401\">\n",
       "<defs>\n",
       "<clipPath id=\"clip-1717857318698404--0\">\n",
       "<path clip-rule=\"nonzero\" d=\"M 71 31 L 102.492188 31 L 102.492188 49 L 71 49 Z M 71 31 \"/>\n",
       "</clipPath>\n",
       "<clipPath id=\"clip-1717857318698404--1\">\n",
       "<path clip-rule=\"nonzero\" d=\"M 71 98 L 102.492188 98 L 102.492188 116 L 71 116 Z M 71 98 \"/>\n",
       "</clipPath>\n",
       "</defs>\n",
       "<path fill-rule=\"nonzero\" fill=\"rgb(0%, 0%, 0%)\" fill-opacity=\"1\" stroke-width=\"0.59776\" stroke-linecap=\"butt\" stroke-linejoin=\"miter\" stroke=\"rgb(0%, 0%, 0%)\" stroke-opacity=\"1\" stroke-miterlimit=\"10\" d=\"M -22.675938 34.017479 C -22.675938 35.583566 -23.946908 36.850601 -25.512995 36.850601 C -27.079082 36.850601 -28.346117 35.583566 -28.346117 34.017479 C -28.346117 32.451392 -27.079082 31.180422 -25.512995 31.180422 C -23.946908 31.180422 -22.675938 32.451392 -22.675938 34.017479 Z M -22.675938 34.017479 \" transform=\"matrix(0.992721, 0, 0, -0.992721, 51.245259, 73.402684)\"/>\n",
       "<path fill-rule=\"nonzero\" fill=\"rgb(0%, 0%, 0%)\" fill-opacity=\"1\" stroke-width=\"0.59776\" stroke-linecap=\"butt\" stroke-linejoin=\"miter\" stroke=\"rgb(0%, 0%, 0%)\" stroke-opacity=\"1\" stroke-miterlimit=\"10\" d=\"M -22.675938 -34.016794 C -22.675938 -32.450708 -23.946908 -31.179738 -25.512995 -31.179738 C -27.079082 -31.179738 -28.346117 -32.450708 -28.346117 -34.016794 C -28.346117 -35.582881 -27.079082 -36.849916 -25.512995 -36.849916 C -23.946908 -36.849916 -22.675938 -35.582881 -22.675938 -34.016794 Z M -22.675938 -34.016794 \" transform=\"matrix(0.992721, 0, 0, -0.992721, 51.245259, 73.402684)\"/>\n",
       "<path fill=\"none\" stroke-width=\"0.59776\" stroke-linecap=\"butt\" stroke-linejoin=\"miter\" stroke=\"rgb(0%, 0%, 0%)\" stroke-opacity=\"1\" stroke-miterlimit=\"10\" d=\"M 28.347799 34.017479 C 28.347799 35.583566 27.076829 36.850601 25.510743 36.850601 C 23.944656 36.850601 22.677621 35.583566 22.677621 34.017479 C 22.677621 32.451392 23.944656 31.180422 25.510743 31.180422 C 27.076829 31.180422 28.347799 32.451392 28.347799 34.017479 Z M 28.347799 34.017479 \" transform=\"matrix(0.992721, 0, 0, -0.992721, 51.245259, 73.402684)\"/>\n",
       "<path fill=\"none\" stroke-width=\"0.59776\" stroke-linecap=\"butt\" stroke-linejoin=\"miter\" stroke=\"rgb(0%, 0%, 0%)\" stroke-opacity=\"1\" stroke-miterlimit=\"10\" d=\"M 28.347799 -34.016794 C 28.347799 -32.450708 27.076829 -31.179738 25.510743 -31.179738 C 23.944656 -31.179738 22.677621 -32.450708 22.677621 -34.016794 C 22.677621 -35.582881 23.944656 -36.849916 25.510743 -36.849916 C 27.076829 -36.849916 28.347799 -35.582881 28.347799 -34.016794 Z M 28.347799 -34.016794 \" transform=\"matrix(0.992721, 0, 0, -0.992721, 51.245259, 73.402684)\"/>\n",
       "<path fill=\"none\" stroke-width=\"0.59776\" stroke-linecap=\"butt\" stroke-linejoin=\"miter\" stroke=\"rgb(0%, 0%, 0%)\" stroke-opacity=\"1\" stroke-miterlimit=\"10\" d=\"M -51.321948 34.017479 C -42.480247 34.017479 -37.490805 34.017479 -28.645169 34.017479 \" transform=\"matrix(0.992721, 0, 0, -0.992721, 51.245259, 73.402684)\"/>\n",
       "<path fill=\"none\" stroke-width=\"0.59776\" stroke-linecap=\"butt\" stroke-linejoin=\"miter\" stroke=\"rgb(0%, 0%, 0%)\" stroke-opacity=\"1\" stroke-miterlimit=\"10\" d=\"M -51.321948 -34.016794 C -42.480247 -34.016794 -37.490805 -34.016794 -28.645169 -34.016794 \" transform=\"matrix(0.992721, 0, 0, -0.992721, 51.245259, 73.402684)\"/>\n",
       "<path fill=\"none\" stroke-width=\"0.59776\" stroke-linecap=\"butt\" stroke-linejoin=\"miter\" stroke=\"rgb(0%, 0%, 0%)\" stroke-opacity=\"1\" stroke-miterlimit=\"10\" d=\"M -22.79792 -35.582881 C -13.464357 -40.969748 -10.776827 -51.023395 0.00084119 -51.023395 C 10.778509 -51.023395 13.46604 -40.969748 22.799602 -35.582881 \" transform=\"matrix(0.992721, 0, 0, -0.992721, 51.245259, 73.402684)\"/>\n",
       "<path fill=\"none\" stroke-width=\"0.59776\" stroke-linecap=\"butt\" stroke-linejoin=\"miter\" stroke=\"rgb(0%, 0%, 0%)\" stroke-opacity=\"1\" stroke-miterlimit=\"10\" d=\"M -22.79792 35.583566 C -13.464357 40.970432 -10.776827 51.02408 0.00084119 51.02408 C 10.778509 51.02408 13.46604 40.970432 22.799602 35.583566 \" transform=\"matrix(0.992721, 0, 0, -0.992721, 51.245259, 73.402684)\"/>\n",
       "<path fill=\"none\" stroke-width=\"0.59776\" stroke-linecap=\"butt\" stroke-linejoin=\"miter\" stroke=\"rgb(0%, 0%, 0%)\" stroke-opacity=\"1\" stroke-miterlimit=\"10\" d=\"M -22.79792 32.451392 C 4.026235 16.96366 -4.024553 -16.962975 22.799602 -32.450708 \" transform=\"matrix(0.992721, 0, 0, -0.992721, 51.245259, 73.402684)\"/>\n",
       "<path fill=\"none\" stroke-width=\"0.59776\" stroke-linecap=\"butt\" stroke-linejoin=\"miter\" stroke=\"rgb(0%, 0%, 0%)\" stroke-opacity=\"1\" stroke-miterlimit=\"10\" d=\"M -22.79792 -32.450708 C 4.026235 -16.962975 -4.024553 16.96366 22.799602 32.451392 \" transform=\"matrix(0.992721, 0, 0, -0.992721, 51.245259, 73.402684)\"/>\n",
       "<g clip-path=\"url(#clip-1717857318698404--0)\">\n",
       "<path fill=\"none\" stroke-width=\"0.59776\" stroke-linecap=\"butt\" stroke-linejoin=\"miter\" stroke=\"rgb(0%, 0%, 0%)\" stroke-opacity=\"1\" stroke-miterlimit=\"10\" d=\"M 28.646851 34.017479 C 37.488552 34.017479 42.477995 34.017479 51.323631 34.017479 \" transform=\"matrix(0.992721, 0, 0, -0.992721, 51.245259, 73.402684)\"/>\n",
       "</g>\n",
       "<g clip-path=\"url(#clip-1717857318698404--1)\">\n",
       "<path fill=\"none\" stroke-width=\"0.59776\" stroke-linecap=\"butt\" stroke-linejoin=\"miter\" stroke=\"rgb(0%, 0%, 0%)\" stroke-opacity=\"1\" stroke-miterlimit=\"10\" d=\"M 28.646851 -34.016794 C 37.488552 -34.016794 42.477995 -34.016794 51.323631 -34.016794 \" transform=\"matrix(0.992721, 0, 0, -0.992721, 51.245259, 73.402684)\"/>\n",
       "</g>\n",
       "</svg>\n",
       "\n"
      ],
      "text/plain": [
       "Catlab.Graphics.TikZ.Document(Catlab.Graphics.TikZ.Picture(Catlab.Graphics.TikZ.Statement[Catlab.Graphics.TikZ.Node(\"root\", Catlab.Graphics.TikZ.Property[Catlab.Graphics.TikZ.Property(\"outer box\", nothing), Catlab.Graphics.TikZ.Property(\"minimum width\", \"9\\\\tikzunit\"), Catlab.Graphics.TikZ.Property(\"minimum height\", \"13\\\\tikzunit\")], Catlab.Graphics.TikZ.Coordinate(\"0\", \"0\"), \"\"), Catlab.Graphics.TikZ.Node(\"n1\", Catlab.Graphics.TikZ.Property[Catlab.Graphics.TikZ.Property(\"junction\", nothing), Catlab.Graphics.TikZ.Property(\"minimum size\", \"0.5\\\\tikzunit\")], Catlab.Graphics.TikZ.Coordinate(\"-2.25\", \"3\"), \"\"), Catlab.Graphics.TikZ.Node(\"n2\", Catlab.Graphics.TikZ.Property[Catlab.Graphics.TikZ.Property(\"junction\", nothing), Catlab.Graphics.TikZ.Property(\"minimum size\", \"0.5\\\\tikzunit\")], Catlab.Graphics.TikZ.Coordinate(\"-2.25\", \"-3\"), \"\"), Catlab.Graphics.TikZ.Node(\"n3\", Catlab.Graphics.TikZ.Property[Catlab.Graphics.TikZ.Property(\"variant junction\", nothing), Catlab.Graphics.TikZ.Property(\"minimum size\", \"0.5\\\\tikzunit\")], Catlab.Graphics.TikZ.Coordinate(\"2.25\", \"3\"), \"\"), Catlab.Graphics.TikZ.Node(\"n4\", Catlab.Graphics.TikZ.Property[Catlab.Graphics.TikZ.Property(\"variant junction\", nothing), Catlab.Graphics.TikZ.Property(\"minimum size\", \"0.5\\\\tikzunit\")], Catlab.Graphics.TikZ.Coordinate(\"2.25\", \"-3\"), \"\"), Catlab.Graphics.TikZ.Edge(Catlab.Graphics.TikZ.PathExpression[Catlab.Graphics.TikZ.NodeCoordinate(\"\\$(root.west)+(-0.0,3)\\$\"), Catlab.Graphics.TikZ.PathOperation(\"to\", Catlab.Graphics.TikZ.Property[Catlab.Graphics.TikZ.Property(\"out\", \"0\"), Catlab.Graphics.TikZ.Property(\"in\", \"180\")]), Catlab.Graphics.TikZ.NodeCoordinate(\"n1.180\")], Catlab.Graphics.TikZ.Property[Catlab.Graphics.TikZ.Property(\"wire\", nothing)]), Catlab.Graphics.TikZ.Edge(Catlab.Graphics.TikZ.PathExpression[Catlab.Graphics.TikZ.NodeCoordinate(\"\\$(root.west)+(-0.0,-3)\\$\"), Catlab.Graphics.TikZ.PathOperation(\"to\", Catlab.Graphics.TikZ.Property[Catlab.Graphics.TikZ.Property(\"out\", \"0\"), Catlab.Graphics.TikZ.Property(\"in\", \"180\")]), Catlab.Graphics.TikZ.NodeCoordinate(\"n2.180\")], Catlab.Graphics.TikZ.Property[Catlab.Graphics.TikZ.Property(\"wire\", nothing)]), Catlab.Graphics.TikZ.Edge(Catlab.Graphics.TikZ.PathExpression[Catlab.Graphics.TikZ.NodeCoordinate(\"n2.-30\"), Catlab.Graphics.TikZ.PathOperation(\"to\", Catlab.Graphics.TikZ.Property[Catlab.Graphics.TikZ.Property(\"out\", \"-30\"), Catlab.Graphics.TikZ.Property(\"in\", \"180\")]), Catlab.Graphics.TikZ.Coordinate(\"0\", \"-4.5\"), Catlab.Graphics.TikZ.PathOperation(\"to\", Catlab.Graphics.TikZ.Property[Catlab.Graphics.TikZ.Property(\"out\", \"0\"), Catlab.Graphics.TikZ.Property(\"in\", \"-150\")]), Catlab.Graphics.TikZ.NodeCoordinate(\"n4.-150\")], Catlab.Graphics.TikZ.Property[Catlab.Graphics.TikZ.Property(\"wire\", nothing)]), Catlab.Graphics.TikZ.Edge(Catlab.Graphics.TikZ.PathExpression[Catlab.Graphics.TikZ.NodeCoordinate(\"n1.30\"), Catlab.Graphics.TikZ.PathOperation(\"to\", Catlab.Graphics.TikZ.Property[Catlab.Graphics.TikZ.Property(\"out\", \"30\"), Catlab.Graphics.TikZ.Property(\"in\", \"180\")]), Catlab.Graphics.TikZ.Coordinate(\"0\", \"4.5\"), Catlab.Graphics.TikZ.PathOperation(\"to\", Catlab.Graphics.TikZ.Property[Catlab.Graphics.TikZ.Property(\"out\", \"0\"), Catlab.Graphics.TikZ.Property(\"in\", \"150\")]), Catlab.Graphics.TikZ.NodeCoordinate(\"n3.150\")], Catlab.Graphics.TikZ.Property[Catlab.Graphics.TikZ.Property(\"wire\", nothing)]), Catlab.Graphics.TikZ.Edge(Catlab.Graphics.TikZ.PathExpression[Catlab.Graphics.TikZ.NodeCoordinate(\"n1.-30\"), Catlab.Graphics.TikZ.PathOperation(\"to\", Catlab.Graphics.TikZ.Property[Catlab.Graphics.TikZ.Property(\"out\", \"-30\"), Catlab.Graphics.TikZ.Property(\"in\", \"150\")]), Catlab.Graphics.TikZ.NodeCoordinate(\"n4.150\")], Catlab.Graphics.TikZ.Property[Catlab.Graphics.TikZ.Property(\"wire\", nothing)]), Catlab.Graphics.TikZ.Edge(Catlab.Graphics.TikZ.PathExpression[Catlab.Graphics.TikZ.NodeCoordinate(\"n2.30\"), Catlab.Graphics.TikZ.PathOperation(\"to\", Catlab.Graphics.TikZ.Property[Catlab.Graphics.TikZ.Property(\"out\", \"30\"), Catlab.Graphics.TikZ.Property(\"in\", \"-150\")]), Catlab.Graphics.TikZ.NodeCoordinate(\"n3.-150\")], Catlab.Graphics.TikZ.Property[Catlab.Graphics.TikZ.Property(\"wire\", nothing)]), Catlab.Graphics.TikZ.Edge(Catlab.Graphics.TikZ.PathExpression[Catlab.Graphics.TikZ.NodeCoordinate(\"n3.0\"), Catlab.Graphics.TikZ.PathOperation(\"to\", Catlab.Graphics.TikZ.Property[Catlab.Graphics.TikZ.Property(\"out\", \"0\"), Catlab.Graphics.TikZ.Property(\"in\", \"180\")]), Catlab.Graphics.TikZ.NodeCoordinate(\"\\$(root.east)+(0.0,3)\\$\")], Catlab.Graphics.TikZ.Property[Catlab.Graphics.TikZ.Property(\"wire\", nothing)]), Catlab.Graphics.TikZ.Edge(Catlab.Graphics.TikZ.PathExpression[Catlab.Graphics.TikZ.NodeCoordinate(\"n4.0\"), Catlab.Graphics.TikZ.PathOperation(\"to\", Catlab.Graphics.TikZ.Property[Catlab.Graphics.TikZ.Property(\"out\", \"0\"), Catlab.Graphics.TikZ.Property(\"in\", \"180\")]), Catlab.Graphics.TikZ.NodeCoordinate(\"\\$(root.east)+(0.0,-3)\\$\")], Catlab.Graphics.TikZ.Property[Catlab.Graphics.TikZ.Property(\"wire\", nothing)])], Catlab.Graphics.TikZ.Property[Catlab.Graphics.TikZ.Property(\"unit length/.code\", \"{{\\\\newdimen\\\\tikzunit}\\\\setlength{\\\\tikzunit}{#1}}\"), Catlab.Graphics.TikZ.Property(\"unit length\", \"4mm\"), Catlab.Graphics.TikZ.Property(\"x\", \"\\\\tikzunit\"), Catlab.Graphics.TikZ.Property(\"y\", \"\\\\tikzunit\"), Catlab.Graphics.TikZ.Property(\"semithick\", nothing), Catlab.Graphics.TikZ.Property(\"junction/.style\", Catlab.Graphics.TikZ.Property[Catlab.Graphics.TikZ.Property(\"circle\", nothing), Catlab.Graphics.TikZ.Property(\"draw\", nothing), Catlab.Graphics.TikZ.Property(\"fill\", nothing), Catlab.Graphics.TikZ.Property(\"inner sep\", \"0\")]), Catlab.Graphics.TikZ.Property(\"outer box/.style\", Catlab.Graphics.TikZ.Property[Catlab.Graphics.TikZ.Property(\"draw\", \"none\")]), Catlab.Graphics.TikZ.Property(\"variant junction/.style\", Catlab.Graphics.TikZ.Property[Catlab.Graphics.TikZ.Property(\"circle\", nothing), Catlab.Graphics.TikZ.Property(\"draw\", nothing), Catlab.Graphics.TikZ.Property(\"solid\", nothing), Catlab.Graphics.TikZ.Property(\"inner sep\", \"0\")]), Catlab.Graphics.TikZ.Property(\"wire/.style\", Catlab.Graphics.TikZ.Property[Catlab.Graphics.TikZ.Property(\"draw\", nothing)])]), [\"calc\", \"shapes.geometric\"], [\"amssymb\"])"
      ]
     },
     "execution_count": 21,
     "metadata": {},
     "output_type": "execute_result"
    }
   ],
   "source": [
    "to_tikz((mcopy(X)⊕mcopy(X)) ⋅ (id(X)⊕swap(X,X)⊕id(X)) ⋅ (plus(X)⊕plus(X)))"
   ]
  },
  {
   "cell_type": "markdown",
   "metadata": {},
   "source": [
    "## Custom styles"
   ]
  },
  {
   "cell_type": "markdown",
   "metadata": {},
   "source": [
    "The visual appearance of wiring diagrams can be customized using the builtin\n",
    "options or by redefining the TikZ styles for the boxes or wires."
   ]
  },
  {
   "cell_type": "code",
   "execution_count": 22,
   "metadata": {},
   "outputs": [
    {
     "data": {
      "image/svg+xml": [
       "<?xml version=\"1.0\" encoding=\"UTF-8\"?>\n",
       "<svg xmlns=\"http://www.w3.org/2000/svg\" xmlns:xlink=\"http://www.w3.org/1999/xlink\" width=\"114.581\" height=\"45.354\" viewBox=\"0 0 114.581 45.354\">\n",
       "<defs>\n",
       "<g>\n",
       "<g id=\"glyph-1717857318698405--0-0\">\n",
       "<path d=\"M 3.609375 -3.9375 L 4.453125 -3.9375 C 4.65625 -3.9375 4.75 -3.9375 4.75 -4.125 C 4.75 -4.234375 4.65625 -4.234375 4.484375 -4.234375 L 3.671875 -4.234375 L 3.875 -5.359375 C 3.90625 -5.5625 4.046875 -6.265625 4.109375 -6.375 C 4.203125 -6.5625 4.359375 -6.71875 4.5625 -6.71875 C 4.609375 -6.71875 4.859375 -6.71875 5.046875 -6.53125 C 4.625 -6.5 4.515625 -6.15625 4.515625 -6 C 4.515625 -5.78125 4.703125 -5.65625 4.890625 -5.65625 C 5.140625 -5.65625 5.421875 -5.875 5.421875 -6.25 C 5.421875 -6.703125 4.96875 -6.921875 4.5625 -6.921875 C 4.234375 -6.921875 3.609375 -6.75 3.328125 -5.78125 C 3.265625 -5.578125 3.234375 -5.46875 3 -4.234375 L 2.3125 -4.234375 C 2.125 -4.234375 2.03125 -4.234375 2.03125 -4.046875 C 2.03125 -3.9375 2.109375 -3.9375 2.296875 -3.9375 L 2.953125 -3.9375 L 2.21875 -0.046875 C 2.03125 0.90625 1.875 1.796875 1.359375 1.796875 C 1.3125 1.796875 1.078125 1.796875 0.890625 1.625 C 1.34375 1.59375 1.421875 1.234375 1.421875 1.09375 C 1.421875 0.859375 1.25 0.75 1.0625 0.75 C 0.8125 0.75 0.515625 0.96875 0.515625 1.34375 C 0.515625 1.78125 0.953125 2.015625 1.359375 2.015625 C 1.890625 2.015625 2.296875 1.4375 2.46875 1.0625 C 2.78125 0.4375 3 -0.75 3.015625 -0.8125 Z M 3.609375 -3.9375 \"/>\n",
       "</g>\n",
       "<g id=\"glyph-1717857318698405--0-1\">\n",
       "<path d=\"M 4.625 -3.703125 C 4.640625 -3.765625 4.65625 -3.8125 4.65625 -3.875 C 4.65625 -4.046875 4.546875 -4.140625 4.375 -4.140625 C 4.28125 -4.140625 4.015625 -4.078125 3.96875 -3.71875 C 3.796875 -4.09375 3.453125 -4.34375 3.0625 -4.34375 C 1.9375 -4.34375 0.71875 -2.96875 0.71875 -1.546875 C 0.71875 -0.578125 1.3125 0 2.03125 0 C 2.609375 0 3.0625 -0.46875 3.171875 -0.5625 C 2.96875 0.3125 2.84375 0.71875 2.84375 0.734375 C 2.8125 0.828125 2.484375 1.796875 1.4375 1.796875 C 1.25 1.796875 0.921875 1.78125 0.65625 1.703125 C 0.9375 1.609375 1.046875 1.359375 1.046875 1.1875 C 1.046875 1.03125 0.9375 0.84375 0.671875 0.84375 C 0.46875 0.84375 0.140625 1.015625 0.140625 1.421875 C 0.140625 1.8125 0.515625 2.015625 1.453125 2.015625 C 2.6875 2.015625 3.390625 1.25 3.53125 0.65625 Z M 3.34375 -1.265625 C 3.296875 -1 3.0625 -0.75 2.84375 -0.5625 C 2.640625 -0.390625 2.34375 -0.21875 2.046875 -0.21875 C 1.5625 -0.21875 1.421875 -0.734375 1.421875 -1.125 C 1.421875 -1.59375 1.703125 -2.75 1.96875 -3.25 C 2.234375 -3.734375 2.65625 -4.125 3.0625 -4.125 C 3.71875 -4.125 3.859375 -3.328125 3.859375 -3.28125 C 3.859375 -3.234375 3.828125 -3.171875 3.828125 -3.140625 Z M 3.34375 -1.265625 \"/>\n",
       "</g>\n",
       "</g>\n",
       "<clipPath id=\"clip-1717857318698405--0\">\n",
       "<path clip-rule=\"nonzero\" d=\"M 0.597656 14 L 32 14 L 32 31 L 0.597656 31 Z M 0.597656 14 \"/>\n",
       "</clipPath>\n",
       "<clipPath id=\"clip-1717857318698405--1\">\n",
       "<path clip-rule=\"nonzero\" d=\"M 82 14 L 113.570312 14 L 113.570312 31 L 82 31 Z M 82 14 \"/>\n",
       "</clipPath>\n",
       "</defs>\n",
       "<path fill-rule=\"nonzero\" fill=\"rgb(90.194702%, 90.194702%, 98.039246%)\" fill-opacity=\"1\" stroke-width=\"0.59776\" stroke-linecap=\"butt\" stroke-linejoin=\"miter\" stroke=\"rgb(0%, 0%, 0%)\" stroke-opacity=\"1\" stroke-miterlimit=\"10\" d=\"M -34.015253 -11.339776 L -11.337402 -11.339776 L -11.337402 11.338075 L -34.015253 11.338075 Z M -34.015253 -11.339776 \" transform=\"matrix(0.985957, 0, 0, -0.985957, 57.084435, 22.358536)\"/>\n",
       "<g fill=\"rgb(0%, 0%, 0%)\" fill-opacity=\"1\">\n",
       "<use xlink:href=\"#glyph-1717857318698405--0-0\" x=\"31.791692\" y=\"24.814554\"/>\n",
       "</g>\n",
       "<path fill-rule=\"nonzero\" fill=\"rgb(90.194702%, 90.194702%, 98.039246%)\" fill-opacity=\"1\" stroke-width=\"0.59776\" stroke-linecap=\"butt\" stroke-linejoin=\"miter\" stroke=\"rgb(0%, 0%, 0%)\" stroke-opacity=\"1\" stroke-miterlimit=\"10\" d=\"M 11.340449 -11.339776 L 34.014338 -11.339776 L 34.014338 11.338075 L 11.340449 11.338075 Z M 11.340449 -11.339776 \" transform=\"matrix(0.985957, 0, 0, -0.985957, 57.084435, 22.358536)\"/>\n",
       "<g fill=\"rgb(0%, 0%, 0%)\" fill-opacity=\"1\">\n",
       "<use xlink:href=\"#glyph-1717857318698405--0-1\" x=\"76.923852\" y=\"23.518021\"/>\n",
       "</g>\n",
       "<g clip-path=\"url(#clip-1717857318698405--0)\">\n",
       "<path fill=\"none\" stroke-width=\"0.59776\" stroke-linecap=\"butt\" stroke-linejoin=\"miter\" stroke=\"rgb(0%, 0%, 0%)\" stroke-opacity=\"1\" stroke-miterlimit=\"10\" d=\"M -56.994207 -0.000850906 C -48.14731 -0.000850906 -43.159292 -0.000850906 -34.316356 -0.000850906 \" transform=\"matrix(0.985957, 0, 0, -0.985957, 57.084435, 22.358536)\"/>\n",
       "</g>\n",
       "<path fill=\"none\" stroke-width=\"0.59776\" stroke-linecap=\"butt\" stroke-linejoin=\"miter\" stroke=\"rgb(0%, 0%, 0%)\" stroke-opacity=\"1\" stroke-miterlimit=\"10\" d=\"M -11.04026 -0.000850906 C -2.431076 -0.000850906 2.430162 -0.000850906 11.039346 -0.000850906 \" transform=\"matrix(0.985957, 0, 0, -0.985957, 57.084435, 22.358536)\"/>\n",
       "<g clip-path=\"url(#clip-1717857318698405--1)\">\n",
       "<path fill=\"none\" stroke-width=\"0.59776\" stroke-linecap=\"butt\" stroke-linejoin=\"miter\" stroke=\"rgb(0%, 0%, 0%)\" stroke-opacity=\"1\" stroke-miterlimit=\"10\" d=\"M 34.315442 -0.000850906 C 43.158377 -0.000850906 48.150357 -0.000850906 56.993293 -0.000850906 \" transform=\"matrix(0.985957, 0, 0, -0.985957, 57.084435, 22.358536)\"/>\n",
       "</g>\n",
       "</svg>\n",
       "\n"
      ],
      "text/plain": [
       "Catlab.Graphics.TikZ.Document(Catlab.Graphics.TikZ.Picture(Catlab.Graphics.TikZ.Statement[Catlab.Graphics.TikZ.Node(\"root\", Catlab.Graphics.TikZ.Property[Catlab.Graphics.TikZ.Property(\"outer box\", nothing), Catlab.Graphics.TikZ.Property(\"minimum width\", \"10\\\\tikzunit\"), Catlab.Graphics.TikZ.Property(\"minimum height\", \"4\\\\tikzunit\")], Catlab.Graphics.TikZ.Coordinate(\"0\", \"0\"), \"\"), Catlab.Graphics.TikZ.Node(\"n1\", Catlab.Graphics.TikZ.Property[Catlab.Graphics.TikZ.Property(\"box\", nothing), Catlab.Graphics.TikZ.Property(\"minimum size\", \"2\\\\tikzunit\")], Catlab.Graphics.TikZ.Coordinate(\"-2\", \"0\"), \"\\$f\\$\"), Catlab.Graphics.TikZ.Node(\"n2\", Catlab.Graphics.TikZ.Property[Catlab.Graphics.TikZ.Property(\"box\", nothing), Catlab.Graphics.TikZ.Property(\"minimum size\", \"2\\\\tikzunit\")], Catlab.Graphics.TikZ.Coordinate(\"2\", \"0\"), \"\\$g\\$\"), Catlab.Graphics.TikZ.Edge(Catlab.Graphics.TikZ.PathExpression[Catlab.Graphics.TikZ.NodeCoordinate(\"root.west\"), Catlab.Graphics.TikZ.PathOperation(\"to\", Catlab.Graphics.TikZ.Property[Catlab.Graphics.TikZ.Property(\"out\", \"0\"), Catlab.Graphics.TikZ.Property(\"in\", \"-180\")]), Catlab.Graphics.TikZ.NodeCoordinate(\"n1.west\")], Catlab.Graphics.TikZ.Property[Catlab.Graphics.TikZ.Property(\"wire\", nothing)]), Catlab.Graphics.TikZ.Edge(Catlab.Graphics.TikZ.PathExpression[Catlab.Graphics.TikZ.NodeCoordinate(\"n1.east\"), Catlab.Graphics.TikZ.PathOperation(\"to\", Catlab.Graphics.TikZ.Property[Catlab.Graphics.TikZ.Property(\"out\", \"0\"), Catlab.Graphics.TikZ.Property(\"in\", \"-180\")]), Catlab.Graphics.TikZ.NodeCoordinate(\"n2.west\")], Catlab.Graphics.TikZ.Property[Catlab.Graphics.TikZ.Property(\"wire\", nothing)]), Catlab.Graphics.TikZ.Edge(Catlab.Graphics.TikZ.PathExpression[Catlab.Graphics.TikZ.NodeCoordinate(\"n2.east\"), Catlab.Graphics.TikZ.PathOperation(\"to\", Catlab.Graphics.TikZ.Property[Catlab.Graphics.TikZ.Property(\"out\", \"0\"), Catlab.Graphics.TikZ.Property(\"in\", \"180\")]), Catlab.Graphics.TikZ.NodeCoordinate(\"root.east\")], Catlab.Graphics.TikZ.Property[Catlab.Graphics.TikZ.Property(\"wire\", nothing)])], Catlab.Graphics.TikZ.Property[Catlab.Graphics.TikZ.Property(\"unit length/.code\", \"{{\\\\newdimen\\\\tikzunit}\\\\setlength{\\\\tikzunit}{#1}}\"), Catlab.Graphics.TikZ.Property(\"unit length\", \"4mm\"), Catlab.Graphics.TikZ.Property(\"x\", \"\\\\tikzunit\"), Catlab.Graphics.TikZ.Property(\"y\", \"\\\\tikzunit\"), Catlab.Graphics.TikZ.Property(\"semithick\", nothing), Catlab.Graphics.TikZ.Property(\"box/.style\", Catlab.Graphics.TikZ.Property[Catlab.Graphics.TikZ.Property(\"draw\", nothing), Catlab.Graphics.TikZ.Property(\"fill\", \"{rgb,255: red,230; green,230; blue,250}\")]), Catlab.Graphics.TikZ.Property(\"outer box/.style\", Catlab.Graphics.TikZ.Property[Catlab.Graphics.TikZ.Property(\"draw\", \"none\")]), Catlab.Graphics.TikZ.Property(\"wire/.style\", Catlab.Graphics.TikZ.Property[Catlab.Graphics.TikZ.Property(\"draw\", nothing)])]), [\"calc\", \"shapes.geometric\"], [\"amssymb\"])"
      ]
     },
     "execution_count": 22,
     "metadata": {},
     "output_type": "execute_result"
    }
   ],
   "source": [
    "A, B, = Ob(FreeSymmetricMonoidalCategory, :A, :B)\n",
    "f, g = Hom(:f, A, B), Hom(:g, B, A)\n",
    "\n",
    "pic = to_tikz(f⋅g, styles=Dict(\n",
    "  \"box\" => [\"draw\", \"fill\"=>\"{rgb,255: red,230; green,230; blue,250}\"],\n",
    "))"
   ]
  },
  {
   "cell_type": "code",
   "execution_count": 23,
   "metadata": {},
   "outputs": [
    {
     "data": {
      "image/svg+xml": [
       "<?xml version=\"1.0\" encoding=\"UTF-8\"?>\n",
       "<svg xmlns=\"http://www.w3.org/2000/svg\" xmlns:xlink=\"http://www.w3.org/1999/xlink\" width=\"80.565\" height=\"79.37\" viewBox=\"0 0 80.565 79.37\">\n",
       "<defs>\n",
       "<clipPath id=\"clip-1717857318698406--0\">\n",
       "<path clip-rule=\"nonzero\" d=\"M 0.101562 14 L 32 14 L 32 47 L 0.101562 47 Z M 0.101562 14 \"/>\n",
       "</clipPath>\n",
       "<clipPath id=\"clip-1717857318698406--1\">\n",
       "<path clip-rule=\"nonzero\" d=\"M 0.101562 32 L 32 32 L 32 65 L 0.101562 65 Z M 0.101562 32 \"/>\n",
       "</clipPath>\n",
       "<clipPath id=\"clip-1717857318698406--2\">\n",
       "<path clip-rule=\"nonzero\" d=\"M 48 14 L 80.03125 14 L 80.03125 47 L 48 47 Z M 48 14 \"/>\n",
       "</clipPath>\n",
       "<clipPath id=\"clip-1717857318698406--3\">\n",
       "<path clip-rule=\"nonzero\" d=\"M 48 32 L 80.03125 32 L 80.03125 65 L 48 65 Z M 48 32 \"/>\n",
       "</clipPath>\n",
       "</defs>\n",
       "<path fill-rule=\"nonzero\" fill=\"rgb(0%, 0%, 100%)\" fill-opacity=\"1\" stroke-width=\"0.59776\" stroke-linecap=\"butt\" stroke-linejoin=\"miter\" stroke=\"rgb(0%, 0%, 0%)\" stroke-opacity=\"1\" stroke-miterlimit=\"10\" d=\"M -11.340106 0.00139788 C -11.340106 1.564488 -12.607902 2.836222 -14.17493 2.836222 C -15.738021 2.836222 -17.009754 1.564488 -17.009754 0.00139788 C -17.009754 -1.56563 -15.738021 -2.833426 -14.17493 -2.833426 C -12.607902 -2.833426 -11.340106 -1.56563 -11.340106 0.00139788 Z M -11.340106 0.00139788 \" transform=\"matrix(0.992125, 0, 0, -0.992125, 40.067209, 39.372481)\"/>\n",
       "<path fill-rule=\"nonzero\" fill=\"rgb(100%, 0%, 0%)\" fill-opacity=\"1\" stroke-width=\"0.59776\" stroke-linecap=\"butt\" stroke-linejoin=\"miter\" stroke=\"rgb(0%, 0%, 0%)\" stroke-opacity=\"1\" stroke-miterlimit=\"10\" d=\"M 17.008136 0.00139788 C 17.008136 1.564488 15.74034 2.836222 14.173312 2.836222 C 12.606284 2.836222 11.338488 1.564488 11.338488 0.00139788 C 11.338488 -1.56563 12.606284 -2.833426 14.173312 -2.833426 C 15.74034 -2.833426 17.008136 -1.56563 17.008136 0.00139788 Z M 17.008136 0.00139788 \" transform=\"matrix(0.992125, 0, 0, -0.992125, 40.067209, 39.372481)\"/>\n",
       "<g clip-path=\"url(#clip-1717857318698406--0)\">\n",
       "<path fill=\"none\" stroke-width=\"0.59776\" stroke-linecap=\"butt\" stroke-linejoin=\"miter\" stroke=\"rgb(0%, 0%, 0%)\" stroke-opacity=\"1\" stroke-miterlimit=\"10\" d=\"M -39.983643 17.006406 C -29.116816 17.006406 -26.297741 7.001839 -16.8877 1.568426 \" transform=\"matrix(0.992125, 0, 0, -0.992125, 40.067209, 39.372481)\"/>\n",
       "</g>\n",
       "<g clip-path=\"url(#clip-1717857318698406--1)\">\n",
       "<path fill=\"none\" stroke-width=\"0.59776\" stroke-linecap=\"butt\" stroke-linejoin=\"miter\" stroke=\"rgb(0%, 0%, 0%)\" stroke-opacity=\"1\" stroke-miterlimit=\"10\" d=\"M -39.983643 -17.007548 C -29.116816 -17.007548 -26.297741 -6.999043 -16.8877 -1.56563 \" transform=\"matrix(0.992125, 0, 0, -0.992125, 40.067209, 39.372481)\"/>\n",
       "</g>\n",
       "<path fill=\"none\" stroke-width=\"0.59776\" stroke-linecap=\"butt\" stroke-linejoin=\"miter\" stroke=\"rgb(0%, 0%, 0%)\" stroke-opacity=\"1\" stroke-miterlimit=\"10\" d=\"M -11.040875 0.00139788 C -2.430096 0.00139788 2.428478 0.00139788 11.039257 0.00139788 \" transform=\"matrix(0.992125, 0, 0, -0.992125, 40.067209, 39.372481)\"/>\n",
       "<g clip-path=\"url(#clip-1717857318698406--2)\">\n",
       "<path fill=\"none\" stroke-width=\"0.59776\" stroke-linecap=\"butt\" stroke-linejoin=\"miter\" stroke=\"rgb(0%, 0%, 0%)\" stroke-opacity=\"1\" stroke-miterlimit=\"10\" d=\"M 16.886082 1.568426 C 26.30006 7.001839 29.115198 17.006406 39.985962 17.006406 \" transform=\"matrix(0.992125, 0, 0, -0.992125, 40.067209, 39.372481)\"/>\n",
       "</g>\n",
       "<g clip-path=\"url(#clip-1717857318698406--3)\">\n",
       "<path fill=\"none\" stroke-width=\"0.59776\" stroke-linecap=\"butt\" stroke-linejoin=\"miter\" stroke=\"rgb(0%, 0%, 0%)\" stroke-opacity=\"1\" stroke-miterlimit=\"10\" d=\"M 16.886082 -1.56563 C 26.30006 -6.999043 29.115198 -17.007548 39.985962 -17.007548 \" transform=\"matrix(0.992125, 0, 0, -0.992125, 40.067209, 39.372481)\"/>\n",
       "</g>\n",
       "</svg>\n",
       "\n"
      ],
      "text/plain": [
       "Catlab.Graphics.TikZ.Document(Catlab.Graphics.TikZ.Picture(Catlab.Graphics.TikZ.Statement[Catlab.Graphics.TikZ.Node(\"root\", Catlab.Graphics.TikZ.Property[Catlab.Graphics.TikZ.Property(\"outer box\", nothing), Catlab.Graphics.TikZ.Property(\"minimum size\", \"7\\\\tikzunit\")], Catlab.Graphics.TikZ.Coordinate(\"0\", \"0\"), \"\"), Catlab.Graphics.TikZ.Node(\"n1\", Catlab.Graphics.TikZ.Property[Catlab.Graphics.TikZ.Property(\"variant junction\", nothing), Catlab.Graphics.TikZ.Property(\"minimum size\", \"0.5\\\\tikzunit\")], Catlab.Graphics.TikZ.Coordinate(\"-1.25\", \"0\"), \"\"), Catlab.Graphics.TikZ.Node(\"n2\", Catlab.Graphics.TikZ.Property[Catlab.Graphics.TikZ.Property(\"junction\", nothing), Catlab.Graphics.TikZ.Property(\"minimum size\", \"0.5\\\\tikzunit\")], Catlab.Graphics.TikZ.Coordinate(\"1.25\", \"0\"), \"\"), Catlab.Graphics.TikZ.Edge(Catlab.Graphics.TikZ.PathExpression[Catlab.Graphics.TikZ.NodeCoordinate(\"\\$(root.west)+(-0.0,1.5)\\$\"), Catlab.Graphics.TikZ.PathOperation(\"to\", Catlab.Graphics.TikZ.Property[Catlab.Graphics.TikZ.Property(\"out\", \"0\"), Catlab.Graphics.TikZ.Property(\"in\", \"150\")]), Catlab.Graphics.TikZ.NodeCoordinate(\"n1.150\")], Catlab.Graphics.TikZ.Property[Catlab.Graphics.TikZ.Property(\"wire\", nothing)]), Catlab.Graphics.TikZ.Edge(Catlab.Graphics.TikZ.PathExpression[Catlab.Graphics.TikZ.NodeCoordinate(\"\\$(root.west)+(-0.0,-1.5)\\$\"), Catlab.Graphics.TikZ.PathOperation(\"to\", Catlab.Graphics.TikZ.Property[Catlab.Graphics.TikZ.Property(\"out\", \"0\"), Catlab.Graphics.TikZ.Property(\"in\", \"-150\")]), Catlab.Graphics.TikZ.NodeCoordinate(\"n1.-150\")], Catlab.Graphics.TikZ.Property[Catlab.Graphics.TikZ.Property(\"wire\", nothing)]), Catlab.Graphics.TikZ.Edge(Catlab.Graphics.TikZ.PathExpression[Catlab.Graphics.TikZ.NodeCoordinate(\"n1.0\"), Catlab.Graphics.TikZ.PathOperation(\"to\", Catlab.Graphics.TikZ.Property[Catlab.Graphics.TikZ.Property(\"out\", \"0\"), Catlab.Graphics.TikZ.Property(\"in\", \"180\")]), Catlab.Graphics.TikZ.NodeCoordinate(\"n2.180\")], Catlab.Graphics.TikZ.Property[Catlab.Graphics.TikZ.Property(\"wire\", nothing)]), Catlab.Graphics.TikZ.Edge(Catlab.Graphics.TikZ.PathExpression[Catlab.Graphics.TikZ.NodeCoordinate(\"n2.30\"), Catlab.Graphics.TikZ.PathOperation(\"to\", Catlab.Graphics.TikZ.Property[Catlab.Graphics.TikZ.Property(\"out\", \"30\"), Catlab.Graphics.TikZ.Property(\"in\", \"180\")]), Catlab.Graphics.TikZ.NodeCoordinate(\"\\$(root.east)+(0.0,1.5)\\$\")], Catlab.Graphics.TikZ.Property[Catlab.Graphics.TikZ.Property(\"wire\", nothing)]), Catlab.Graphics.TikZ.Edge(Catlab.Graphics.TikZ.PathExpression[Catlab.Graphics.TikZ.NodeCoordinate(\"n2.-30\"), Catlab.Graphics.TikZ.PathOperation(\"to\", Catlab.Graphics.TikZ.Property[Catlab.Graphics.TikZ.Property(\"out\", \"-30\"), Catlab.Graphics.TikZ.Property(\"in\", \"180\")]), Catlab.Graphics.TikZ.NodeCoordinate(\"\\$(root.east)+(0.0,-1.5)\\$\")], Catlab.Graphics.TikZ.Property[Catlab.Graphics.TikZ.Property(\"wire\", nothing)])], Catlab.Graphics.TikZ.Property[Catlab.Graphics.TikZ.Property(\"unit length/.code\", \"{{\\\\newdimen\\\\tikzunit}\\\\setlength{\\\\tikzunit}{#1}}\"), Catlab.Graphics.TikZ.Property(\"unit length\", \"4mm\"), Catlab.Graphics.TikZ.Property(\"x\", \"\\\\tikzunit\"), Catlab.Graphics.TikZ.Property(\"y\", \"\\\\tikzunit\"), Catlab.Graphics.TikZ.Property(\"semithick\", nothing), Catlab.Graphics.TikZ.Property(\"junction/.style\", Catlab.Graphics.TikZ.Property[Catlab.Graphics.TikZ.Property(\"circle\", nothing), Catlab.Graphics.TikZ.Property(\"draw\", nothing), Catlab.Graphics.TikZ.Property(\"fill\", \"red\"), Catlab.Graphics.TikZ.Property(\"inner sep\", \"0\")]), Catlab.Graphics.TikZ.Property(\"outer box/.style\", Catlab.Graphics.TikZ.Property[Catlab.Graphics.TikZ.Property(\"draw\", \"none\")]), Catlab.Graphics.TikZ.Property(\"variant junction/.style\", Catlab.Graphics.TikZ.Property[Catlab.Graphics.TikZ.Property(\"circle\", nothing), Catlab.Graphics.TikZ.Property(\"draw\", nothing), Catlab.Graphics.TikZ.Property(\"fill\", \"blue\"), Catlab.Graphics.TikZ.Property(\"inner sep\", \"0\")]), Catlab.Graphics.TikZ.Property(\"wire/.style\", Catlab.Graphics.TikZ.Property[Catlab.Graphics.TikZ.Property(\"draw\", nothing)])]), [\"calc\", \"shapes.geometric\"], [\"amssymb\"])"
      ]
     },
     "execution_count": 23,
     "metadata": {},
     "output_type": "execute_result"
    }
   ],
   "source": [
    "X = Ob(FreeAbelianBicategoryRelations, :X)\n",
    "\n",
    "to_tikz(plus(X) ⋅ mcopy(X), styles=Dict(\n",
    "  \"junction\" => [\"circle\", \"draw\", \"fill\"=>\"red\", \"inner sep\"=>\"0\"],\n",
    "  \"variant junction\" => [\"circle\", \"draw\", \"fill\"=>\"blue\", \"inner sep\"=>\"0\"],\n",
    "))"
   ]
  },
  {
   "cell_type": "markdown",
   "metadata": {},
   "source": [
    "By default, the boxes are rectangular (`:rectangle`). Other available shapes\n",
    "include circles (`:circle`), ellipses (`:ellipse`), triangles (`:triangle`,\n",
    "`:invtriangle`), and trapezoids (`:trapezium`, `:invtrapezium`)."
   ]
  },
  {
   "cell_type": "code",
   "execution_count": 24,
   "metadata": {},
   "outputs": [
    {
     "data": {
      "image/svg+xml": [
       "<?xml version=\"1.0\" encoding=\"UTF-8\"?>\n",
       "<svg xmlns=\"http://www.w3.org/2000/svg\" xmlns:xlink=\"http://www.w3.org/1999/xlink\" width=\"114.581\" height=\"45.354\" viewBox=\"0 0 114.581 45.354\">\n",
       "<defs>\n",
       "<g>\n",
       "<g id=\"glyph-1717857318698407--0-0\">\n",
       "<path d=\"M 3.609375 -3.9375 L 4.453125 -3.9375 C 4.65625 -3.9375 4.75 -3.9375 4.75 -4.125 C 4.75 -4.234375 4.65625 -4.234375 4.484375 -4.234375 L 3.671875 -4.234375 L 3.875 -5.359375 C 3.90625 -5.5625 4.046875 -6.265625 4.109375 -6.375 C 4.203125 -6.5625 4.359375 -6.71875 4.5625 -6.71875 C 4.609375 -6.71875 4.859375 -6.71875 5.046875 -6.53125 C 4.625 -6.5 4.515625 -6.15625 4.515625 -6 C 4.515625 -5.78125 4.703125 -5.65625 4.890625 -5.65625 C 5.140625 -5.65625 5.421875 -5.875 5.421875 -6.25 C 5.421875 -6.703125 4.96875 -6.921875 4.5625 -6.921875 C 4.234375 -6.921875 3.609375 -6.75 3.328125 -5.78125 C 3.265625 -5.578125 3.234375 -5.46875 3 -4.234375 L 2.3125 -4.234375 C 2.125 -4.234375 2.03125 -4.234375 2.03125 -4.046875 C 2.03125 -3.9375 2.109375 -3.9375 2.296875 -3.9375 L 2.953125 -3.9375 L 2.21875 -0.046875 C 2.03125 0.90625 1.875 1.796875 1.359375 1.796875 C 1.3125 1.796875 1.078125 1.796875 0.890625 1.625 C 1.34375 1.59375 1.421875 1.234375 1.421875 1.09375 C 1.421875 0.859375 1.25 0.75 1.0625 0.75 C 0.8125 0.75 0.515625 0.96875 0.515625 1.34375 C 0.515625 1.78125 0.953125 2.015625 1.359375 2.015625 C 1.890625 2.015625 2.296875 1.4375 2.46875 1.0625 C 2.78125 0.4375 3 -0.75 3.015625 -0.8125 Z M 3.609375 -3.9375 \"/>\n",
       "</g>\n",
       "<g id=\"glyph-1717857318698407--0-1\">\n",
       "<path d=\"M 4.625 -3.703125 C 4.640625 -3.765625 4.65625 -3.8125 4.65625 -3.875 C 4.65625 -4.046875 4.546875 -4.140625 4.375 -4.140625 C 4.28125 -4.140625 4.015625 -4.078125 3.96875 -3.71875 C 3.796875 -4.09375 3.453125 -4.34375 3.0625 -4.34375 C 1.9375 -4.34375 0.71875 -2.96875 0.71875 -1.546875 C 0.71875 -0.578125 1.3125 0 2.03125 0 C 2.609375 0 3.0625 -0.46875 3.171875 -0.5625 C 2.96875 0.3125 2.84375 0.71875 2.84375 0.734375 C 2.8125 0.828125 2.484375 1.796875 1.4375 1.796875 C 1.25 1.796875 0.921875 1.78125 0.65625 1.703125 C 0.9375 1.609375 1.046875 1.359375 1.046875 1.1875 C 1.046875 1.03125 0.9375 0.84375 0.671875 0.84375 C 0.46875 0.84375 0.140625 1.015625 0.140625 1.421875 C 0.140625 1.8125 0.515625 2.015625 1.453125 2.015625 C 2.6875 2.015625 3.390625 1.25 3.53125 0.65625 Z M 3.34375 -1.265625 C 3.296875 -1 3.0625 -0.75 2.84375 -0.5625 C 2.640625 -0.390625 2.34375 -0.21875 2.046875 -0.21875 C 1.5625 -0.21875 1.421875 -0.734375 1.421875 -1.125 C 1.421875 -1.59375 1.703125 -2.75 1.96875 -3.25 C 2.234375 -3.734375 2.65625 -4.125 3.0625 -4.125 C 3.71875 -4.125 3.859375 -3.328125 3.859375 -3.28125 C 3.859375 -3.234375 3.828125 -3.171875 3.828125 -3.140625 Z M 3.34375 -1.265625 \"/>\n",
       "</g>\n",
       "</g>\n",
       "<clipPath id=\"clip-1717857318698407--0\">\n",
       "<path clip-rule=\"nonzero\" d=\"M 0.597656 14 L 32 14 L 32 31 L 0.597656 31 Z M 0.597656 14 \"/>\n",
       "</clipPath>\n",
       "<clipPath id=\"clip-1717857318698407--1\">\n",
       "<path clip-rule=\"nonzero\" d=\"M 82 14 L 113.570312 14 L 113.570312 31 L 82 31 Z M 82 14 \"/>\n",
       "</clipPath>\n",
       "</defs>\n",
       "<path fill=\"none\" stroke-width=\"0.59776\" stroke-linecap=\"butt\" stroke-linejoin=\"miter\" stroke=\"rgb(0%, 0%, 0%)\" stroke-opacity=\"1\" stroke-miterlimit=\"10\" d=\"M -11.337402 -0.000850906 C -11.337402 6.262895 -16.416543 11.338075 -22.676327 11.338075 C -28.940073 11.338075 -34.015253 6.262895 -34.015253 -0.000850906 C -34.015253 -6.260635 -28.940073 -11.339776 -22.676327 -11.339776 C -16.416543 -11.339776 -11.337402 -6.260635 -11.337402 -0.000850906 Z M -11.337402 -0.000850906 \" transform=\"matrix(0.985957, 0, 0, -0.985957, 57.084435, 22.358536)\"/>\n",
       "<g fill=\"rgb(0%, 0%, 0%)\" fill-opacity=\"1\">\n",
       "<use xlink:href=\"#glyph-1717857318698407--0-0\" x=\"31.791692\" y=\"24.814554\"/>\n",
       "</g>\n",
       "<path fill=\"none\" stroke-width=\"0.59776\" stroke-linecap=\"butt\" stroke-linejoin=\"miter\" stroke=\"rgb(0%, 0%, 0%)\" stroke-opacity=\"1\" stroke-miterlimit=\"10\" d=\"M 34.014338 -0.000850906 C 34.014338 6.262895 28.939159 11.338075 22.679375 11.338075 C 16.415629 11.338075 11.340449 6.262895 11.340449 -0.000850906 C 11.340449 -6.260635 16.415629 -11.339776 22.679375 -11.339776 C 28.939159 -11.339776 34.014338 -6.260635 34.014338 -0.000850906 Z M 34.014338 -0.000850906 \" transform=\"matrix(0.985957, 0, 0, -0.985957, 57.084435, 22.358536)\"/>\n",
       "<g fill=\"rgb(0%, 0%, 0%)\" fill-opacity=\"1\">\n",
       "<use xlink:href=\"#glyph-1717857318698407--0-1\" x=\"76.923852\" y=\"23.518021\"/>\n",
       "</g>\n",
       "<g clip-path=\"url(#clip-1717857318698407--0)\">\n",
       "<path fill=\"none\" stroke-width=\"0.59776\" stroke-linecap=\"butt\" stroke-linejoin=\"miter\" stroke=\"rgb(0%, 0%, 0%)\" stroke-opacity=\"1\" stroke-miterlimit=\"10\" d=\"M -56.994207 -0.000850906 C -48.14731 -0.000850906 -43.159292 -0.000850906 -34.316356 -0.000850906 \" transform=\"matrix(0.985957, 0, 0, -0.985957, 57.084435, 22.358536)\"/>\n",
       "</g>\n",
       "<path fill=\"none\" stroke-width=\"0.59776\" stroke-linecap=\"butt\" stroke-linejoin=\"miter\" stroke=\"rgb(0%, 0%, 0%)\" stroke-opacity=\"1\" stroke-miterlimit=\"10\" d=\"M -11.04026 -0.000850906 C -2.431076 -0.000850906 2.430162 -0.000850906 11.039346 -0.000850906 \" transform=\"matrix(0.985957, 0, 0, -0.985957, 57.084435, 22.358536)\"/>\n",
       "<g clip-path=\"url(#clip-1717857318698407--1)\">\n",
       "<path fill=\"none\" stroke-width=\"0.59776\" stroke-linecap=\"butt\" stroke-linejoin=\"miter\" stroke=\"rgb(0%, 0%, 0%)\" stroke-opacity=\"1\" stroke-miterlimit=\"10\" d=\"M 34.315442 -0.000850906 C 43.158377 -0.000850906 48.150357 -0.000850906 56.993293 -0.000850906 \" transform=\"matrix(0.985957, 0, 0, -0.985957, 57.084435, 22.358536)\"/>\n",
       "</g>\n",
       "</svg>\n",
       "\n"
      ],
      "text/plain": [
       "Catlab.Graphics.TikZ.Document(Catlab.Graphics.TikZ.Picture(Catlab.Graphics.TikZ.Statement[Catlab.Graphics.TikZ.Node(\"root\", Catlab.Graphics.TikZ.Property[Catlab.Graphics.TikZ.Property(\"outer box\", nothing), Catlab.Graphics.TikZ.Property(\"minimum width\", \"10\\\\tikzunit\"), Catlab.Graphics.TikZ.Property(\"minimum height\", \"4\\\\tikzunit\")], Catlab.Graphics.TikZ.Coordinate(\"0\", \"0\"), \"\"), Catlab.Graphics.TikZ.Node(\"n1\", Catlab.Graphics.TikZ.Property[Catlab.Graphics.TikZ.Property(\"circular box\", nothing), Catlab.Graphics.TikZ.Property(\"minimum size\", \"2\\\\tikzunit\")], Catlab.Graphics.TikZ.Coordinate(\"-2\", \"0\"), \"\\$f\\$\"), Catlab.Graphics.TikZ.Node(\"n2\", Catlab.Graphics.TikZ.Property[Catlab.Graphics.TikZ.Property(\"circular box\", nothing), Catlab.Graphics.TikZ.Property(\"minimum size\", \"2\\\\tikzunit\")], Catlab.Graphics.TikZ.Coordinate(\"2\", \"0\"), \"\\$g\\$\"), Catlab.Graphics.TikZ.Edge(Catlab.Graphics.TikZ.PathExpression[Catlab.Graphics.TikZ.NodeCoordinate(\"root.west\"), Catlab.Graphics.TikZ.PathOperation(\"to\", Catlab.Graphics.TikZ.Property[Catlab.Graphics.TikZ.Property(\"out\", \"0\"), Catlab.Graphics.TikZ.Property(\"in\", \"180\")]), Catlab.Graphics.TikZ.NodeCoordinate(\"n1.180\")], Catlab.Graphics.TikZ.Property[Catlab.Graphics.TikZ.Property(\"wire\", nothing)]), Catlab.Graphics.TikZ.Edge(Catlab.Graphics.TikZ.PathExpression[Catlab.Graphics.TikZ.NodeCoordinate(\"n1.0\"), Catlab.Graphics.TikZ.PathOperation(\"to\", Catlab.Graphics.TikZ.Property[Catlab.Graphics.TikZ.Property(\"out\", \"0\"), Catlab.Graphics.TikZ.Property(\"in\", \"180\")]), Catlab.Graphics.TikZ.NodeCoordinate(\"n2.180\")], Catlab.Graphics.TikZ.Property[Catlab.Graphics.TikZ.Property(\"wire\", nothing)]), Catlab.Graphics.TikZ.Edge(Catlab.Graphics.TikZ.PathExpression[Catlab.Graphics.TikZ.NodeCoordinate(\"n2.0\"), Catlab.Graphics.TikZ.PathOperation(\"to\", Catlab.Graphics.TikZ.Property[Catlab.Graphics.TikZ.Property(\"out\", \"0\"), Catlab.Graphics.TikZ.Property(\"in\", \"180\")]), Catlab.Graphics.TikZ.NodeCoordinate(\"root.east\")], Catlab.Graphics.TikZ.Property[Catlab.Graphics.TikZ.Property(\"wire\", nothing)])], Catlab.Graphics.TikZ.Property[Catlab.Graphics.TikZ.Property(\"unit length/.code\", \"{{\\\\newdimen\\\\tikzunit}\\\\setlength{\\\\tikzunit}{#1}}\"), Catlab.Graphics.TikZ.Property(\"unit length\", \"4mm\"), Catlab.Graphics.TikZ.Property(\"x\", \"\\\\tikzunit\"), Catlab.Graphics.TikZ.Property(\"y\", \"\\\\tikzunit\"), Catlab.Graphics.TikZ.Property(\"semithick\", nothing), Catlab.Graphics.TikZ.Property(\"circular box/.style\", Catlab.Graphics.TikZ.Property[Catlab.Graphics.TikZ.Property(\"circle\", nothing), Catlab.Graphics.TikZ.Property(\"draw\", nothing), Catlab.Graphics.TikZ.Property(\"solid\", nothing)]), Catlab.Graphics.TikZ.Property(\"outer box/.style\", Catlab.Graphics.TikZ.Property[Catlab.Graphics.TikZ.Property(\"draw\", \"none\")]), Catlab.Graphics.TikZ.Property(\"wire/.style\", Catlab.Graphics.TikZ.Property[Catlab.Graphics.TikZ.Property(\"draw\", nothing)])]), [\"calc\", \"shapes.geometric\"], [\"amssymb\"])"
      ]
     },
     "execution_count": 24,
     "metadata": {},
     "output_type": "execute_result"
    }
   ],
   "source": [
    "to_tikz(f⋅g, default_box_shape=:circle)"
   ]
  },
  {
   "cell_type": "code",
   "execution_count": 25,
   "metadata": {},
   "outputs": [
    {
     "data": {
      "image/svg+xml": [
       "<?xml version=\"1.0\" encoding=\"UTF-8\"?>\n",
       "<svg xmlns=\"http://www.w3.org/2000/svg\" xmlns:xlink=\"http://www.w3.org/1999/xlink\" width=\"114.581\" height=\"45.354\" viewBox=\"0 0 114.581 45.354\">\n",
       "<defs>\n",
       "<g>\n",
       "<g id=\"glyph-1717857318698408--0-0\">\n",
       "<path d=\"M 3.609375 -3.9375 L 4.453125 -3.9375 C 4.65625 -3.9375 4.75 -3.9375 4.75 -4.125 C 4.75 -4.234375 4.65625 -4.234375 4.484375 -4.234375 L 3.671875 -4.234375 L 3.875 -5.359375 C 3.90625 -5.5625 4.046875 -6.265625 4.109375 -6.375 C 4.203125 -6.5625 4.359375 -6.71875 4.5625 -6.71875 C 4.609375 -6.71875 4.859375 -6.71875 5.046875 -6.53125 C 4.625 -6.5 4.515625 -6.15625 4.515625 -6 C 4.515625 -5.78125 4.703125 -5.65625 4.890625 -5.65625 C 5.140625 -5.65625 5.421875 -5.875 5.421875 -6.25 C 5.421875 -6.703125 4.96875 -6.921875 4.5625 -6.921875 C 4.234375 -6.921875 3.609375 -6.75 3.328125 -5.78125 C 3.265625 -5.578125 3.234375 -5.46875 3 -4.234375 L 2.3125 -4.234375 C 2.125 -4.234375 2.03125 -4.234375 2.03125 -4.046875 C 2.03125 -3.9375 2.109375 -3.9375 2.296875 -3.9375 L 2.953125 -3.9375 L 2.21875 -0.046875 C 2.03125 0.90625 1.875 1.796875 1.359375 1.796875 C 1.3125 1.796875 1.078125 1.796875 0.890625 1.625 C 1.34375 1.59375 1.421875 1.234375 1.421875 1.09375 C 1.421875 0.859375 1.25 0.75 1.0625 0.75 C 0.8125 0.75 0.515625 0.96875 0.515625 1.34375 C 0.515625 1.78125 0.953125 2.015625 1.359375 2.015625 C 1.890625 2.015625 2.296875 1.4375 2.46875 1.0625 C 2.78125 0.4375 3 -0.75 3.015625 -0.8125 Z M 3.609375 -3.9375 \"/>\n",
       "</g>\n",
       "<g id=\"glyph-1717857318698408--0-1\">\n",
       "<path d=\"M 4.625 -3.703125 C 4.640625 -3.765625 4.65625 -3.8125 4.65625 -3.875 C 4.65625 -4.046875 4.546875 -4.140625 4.375 -4.140625 C 4.28125 -4.140625 4.015625 -4.078125 3.96875 -3.71875 C 3.796875 -4.09375 3.453125 -4.34375 3.0625 -4.34375 C 1.9375 -4.34375 0.71875 -2.96875 0.71875 -1.546875 C 0.71875 -0.578125 1.3125 0 2.03125 0 C 2.609375 0 3.0625 -0.46875 3.171875 -0.5625 C 2.96875 0.3125 2.84375 0.71875 2.84375 0.734375 C 2.8125 0.828125 2.484375 1.796875 1.4375 1.796875 C 1.25 1.796875 0.921875 1.78125 0.65625 1.703125 C 0.9375 1.609375 1.046875 1.359375 1.046875 1.1875 C 1.046875 1.03125 0.9375 0.84375 0.671875 0.84375 C 0.46875 0.84375 0.140625 1.015625 0.140625 1.421875 C 0.140625 1.8125 0.515625 2.015625 1.453125 2.015625 C 2.6875 2.015625 3.390625 1.25 3.53125 0.65625 Z M 3.34375 -1.265625 C 3.296875 -1 3.0625 -0.75 2.84375 -0.5625 C 2.640625 -0.390625 2.34375 -0.21875 2.046875 -0.21875 C 1.5625 -0.21875 1.421875 -0.734375 1.421875 -1.125 C 1.421875 -1.59375 1.703125 -2.75 1.96875 -3.25 C 2.234375 -3.734375 2.65625 -4.125 3.0625 -4.125 C 3.71875 -4.125 3.859375 -3.328125 3.859375 -3.28125 C 3.859375 -3.234375 3.828125 -3.171875 3.828125 -3.140625 Z M 3.34375 -1.265625 \"/>\n",
       "</g>\n",
       "</g>\n",
       "<clipPath id=\"clip-1717857318698408--0\">\n",
       "<path clip-rule=\"nonzero\" d=\"M 0.597656 14 L 26 14 L 26 31 L 0.597656 31 Z M 0.597656 14 \"/>\n",
       "</clipPath>\n",
       "<clipPath id=\"clip-1717857318698408--1\">\n",
       "<path clip-rule=\"nonzero\" d=\"M 88 14 L 113.570312 14 L 113.570312 31 L 88 31 Z M 88 14 \"/>\n",
       "</clipPath>\n",
       "</defs>\n",
       "<path fill=\"none\" stroke-width=\"0.59776\" stroke-linecap=\"butt\" stroke-linejoin=\"miter\" stroke=\"rgb(0%, 0%, 0%)\" stroke-opacity=\"1\" stroke-miterlimit=\"10\" d=\"M -39.9462 -0.000850906 L -17.268349 -11.339776 L -17.268349 11.338075 Z M -39.9462 -0.000850906 \" transform=\"matrix(0.985957, 0, 0, -0.985957, 57.084435, 22.358536)\"/>\n",
       "<g fill=\"rgb(0%, 0%, 0%)\" fill-opacity=\"1\">\n",
       "<use xlink:href=\"#glyph-1717857318698408--0-0\" x=\"31.791692\" y=\"24.814554\"/>\n",
       "</g>\n",
       "<path fill=\"none\" stroke-width=\"0.59776\" stroke-linecap=\"butt\" stroke-linejoin=\"miter\" stroke=\"rgb(0%, 0%, 0%)\" stroke-opacity=\"1\" stroke-miterlimit=\"10\" d=\"M 39.295536 -0.000850906 L 16.617685 11.338075 L 16.617685 -11.339776 Z M 39.295536 -0.000850906 \" transform=\"matrix(0.985957, 0, 0, -0.985957, 57.084435, 22.358536)\"/>\n",
       "<g fill=\"rgb(0%, 0%, 0%)\" fill-opacity=\"1\">\n",
       "<use xlink:href=\"#glyph-1717857318698408--0-1\" x=\"76.923852\" y=\"23.518021\"/>\n",
       "</g>\n",
       "<g clip-path=\"url(#clip-1717857318698408--0)\">\n",
       "<path fill=\"none\" stroke-width=\"0.59776\" stroke-linecap=\"butt\" stroke-linejoin=\"miter\" stroke=\"rgb(0%, 0%, 0%)\" stroke-opacity=\"1\" stroke-miterlimit=\"10\" d=\"M -56.994207 -0.000850906 C -50.651223 -0.000850906 -47.069676 -0.000850906 -40.730654 -0.000850906 \" transform=\"matrix(0.985957, 0, 0, -0.985957, 57.084435, 22.358536)\"/>\n",
       "</g>\n",
       "<path fill=\"none\" stroke-width=\"0.59776\" stroke-linecap=\"butt\" stroke-linejoin=\"miter\" stroke=\"rgb(0%, 0%, 0%)\" stroke-opacity=\"1\" stroke-miterlimit=\"10\" d=\"M -16.971207 -0.000850906 C -3.988098 -0.000850906 3.337434 -0.000850906 16.316581 -0.000850906 \" transform=\"matrix(0.985957, 0, 0, -0.985957, 57.084435, 22.358536)\"/>\n",
       "<g clip-path=\"url(#clip-1717857318698408--1)\">\n",
       "<path fill=\"none\" stroke-width=\"0.59776\" stroke-linecap=\"butt\" stroke-linejoin=\"miter\" stroke=\"rgb(0%, 0%, 0%)\" stroke-opacity=\"1\" stroke-miterlimit=\"10\" d=\"M 40.076028 -0.000850906 C 46.672573 -0.000850906 50.396748 -0.000850906 56.993293 -0.000850906 \" transform=\"matrix(0.985957, 0, 0, -0.985957, 57.084435, 22.358536)\"/>\n",
       "</g>\n",
       "</svg>\n",
       "\n"
      ],
      "text/plain": [
       "Catlab.Graphics.TikZ.Document(Catlab.Graphics.TikZ.Picture(Catlab.Graphics.TikZ.Statement[Catlab.Graphics.TikZ.Node(\"root\", Catlab.Graphics.TikZ.Property[Catlab.Graphics.TikZ.Property(\"outer box\", nothing), Catlab.Graphics.TikZ.Property(\"minimum width\", \"10\\\\tikzunit\"), Catlab.Graphics.TikZ.Property(\"minimum height\", \"4\\\\tikzunit\")], Catlab.Graphics.TikZ.Coordinate(\"0\", \"0\"), \"\"), Catlab.Graphics.TikZ.Node(\"n1\", Catlab.Graphics.TikZ.Property[Catlab.Graphics.TikZ.Property(\"triangular box\", nothing), Catlab.Graphics.TikZ.Property(\"minimum size\", \"2\\\\tikzunit\")], Catlab.Graphics.TikZ.Coordinate(\"-2\", \"0\"), \"\\$f\\$\"), Catlab.Graphics.TikZ.Node(\"n2\", Catlab.Graphics.TikZ.Property[Catlab.Graphics.TikZ.Property(\"inverse triangular box\", nothing), Catlab.Graphics.TikZ.Property(\"minimum size\", \"2\\\\tikzunit\")], Catlab.Graphics.TikZ.Coordinate(\"2\", \"0\"), \"\\$g\\$\"), Catlab.Graphics.TikZ.Edge(Catlab.Graphics.TikZ.PathExpression[Catlab.Graphics.TikZ.NodeCoordinate(\"root.west\"), Catlab.Graphics.TikZ.PathOperation(\"to\", Catlab.Graphics.TikZ.Property[Catlab.Graphics.TikZ.Property(\"out\", \"0\"), Catlab.Graphics.TikZ.Property(\"in\", \"-180\")]), Catlab.Graphics.TikZ.NodeCoordinate(\"n1.west\")], Catlab.Graphics.TikZ.Property[Catlab.Graphics.TikZ.Property(\"wire\", nothing)]), Catlab.Graphics.TikZ.Edge(Catlab.Graphics.TikZ.PathExpression[Catlab.Graphics.TikZ.NodeCoordinate(\"n1.east\"), Catlab.Graphics.TikZ.PathOperation(\"to\", Catlab.Graphics.TikZ.Property[Catlab.Graphics.TikZ.Property(\"out\", \"0\"), Catlab.Graphics.TikZ.Property(\"in\", \"-180\")]), Catlab.Graphics.TikZ.NodeCoordinate(\"n2.west\")], Catlab.Graphics.TikZ.Property[Catlab.Graphics.TikZ.Property(\"wire\", nothing)]), Catlab.Graphics.TikZ.Edge(Catlab.Graphics.TikZ.PathExpression[Catlab.Graphics.TikZ.NodeCoordinate(\"n2.east\"), Catlab.Graphics.TikZ.PathOperation(\"to\", Catlab.Graphics.TikZ.Property[Catlab.Graphics.TikZ.Property(\"out\", \"0\"), Catlab.Graphics.TikZ.Property(\"in\", \"180\")]), Catlab.Graphics.TikZ.NodeCoordinate(\"root.east\")], Catlab.Graphics.TikZ.Property[Catlab.Graphics.TikZ.Property(\"wire\", nothing)])], Catlab.Graphics.TikZ.Property[Catlab.Graphics.TikZ.Property(\"unit length/.code\", \"{{\\\\newdimen\\\\tikzunit}\\\\setlength{\\\\tikzunit}{#1}}\"), Catlab.Graphics.TikZ.Property(\"unit length\", \"4mm\"), Catlab.Graphics.TikZ.Property(\"x\", \"\\\\tikzunit\"), Catlab.Graphics.TikZ.Property(\"y\", \"\\\\tikzunit\"), Catlab.Graphics.TikZ.Property(\"semithick\", nothing), Catlab.Graphics.TikZ.Property(\"inverse triangular box/.style\", Catlab.Graphics.TikZ.Property[Catlab.Graphics.TikZ.Property(\"isosceles triangle\", nothing), Catlab.Graphics.TikZ.Property(\"isosceles triangle stretches\", nothing), Catlab.Graphics.TikZ.Property(\"shape border rotate\", \"0\"), Catlab.Graphics.TikZ.Property(\"draw\", nothing), Catlab.Graphics.TikZ.Property(\"solid\", nothing), Catlab.Graphics.TikZ.Property(\"sharp corners\", nothing), Catlab.Graphics.TikZ.Property(\"inner sep\", \"0\")]), Catlab.Graphics.TikZ.Property(\"outer box/.style\", Catlab.Graphics.TikZ.Property[Catlab.Graphics.TikZ.Property(\"draw\", \"none\")]), Catlab.Graphics.TikZ.Property(\"triangular box/.style\", Catlab.Graphics.TikZ.Property[Catlab.Graphics.TikZ.Property(\"isosceles triangle\", nothing), Catlab.Graphics.TikZ.Property(\"isosceles triangle stretches\", nothing), Catlab.Graphics.TikZ.Property(\"shape border rotate\", \"180\"), Catlab.Graphics.TikZ.Property(\"draw\", nothing), Catlab.Graphics.TikZ.Property(\"solid\", nothing), Catlab.Graphics.TikZ.Property(\"sharp corners\", nothing), Catlab.Graphics.TikZ.Property(\"inner sep\", \"0\")]), Catlab.Graphics.TikZ.Property(\"wire/.style\", Catlab.Graphics.TikZ.Property[Catlab.Graphics.TikZ.Property(\"draw\", nothing)])]), [\"calc\", \"shapes.geometric\"], [\"amssymb\"])"
      ]
     },
     "execution_count": 25,
     "metadata": {},
     "output_type": "execute_result"
    }
   ],
   "source": [
    "to_tikz(f⋅g, rounded_boxes=false, box_shapes=Dict(\n",
    "  f => :triangle, g => :invtriangle,\n",
    "))"
   ]
  },
  {
   "cell_type": "code",
   "execution_count": 26,
   "metadata": {},
   "outputs": [
    {
     "data": {
      "image/svg+xml": [
       "<?xml version=\"1.0\" encoding=\"UTF-8\"?>\n",
       "<svg xmlns=\"http://www.w3.org/2000/svg\" xmlns:xlink=\"http://www.w3.org/1999/xlink\" width=\"45.354\" height=\"114.581\" viewBox=\"0 0 45.354 114.581\">\n",
       "<defs>\n",
       "<g>\n",
       "<g id=\"glyph-1717857318698409--0-0\">\n",
       "<path d=\"M 3.609375 -3.9375 L 4.453125 -3.9375 C 4.65625 -3.9375 4.75 -3.9375 4.75 -4.125 C 4.75 -4.234375 4.65625 -4.234375 4.484375 -4.234375 L 3.671875 -4.234375 L 3.875 -5.359375 C 3.90625 -5.5625 4.046875 -6.265625 4.109375 -6.375 C 4.203125 -6.5625 4.359375 -6.71875 4.5625 -6.71875 C 4.609375 -6.71875 4.859375 -6.71875 5.046875 -6.53125 C 4.625 -6.5 4.515625 -6.15625 4.515625 -6 C 4.515625 -5.78125 4.703125 -5.65625 4.890625 -5.65625 C 5.140625 -5.65625 5.421875 -5.875 5.421875 -6.25 C 5.421875 -6.703125 4.96875 -6.921875 4.5625 -6.921875 C 4.234375 -6.921875 3.609375 -6.75 3.328125 -5.78125 C 3.265625 -5.578125 3.234375 -5.46875 3 -4.234375 L 2.3125 -4.234375 C 2.125 -4.234375 2.03125 -4.234375 2.03125 -4.046875 C 2.03125 -3.9375 2.109375 -3.9375 2.296875 -3.9375 L 2.953125 -3.9375 L 2.21875 -0.046875 C 2.03125 0.90625 1.875 1.796875 1.359375 1.796875 C 1.3125 1.796875 1.078125 1.796875 0.890625 1.625 C 1.34375 1.59375 1.421875 1.234375 1.421875 1.09375 C 1.421875 0.859375 1.25 0.75 1.0625 0.75 C 0.8125 0.75 0.515625 0.96875 0.515625 1.34375 C 0.515625 1.78125 0.953125 2.015625 1.359375 2.015625 C 1.890625 2.015625 2.296875 1.4375 2.46875 1.0625 C 2.78125 0.4375 3 -0.75 3.015625 -0.8125 Z M 3.609375 -3.9375 \"/>\n",
       "</g>\n",
       "<g id=\"glyph-1717857318698409--0-1\">\n",
       "<path d=\"M 4.625 -3.703125 C 4.640625 -3.765625 4.65625 -3.8125 4.65625 -3.875 C 4.65625 -4.046875 4.546875 -4.140625 4.375 -4.140625 C 4.28125 -4.140625 4.015625 -4.078125 3.96875 -3.71875 C 3.796875 -4.09375 3.453125 -4.34375 3.0625 -4.34375 C 1.9375 -4.34375 0.71875 -2.96875 0.71875 -1.546875 C 0.71875 -0.578125 1.3125 0 2.03125 0 C 2.609375 0 3.0625 -0.46875 3.171875 -0.5625 C 2.96875 0.3125 2.84375 0.71875 2.84375 0.734375 C 2.8125 0.828125 2.484375 1.796875 1.4375 1.796875 C 1.25 1.796875 0.921875 1.78125 0.65625 1.703125 C 0.9375 1.609375 1.046875 1.359375 1.046875 1.1875 C 1.046875 1.03125 0.9375 0.84375 0.671875 0.84375 C 0.46875 0.84375 0.140625 1.015625 0.140625 1.421875 C 0.140625 1.8125 0.515625 2.015625 1.453125 2.015625 C 2.6875 2.015625 3.390625 1.25 3.53125 0.65625 Z M 3.34375 -1.265625 C 3.296875 -1 3.0625 -0.75 2.84375 -0.5625 C 2.640625 -0.390625 2.34375 -0.21875 2.046875 -0.21875 C 1.5625 -0.21875 1.421875 -0.734375 1.421875 -1.125 C 1.421875 -1.59375 1.703125 -2.75 1.96875 -3.25 C 2.234375 -3.734375 2.65625 -4.125 3.0625 -4.125 C 3.71875 -4.125 3.859375 -3.328125 3.859375 -3.28125 C 3.859375 -3.234375 3.828125 -3.171875 3.828125 -3.140625 Z M 3.34375 -1.265625 \"/>\n",
       "</g>\n",
       "</g>\n",
       "<clipPath id=\"clip-1717857318698409--0\">\n",
       "<path clip-rule=\"nonzero\" d=\"M 14 0.597656 L 31 0.597656 L 31 27 L 14 27 Z M 14 0.597656 \"/>\n",
       "</clipPath>\n",
       "<clipPath id=\"clip-1717857318698409--1\">\n",
       "<path clip-rule=\"nonzero\" d=\"M 14 87 L 31 87 L 31 113.570312 L 14 113.570312 Z M 14 87 \"/>\n",
       "</clipPath>\n",
       "</defs>\n",
       "<path fill=\"none\" stroke-width=\"0.59776\" stroke-linecap=\"butt\" stroke-linejoin=\"miter\" stroke=\"rgb(0%, 0%, 0%)\" stroke-opacity=\"1\" stroke-miterlimit=\"10\" d=\"M 0.000850906 38.495149 L -11.338075 15.817298 L 11.339776 15.817298 Z M 0.000850906 38.495149 \" transform=\"matrix(0.985957, 0, 0, -0.985957, 22.358536, 57.083449)\"/>\n",
       "<g fill=\"rgb(0%, 0%, 0%)\" fill-opacity=\"1\">\n",
       "<use xlink:href=\"#glyph-1717857318698409--0-0\" x=\"19.425315\" y=\"37.180931\"/>\n",
       "</g>\n",
       "<path fill=\"none\" stroke-width=\"0.59776\" stroke-linecap=\"butt\" stroke-linejoin=\"miter\" stroke=\"rgb(0%, 0%, 0%)\" stroke-opacity=\"1\" stroke-miterlimit=\"10\" d=\"M 0.000850906 -38.73791 L 11.339776 -16.060059 L -11.338075 -16.060059 Z M 0.000850906 -38.73791 \" transform=\"matrix(0.985957, 0, 0, -0.985957, 22.358536, 57.083449)\"/>\n",
       "<g fill=\"rgb(0%, 0%, 0%)\" fill-opacity=\"1\">\n",
       "<use xlink:href=\"#glyph-1717857318698409--0-1\" x=\"19.839417\" y=\"80.602456\"/>\n",
       "</g>\n",
       "<g clip-path=\"url(#clip-1717857318698409--0)\">\n",
       "<path fill=\"none\" stroke-width=\"0.59776\" stroke-linecap=\"butt\" stroke-linejoin=\"miter\" stroke=\"rgb(0%, 0%, 0%)\" stroke-opacity=\"1\" stroke-miterlimit=\"10\" d=\"M 0.000850906 56.993207 C 0.000850906 50.083673 0.000850906 46.185175 0.000850906 39.275641 \" transform=\"matrix(0.985957, 0, 0, -0.985957, 22.358536, 57.083449)\"/>\n",
       "</g>\n",
       "<path fill=\"none\" stroke-width=\"0.59776\" stroke-linecap=\"butt\" stroke-linejoin=\"miter\" stroke=\"rgb(0%, 0%, 0%)\" stroke-opacity=\"1\" stroke-miterlimit=\"10\" d=\"M 0.000850906 15.516194 C 0.000850906 3.321501 0.000850906 -3.5603 0.000850906 -15.758955 \" transform=\"matrix(0.985957, 0, 0, -0.985957, 22.358536, 57.083449)\"/>\n",
       "<g clip-path=\"url(#clip-1717857318698409--1)\">\n",
       "<path fill=\"none\" stroke-width=\"0.59776\" stroke-linecap=\"butt\" stroke-linejoin=\"miter\" stroke=\"rgb(0%, 0%, 0%)\" stroke-opacity=\"1\" stroke-miterlimit=\"10\" d=\"M 0.000850906 -39.518402 C 0.000850906 -46.33285 0.000850906 -50.179844 0.000850906 -56.994293 \" transform=\"matrix(0.985957, 0, 0, -0.985957, 22.358536, 57.083449)\"/>\n",
       "</g>\n",
       "</svg>\n",
       "\n"
      ],
      "text/plain": [
       "Catlab.Graphics.TikZ.Document(Catlab.Graphics.TikZ.Picture(Catlab.Graphics.TikZ.Statement[Catlab.Graphics.TikZ.Node(\"root\", Catlab.Graphics.TikZ.Property[Catlab.Graphics.TikZ.Property(\"outer box\", nothing), Catlab.Graphics.TikZ.Property(\"minimum width\", \"4\\\\tikzunit\"), Catlab.Graphics.TikZ.Property(\"minimum height\", \"10\\\\tikzunit\")], Catlab.Graphics.TikZ.Coordinate(\"0\", \"0\"), \"\"), Catlab.Graphics.TikZ.Node(\"n1\", Catlab.Graphics.TikZ.Property[Catlab.Graphics.TikZ.Property(\"triangular box\", nothing), Catlab.Graphics.TikZ.Property(\"minimum size\", \"2\\\\tikzunit\")], Catlab.Graphics.TikZ.Coordinate(\"0\", \"2\"), \"\\$f\\$\"), Catlab.Graphics.TikZ.Node(\"n2\", Catlab.Graphics.TikZ.Property[Catlab.Graphics.TikZ.Property(\"inverse triangular box\", nothing), Catlab.Graphics.TikZ.Property(\"minimum size\", \"2\\\\tikzunit\")], Catlab.Graphics.TikZ.Coordinate(\"0\", \"-2\"), \"\\$g\\$\"), Catlab.Graphics.TikZ.Edge(Catlab.Graphics.TikZ.PathExpression[Catlab.Graphics.TikZ.NodeCoordinate(\"root.north\"), Catlab.Graphics.TikZ.PathOperation(\"to\", Catlab.Graphics.TikZ.Property[Catlab.Graphics.TikZ.Property(\"out\", \"-90\"), Catlab.Graphics.TikZ.Property(\"in\", \"90\")]), Catlab.Graphics.TikZ.NodeCoordinate(\"n1.north\")], Catlab.Graphics.TikZ.Property[Catlab.Graphics.TikZ.Property(\"wire\", nothing)]), Catlab.Graphics.TikZ.Edge(Catlab.Graphics.TikZ.PathExpression[Catlab.Graphics.TikZ.NodeCoordinate(\"n1.south\"), Catlab.Graphics.TikZ.PathOperation(\"to\", Catlab.Graphics.TikZ.Property[Catlab.Graphics.TikZ.Property(\"out\", \"-90\"), Catlab.Graphics.TikZ.Property(\"in\", \"90\")]), Catlab.Graphics.TikZ.NodeCoordinate(\"n2.north\")], Catlab.Graphics.TikZ.Property[Catlab.Graphics.TikZ.Property(\"wire\", nothing)]), Catlab.Graphics.TikZ.Edge(Catlab.Graphics.TikZ.PathExpression[Catlab.Graphics.TikZ.NodeCoordinate(\"n2.south\"), Catlab.Graphics.TikZ.PathOperation(\"to\", Catlab.Graphics.TikZ.Property[Catlab.Graphics.TikZ.Property(\"out\", \"-90\"), Catlab.Graphics.TikZ.Property(\"in\", \"90\")]), Catlab.Graphics.TikZ.NodeCoordinate(\"root.south\")], Catlab.Graphics.TikZ.Property[Catlab.Graphics.TikZ.Property(\"wire\", nothing)])], Catlab.Graphics.TikZ.Property[Catlab.Graphics.TikZ.Property(\"unit length/.code\", \"{{\\\\newdimen\\\\tikzunit}\\\\setlength{\\\\tikzunit}{#1}}\"), Catlab.Graphics.TikZ.Property(\"unit length\", \"4mm\"), Catlab.Graphics.TikZ.Property(\"x\", \"\\\\tikzunit\"), Catlab.Graphics.TikZ.Property(\"y\", \"\\\\tikzunit\"), Catlab.Graphics.TikZ.Property(\"semithick\", nothing), Catlab.Graphics.TikZ.Property(\"inverse triangular box/.style\", Catlab.Graphics.TikZ.Property[Catlab.Graphics.TikZ.Property(\"isosceles triangle\", nothing), Catlab.Graphics.TikZ.Property(\"isosceles triangle stretches\", nothing), Catlab.Graphics.TikZ.Property(\"shape border rotate\", \"270\"), Catlab.Graphics.TikZ.Property(\"draw\", nothing), Catlab.Graphics.TikZ.Property(\"solid\", nothing), Catlab.Graphics.TikZ.Property(\"sharp corners\", nothing), Catlab.Graphics.TikZ.Property(\"inner sep\", \"0\")]), Catlab.Graphics.TikZ.Property(\"outer box/.style\", Catlab.Graphics.TikZ.Property[Catlab.Graphics.TikZ.Property(\"draw\", \"none\")]), Catlab.Graphics.TikZ.Property(\"triangular box/.style\", Catlab.Graphics.TikZ.Property[Catlab.Graphics.TikZ.Property(\"isosceles triangle\", nothing), Catlab.Graphics.TikZ.Property(\"isosceles triangle stretches\", nothing), Catlab.Graphics.TikZ.Property(\"shape border rotate\", \"90\"), Catlab.Graphics.TikZ.Property(\"draw\", nothing), Catlab.Graphics.TikZ.Property(\"solid\", nothing), Catlab.Graphics.TikZ.Property(\"sharp corners\", nothing), Catlab.Graphics.TikZ.Property(\"inner sep\", \"0\")]), Catlab.Graphics.TikZ.Property(\"wire/.style\", Catlab.Graphics.TikZ.Property[Catlab.Graphics.TikZ.Property(\"draw\", nothing)])]), [\"calc\", \"shapes.geometric\"], [\"amssymb\"])"
      ]
     },
     "execution_count": 26,
     "metadata": {},
     "output_type": "execute_result"
    }
   ],
   "source": [
    "to_tikz(f⋅g, orientation=TopToBottom, rounded_boxes=false, box_shapes=Dict(\n",
    "  f => :triangle, g => :invtriangle,\n",
    "))"
   ]
  },
  {
   "cell_type": "code",
   "execution_count": 27,
   "metadata": {},
   "outputs": [
    {
     "data": {
      "image/svg+xml": [
       "<?xml version=\"1.0\" encoding=\"UTF-8\"?>\n",
       "<svg xmlns=\"http://www.w3.org/2000/svg\" xmlns:xlink=\"http://www.w3.org/1999/xlink\" width=\"114.581\" height=\"45.354\" viewBox=\"0 0 114.581 45.354\">\n",
       "<defs>\n",
       "<g>\n",
       "<g id=\"glyph-1717857318698410--0-0\">\n",
       "<path d=\"M 3.609375 -3.9375 L 4.453125 -3.9375 C 4.65625 -3.9375 4.75 -3.9375 4.75 -4.125 C 4.75 -4.234375 4.65625 -4.234375 4.484375 -4.234375 L 3.671875 -4.234375 L 3.875 -5.359375 C 3.90625 -5.5625 4.046875 -6.265625 4.109375 -6.375 C 4.203125 -6.5625 4.359375 -6.71875 4.5625 -6.71875 C 4.609375 -6.71875 4.859375 -6.71875 5.046875 -6.53125 C 4.625 -6.5 4.515625 -6.15625 4.515625 -6 C 4.515625 -5.78125 4.703125 -5.65625 4.890625 -5.65625 C 5.140625 -5.65625 5.421875 -5.875 5.421875 -6.25 C 5.421875 -6.703125 4.96875 -6.921875 4.5625 -6.921875 C 4.234375 -6.921875 3.609375 -6.75 3.328125 -5.78125 C 3.265625 -5.578125 3.234375 -5.46875 3 -4.234375 L 2.3125 -4.234375 C 2.125 -4.234375 2.03125 -4.234375 2.03125 -4.046875 C 2.03125 -3.9375 2.109375 -3.9375 2.296875 -3.9375 L 2.953125 -3.9375 L 2.21875 -0.046875 C 2.03125 0.90625 1.875 1.796875 1.359375 1.796875 C 1.3125 1.796875 1.078125 1.796875 0.890625 1.625 C 1.34375 1.59375 1.421875 1.234375 1.421875 1.09375 C 1.421875 0.859375 1.25 0.75 1.0625 0.75 C 0.8125 0.75 0.515625 0.96875 0.515625 1.34375 C 0.515625 1.78125 0.953125 2.015625 1.359375 2.015625 C 1.890625 2.015625 2.296875 1.4375 2.46875 1.0625 C 2.78125 0.4375 3 -0.75 3.015625 -0.8125 Z M 3.609375 -3.9375 \"/>\n",
       "</g>\n",
       "<g id=\"glyph-1717857318698410--0-1\">\n",
       "<path d=\"M 4.625 -3.703125 C 4.640625 -3.765625 4.65625 -3.8125 4.65625 -3.875 C 4.65625 -4.046875 4.546875 -4.140625 4.375 -4.140625 C 4.28125 -4.140625 4.015625 -4.078125 3.96875 -3.71875 C 3.796875 -4.09375 3.453125 -4.34375 3.0625 -4.34375 C 1.9375 -4.34375 0.71875 -2.96875 0.71875 -1.546875 C 0.71875 -0.578125 1.3125 0 2.03125 0 C 2.609375 0 3.0625 -0.46875 3.171875 -0.5625 C 2.96875 0.3125 2.84375 0.71875 2.84375 0.734375 C 2.8125 0.828125 2.484375 1.796875 1.4375 1.796875 C 1.25 1.796875 0.921875 1.78125 0.65625 1.703125 C 0.9375 1.609375 1.046875 1.359375 1.046875 1.1875 C 1.046875 1.03125 0.9375 0.84375 0.671875 0.84375 C 0.46875 0.84375 0.140625 1.015625 0.140625 1.421875 C 0.140625 1.8125 0.515625 2.015625 1.453125 2.015625 C 2.6875 2.015625 3.390625 1.25 3.53125 0.65625 Z M 3.34375 -1.265625 C 3.296875 -1 3.0625 -0.75 2.84375 -0.5625 C 2.640625 -0.390625 2.34375 -0.21875 2.046875 -0.21875 C 1.5625 -0.21875 1.421875 -0.734375 1.421875 -1.125 C 1.421875 -1.59375 1.703125 -2.75 1.96875 -3.25 C 2.234375 -3.734375 2.65625 -4.125 3.0625 -4.125 C 3.71875 -4.125 3.859375 -3.328125 3.859375 -3.28125 C 3.859375 -3.234375 3.828125 -3.171875 3.828125 -3.140625 Z M 3.34375 -1.265625 \"/>\n",
       "</g>\n",
       "</g>\n",
       "<clipPath id=\"clip-1717857318698410--0\">\n",
       "<path clip-rule=\"nonzero\" d=\"M 0.597656 14 L 32 14 L 32 31 L 0.597656 31 Z M 0.597656 14 \"/>\n",
       "</clipPath>\n",
       "<clipPath id=\"clip-1717857318698410--1\">\n",
       "<path clip-rule=\"nonzero\" d=\"M 82 14 L 113.570312 14 L 113.570312 31 L 82 31 Z M 82 14 \"/>\n",
       "</clipPath>\n",
       "</defs>\n",
       "<path fill=\"none\" stroke-width=\"0.59776\" stroke-linecap=\"butt\" stroke-linejoin=\"miter\" stroke=\"rgb(0%, 0%, 0%)\" stroke-opacity=\"1\" stroke-miterlimit=\"10\" d=\"M -30.049402 10.949809 L -15.303252 9.507682 C -13.112328 9.29374 -11.337402 7.332605 -11.337402 5.133757 L -11.337402 -5.135459 C -11.337402 -7.334307 -13.112328 -9.29148 -15.303252 -9.505422 L -30.049402 -10.951511 C -32.240326 -11.165453 -34.015253 -9.552965 -34.015253 -7.354116 L -34.015253 7.352415 C -34.015253 9.555225 -32.240326 11.163751 -30.049402 10.949809 Z M -30.049402 10.949809 \" transform=\"matrix(0.985957, 0, 0, -0.985957, 57.084435, 22.358536)\"/>\n",
       "<g fill=\"rgb(0%, 0%, 0%)\" fill-opacity=\"1\">\n",
       "<use xlink:href=\"#glyph-1717857318698410--0-0\" x=\"31.791692\" y=\"24.814554\"/>\n",
       "</g>\n",
       "<path fill=\"none\" stroke-width=\"0.59776\" stroke-linecap=\"butt\" stroke-linejoin=\"miter\" stroke=\"rgb(0%, 0%, 0%)\" stroke-opacity=\"1\" stroke-miterlimit=\"10\" d=\"M 30.048488 -10.975283 L 15.3063 -9.62824 C 13.115375 -9.430146 11.340449 -7.480897 11.340449 -5.282049 L 11.340449 5.280347 C 11.340449 7.483157 13.115375 9.428444 15.3063 9.630501 L 30.048488 10.977543 C 32.239412 11.175637 34.014338 9.555225 34.014338 7.352415 L 34.014338 -7.354116 C 34.014338 -9.552965 32.239412 -11.177339 30.048488 -10.975283 Z M 30.048488 -10.975283 \" transform=\"matrix(0.985957, 0, 0, -0.985957, 57.084435, 22.358536)\"/>\n",
       "<g fill=\"rgb(0%, 0%, 0%)\" fill-opacity=\"1\">\n",
       "<use xlink:href=\"#glyph-1717857318698410--0-1\" x=\"76.923852\" y=\"23.518021\"/>\n",
       "</g>\n",
       "<g clip-path=\"url(#clip-1717857318698410--0)\">\n",
       "<path fill=\"none\" stroke-width=\"0.59776\" stroke-linecap=\"butt\" stroke-linejoin=\"miter\" stroke=\"rgb(0%, 0%, 0%)\" stroke-opacity=\"1\" stroke-miterlimit=\"10\" d=\"M -56.994207 -0.000850906 C -48.151271 -0.000850906 -43.159292 -0.000850906 -34.316356 -0.000850906 \" transform=\"matrix(0.985957, 0, 0, -0.985957, 57.084435, 22.358536)\"/>\n",
       "</g>\n",
       "<path fill=\"none\" stroke-width=\"0.59776\" stroke-linecap=\"butt\" stroke-linejoin=\"miter\" stroke=\"rgb(0%, 0%, 0%)\" stroke-opacity=\"1\" stroke-miterlimit=\"10\" d=\"M -11.036298 -0.000850906 C -2.427114 -0.000850906 2.430162 -0.000850906 11.039346 -0.000850906 \" transform=\"matrix(0.985957, 0, 0, -0.985957, 57.084435, 22.358536)\"/>\n",
       "<g clip-path=\"url(#clip-1717857318698410--1)\">\n",
       "<path fill=\"none\" stroke-width=\"0.59776\" stroke-linecap=\"butt\" stroke-linejoin=\"miter\" stroke=\"rgb(0%, 0%, 0%)\" stroke-opacity=\"1\" stroke-miterlimit=\"10\" d=\"M 34.315442 -0.000850906 C 43.158377 -0.000850906 48.150357 -0.000850906 56.993293 -0.000850906 \" transform=\"matrix(0.985957, 0, 0, -0.985957, 57.084435, 22.358536)\"/>\n",
       "</g>\n",
       "</svg>\n",
       "\n"
      ],
      "text/plain": [
       "Catlab.Graphics.TikZ.Document(Catlab.Graphics.TikZ.Picture(Catlab.Graphics.TikZ.Statement[Catlab.Graphics.TikZ.Node(\"root\", Catlab.Graphics.TikZ.Property[Catlab.Graphics.TikZ.Property(\"outer box\", nothing), Catlab.Graphics.TikZ.Property(\"minimum width\", \"10\\\\tikzunit\"), Catlab.Graphics.TikZ.Property(\"minimum height\", \"4\\\\tikzunit\")], Catlab.Graphics.TikZ.Coordinate(\"0\", \"0\"), \"\"), Catlab.Graphics.TikZ.Node(\"n1\", Catlab.Graphics.TikZ.Property[Catlab.Graphics.TikZ.Property(\"inverse trapezoidal box\", nothing), Catlab.Graphics.TikZ.Property(\"minimum size\", \"2\\\\tikzunit\")], Catlab.Graphics.TikZ.Coordinate(\"-2\", \"0\"), \"\\$f\\$\"), Catlab.Graphics.TikZ.Node(\"n2\", Catlab.Graphics.TikZ.Property[Catlab.Graphics.TikZ.Property(\"trapezoidal box\", nothing), Catlab.Graphics.TikZ.Property(\"minimum size\", \"2\\\\tikzunit\")], Catlab.Graphics.TikZ.Coordinate(\"2\", \"0\"), \"\\$g\\$\"), Catlab.Graphics.TikZ.Edge(Catlab.Graphics.TikZ.PathExpression[Catlab.Graphics.TikZ.NodeCoordinate(\"root.west\"), Catlab.Graphics.TikZ.PathOperation(\"to\", Catlab.Graphics.TikZ.Property[Catlab.Graphics.TikZ.Property(\"out\", \"0\"), Catlab.Graphics.TikZ.Property(\"in\", \"-180\")]), Catlab.Graphics.TikZ.NodeCoordinate(\"n1.west\")], Catlab.Graphics.TikZ.Property[Catlab.Graphics.TikZ.Property(\"wire\", nothing)]), Catlab.Graphics.TikZ.Edge(Catlab.Graphics.TikZ.PathExpression[Catlab.Graphics.TikZ.NodeCoordinate(\"n1.east\"), Catlab.Graphics.TikZ.PathOperation(\"to\", Catlab.Graphics.TikZ.Property[Catlab.Graphics.TikZ.Property(\"out\", \"0\"), Catlab.Graphics.TikZ.Property(\"in\", \"-180\")]), Catlab.Graphics.TikZ.NodeCoordinate(\"n2.west\")], Catlab.Graphics.TikZ.Property[Catlab.Graphics.TikZ.Property(\"wire\", nothing)]), Catlab.Graphics.TikZ.Edge(Catlab.Graphics.TikZ.PathExpression[Catlab.Graphics.TikZ.NodeCoordinate(\"n2.east\"), Catlab.Graphics.TikZ.PathOperation(\"to\", Catlab.Graphics.TikZ.Property[Catlab.Graphics.TikZ.Property(\"out\", \"0\"), Catlab.Graphics.TikZ.Property(\"in\", \"180\")]), Catlab.Graphics.TikZ.NodeCoordinate(\"root.east\")], Catlab.Graphics.TikZ.Property[Catlab.Graphics.TikZ.Property(\"wire\", nothing)])], Catlab.Graphics.TikZ.Property[Catlab.Graphics.TikZ.Property(\"unit length/.code\", \"{{\\\\newdimen\\\\tikzunit}\\\\setlength{\\\\tikzunit}{#1}}\"), Catlab.Graphics.TikZ.Property(\"unit length\", \"4mm\"), Catlab.Graphics.TikZ.Property(\"x\", \"\\\\tikzunit\"), Catlab.Graphics.TikZ.Property(\"y\", \"\\\\tikzunit\"), Catlab.Graphics.TikZ.Property(\"semithick\", nothing), Catlab.Graphics.TikZ.Property(\"inverse trapezoidal box/.style\", Catlab.Graphics.TikZ.Property[Catlab.Graphics.TikZ.Property(\"trapezium\", nothing), Catlab.Graphics.TikZ.Property(\"trapezium angle\", \"80\"), Catlab.Graphics.TikZ.Property(\"trapezium stretches body\", nothing), Catlab.Graphics.TikZ.Property(\"shape border rotate\", \"270\"), Catlab.Graphics.TikZ.Property(\"draw\", nothing), Catlab.Graphics.TikZ.Property(\"solid\", nothing), Catlab.Graphics.TikZ.Property(\"rounded corners\", nothing)]), Catlab.Graphics.TikZ.Property(\"outer box/.style\", Catlab.Graphics.TikZ.Property[Catlab.Graphics.TikZ.Property(\"draw\", \"none\")]), Catlab.Graphics.TikZ.Property(\"trapezoidal box/.style\", Catlab.Graphics.TikZ.Property[Catlab.Graphics.TikZ.Property(\"trapezium\", nothing), Catlab.Graphics.TikZ.Property(\"trapezium angle\", \"80\"), Catlab.Graphics.TikZ.Property(\"trapezium stretches body\", nothing), Catlab.Graphics.TikZ.Property(\"shape border rotate\", \"90\"), Catlab.Graphics.TikZ.Property(\"draw\", nothing), Catlab.Graphics.TikZ.Property(\"solid\", nothing), Catlab.Graphics.TikZ.Property(\"rounded corners\", nothing)]), Catlab.Graphics.TikZ.Property(\"wire/.style\", Catlab.Graphics.TikZ.Property[Catlab.Graphics.TikZ.Property(\"draw\", nothing)])]), [\"calc\", \"shapes.geometric\"], [\"amssymb\"])"
      ]
     },
     "execution_count": 27,
     "metadata": {},
     "output_type": "execute_result"
    }
   ],
   "source": [
    "to_tikz(f⋅g, box_shapes=Dict(\n",
    "  f => :invtrapezium, g => :trapezium,\n",
    "))"
   ]
  },
  {
   "cell_type": "markdown",
   "metadata": {},
   "source": [
    "## Output formats"
   ]
  },
  {
   "cell_type": "markdown",
   "metadata": {},
   "source": [
    "The function `to_tikz` returns an object of type `TikZ.Document`, representing\n",
    "a TikZ picture and its TikZ library dependencies as an abstract syntax tree.\n",
    "When displayed interactively, this object is compiled by LaTeX to PDF and then\n",
    "converted to SVG."
   ]
  },
  {
   "cell_type": "markdown",
   "metadata": {},
   "source": [
    "To generate the LaTeX source code, use the builtin pretty-printer. This\n",
    "feature does not require LaTeX or TikzPictures.jl to be installed."
   ]
  },
  {
   "cell_type": "code",
   "execution_count": 28,
   "metadata": {},
   "outputs": [
    {
     "name": "stdout",
     "output_type": "stream",
     "text": [
      "\\usepackage{amssymb}\n",
      "\\usetikzlibrary{calc}\n",
      "\\usetikzlibrary{shapes.geometric}\n",
      "\\begin{tikzpicture}[unit length/.code={{\\newdimen\\tikzunit}\\setlength{\\tikzunit}{#1}},unit length=4mm,x=\\tikzunit,y=\\tikzunit,semithick,box/.style={rectangle,draw,solid,rounded corners},outer box/.style={draw=none},wire/.style={draw}]\n",
      "  \\node[outer box,minimum width=10\\tikzunit,minimum height=4\\tikzunit] (root) at (0,0) {};\n",
      "  \\node[box,minimum size=2\\tikzunit] (n1) at (-2,0) {$f$};\n",
      "  \\node[box,minimum size=2\\tikzunit] (n2) at (2,0) {$g$};\n",
      "  \\path[wire] (root.west) to[out=0,in=-180] (n1.west);\n",
      "  \\path[wire] (n1.east) to[out=0,in=-180] (n2.west);\n",
      "  \\path[wire] (n2.east) to[out=0,in=180] (root.east);\n",
      "\\end{tikzpicture}"
     ]
    }
   ],
   "source": [
    "import Catlab.Graphics: TikZ\n",
    "\n",
    "doc = to_tikz(f⋅g)\n",
    "TikZ.pprint(doc)"
   ]
  }
 ],
 "metadata": {
  "kernelspec": {
   "display_name": "Julia 1.10.4",
   "language": "julia",
   "name": "julia-1.10"
  },
  "language_info": {
   "file_extension": ".jl",
   "mimetype": "application/julia",
   "name": "julia",
   "version": "1.10.4"
  }
 },
 "nbformat": 4,
 "nbformat_minor": 4
}
