{
 "cells": [
  {
   "cell_type": "markdown",
   "source": [
    "# Drawing wiring diagrams in TikZ\n",
    "\n",
    "\n",
    "Catlab can draw morphism expressions as TikZ pictures. To use this feature,\n",
    "LaTeX must be installed and the Julia package\n",
    "[TikzPictures.jl](https://github.com/sisl/TikzPictures.jl) must be loaded.\n",
    "\n",
    "For best results, it is recommended to load the packages\n",
    "[Convex.j](https://github.com/JuliaOpt/Convex.jl) and\n",
    "[SCS.jl](https://github.com/JuliaOpt/SCS.jl). When available they are used to\n",
    "optimize the layout of the outer ports."
   ],
   "metadata": {}
  },
  {
   "outputs": [],
   "cell_type": "code",
   "source": [
    "using Catlab.WiringDiagrams, Catlab.Graphics\n",
    "\n",
    "import Convex, SCS\n",
    "import TikzPictures"
   ],
   "metadata": {},
   "execution_count": null
  },
  {
   "cell_type": "markdown",
   "source": [
    "## Examples"
   ],
   "metadata": {}
  },
  {
   "cell_type": "markdown",
   "source": [
    "### Symmetric monoidal category"
   ],
   "metadata": {}
  },
  {
   "outputs": [],
   "cell_type": "code",
   "source": [
    "using Catlab.Theories\n",
    "\n",
    "A, B, C, D = Ob(FreeSymmetricMonoidalCategory, :A, :B, :C, :D)\n",
    "f, g = Hom(:f, A, B), Hom(:g, B, A);"
   ],
   "metadata": {},
   "execution_count": null
  },
  {
   "cell_type": "markdown",
   "source": [
    "To start, here are a few very simple examples."
   ],
   "metadata": {}
  },
  {
   "outputs": [],
   "cell_type": "code",
   "source": [
    "to_tikz(f, labels=true)"
   ],
   "metadata": {},
   "execution_count": null
  },
  {
   "outputs": [],
   "cell_type": "code",
   "source": [
    "to_tikz(f⋅g, labels=true)"
   ],
   "metadata": {},
   "execution_count": null
  },
  {
   "outputs": [],
   "cell_type": "code",
   "source": [
    "to_tikz(f⊗g, labels=true, orientation=TopToBottom)"
   ],
   "metadata": {},
   "execution_count": null
  },
  {
   "cell_type": "markdown",
   "source": [
    "Here is a more complex example, involving generators with compound domains and\n",
    "codomains."
   ],
   "metadata": {}
  },
  {
   "outputs": [],
   "cell_type": "code",
   "source": [
    "h, k = Hom(:h, C, D),  Hom(:k, D, C)\n",
    "m, n = Hom(:m, B⊗A, A⊗B), Hom(:n, D⊗C, C⊗D)\n",
    "q = Hom(:l, A⊗B⊗C⊗D, D⊗C⊗B⊗A)\n",
    "\n",
    "to_tikz((f⊗g⊗h⊗k)⋅(m⊗n)⋅q⋅(n⊗m)⋅(h⊗k⊗f⊗g))"
   ],
   "metadata": {},
   "execution_count": null
  },
  {
   "cell_type": "markdown",
   "source": [
    "Identities and braidings appear as wires."
   ],
   "metadata": {}
  },
  {
   "outputs": [],
   "cell_type": "code",
   "source": [
    "to_tikz(id(A), labels=true)"
   ],
   "metadata": {},
   "execution_count": null
  },
  {
   "outputs": [],
   "cell_type": "code",
   "source": [
    "to_tikz(braid(A,B), labels=true, labels_pos=0.25)"
   ],
   "metadata": {},
   "execution_count": null
  },
  {
   "outputs": [],
   "cell_type": "code",
   "source": [
    "to_tikz(braid(A,B) ⋅ (g⊗f) ⋅ braid(A,B))"
   ],
   "metadata": {},
   "execution_count": null
  },
  {
   "cell_type": "markdown",
   "source": [
    "The isomorphism $A \\otimes B \\otimes C \\to C \\otimes B \\otimes A$ induced by\n",
    "the permutation $(3\\ 2\\ 1)$ is a composite of braidings and identities."
   ],
   "metadata": {}
  },
  {
   "outputs": [],
   "cell_type": "code",
   "source": [
    "σ = (braid(A,B) ⊗ id(C)) ⋅ (id(B) ⊗ braid(A,C) ⋅ (braid(B,C) ⊗ id(A)))\n",
    "\n",
    "to_tikz(σ, arrowtip=\"Stealth\", arrowtip_pos=\"-0.1pt\",\n",
    "        labels=true, labels_pos=\"0.1pt\")"
   ],
   "metadata": {},
   "execution_count": null
  },
  {
   "cell_type": "markdown",
   "source": [
    "By default, anchor points are added along identity and braiding wires to\n",
    "reproduce the expression structure in the layout. The anchors can be disabled\n",
    "to get a more \"unbiased\" layout."
   ],
   "metadata": {}
  },
  {
   "outputs": [],
   "cell_type": "code",
   "source": [
    "to_tikz(σ, anchor_wires=false, arrowtip=\"Stealth\", arrowtip_pos=\"-0.1pt\",\n",
    "        labels=true, labels_pos=\"0.1pt\")"
   ],
   "metadata": {},
   "execution_count": null
  },
  {
   "cell_type": "markdown",
   "source": [
    "### Biproduct category"
   ],
   "metadata": {}
  },
  {
   "outputs": [],
   "cell_type": "code",
   "source": [
    "A, B, C = Ob(FreeBiproductCategory, :A, :B, :C)\n",
    "f = Hom(:f, A, B)\n",
    "\n",
    "to_tikz(mcopy(A), labels=true)"
   ],
   "metadata": {},
   "execution_count": null
  },
  {
   "outputs": [],
   "cell_type": "code",
   "source": [
    "to_tikz(delete(A), labels=true)"
   ],
   "metadata": {},
   "execution_count": null
  },
  {
   "outputs": [],
   "cell_type": "code",
   "source": [
    "to_tikz(mcopy(A)⋅(f⊗f)⋅mmerge(B), labels=true)"
   ],
   "metadata": {},
   "execution_count": null
  },
  {
   "outputs": [],
   "cell_type": "code",
   "source": [
    "to_tikz(mcopy(A⊗B), orientation=TopToBottom, labels=true)"
   ],
   "metadata": {},
   "execution_count": null
  },
  {
   "outputs": [],
   "cell_type": "code",
   "source": [
    "to_tikz(mcopy(A⊗B⊗C), orientation=TopToBottom, labels=true)"
   ],
   "metadata": {},
   "execution_count": null
  },
  {
   "cell_type": "markdown",
   "source": [
    "### Compact closed category"
   ],
   "metadata": {}
  },
  {
   "cell_type": "markdown",
   "source": [
    "The unit and co-unit of a compact closed category appear as caps and cups."
   ],
   "metadata": {}
  },
  {
   "outputs": [],
   "cell_type": "code",
   "source": [
    "A, B = Ob(FreeCompactClosedCategory, :A, :B)\n",
    "\n",
    "to_tikz(dunit(A), arrowtip=\"Stealth\", labels=true)"
   ],
   "metadata": {},
   "execution_count": null
  },
  {
   "outputs": [],
   "cell_type": "code",
   "source": [
    "to_tikz(dcounit(A), arrowtip=\"Stealth\", labels=true)"
   ],
   "metadata": {},
   "execution_count": null
  },
  {
   "cell_type": "markdown",
   "source": [
    "In a self-dual compact closed category, such as a bicategory of relations,\n",
    "every morphism $f: A \\to B$ has a transpose $f^\\dagger: B \\to A$ given by\n",
    "bending wires:"
   ],
   "metadata": {}
  },
  {
   "outputs": [],
   "cell_type": "code",
   "source": [
    "A, B = Ob(FreeBicategoryRelations, :A, :B)\n",
    "f = Hom(:f, A, B)\n",
    "\n",
    "to_tikz((dunit(A) ⊗ id(B)) ⋅ (id(A) ⊗ f ⊗ id(B)) ⋅ (id(A) ⊗ dcounit(B)))"
   ],
   "metadata": {},
   "execution_count": null
  },
  {
   "cell_type": "markdown",
   "source": [
    "### Abelian bicategory of relations"
   ],
   "metadata": {}
  },
  {
   "cell_type": "markdown",
   "source": [
    "In an abelian bicategory of relations, such as the category of linear\n",
    "relations, the duplication morphisms $\\Delta_X: X \\to X \\oplus X$ and addition\n",
    "morphisms $\\blacktriangledown_X: X \\oplus X \\to X$ belong to a bimonoid. Among\n",
    "other things, this means that the following two morphisms are equal."
   ],
   "metadata": {}
  },
  {
   "outputs": [],
   "cell_type": "code",
   "source": [
    "X = Ob(FreeAbelianBicategoryRelations, :X)\n",
    "\n",
    "to_tikz(plus(X) ⋅ mcopy(X))"
   ],
   "metadata": {},
   "execution_count": null
  },
  {
   "outputs": [],
   "cell_type": "code",
   "source": [
    "to_tikz((mcopy(X)⊕mcopy(X)) ⋅ (id(X)⊕swap(X,X)⊕id(X)) ⋅ (plus(X)⊕plus(X)))"
   ],
   "metadata": {},
   "execution_count": null
  },
  {
   "cell_type": "markdown",
   "source": [
    "## Custom styles"
   ],
   "metadata": {}
  },
  {
   "cell_type": "markdown",
   "source": [
    "The visual appearance of wiring diagrams can be customized using the builtin\n",
    "options or by redefining the TikZ styles for the boxes or wires."
   ],
   "metadata": {}
  },
  {
   "outputs": [],
   "cell_type": "code",
   "source": [
    "A, B, = Ob(FreeSymmetricMonoidalCategory, :A, :B)\n",
    "f, g = Hom(:f, A, B), Hom(:g, B, A)\n",
    "\n",
    "pic = to_tikz(f⋅g, styles=Dict(\n",
    "  \"box\" => [\"draw\", \"fill\"=>\"{rgb,255: red,230; green,230; blue,250}\"],\n",
    "))"
   ],
   "metadata": {},
   "execution_count": null
  },
  {
   "outputs": [],
   "cell_type": "code",
   "source": [
    "X = Ob(FreeAbelianBicategoryRelations, :X)\n",
    "\n",
    "to_tikz(plus(X) ⋅ mcopy(X), styles=Dict(\n",
    "  \"junction\" => [\"circle\", \"draw\", \"fill\"=>\"red\", \"inner sep\"=>\"0\"],\n",
    "  \"variant junction\" => [\"circle\", \"draw\", \"fill\"=>\"blue\", \"inner sep\"=>\"0\"],\n",
    "))"
   ],
   "metadata": {},
   "execution_count": null
  },
  {
   "cell_type": "markdown",
   "source": [
    "By default, the boxes are rectangular (`:rectangle`). Other available shapes\n",
    "include circles (`:circle`), ellipses (`:ellipse`), triangles (`:triangle`,\n",
    "`:invtriangle`), and trapezoids (`:trapezium`, `:invtrapezium`)."
   ],
   "metadata": {}
  },
  {
   "outputs": [],
   "cell_type": "code",
   "source": [
    "to_tikz(f⋅g, default_box_shape=:circle)"
   ],
   "metadata": {},
   "execution_count": null
  },
  {
   "outputs": [],
   "cell_type": "code",
   "source": [
    "to_tikz(f⋅g, rounded_boxes=false, box_shapes=Dict(\n",
    "  f => :triangle, g => :invtriangle,\n",
    "))"
   ],
   "metadata": {},
   "execution_count": null
  },
  {
   "outputs": [],
   "cell_type": "code",
   "source": [
    "to_tikz(f⋅g, orientation=TopToBottom, rounded_boxes=false, box_shapes=Dict(\n",
    "  f => :triangle, g => :invtriangle,\n",
    "))"
   ],
   "metadata": {},
   "execution_count": null
  },
  {
   "outputs": [],
   "cell_type": "code",
   "source": [
    "to_tikz(f⋅g, box_shapes=Dict(\n",
    "  f => :invtrapezium, g => :trapezium,\n",
    "))"
   ],
   "metadata": {},
   "execution_count": null
  },
  {
   "cell_type": "markdown",
   "source": [
    "## Output formats"
   ],
   "metadata": {}
  },
  {
   "cell_type": "markdown",
   "source": [
    "The function `to_tikz` returns an object of type `TikZ.Document`, representing\n",
    "a TikZ picture and its TikZ library dependencies as an abstract syntax tree.\n",
    "When displayed interactively, this object is compiled by LaTeX to PDF and then\n",
    "converted to SVG."
   ],
   "metadata": {}
  },
  {
   "cell_type": "markdown",
   "source": [
    "To generate the LaTeX source code, use the builtin pretty-printer. This\n",
    "feature does not require LaTeX or TikzPictures.jl to be installed."
   ],
   "metadata": {}
  },
  {
   "outputs": [],
   "cell_type": "code",
   "source": [
    "import Catlab.Graphics: TikZ\n",
    "\n",
    "doc = to_tikz(f⋅g)\n",
    "TikZ.pprint(doc)"
   ],
   "metadata": {},
   "execution_count": null
  }
 ],
 "nbformat_minor": 3,
 "metadata": {
  "language_info": {
   "file_extension": ".jl",
   "mimetype": "application/julia",
   "name": "julia",
   "version": "1.10.3"
  },
  "kernelspec": {
   "name": "julia-1.10",
   "display_name": "Julia 1.10.3",
   "language": "julia"
  }
 },
 "nbformat": 4
}
