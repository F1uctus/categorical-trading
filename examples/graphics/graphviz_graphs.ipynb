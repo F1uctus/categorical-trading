{
 "cells": [
  {
   "cell_type": "markdown",
   "source": [
    "# Drawing graphs in Graphviz\n",
    "\n",
    "\n",
    "All of the basic graph types provided by the Catlab `Graphs` module can be\n",
    "drawn using [Graphviz](https://www.graphviz.org/). By default, \"directed\"\n",
    "graph types (`Graph`, `ReflexiveGraph`) are drawn using the `dot` program and\n",
    "\"undirected\" graph types (`SymmetricGraph`, `HalfEdgeGraph`) are drawn using\n",
    "the `neato` program."
   ],
   "metadata": {}
  },
  {
   "outputs": [],
   "cell_type": "code",
   "source": [
    "using Catlab.Graphs, Catlab.Graphics"
   ],
   "metadata": {},
   "execution_count": null
  },
  {
   "cell_type": "markdown",
   "source": [
    "## Drawing basic graphs"
   ],
   "metadata": {}
  },
  {
   "outputs": [],
   "cell_type": "code",
   "source": [
    "g = cycle_graph(Graph, 3)\n",
    "to_graphviz(g)"
   ],
   "metadata": {},
   "execution_count": null
  },
  {
   "outputs": [],
   "cell_type": "code",
   "source": [
    "sg = cycle_graph(SymmetricGraph, 3)\n",
    "to_graphviz(sg)"
   ],
   "metadata": {},
   "execution_count": null
  },
  {
   "cell_type": "markdown",
   "source": [
    "Node and edge IDs can be shown by setting `node_labels=true` and\n",
    "`edge_labels=true`, or a data attribute can be used as a label by setting\n",
    "`node_labels=:my_vertex_attr` and `edge_lables=:my_edge_attr`."
   ],
   "metadata": {}
  },
  {
   "outputs": [],
   "cell_type": "code",
   "source": [
    "to_graphviz(g, node_labels=true, edge_labels=true)"
   ],
   "metadata": {},
   "execution_count": null
  },
  {
   "cell_type": "markdown",
   "source": [
    "Graph-level, node-level, and edge-level [Graphviz\n",
    "attributes](https://graphviz.org/doc/info/attrs.html) can be supplied using\n",
    "the `graph_attrs`, `node_attrs`, and `edge_attrs` keyword arguments."
   ],
   "metadata": {}
  },
  {
   "outputs": [],
   "cell_type": "code",
   "source": [
    "to_graphviz(g, node_attrs=Dict(:color => \"cornflowerblue\"),\n",
    "            edge_attrs=Dict(:style => \"dotted\"))"
   ],
   "metadata": {},
   "execution_count": null
  },
  {
   "cell_type": "markdown",
   "source": [
    "## Drawing graph homomorphisms\n",
    "\n",
    "Graph homomorphsims (`ACSetTransformation`s between graphs) can also be drawn\n",
    "using Graphviz, in several different styles."
   ],
   "metadata": {}
  },
  {
   "outputs": [],
   "cell_type": "code",
   "source": [
    "using Catlab.CategoricalAlgebra\n",
    "\n",
    "f = homomorphism(cycle_graph(Graph, 4), complete_graph(Graph, 2))"
   ],
   "metadata": {},
   "execution_count": null
  },
  {
   "cell_type": "markdown",
   "source": [
    "By default, the domain and codomain graph are both drawn, as well the vertex\n",
    "mapping between them."
   ],
   "metadata": {}
  },
  {
   "outputs": [],
   "cell_type": "code",
   "source": [
    "to_graphviz(f)"
   ],
   "metadata": {},
   "execution_count": null
  },
  {
   "cell_type": "markdown",
   "source": [
    "To see the edge mapping, which is not necessarily unique in the presence of\n",
    "the multiple edges, colors can be used."
   ],
   "metadata": {}
  },
  {
   "outputs": [],
   "cell_type": "code",
   "source": [
    "to_graphviz(f, edge_colors=true)"
   ],
   "metadata": {},
   "execution_count": null
  },
  {
   "cell_type": "markdown",
   "source": [
    "Alternatively, the graph homomorphism can be depicted by drawing only the\n",
    "domain graph and coloring its nodes and edges. By default, setting\n",
    "`draw_codom=false` sets both `node_colors=true` and `edge_colors=true`."
   ],
   "metadata": {}
  },
  {
   "outputs": [],
   "cell_type": "code",
   "source": [
    "to_graphviz(f, draw_codom=false)"
   ],
   "metadata": {},
   "execution_count": null
  },
  {
   "outputs": [],
   "cell_type": "code",
   "source": [
    "to_graphviz(f, draw_codom=false, edge_colors=false)"
   ],
   "metadata": {},
   "execution_count": null
  },
  {
   "cell_type": "markdown",
   "source": [
    "## Drawing maps between finite sets\n",
    "\n",
    "It is also possible to visualize maps between finite sets (`FinFunction`s\n",
    "between `FinSet`s) using Graphviz."
   ],
   "metadata": {}
  },
  {
   "outputs": [],
   "cell_type": "code",
   "source": [
    "using Catlab.CategoricalAlgebra.FinSets\n",
    "\n",
    "A = FinSet(4)\n",
    "B = FinSet(3)\n",
    "f = FinFunction([1,3,2,2], A, B)\n",
    "\n",
    "to_graphviz(f, graph_attrs=Dict(:splines=>\"false\"))"
   ],
   "metadata": {},
   "execution_count": null
  },
  {
   "outputs": [],
   "cell_type": "code",
   "source": [
    "to_graphviz(f, node_labels=true,\n",
    "            graph_attrs=Dict(:splines=>\"false\", :rankdir => \"TB\"))"
   ],
   "metadata": {},
   "execution_count": null
  }
 ],
 "nbformat_minor": 3,
 "metadata": {
  "language_info": {
   "file_extension": ".jl",
   "mimetype": "application/julia",
   "name": "julia",
   "version": "1.10.3"
  },
  "kernelspec": {
   "name": "julia-1.10",
   "display_name": "Julia 1.10.3",
   "language": "julia"
  }
 },
 "nbformat": 4
}
