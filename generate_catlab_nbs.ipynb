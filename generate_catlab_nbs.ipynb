{
 "cells": [
  {
   "cell_type": "code",
   "execution_count": 1,
   "id": "1337fe21-f6b8-4b32-a8fb-beb709e630ec",
   "metadata": {},
   "outputs": [
    {
     "name": "stderr",
     "output_type": "stream",
     "text": [
      "Cloning into 'Catlab.jl'...\n"
     ]
    },
    {
     "data": {
      "text/plain": [
       "Process(setenv(`\u001b[4m/opt/julia/artifacts/8cf34d79d19454822fddcbe0828c1858538ac1c9/bin/git\u001b[24m \u001b[4mclone\u001b[24m \u001b[4m--depth=1\u001b[24m \u001b[4mhttps://github.com/AlgebraicJulia/Catlab.jl\u001b[24m`,[\"_CE_M=\", \"PATH=/opt/julia/artifacts/1308e48c3f4f2fd9adaa56b9bd4a86a995d50abd/bin:/opt/julia/artifacts/4b858830ec17854ddd66b28a0f7c00193ec8b4c0/bin:/opt/julia/artifacts/8cf34d79d19454822fddcbe0828c1858538ac1c9/bin:/opt/conda/bin:/opt/conda/condabin:/opt/conda/bin:/usr/local/sbin:/usr/local/bin:/usr/sbin:/usr/bin:/sbin:/bin\", \"CONDA_PROMPT_MODIFIER=(base) \", \"JULIA_PKGDIR=/opt/julia\", \"PWD=/home/jovyan\", \"JPY_SESSION_NAME=/home/jovyan/generate_catlab_nbs.ipynb\", \"CONDA_DIR=/opt/conda\", \"COLUMNS=80\", \"GIT_EXEC_PATH=/opt/julia/artifacts/8cf34d79d19454822fddcbe0828c1858538ac1c9/libexec/git-core\", \"CONDA_PYTHON_EXE=/opt/conda/bin/python\"  …  \"LINES=30\", \"CONDA_SHLVL=1\", \"CONDA_EXE=/opt/conda/bin/conda\", \"HOME=/home/jovyan\", \"TERM=xterm\", \"NB_USER=jovyan\", \"JULIA_DEPOT_PATH=/opt/julia\", \"HOSTNAME=ef4fcbaa288d\", \"OPENBLAS_MAIN_FREE=1\", \"GIT_SSL_CAINFO=/opt/julia-1.10.3/share/julia/cert.pem\"]), ProcessExited(0))"
      ]
     },
     "execution_count": 1,
     "metadata": {},
     "output_type": "execute_result"
    }
   ],
   "source": [
    "import Git\n",
    "const git = Git.git()\n",
    "run(`$git clone --depth=1 https://github.com/AlgebraicJulia/Catlab.jl`)"
   ]
  },
  {
   "cell_type": "code",
   "execution_count": 2,
   "id": "0f428357-6574-4ed2-aa7c-6a77e9b46e9f",
   "metadata": {},
   "outputs": [],
   "source": [
    "using Documenter\n",
    "using Literate"
   ]
  },
  {
   "cell_type": "code",
   "execution_count": 3,
   "id": "90753cb7-dc87-435f-bb9e-e9928db98d46",
   "metadata": {},
   "outputs": [
    {
     "data": {
      "text/plain": [
       "\"/home/jovyan/examples\""
      ]
     },
     "execution_count": 3,
     "metadata": {},
     "output_type": "execute_result"
    }
   ],
   "source": [
    "const literate_dir = joinpath(@__DIR__, \"Catlab.jl\", \"docs\", \"literate\")\n",
    "const generated_dir = joinpath(@__DIR__, \"examples\")"
   ]
  },
  {
   "cell_type": "code",
   "execution_count": 4,
   "id": "cdd2296a-5954-437c-89ee-32ec4a813887",
   "metadata": {},
   "outputs": [
    {
     "name": "stderr",
     "output_type": "stream",
     "text": [
      "\u001b[36m\u001b[1m[ \u001b[22m\u001b[39m\u001b[36m\u001b[1mInfo: \u001b[22m\u001b[39mBuilding Literate.jl docs\n",
      "\u001b[36m\u001b[1m[ \u001b[22m\u001b[39m\u001b[36m\u001b[1mInfo: \u001b[22m\u001b[39mgenerating notebook from `~/Catlab.jl/docs/literate/graphics/composejl_wiring_diagrams.jl`\n",
      "\u001b[36m\u001b[1m[ \u001b[22m\u001b[39m\u001b[36m\u001b[1mInfo: \u001b[22m\u001b[39mwriting result to `~/examples/graphics/composejl_wiring_diagrams.ipynb`\n",
      "\u001b[36m\u001b[1m[ \u001b[22m\u001b[39m\u001b[36m\u001b[1mInfo: \u001b[22m\u001b[39mgenerating notebook from `~/Catlab.jl/docs/literate/graphics/graphviz_graphs.jl`\n",
      "\u001b[36m\u001b[1m[ \u001b[22m\u001b[39m\u001b[36m\u001b[1mInfo: \u001b[22m\u001b[39mwriting result to `~/examples/graphics/graphviz_graphs.ipynb`\n",
      "\u001b[36m\u001b[1m[ \u001b[22m\u001b[39m\u001b[36m\u001b[1mInfo: \u001b[22m\u001b[39mgenerating notebook from `~/Catlab.jl/docs/literate/graphics/graphviz_wiring_diagrams.jl`\n",
      "\u001b[36m\u001b[1m[ \u001b[22m\u001b[39m\u001b[36m\u001b[1mInfo: \u001b[22m\u001b[39mwriting result to `~/examples/graphics/graphviz_wiring_diagrams.ipynb`\n",
      "\u001b[36m\u001b[1m[ \u001b[22m\u001b[39m\u001b[36m\u001b[1mInfo: \u001b[22m\u001b[39mgenerating notebook from `~/Catlab.jl/docs/literate/graphics/layouts_vs_drawings.jl`\n",
      "\u001b[36m\u001b[1m[ \u001b[22m\u001b[39m\u001b[36m\u001b[1mInfo: \u001b[22m\u001b[39mwriting result to `~/examples/graphics/layouts_vs_drawings.ipynb`\n",
      "\u001b[36m\u001b[1m[ \u001b[22m\u001b[39m\u001b[36m\u001b[1mInfo: \u001b[22m\u001b[39mgenerating notebook from `~/Catlab.jl/docs/literate/graphics/tikz_wiring_diagrams.jl`\n",
      "\u001b[36m\u001b[1m[ \u001b[22m\u001b[39m\u001b[36m\u001b[1mInfo: \u001b[22m\u001b[39mwriting result to `~/examples/graphics/tikz_wiring_diagrams.ipynb`\n",
      "\u001b[36m\u001b[1m[ \u001b[22m\u001b[39m\u001b[36m\u001b[1mInfo: \u001b[22m\u001b[39mgenerating notebook from `~/Catlab.jl/docs/literate/graphs/graphs.jl`\n",
      "\u001b[36m\u001b[1m[ \u001b[22m\u001b[39m\u001b[36m\u001b[1mInfo: \u001b[22m\u001b[39mwriting result to `~/examples/graphs/graphs.ipynb`\n",
      "\u001b[36m\u001b[1m[ \u001b[22m\u001b[39m\u001b[36m\u001b[1mInfo: \u001b[22m\u001b[39mgenerating notebook from `~/Catlab.jl/docs/literate/graphs/graphs_label.jl`\n",
      "\u001b[36m\u001b[1m[ \u001b[22m\u001b[39m\u001b[36m\u001b[1mInfo: \u001b[22m\u001b[39mwriting result to `~/examples/graphs/graphs_label.ipynb`\n",
      "\u001b[36m\u001b[1m[ \u001b[22m\u001b[39m\u001b[36m\u001b[1mInfo: \u001b[22m\u001b[39mgenerating notebook from `~/Catlab.jl/docs/literate/graphs/subgraphs.jl`\n",
      "\u001b[36m\u001b[1m[ \u001b[22m\u001b[39m\u001b[36m\u001b[1mInfo: \u001b[22m\u001b[39mwriting result to `~/examples/graphs/subgraphs.ipynb`\n",
      "\u001b[36m\u001b[1m[ \u001b[22m\u001b[39m\u001b[36m\u001b[1mInfo: \u001b[22m\u001b[39mgenerating notebook from `~/Catlab.jl/docs/literate/sketches/cat_elements.jl`\n",
      "\u001b[36m\u001b[1m[ \u001b[22m\u001b[39m\u001b[36m\u001b[1mInfo: \u001b[22m\u001b[39mwriting result to `~/examples/sketches/cat_elements.ipynb`\n",
      "\u001b[36m\u001b[1m[ \u001b[22m\u001b[39m\u001b[36m\u001b[1mInfo: \u001b[22m\u001b[39mgenerating notebook from `~/Catlab.jl/docs/literate/sketches/meets.jl`\n",
      "\u001b[36m\u001b[1m[ \u001b[22m\u001b[39m\u001b[36m\u001b[1mInfo: \u001b[22m\u001b[39mwriting result to `~/examples/sketches/meets.ipynb`\n",
      "\u001b[36m\u001b[1m[ \u001b[22m\u001b[39m\u001b[36m\u001b[1mInfo: \u001b[22m\u001b[39mgenerating notebook from `~/Catlab.jl/docs/literate/sketches/partitions.jl`\n",
      "\u001b[36m\u001b[1m[ \u001b[22m\u001b[39m\u001b[36m\u001b[1mInfo: \u001b[22m\u001b[39mwriting result to `~/examples/sketches/partitions.ipynb`\n",
      "\u001b[36m\u001b[1m[ \u001b[22m\u001b[39m\u001b[36m\u001b[1mInfo: \u001b[22m\u001b[39mgenerating notebook from `~/Catlab.jl/docs/literate/sketches/preorders.jl`\n",
      "\u001b[36m\u001b[1m[ \u001b[22m\u001b[39m\u001b[36m\u001b[1mInfo: \u001b[22m\u001b[39mwriting result to `~/examples/sketches/preorders.ipynb`\n",
      "\u001b[36m\u001b[1m[ \u001b[22m\u001b[39m\u001b[36m\u001b[1mInfo: \u001b[22m\u001b[39mgenerating notebook from `~/Catlab.jl/docs/literate/sketches/smc.jl`\n",
      "\u001b[36m\u001b[1m[ \u001b[22m\u001b[39m\u001b[36m\u001b[1mInfo: \u001b[22m\u001b[39mwriting result to `~/examples/sketches/smc.ipynb`\n",
      "\u001b[36m\u001b[1m[ \u001b[22m\u001b[39m\u001b[36m\u001b[1mInfo: \u001b[22m\u001b[39mgenerating notebook from `~/Catlab.jl/docs/literate/wiring_diagrams/diagrams_and_expressions.jl`\n",
      "\u001b[36m\u001b[1m[ \u001b[22m\u001b[39m\u001b[36m\u001b[1mInfo: \u001b[22m\u001b[39mwriting result to `~/examples/wiring_diagrams/diagrams_and_expressions.ipynb`\n",
      "\u001b[36m\u001b[1m[ \u001b[22m\u001b[39m\u001b[36m\u001b[1mInfo: \u001b[22m\u001b[39mgenerating notebook from `~/Catlab.jl/docs/literate/wiring_diagrams/wd_cset.jl`\n",
      "\u001b[36m\u001b[1m[ \u001b[22m\u001b[39m\u001b[36m\u001b[1mInfo: \u001b[22m\u001b[39mwriting result to `~/examples/wiring_diagrams/wd_cset.ipynb`\n",
      "\u001b[36m\u001b[1m[ \u001b[22m\u001b[39m\u001b[36m\u001b[1mInfo: \u001b[22m\u001b[39mgenerating notebook from `~/Catlab.jl/docs/literate/wiring_diagrams/wiring_diagram_basics.jl`\n",
      "\u001b[36m\u001b[1m[ \u001b[22m\u001b[39m\u001b[36m\u001b[1mInfo: \u001b[22m\u001b[39mwriting result to `~/examples/wiring_diagrams/wiring_diagram_basics.ipynb`\n"
     ]
    }
   ],
   "source": [
    "@info \"Building Literate.jl docs\"\n",
    "for (root, dirs, files) in walkdir(literate_dir)\n",
    "    out_dir = joinpath(generated_dir, relpath(root, literate_dir))\n",
    "    for file in files\n",
    "        if last(splitext(file)) == \".jl\"\n",
    "            Literate.notebook(joinpath(root, file), out_dir;\n",
    "                              execute=false, credit=false)\n",
    "        end\n",
    "    end\n",
    "end"
   ]
  }
 ],
 "metadata": {
  "kernelspec": {
   "display_name": "Julia 1.10.4",
   "language": "julia",
   "name": "julia-1.10"
  },
  "language_info": {
   "file_extension": ".jl",
   "mimetype": "application/julia",
   "name": "julia",
   "version": "1.10.4"
  }
 },
 "nbformat": 4,
 "nbformat_minor": 5
}
